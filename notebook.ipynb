{
 "cells": [
  {
   "cell_type": "markdown",
   "id": "106a7321",
   "metadata": {},
   "source": [
    "# ***Cardiovascular Risk factors***"
   ]
  },
  {
   "cell_type": "markdown",
   "id": "ab2e01dd",
   "metadata": {},
   "source": [
    "## **Introduction**\n",
    "Cardiovascular diseases (CVDs) are a group of disorders that affect the heart and blood vessels, and they represent the leading cause of death worldwide. To effectively prevent and manage these conditions, it is essential to understand the risk factors that contribute to their development.\n",
    "\n",
    "Cardiovascular risk factors are traits or conditions that increase the likelihood of developing heart-related illnesses. These risk factors are typically divided into two categories: modifiable and non-modifiable.\n",
    "\n",
    "**Modifiable risk factors** are those that can be influenced through changes in behavior or lifestyle. Examples include high blood pressure, high cholesterol, diabetes, smoking, obesity, physical inactivity, poor dietary habits, and excessive alcohol consumption. Because these factors are controllable, they offer significant opportunities for prevention and intervention.\n",
    "\n",
    "On the other hand, **non-modifiable risk factors** are those that cannot be changed. These include age, gender, family history of cardiovascular disease, and ethnicity. While these factors are beyond an individual's control, they are important for identifying those who may be at greater risk and guiding screening and monitoring efforts.\n",
    "\n",
    "Analyzing cardiovascular risk factors is important for several reasons. It helps identify individuals who are at high risk and may benefit from early interventions. It also supports the development of targeted public health programs, informs clinical decision-making,\n"
   ]
  },
  {
   "cell_type": "markdown",
   "id": "7d3f4fc8",
   "metadata": {},
   "source": [
    "## *Problem Statement*\n",
    "\n",
    "Cardiovascular diseases (CVDs) remain the leading cause of death globally, making early detection and risk factor analysis a critical area of focus for both public health and clinical decision-making. Despite the availability of medical check-up data, timely diagnosis is still a challenge due to the multifactorial nature of heart disease.\n",
    "\n",
    "This project aims to leverage machine learning and data analysis techniques to identify and quantify key risk factors associated with cardiovascular disease. Using patient health metrics—such as blood pressure, cholesterol levels, BMI, and lifestyle attributes—we seek to build predictive models that can classify individuals as at risk or not at risk for cardiovascular events.\n",
    "\n",
    "The goal is to provide a data-driven tool that can assist healthcare professionals in identifying high-risk individuals early, enabling more targeted prevention strategies and better resource allocation.\n"
   ]
  },
  {
   "cell_type": "markdown",
   "id": "39c2f4b3",
   "metadata": {},
   "source": [
    "## *Objectives*\n",
    "\n",
    "The main objectives of this project are as follows:\n",
    "\n",
    "- To perform **exploratory data analysis (EDA)** on variables that are potentially associated with cardiovascular disease.\n",
    "- To develop a **baseline model** for initial performance benchmarking.\n",
    "- To build a **machine learning model** capable of predicting an individual's risk of developing cardiovascular disease.\n",
    "- To **evaluate the performance** of the model using appropriate metrics and perform **hyperparameter tuning** to optimize results, if necessary.\n"
   ]
  },
  {
   "cell_type": "markdown",
   "id": "9addd97a",
   "metadata": {},
   "source": [
    "## **Dataset**\n",
    "\n",
    "The dataset used for this analysis is sourced from Kaggle and contains health-related records for 70,000 individuals. Each record includes various features that may contribute to the risk of developing cardiovascular disease.\n",
    "\n",
    "The target variable is **cardiovascular disease**, which indicates whether an individual has been diagnosed with the condition (`1`) or not (`0`).\n",
    "\n",
    "The dataset is relatively clean, with minimal inconsistencies, making it suitable for analysis without extensive preprocessing. However, some feature engineering will be necessary to extract more meaningful insights and better align the data with our analysis objectives.\n",
    "\n",
    "Key tasks will include transforming and deriving new features from existing columns to improve model performance and enhance interpretability.\n"
   ]
  },
  {
   "cell_type": "markdown",
   "id": "a453fefa",
   "metadata": {},
   "source": [
    "## **Data Preprocessing**"
   ]
  },
  {
   "cell_type": "markdown",
   "id": "6363857a",
   "metadata": {},
   "source": [
    "## *Importing The Necessary Libraries*"
   ]
  },
  {
   "cell_type": "code",
   "execution_count": null,
   "id": "dd8db1e5",
   "metadata": {},
   "outputs": [],
   "source": [
    "#importing the necessary libraries\n",
    "import pandas as pd \n",
    "import numpy as np \n",
    "import matplotlib.pyplot as plt \n",
    "import seaborn as sns\n",
    "import scipy.stats as stats\n",
    "import statsmodels.api as sm\n",
    "import statsmodels.formula.api as smf\n",
    "%matplotlib inline\n",
    "from sklearn.preprocessing import OneHotEncoder\n",
    "from sklearn.preprocessing import MinMaxScaler\n",
    "from sklearn.linear_model import LogisticRegression\n",
    "from sklearn.model_selection import train_test_split\n",
    "from sklearn.model_selection import cross_val_score\n",
    "from sklearn.metrics import classification_report\n",
    "from sklearn.tree import DecisionTreeClassifier\n",
    "from sklearn.ensemble import RandomForestClassifier\n",
    "from xgboost import XGBClassifier"
   ]
  },
  {
   "cell_type": "markdown",
   "id": "0659105a",
   "metadata": {},
   "source": [
    "## *Loading The Dataset*"
   ]
  },
  {
   "cell_type": "markdown",
   "id": "7c880416",
   "metadata": {},
   "source": [
    "We start by loading the dataset into a dataframe and assigning it a variable name."
   ]
  },
  {
   "cell_type": "code",
   "execution_count": 425,
   "id": "af99d730",
   "metadata": {},
   "outputs": [
    {
     "data": {
      "application/vnd.microsoft.datawrangler.viewer.v0+json": {
       "columns": [
        {
         "name": "index",
         "rawType": "int64",
         "type": "integer"
        },
        {
         "name": "0",
         "rawType": "object",
         "type": "string"
        }
       ],
       "ref": "579292ba-15c4-4d3f-b591-a3e764413933",
       "rows": [
        [
         "0",
         "id;age;gender;height;weight;ap_hi;ap_lo;cholesterol;gluc;smoke;alco;active;cardio"
        ],
        [
         "1",
         "0;18393;2;168;62.0;110;80;1;1;0;0;1;0"
        ],
        [
         "2",
         "1;20228;1;156;85.0;140;90;3;1;0;0;1;1"
        ],
        [
         "3",
         "2;18857;1;165;64.0;130;70;3;1;0;0;0;1"
        ],
        [
         "4",
         "3;17623;2;169;82.0;150;100;1;1;0;0;1;1"
        ],
        [
         "5",
         "4;17474;1;156;56.0;100;60;1;1;0;0;0;0"
        ],
        [
         "6",
         "8;21914;1;151;67.0;120;80;2;2;0;0;0;0"
        ],
        [
         "7",
         "9;22113;1;157;93.0;130;80;3;1;0;0;1;0"
        ],
        [
         "8",
         "12;22584;2;178;95.0;130;90;3;3;0;0;1;1"
        ],
        [
         "9",
         "13;17668;1;158;71.0;110;70;1;1;0;0;1;0"
        ],
        [
         "10",
         "14;19834;1;164;68.0;110;60;1;1;0;0;0;0"
        ],
        [
         "11",
         "15;22530;1;169;80.0;120;80;1;1;0;0;1;0"
        ],
        [
         "12",
         "16;18815;2;173;60.0;120;80;1;1;0;0;1;0"
        ],
        [
         "13",
         "18;14791;2;165;60.0;120;80;1;1;0;0;0;0"
        ],
        [
         "14",
         "21;19809;1;158;78.0;110;70;1;1;0;0;1;0"
        ],
        [
         "15",
         "23;14532;2;181;95.0;130;90;1;1;1;1;1;0"
        ],
        [
         "16",
         "24;16782;2;172;112.0;120;80;1;1;0;0;0;1"
        ],
        [
         "17",
         "25;21296;1;170;75.0;130;70;1;1;0;0;0;0"
        ],
        [
         "18",
         "27;16747;1;158;52.0;110;70;1;3;0;0;1;0"
        ],
        [
         "19",
         "28;17482;1;154;68.0;100;70;1;1;0;0;0;0"
        ],
        [
         "20",
         "29;21755;2;162;56.0;120;70;1;1;1;0;1;0"
        ],
        [
         "21",
         "30;19778;2;163;83.0;120;80;1;1;0;0;1;0"
        ],
        [
         "22",
         "31;21413;1;157;69.0;130;80;1;1;0;0;1;0"
        ],
        [
         "23",
         "32;23046;1;158;90.0;145;85;2;2;0;0;1;1"
        ],
        [
         "24",
         "33;23376;2;156;45.0;110;60;1;1;0;0;1;0"
        ],
        [
         "25",
         "35;16608;1;170;68.0;150;90;3;1;0;0;1;1"
        ],
        [
         "26",
         "36;14453;1;153;65.0;130;100;2;1;0;0;1;0"
        ],
        [
         "27",
         "37;19559;1;156;59.0;130;90;1;1;0;0;1;0"
        ],
        [
         "28",
         "38;18085;1;159;78.0;120;80;1;1;0;0;1;0"
        ],
        [
         "29",
         "39;14574;2;166;66.0;120;80;1;1;0;0;1;0"
        ],
        [
         "30",
         "40;21057;2;169;74.0;130;70;1;3;0;0;0;0"
        ],
        [
         "31",
         "42;18291;1;155;105.0;120;80;3;1;0;0;1;1"
        ],
        [
         "32",
         "43;23186;1;169;71.0;140;90;3;1;0;0;1;1"
        ],
        [
         "33",
         "44;14605;1;159;60.0;110;70;1;1;0;0;1;0"
        ],
        [
         "34",
         "45;20652;1;160;73.0;130;85;1;1;0;0;0;1"
        ],
        [
         "35",
         "46;21940;2;173;82.0;140;90;3;1;0;0;0;1"
        ],
        [
         "36",
         "47;20404;1;163;55.0;120;80;1;1;0;0;1;0"
        ],
        [
         "37",
         "49;18328;2;175;95.0;120;80;1;1;0;0;1;0"
        ],
        [
         "38",
         "51;17976;1;164;70.0;130;90;1;1;0;0;1;0"
        ],
        [
         "39",
         "52;23388;2;162;72.0;130;80;1;1;1;0;1;1"
        ],
        [
         "40",
         "53;18126;1;165;70.0;140;90;1;1;0;0;1;1"
        ],
        [
         "41",
         "54;19848;1;157;62.0;110;70;1;1;0;0;0;0"
        ],
        [
         "42",
         "56;18274;1;178;68.0;110;80;1;1;0;0;1;1"
        ],
        [
         "43",
         "57;21475;2;171;69.0;140;90;1;1;0;0;1;1"
        ],
        [
         "44",
         "58;20556;2;159;63.0;120;60;1;1;0;0;1;1"
        ],
        [
         "45",
         "59;19764;1;154;50.0;170;80;3;1;0;0;1;1"
        ],
        [
         "46",
         "60;17471;1;162;64.0;140;90;1;1;0;0;1;1"
        ],
        [
         "47",
         "61;18207;1;162;107.0;150;90;2;1;0;0;1;1"
        ],
        [
         "48",
         "62;18535;2;168;69.0;120;80;1;1;0;0;0;0"
        ],
        [
         "49",
         "63;16864;2;175;70.0;120;80;2;1;0;0;1;0"
        ]
       ],
       "shape": {
        "columns": 1,
        "rows": 70001
       }
      },
      "text/html": [
       "<div>\n",
       "<style scoped>\n",
       "    .dataframe tbody tr th:only-of-type {\n",
       "        vertical-align: middle;\n",
       "    }\n",
       "\n",
       "    .dataframe tbody tr th {\n",
       "        vertical-align: top;\n",
       "    }\n",
       "\n",
       "    .dataframe thead th {\n",
       "        text-align: right;\n",
       "    }\n",
       "</style>\n",
       "<table border=\"1\" class=\"dataframe\">\n",
       "  <thead>\n",
       "    <tr style=\"text-align: right;\">\n",
       "      <th></th>\n",
       "      <th>0</th>\n",
       "    </tr>\n",
       "  </thead>\n",
       "  <tbody>\n",
       "    <tr>\n",
       "      <th>0</th>\n",
       "      <td>id;age;gender;height;weight;ap_hi;ap_lo;choles...</td>\n",
       "    </tr>\n",
       "    <tr>\n",
       "      <th>1</th>\n",
       "      <td>0;18393;2;168;62.0;110;80;1;1;0;0;1;0</td>\n",
       "    </tr>\n",
       "    <tr>\n",
       "      <th>2</th>\n",
       "      <td>1;20228;1;156;85.0;140;90;3;1;0;0;1;1</td>\n",
       "    </tr>\n",
       "    <tr>\n",
       "      <th>3</th>\n",
       "      <td>2;18857;1;165;64.0;130;70;3;1;0;0;0;1</td>\n",
       "    </tr>\n",
       "    <tr>\n",
       "      <th>4</th>\n",
       "      <td>3;17623;2;169;82.0;150;100;1;1;0;0;1;1</td>\n",
       "    </tr>\n",
       "    <tr>\n",
       "      <th>...</th>\n",
       "      <td>...</td>\n",
       "    </tr>\n",
       "    <tr>\n",
       "      <th>69996</th>\n",
       "      <td>99993;19240;2;168;76.0;120;80;1;1;1;0;1;0</td>\n",
       "    </tr>\n",
       "    <tr>\n",
       "      <th>69997</th>\n",
       "      <td>99995;22601;1;158;126.0;140;90;2;2;0;0;1;1</td>\n",
       "    </tr>\n",
       "    <tr>\n",
       "      <th>69998</th>\n",
       "      <td>99996;19066;2;183;105.0;180;90;3;1;0;1;0;1</td>\n",
       "    </tr>\n",
       "    <tr>\n",
       "      <th>69999</th>\n",
       "      <td>99998;22431;1;163;72.0;135;80;1;2;0;0;0;1</td>\n",
       "    </tr>\n",
       "    <tr>\n",
       "      <th>70000</th>\n",
       "      <td>99999;20540;1;170;72.0;120;80;2;1;0;0;1;0</td>\n",
       "    </tr>\n",
       "  </tbody>\n",
       "</table>\n",
       "<p>70001 rows × 1 columns</p>\n",
       "</div>"
      ],
      "text/plain": [
       "                                                       0\n",
       "0      id;age;gender;height;weight;ap_hi;ap_lo;choles...\n",
       "1                  0;18393;2;168;62.0;110;80;1;1;0;0;1;0\n",
       "2                  1;20228;1;156;85.0;140;90;3;1;0;0;1;1\n",
       "3                  2;18857;1;165;64.0;130;70;3;1;0;0;0;1\n",
       "4                 3;17623;2;169;82.0;150;100;1;1;0;0;1;1\n",
       "...                                                  ...\n",
       "69996          99993;19240;2;168;76.0;120;80;1;1;1;0;1;0\n",
       "69997         99995;22601;1;158;126.0;140;90;2;2;0;0;1;1\n",
       "69998         99996;19066;2;183;105.0;180;90;3;1;0;1;0;1\n",
       "69999          99998;22431;1;163;72.0;135;80;1;2;0;0;0;1\n",
       "70000          99999;20540;1;170;72.0;120;80;2;1;0;0;1;0\n",
       "\n",
       "[70001 rows x 1 columns]"
      ]
     },
     "execution_count": 425,
     "metadata": {},
     "output_type": "execute_result"
    }
   ],
   "source": [
    "# loading the dataset\n",
    "df=pd.read_csv(\"cardio_train.csv\",header=None)\n",
    "df\n",
    "\n"
   ]
  },
  {
   "cell_type": "markdown",
   "id": "ebbedee3",
   "metadata": {},
   "source": [
    "Upon loading the dataset using pandas, all the data was initially read into a single column. This occurred because the dataset uses a semicolon (`;`) as a delimiter, rather than the default comma (`,`).\n",
    "\n",
    "To resolve this, we will manually split the single column into multiple columns by using the semicolon as a delimiter. This can be done using the `str.split()` method combined with `expand=True` to separate the values into distinct columns.\n",
    "\n",
    "Once the data is correctly formatted, we will assign appropriate column names and proceed with further preprocessing and analysis.\n"
   ]
  },
  {
   "cell_type": "code",
   "execution_count": 426,
   "id": "769fa54a",
   "metadata": {},
   "outputs": [],
   "source": [
    "#expanding the semicolon separated values into specific columns\n",
    "df_stripped=df[0].str.split(\";\",expand=True)"
   ]
  },
  {
   "cell_type": "code",
   "execution_count": 427,
   "id": "a01d0495",
   "metadata": {},
   "outputs": [],
   "source": [
    "# returning the header row\n",
    "df_stripped.columns=df_stripped.iloc[0]\n",
    "df_new=df_stripped[1:]"
   ]
  },
  {
   "cell_type": "code",
   "execution_count": 428,
   "id": "c550049b",
   "metadata": {},
   "outputs": [
    {
     "data": {
      "application/vnd.microsoft.datawrangler.viewer.v0+json": {
       "columns": [
        {
         "name": "id",
         "rawType": "object",
         "type": "string"
        },
        {
         "name": "age",
         "rawType": "object",
         "type": "string"
        },
        {
         "name": "gender",
         "rawType": "object",
         "type": "string"
        },
        {
         "name": "height",
         "rawType": "object",
         "type": "string"
        },
        {
         "name": "weight",
         "rawType": "object",
         "type": "string"
        },
        {
         "name": "ap_hi",
         "rawType": "object",
         "type": "string"
        },
        {
         "name": "ap_lo",
         "rawType": "object",
         "type": "string"
        },
        {
         "name": "cholesterol",
         "rawType": "object",
         "type": "string"
        },
        {
         "name": "gluc",
         "rawType": "object",
         "type": "string"
        },
        {
         "name": "smoke",
         "rawType": "object",
         "type": "string"
        },
        {
         "name": "alco",
         "rawType": "object",
         "type": "string"
        },
        {
         "name": "active",
         "rawType": "object",
         "type": "string"
        },
        {
         "name": "cardio",
         "rawType": "object",
         "type": "string"
        }
       ],
       "ref": "2a3b5e75-c451-414e-85af-b3415ff22481",
       "rows": [
        [
         "0",
         "18393",
         "2",
         "168",
         "62.0",
         "110",
         "80",
         "1",
         "1",
         "0",
         "0",
         "1",
         "0"
        ],
        [
         "1",
         "20228",
         "1",
         "156",
         "85.0",
         "140",
         "90",
         "3",
         "1",
         "0",
         "0",
         "1",
         "1"
        ],
        [
         "2",
         "18857",
         "1",
         "165",
         "64.0",
         "130",
         "70",
         "3",
         "1",
         "0",
         "0",
         "0",
         "1"
        ],
        [
         "3",
         "17623",
         "2",
         "169",
         "82.0",
         "150",
         "100",
         "1",
         "1",
         "0",
         "0",
         "1",
         "1"
        ],
        [
         "4",
         "17474",
         "1",
         "156",
         "56.0",
         "100",
         "60",
         "1",
         "1",
         "0",
         "0",
         "0",
         "0"
        ],
        [
         "8",
         "21914",
         "1",
         "151",
         "67.0",
         "120",
         "80",
         "2",
         "2",
         "0",
         "0",
         "0",
         "0"
        ],
        [
         "9",
         "22113",
         "1",
         "157",
         "93.0",
         "130",
         "80",
         "3",
         "1",
         "0",
         "0",
         "1",
         "0"
        ],
        [
         "12",
         "22584",
         "2",
         "178",
         "95.0",
         "130",
         "90",
         "3",
         "3",
         "0",
         "0",
         "1",
         "1"
        ],
        [
         "13",
         "17668",
         "1",
         "158",
         "71.0",
         "110",
         "70",
         "1",
         "1",
         "0",
         "0",
         "1",
         "0"
        ],
        [
         "14",
         "19834",
         "1",
         "164",
         "68.0",
         "110",
         "60",
         "1",
         "1",
         "0",
         "0",
         "0",
         "0"
        ],
        [
         "15",
         "22530",
         "1",
         "169",
         "80.0",
         "120",
         "80",
         "1",
         "1",
         "0",
         "0",
         "1",
         "0"
        ],
        [
         "16",
         "18815",
         "2",
         "173",
         "60.0",
         "120",
         "80",
         "1",
         "1",
         "0",
         "0",
         "1",
         "0"
        ],
        [
         "18",
         "14791",
         "2",
         "165",
         "60.0",
         "120",
         "80",
         "1",
         "1",
         "0",
         "0",
         "0",
         "0"
        ],
        [
         "21",
         "19809",
         "1",
         "158",
         "78.0",
         "110",
         "70",
         "1",
         "1",
         "0",
         "0",
         "1",
         "0"
        ],
        [
         "23",
         "14532",
         "2",
         "181",
         "95.0",
         "130",
         "90",
         "1",
         "1",
         "1",
         "1",
         "1",
         "0"
        ],
        [
         "24",
         "16782",
         "2",
         "172",
         "112.0",
         "120",
         "80",
         "1",
         "1",
         "0",
         "0",
         "0",
         "1"
        ],
        [
         "25",
         "21296",
         "1",
         "170",
         "75.0",
         "130",
         "70",
         "1",
         "1",
         "0",
         "0",
         "0",
         "0"
        ],
        [
         "27",
         "16747",
         "1",
         "158",
         "52.0",
         "110",
         "70",
         "1",
         "3",
         "0",
         "0",
         "1",
         "0"
        ],
        [
         "28",
         "17482",
         "1",
         "154",
         "68.0",
         "100",
         "70",
         "1",
         "1",
         "0",
         "0",
         "0",
         "0"
        ],
        [
         "29",
         "21755",
         "2",
         "162",
         "56.0",
         "120",
         "70",
         "1",
         "1",
         "1",
         "0",
         "1",
         "0"
        ],
        [
         "30",
         "19778",
         "2",
         "163",
         "83.0",
         "120",
         "80",
         "1",
         "1",
         "0",
         "0",
         "1",
         "0"
        ],
        [
         "31",
         "21413",
         "1",
         "157",
         "69.0",
         "130",
         "80",
         "1",
         "1",
         "0",
         "0",
         "1",
         "0"
        ],
        [
         "32",
         "23046",
         "1",
         "158",
         "90.0",
         "145",
         "85",
         "2",
         "2",
         "0",
         "0",
         "1",
         "1"
        ],
        [
         "33",
         "23376",
         "2",
         "156",
         "45.0",
         "110",
         "60",
         "1",
         "1",
         "0",
         "0",
         "1",
         "0"
        ],
        [
         "35",
         "16608",
         "1",
         "170",
         "68.0",
         "150",
         "90",
         "3",
         "1",
         "0",
         "0",
         "1",
         "1"
        ],
        [
         "36",
         "14453",
         "1",
         "153",
         "65.0",
         "130",
         "100",
         "2",
         "1",
         "0",
         "0",
         "1",
         "0"
        ],
        [
         "37",
         "19559",
         "1",
         "156",
         "59.0",
         "130",
         "90",
         "1",
         "1",
         "0",
         "0",
         "1",
         "0"
        ],
        [
         "38",
         "18085",
         "1",
         "159",
         "78.0",
         "120",
         "80",
         "1",
         "1",
         "0",
         "0",
         "1",
         "0"
        ],
        [
         "39",
         "14574",
         "2",
         "166",
         "66.0",
         "120",
         "80",
         "1",
         "1",
         "0",
         "0",
         "1",
         "0"
        ],
        [
         "40",
         "21057",
         "2",
         "169",
         "74.0",
         "130",
         "70",
         "1",
         "3",
         "0",
         "0",
         "0",
         "0"
        ],
        [
         "42",
         "18291",
         "1",
         "155",
         "105.0",
         "120",
         "80",
         "3",
         "1",
         "0",
         "0",
         "1",
         "1"
        ],
        [
         "43",
         "23186",
         "1",
         "169",
         "71.0",
         "140",
         "90",
         "3",
         "1",
         "0",
         "0",
         "1",
         "1"
        ],
        [
         "44",
         "14605",
         "1",
         "159",
         "60.0",
         "110",
         "70",
         "1",
         "1",
         "0",
         "0",
         "1",
         "0"
        ],
        [
         "45",
         "20652",
         "1",
         "160",
         "73.0",
         "130",
         "85",
         "1",
         "1",
         "0",
         "0",
         "0",
         "1"
        ],
        [
         "46",
         "21940",
         "2",
         "173",
         "82.0",
         "140",
         "90",
         "3",
         "1",
         "0",
         "0",
         "0",
         "1"
        ],
        [
         "47",
         "20404",
         "1",
         "163",
         "55.0",
         "120",
         "80",
         "1",
         "1",
         "0",
         "0",
         "1",
         "0"
        ],
        [
         "49",
         "18328",
         "2",
         "175",
         "95.0",
         "120",
         "80",
         "1",
         "1",
         "0",
         "0",
         "1",
         "0"
        ],
        [
         "51",
         "17976",
         "1",
         "164",
         "70.0",
         "130",
         "90",
         "1",
         "1",
         "0",
         "0",
         "1",
         "0"
        ],
        [
         "52",
         "23388",
         "2",
         "162",
         "72.0",
         "130",
         "80",
         "1",
         "1",
         "1",
         "0",
         "1",
         "1"
        ],
        [
         "53",
         "18126",
         "1",
         "165",
         "70.0",
         "140",
         "90",
         "1",
         "1",
         "0",
         "0",
         "1",
         "1"
        ],
        [
         "54",
         "19848",
         "1",
         "157",
         "62.0",
         "110",
         "70",
         "1",
         "1",
         "0",
         "0",
         "0",
         "0"
        ],
        [
         "56",
         "18274",
         "1",
         "178",
         "68.0",
         "110",
         "80",
         "1",
         "1",
         "0",
         "0",
         "1",
         "1"
        ],
        [
         "57",
         "21475",
         "2",
         "171",
         "69.0",
         "140",
         "90",
         "1",
         "1",
         "0",
         "0",
         "1",
         "1"
        ],
        [
         "58",
         "20556",
         "2",
         "159",
         "63.0",
         "120",
         "60",
         "1",
         "1",
         "0",
         "0",
         "1",
         "1"
        ],
        [
         "59",
         "19764",
         "1",
         "154",
         "50.0",
         "170",
         "80",
         "3",
         "1",
         "0",
         "0",
         "1",
         "1"
        ],
        [
         "60",
         "17471",
         "1",
         "162",
         "64.0",
         "140",
         "90",
         "1",
         "1",
         "0",
         "0",
         "1",
         "1"
        ],
        [
         "61",
         "18207",
         "1",
         "162",
         "107.0",
         "150",
         "90",
         "2",
         "1",
         "0",
         "0",
         "1",
         "1"
        ],
        [
         "62",
         "18535",
         "2",
         "168",
         "69.0",
         "120",
         "80",
         "1",
         "1",
         "0",
         "0",
         "0",
         "0"
        ],
        [
         "63",
         "16864",
         "2",
         "175",
         "70.0",
         "120",
         "80",
         "2",
         "1",
         "0",
         "0",
         "1",
         "0"
        ],
        [
         "64",
         "16045",
         "1",
         "170",
         "69.0",
         "120",
         "70",
         "1",
         "1",
         "0",
         "0",
         "1",
         "0"
        ]
       ],
       "shape": {
        "columns": 12,
        "rows": 70000
       }
      },
      "text/html": [
       "<div>\n",
       "<style scoped>\n",
       "    .dataframe tbody tr th:only-of-type {\n",
       "        vertical-align: middle;\n",
       "    }\n",
       "\n",
       "    .dataframe tbody tr th {\n",
       "        vertical-align: top;\n",
       "    }\n",
       "\n",
       "    .dataframe thead th {\n",
       "        text-align: right;\n",
       "    }\n",
       "</style>\n",
       "<table border=\"1\" class=\"dataframe\">\n",
       "  <thead>\n",
       "    <tr style=\"text-align: right;\">\n",
       "      <th></th>\n",
       "      <th>age</th>\n",
       "      <th>gender</th>\n",
       "      <th>height</th>\n",
       "      <th>weight</th>\n",
       "      <th>ap_hi</th>\n",
       "      <th>ap_lo</th>\n",
       "      <th>cholesterol</th>\n",
       "      <th>gluc</th>\n",
       "      <th>smoke</th>\n",
       "      <th>alco</th>\n",
       "      <th>active</th>\n",
       "      <th>cardio</th>\n",
       "    </tr>\n",
       "    <tr>\n",
       "      <th>id</th>\n",
       "      <th></th>\n",
       "      <th></th>\n",
       "      <th></th>\n",
       "      <th></th>\n",
       "      <th></th>\n",
       "      <th></th>\n",
       "      <th></th>\n",
       "      <th></th>\n",
       "      <th></th>\n",
       "      <th></th>\n",
       "      <th></th>\n",
       "      <th></th>\n",
       "    </tr>\n",
       "  </thead>\n",
       "  <tbody>\n",
       "    <tr>\n",
       "      <th>0</th>\n",
       "      <td>18393</td>\n",
       "      <td>2</td>\n",
       "      <td>168</td>\n",
       "      <td>62.0</td>\n",
       "      <td>110</td>\n",
       "      <td>80</td>\n",
       "      <td>1</td>\n",
       "      <td>1</td>\n",
       "      <td>0</td>\n",
       "      <td>0</td>\n",
       "      <td>1</td>\n",
       "      <td>0</td>\n",
       "    </tr>\n",
       "    <tr>\n",
       "      <th>1</th>\n",
       "      <td>20228</td>\n",
       "      <td>1</td>\n",
       "      <td>156</td>\n",
       "      <td>85.0</td>\n",
       "      <td>140</td>\n",
       "      <td>90</td>\n",
       "      <td>3</td>\n",
       "      <td>1</td>\n",
       "      <td>0</td>\n",
       "      <td>0</td>\n",
       "      <td>1</td>\n",
       "      <td>1</td>\n",
       "    </tr>\n",
       "    <tr>\n",
       "      <th>2</th>\n",
       "      <td>18857</td>\n",
       "      <td>1</td>\n",
       "      <td>165</td>\n",
       "      <td>64.0</td>\n",
       "      <td>130</td>\n",
       "      <td>70</td>\n",
       "      <td>3</td>\n",
       "      <td>1</td>\n",
       "      <td>0</td>\n",
       "      <td>0</td>\n",
       "      <td>0</td>\n",
       "      <td>1</td>\n",
       "    </tr>\n",
       "    <tr>\n",
       "      <th>3</th>\n",
       "      <td>17623</td>\n",
       "      <td>2</td>\n",
       "      <td>169</td>\n",
       "      <td>82.0</td>\n",
       "      <td>150</td>\n",
       "      <td>100</td>\n",
       "      <td>1</td>\n",
       "      <td>1</td>\n",
       "      <td>0</td>\n",
       "      <td>0</td>\n",
       "      <td>1</td>\n",
       "      <td>1</td>\n",
       "    </tr>\n",
       "    <tr>\n",
       "      <th>4</th>\n",
       "      <td>17474</td>\n",
       "      <td>1</td>\n",
       "      <td>156</td>\n",
       "      <td>56.0</td>\n",
       "      <td>100</td>\n",
       "      <td>60</td>\n",
       "      <td>1</td>\n",
       "      <td>1</td>\n",
       "      <td>0</td>\n",
       "      <td>0</td>\n",
       "      <td>0</td>\n",
       "      <td>0</td>\n",
       "    </tr>\n",
       "    <tr>\n",
       "      <th>...</th>\n",
       "      <td>...</td>\n",
       "      <td>...</td>\n",
       "      <td>...</td>\n",
       "      <td>...</td>\n",
       "      <td>...</td>\n",
       "      <td>...</td>\n",
       "      <td>...</td>\n",
       "      <td>...</td>\n",
       "      <td>...</td>\n",
       "      <td>...</td>\n",
       "      <td>...</td>\n",
       "      <td>...</td>\n",
       "    </tr>\n",
       "    <tr>\n",
       "      <th>99993</th>\n",
       "      <td>19240</td>\n",
       "      <td>2</td>\n",
       "      <td>168</td>\n",
       "      <td>76.0</td>\n",
       "      <td>120</td>\n",
       "      <td>80</td>\n",
       "      <td>1</td>\n",
       "      <td>1</td>\n",
       "      <td>1</td>\n",
       "      <td>0</td>\n",
       "      <td>1</td>\n",
       "      <td>0</td>\n",
       "    </tr>\n",
       "    <tr>\n",
       "      <th>99995</th>\n",
       "      <td>22601</td>\n",
       "      <td>1</td>\n",
       "      <td>158</td>\n",
       "      <td>126.0</td>\n",
       "      <td>140</td>\n",
       "      <td>90</td>\n",
       "      <td>2</td>\n",
       "      <td>2</td>\n",
       "      <td>0</td>\n",
       "      <td>0</td>\n",
       "      <td>1</td>\n",
       "      <td>1</td>\n",
       "    </tr>\n",
       "    <tr>\n",
       "      <th>99996</th>\n",
       "      <td>19066</td>\n",
       "      <td>2</td>\n",
       "      <td>183</td>\n",
       "      <td>105.0</td>\n",
       "      <td>180</td>\n",
       "      <td>90</td>\n",
       "      <td>3</td>\n",
       "      <td>1</td>\n",
       "      <td>0</td>\n",
       "      <td>1</td>\n",
       "      <td>0</td>\n",
       "      <td>1</td>\n",
       "    </tr>\n",
       "    <tr>\n",
       "      <th>99998</th>\n",
       "      <td>22431</td>\n",
       "      <td>1</td>\n",
       "      <td>163</td>\n",
       "      <td>72.0</td>\n",
       "      <td>135</td>\n",
       "      <td>80</td>\n",
       "      <td>1</td>\n",
       "      <td>2</td>\n",
       "      <td>0</td>\n",
       "      <td>0</td>\n",
       "      <td>0</td>\n",
       "      <td>1</td>\n",
       "    </tr>\n",
       "    <tr>\n",
       "      <th>99999</th>\n",
       "      <td>20540</td>\n",
       "      <td>1</td>\n",
       "      <td>170</td>\n",
       "      <td>72.0</td>\n",
       "      <td>120</td>\n",
       "      <td>80</td>\n",
       "      <td>2</td>\n",
       "      <td>1</td>\n",
       "      <td>0</td>\n",
       "      <td>0</td>\n",
       "      <td>1</td>\n",
       "      <td>0</td>\n",
       "    </tr>\n",
       "  </tbody>\n",
       "</table>\n",
       "<p>70000 rows × 12 columns</p>\n",
       "</div>"
      ],
      "text/plain": [
       "0        age gender height weight ap_hi ap_lo cholesterol gluc smoke alco  \\\n",
       "id                                                                          \n",
       "0      18393      2    168   62.0   110    80           1    1     0    0   \n",
       "1      20228      1    156   85.0   140    90           3    1     0    0   \n",
       "2      18857      1    165   64.0   130    70           3    1     0    0   \n",
       "3      17623      2    169   82.0   150   100           1    1     0    0   \n",
       "4      17474      1    156   56.0   100    60           1    1     0    0   \n",
       "...      ...    ...    ...    ...   ...   ...         ...  ...   ...  ...   \n",
       "99993  19240      2    168   76.0   120    80           1    1     1    0   \n",
       "99995  22601      1    158  126.0   140    90           2    2     0    0   \n",
       "99996  19066      2    183  105.0   180    90           3    1     0    1   \n",
       "99998  22431      1    163   72.0   135    80           1    2     0    0   \n",
       "99999  20540      1    170   72.0   120    80           2    1     0    0   \n",
       "\n",
       "0     active cardio  \n",
       "id                   \n",
       "0          1      0  \n",
       "1          1      1  \n",
       "2          0      1  \n",
       "3          1      1  \n",
       "4          0      0  \n",
       "...      ...    ...  \n",
       "99993      1      0  \n",
       "99995      1      1  \n",
       "99996      0      1  \n",
       "99998      0      1  \n",
       "99999      1      0  \n",
       "\n",
       "[70000 rows x 12 columns]"
      ]
     },
     "execution_count": 428,
     "metadata": {},
     "output_type": "execute_result"
    }
   ],
   "source": [
    "# defining the index column and viewing the dataframe\n",
    "df_new.set_index(\"id\")"
   ]
  },
  {
   "cell_type": "markdown",
   "id": "ac65cf72",
   "metadata": {},
   "source": [
    "### Dataset Structure\n",
    "\n",
    "After resolving the formatting issue and transforming the dataset into its correct structure, we now have a clean DataFrame with meaningful columns, ready for analysis.\n",
    "\n",
    "The main columns in the dataset are as follows:\n",
    "\n",
    "- **age**: Age of the individual (in days)\n",
    "- **gender**: Gender (1 = female, 2 = male)\n",
    "- **height**: Height of the individual (in cm)\n",
    "- **weight**: Weight of the individual (in kg)\n",
    "- **ap_hi**: Systolic blood pressure\n",
    "- **ap_lo**: Diastolic blood pressure\n",
    "- **cholesterol**: Cholesterol level (1 = normal, 2 = above normal, 3 = well above normal)\n",
    "- **gluc**: Glucose level (1 = normal, 2 = above normal, 3 = well above normal)\n",
    "- **smoke**: Smoking status (1 = smoker, 0 = non-smoker)\n",
    "- **alco**: Alcohol consumption (1 = consumes alcohol, 0 = does not)\n",
    "- **active**: Physical activity (1 = active, 0 = not active)\n",
    "- **cardio**: Presence of cardiovascular disease (1 = has condition, 0 = does not)\n",
    "\n",
    "This structure allows us to perform exploratory data analysis (EDA), feature engineering, and model development effectively.\n"
   ]
  },
  {
   "cell_type": "markdown",
   "id": "0ad0f393",
   "metadata": {},
   "source": [
    "## *Summary of the dataset*"
   ]
  },
  {
   "cell_type": "markdown",
   "id": "93b2542c",
   "metadata": {},
   "source": [
    "Before diving into analysis, it's important to examine the overall structure of the dataset. This step helps us verify that the data has been loaded correctly, understand the types of each feature, and identify any potential issues such as missing values or incorrect data types.\n",
    "\n"
   ]
  },
  {
   "cell_type": "code",
   "execution_count": 429,
   "id": "24625216",
   "metadata": {},
   "outputs": [
    {
     "name": "stdout",
     "output_type": "stream",
     "text": [
      "<class 'pandas.core.frame.DataFrame'>\n",
      "RangeIndex: 70000 entries, 1 to 70000\n",
      "Data columns (total 13 columns):\n",
      " #   Column       Non-Null Count  Dtype \n",
      "---  ------       --------------  ----- \n",
      " 0   id           70000 non-null  object\n",
      " 1   age          70000 non-null  object\n",
      " 2   gender       70000 non-null  object\n",
      " 3   height       70000 non-null  object\n",
      " 4   weight       70000 non-null  object\n",
      " 5   ap_hi        70000 non-null  object\n",
      " 6   ap_lo        70000 non-null  object\n",
      " 7   cholesterol  70000 non-null  object\n",
      " 8   gluc         70000 non-null  object\n",
      " 9   smoke        70000 non-null  object\n",
      " 10  alco         70000 non-null  object\n",
      " 11  active       70000 non-null  object\n",
      " 12  cardio       70000 non-null  object\n",
      "dtypes: object(13)\n",
      "memory usage: 6.9+ MB\n"
     ]
    }
   ],
   "source": [
    "# viewing summary of the dataset\n",
    "df_new.info()"
   ]
  },
  {
   "cell_type": "markdown",
   "id": "db9ffb56",
   "metadata": {},
   "source": [
    "The dataset consists of 70,000 records with 13 columns in total. An initial inspection confirms that there are no missing values, which simplifies the preprocessing steps.\n",
    "\n",
    "However, all the columns have been loaded as object types, meaning that the data is currently stored as strings. This indicates that we need to convert several columns to their correct numerical data types—such as integers or floats—before performing any meaningful analysis or modeling. Proper type casting is essential to ensure accurate computations and to apply appropriate machine learning algorithms.\n"
   ]
  },
  {
   "cell_type": "markdown",
   "id": "21e4110e",
   "metadata": {},
   "source": [
    "## Checking for Duplicates\n",
    "\n",
    "It is important to check for duplicate records in the dataset, as duplicates can compromise data integrity. Duplicate entries may bias the analysis, lead to overfitting in models, and give misleading insights.\n",
    "\n"
   ]
  },
  {
   "cell_type": "code",
   "execution_count": 430,
   "id": "7df10db1",
   "metadata": {},
   "outputs": [
    {
     "data": {
      "text/plain": [
       "0"
      ]
     },
     "execution_count": 430,
     "metadata": {},
     "output_type": "execute_result"
    }
   ],
   "source": [
    "# checking for duplicates\n",
    "df_new.duplicated().sum()"
   ]
  },
  {
   "cell_type": "markdown",
   "id": "6e3b866f",
   "metadata": {},
   "source": [
    "We see that the dataset had no duplicates."
   ]
  },
  {
   "cell_type": "markdown",
   "id": "8d87b672",
   "metadata": {},
   "source": [
    "## *Casting Columns*\n",
    "\n",
    "In this step, we convert the columns to their appropriate data types. Properly casting the data ensures that numerical operations, statistical analyses, and machine learning algorithms can be applied correctly and efficiently.\n",
    "\n",
    "\n"
   ]
  },
  {
   "cell_type": "code",
   "execution_count": 431,
   "id": "30963d55",
   "metadata": {},
   "outputs": [],
   "source": [
    "# casting the numerical columns into integers\n",
    "df_new1=df_new.copy()\n",
    "df_new1[[\"id\",\"age\",\"height\",\"weight\",\"ap_hi\",\"ap_lo\"]]=df_new1[[\"id\",\"age\",\"height\",\"weight\",\"ap_hi\",\"ap_lo\"]].astype(float)"
   ]
  },
  {
   "cell_type": "code",
   "execution_count": 432,
   "id": "8c82680a",
   "metadata": {},
   "outputs": [
    {
     "data": {
      "application/vnd.microsoft.datawrangler.viewer.v0+json": {
       "columns": [
        {
         "name": "index",
         "rawType": "object",
         "type": "string"
        },
        {
         "name": "0",
         "rawType": "object",
         "type": "unknown"
        }
       ],
       "ref": "d39352da-bcc7-4b1b-8385-dd447c0cb8da",
       "rows": [
        [
         "id",
         "float64"
        ],
        [
         "age",
         "float64"
        ],
        [
         "gender",
         "object"
        ],
        [
         "height",
         "float64"
        ],
        [
         "weight",
         "float64"
        ],
        [
         "ap_hi",
         "float64"
        ],
        [
         "ap_lo",
         "float64"
        ],
        [
         "cholesterol",
         "object"
        ],
        [
         "gluc",
         "object"
        ],
        [
         "smoke",
         "object"
        ],
        [
         "alco",
         "object"
        ],
        [
         "active",
         "object"
        ],
        [
         "cardio",
         "object"
        ]
       ],
       "shape": {
        "columns": 1,
        "rows": 13
       }
      },
      "text/plain": [
       "0\n",
       "id             float64\n",
       "age            float64\n",
       "gender          object\n",
       "height         float64\n",
       "weight         float64\n",
       "ap_hi          float64\n",
       "ap_lo          float64\n",
       "cholesterol     object\n",
       "gluc            object\n",
       "smoke           object\n",
       "alco            object\n",
       "active          object\n",
       "cardio          object\n",
       "dtype: object"
      ]
     },
     "execution_count": 432,
     "metadata": {},
     "output_type": "execute_result"
    }
   ],
   "source": [
    "# checking for the new data types\n",
    "df_new1.dtypes"
   ]
  },
  {
   "cell_type": "markdown",
   "id": "845edc6a",
   "metadata": {},
   "source": [
    "After casting the columns to their appropriate data types, we confirm that each column now reflects the correct type.\n"
   ]
  },
  {
   "cell_type": "markdown",
   "id": "bea36670",
   "metadata": {},
   "source": [
    "## *Transforming the Columns*\n",
    "\n",
    "In this step, we will transform certain columns into more meaningful or preferred units. This is essential for improving the interpretability of the data, facilitating effective feature engineering, and ensuring consistency during analysis.\n",
    "\n"
   ]
  },
  {
   "cell_type": "markdown",
   "id": "0d508244",
   "metadata": {},
   "source": [
    "We will start by transforming the age column from age in days to age in years for better interpretability."
   ]
  },
  {
   "cell_type": "code",
   "execution_count": 433,
   "id": "963d5964",
   "metadata": {},
   "outputs": [],
   "source": [
    "# coverting age from days to years\n",
    "df_new2=df_new1.copy()\n",
    "df_new2[\"age\"]=df_new2[\"age\"]/365\n",
    "# casting the age column into an integer\n",
    "df_new2[\"age\"]=df_new2[\"age\"].astype(int)\n"
   ]
  },
  {
   "cell_type": "markdown",
   "id": "1b0f1f57",
   "metadata": {},
   "source": [
    "Also we will need to transform the height column from height in centimeters to height in meters to help us when engineering the BMI column."
   ]
  },
  {
   "cell_type": "code",
   "execution_count": 434,
   "id": "a7595db4",
   "metadata": {},
   "outputs": [
    {
     "data": {
      "application/vnd.microsoft.datawrangler.viewer.v0+json": {
       "columns": [
        {
         "name": "index",
         "rawType": "int64",
         "type": "integer"
        },
        {
         "name": "height",
         "rawType": "float64",
         "type": "float"
        }
       ],
       "ref": "9344d4e8-67f4-4217-89bd-19a6d972d05a",
       "rows": [
        [
         "14710",
         "1.58"
        ],
        [
         "36133",
         "1.54"
        ],
        [
         "63078",
         "1.57"
        ],
        [
         "5907",
         "1.49"
        ],
        [
         "69770",
         "1.72"
        ]
       ],
       "shape": {
        "columns": 1,
        "rows": 5
       }
      },
      "text/plain": [
       "14710    1.58\n",
       "36133    1.54\n",
       "63078    1.57\n",
       "5907     1.49\n",
       "69770    1.72\n",
       "Name: height, dtype: float64"
      ]
     },
     "execution_count": 434,
     "metadata": {},
     "output_type": "execute_result"
    }
   ],
   "source": [
    "# changing height to be in metres\n",
    "df_new2[\"height\"]=df_new2[\"height\"]/100\n",
    "df_new2[\"height\"].sample(5)"
   ]
  },
  {
   "cell_type": "markdown",
   "id": "f186821a",
   "metadata": {},
   "source": [
    "## *Feature Engineering*"
   ]
  },
  {
   "cell_type": "markdown",
   "id": "c7f7d1c4",
   "metadata": {},
   "source": [
    "In this step, we will generate additional features derived from the existing variables in our dataset. These engineered features are intended to capture more meaningful patterns and relationships that may not be immediately apparent from the raw data.\n",
    "\n"
   ]
  },
  {
   "cell_type": "markdown",
   "id": "3cd1fd74",
   "metadata": {},
   "source": [
    "We begin the feature engineering process by creating a new column for **Body Mass Index (BMI)**, which is a widely used indicator of body fat based on a person's height and weight.\n",
    "\n",
    "The formula for calculating BMI is:\n",
    "\n",
    "$$\n",
    "\\text{BMI} = \\frac{\\text{weight (kg)}}{(\\text{height (m)})^2}\n",
    "$$\n",
    "\n",
    "The BMI column is a good representative of the `height` and `weight` columns\n"
   ]
  },
  {
   "cell_type": "code",
   "execution_count": 435,
   "id": "b5b92854",
   "metadata": {},
   "outputs": [
    {
     "data": {
      "application/vnd.microsoft.datawrangler.viewer.v0+json": {
       "columns": [
        {
         "name": "index",
         "rawType": "int64",
         "type": "integer"
        },
        {
         "name": "BMI",
         "rawType": "float64",
         "type": "float"
        }
       ],
       "ref": "7993a727-10be-4f71-91d9-75840bb10de6",
       "rows": [
        [
         "57855",
         "20.17325264032277"
        ],
        [
         "56328",
         "25.88757396449704"
        ],
        [
         "1390",
         "27.053802773967377"
        ],
        [
         "685",
         "29.721079103795148"
        ],
        [
         "69503",
         "25.95155709342561"
        ]
       ],
       "shape": {
        "columns": 1,
        "rows": 5
       }
      },
      "text/plain": [
       "57855    20.173253\n",
       "56328    25.887574\n",
       "1390     27.053803\n",
       "685      29.721079\n",
       "69503    25.951557\n",
       "Name: BMI, dtype: float64"
      ]
     },
     "execution_count": 435,
     "metadata": {},
     "output_type": "execute_result"
    }
   ],
   "source": [
    "# engeneering the BMI column\n",
    "df_new2[\"BMI\"]=df_new2[\"weight\"]/(df_new2[\"height\"]**2)\n",
    "df_new2[\"BMI\"].sample(5)"
   ]
  },
  {
   "cell_type": "markdown",
   "id": "dca2d400",
   "metadata": {},
   "source": [
    "Next, we create a new feature called **Pulse Pressure**, which is calculated as the difference between systolic and diastolic blood pressure:\n",
    "\n",
    "$$\n",
    "\\text{Pulse Pressure} = \\text{ap\\_hi} - \\text{ap\\_lo}\n",
    "$$\n",
    "\n",
    "Pulse pressure is an important cardiovascular metric that reflects the force that the heart generates with each contraction. It can serve as a more informative and consolidated representation of the `ap_hi` (systolic) and `ap_lo` (diastolic) blood pressure values.\n",
    "\n",
    "Including this feature may help improve the model's ability to detect patterns related to cardiovascular risk.\n"
   ]
  },
  {
   "cell_type": "code",
   "execution_count": 436,
   "id": "b8a90777",
   "metadata": {},
   "outputs": [],
   "source": [
    "# engineering a pulse pressure column\n",
    "df_new2[\"pulse_pressure\"]=df_new2[\"ap_hi\"]-df_new2[\"ap_lo\"]"
   ]
  },
  {
   "cell_type": "markdown",
   "id": "ca4d0fc8",
   "metadata": {},
   "source": [
    "## *Duplicating The Clean Df For Analysis*"
   ]
  },
  {
   "cell_type": "code",
   "execution_count": 437,
   "id": "7a734941",
   "metadata": {},
   "outputs": [
    {
     "data": {
      "application/vnd.microsoft.datawrangler.viewer.v0+json": {
       "columns": [
        {
         "name": "index",
         "rawType": "int64",
         "type": "integer"
        },
        {
         "name": "id",
         "rawType": "float64",
         "type": "float"
        },
        {
         "name": "age",
         "rawType": "int32",
         "type": "integer"
        },
        {
         "name": "gender",
         "rawType": "object",
         "type": "string"
        },
        {
         "name": "ap_hi",
         "rawType": "float64",
         "type": "float"
        },
        {
         "name": "ap_lo",
         "rawType": "float64",
         "type": "float"
        },
        {
         "name": "cholesterol",
         "rawType": "object",
         "type": "string"
        },
        {
         "name": "gluc",
         "rawType": "object",
         "type": "string"
        },
        {
         "name": "smoke",
         "rawType": "object",
         "type": "string"
        },
        {
         "name": "alco",
         "rawType": "object",
         "type": "string"
        },
        {
         "name": "active",
         "rawType": "object",
         "type": "string"
        },
        {
         "name": "cardio",
         "rawType": "object",
         "type": "string"
        },
        {
         "name": "BMI",
         "rawType": "float64",
         "type": "float"
        },
        {
         "name": "pulse_pressure",
         "rawType": "float64",
         "type": "float"
        }
       ],
       "ref": "488941be-c97b-4b39-9d74-ddb4cb102103",
       "rows": [
        [
         "1",
         "0.0",
         "50",
         "2",
         "110.0",
         "80.0",
         "1",
         "1",
         "0",
         "0",
         "1",
         "0",
         "21.9671201814059",
         "30.0"
        ],
        [
         "2",
         "1.0",
         "55",
         "1",
         "140.0",
         "90.0",
         "3",
         "1",
         "0",
         "0",
         "1",
         "1",
         "34.927679158448385",
         "50.0"
        ],
        [
         "3",
         "2.0",
         "51",
         "1",
         "130.0",
         "70.0",
         "3",
         "1",
         "0",
         "0",
         "0",
         "1",
         "23.507805325987146",
         "60.0"
        ],
        [
         "4",
         "3.0",
         "48",
         "2",
         "150.0",
         "100.0",
         "1",
         "1",
         "0",
         "0",
         "1",
         "1",
         "28.71047932495361",
         "50.0"
        ],
        [
         "5",
         "4.0",
         "47",
         "1",
         "100.0",
         "60.0",
         "1",
         "1",
         "0",
         "0",
         "0",
         "0",
         "23.011176857330703",
         "40.0"
        ],
        [
         "6",
         "8.0",
         "60",
         "1",
         "120.0",
         "80.0",
         "2",
         "2",
         "0",
         "0",
         "0",
         "0",
         "29.384676110696898",
         "40.0"
        ],
        [
         "7",
         "9.0",
         "60",
         "1",
         "130.0",
         "80.0",
         "3",
         "1",
         "0",
         "0",
         "1",
         "0",
         "37.72972534382733",
         "50.0"
        ],
        [
         "8",
         "12.0",
         "61",
         "2",
         "130.0",
         "90.0",
         "3",
         "3",
         "0",
         "0",
         "1",
         "1",
         "29.983587930816814",
         "40.0"
        ],
        [
         "9",
         "13.0",
         "48",
         "1",
         "110.0",
         "70.0",
         "1",
         "1",
         "0",
         "0",
         "1",
         "0",
         "28.44095497516423",
         "40.0"
        ],
        [
         "10",
         "14.0",
         "54",
         "1",
         "110.0",
         "60.0",
         "1",
         "1",
         "0",
         "0",
         "0",
         "0",
         "25.282569898869724",
         "50.0"
        ],
        [
         "11",
         "15.0",
         "61",
         "1",
         "120.0",
         "80.0",
         "1",
         "1",
         "0",
         "0",
         "1",
         "0",
         "28.01022373166206",
         "40.0"
        ],
        [
         "12",
         "16.0",
         "51",
         "2",
         "120.0",
         "80.0",
         "1",
         "1",
         "0",
         "0",
         "1",
         "0",
         "20.04744562130375",
         "40.0"
        ],
        [
         "13",
         "18.0",
         "40",
         "2",
         "120.0",
         "80.0",
         "1",
         "1",
         "0",
         "0",
         "0",
         "0",
         "22.03856749311295",
         "40.0"
        ],
        [
         "14",
         "21.0",
         "54",
         "1",
         "110.0",
         "70.0",
         "1",
         "1",
         "0",
         "0",
         "1",
         "0",
         "31.244992789617044",
         "40.0"
        ],
        [
         "15",
         "23.0",
         "39",
         "2",
         "130.0",
         "90.0",
         "1",
         "1",
         "1",
         "1",
         "1",
         "0",
         "28.997893837184456",
         "40.0"
        ],
        [
         "16",
         "24.0",
         "45",
         "2",
         "120.0",
         "80.0",
         "1",
         "1",
         "0",
         "0",
         "0",
         "1",
         "37.85830178474852",
         "40.0"
        ],
        [
         "17",
         "25.0",
         "58",
         "1",
         "130.0",
         "70.0",
         "1",
         "1",
         "0",
         "0",
         "0",
         "0",
         "25.95155709342561",
         "60.0"
        ],
        [
         "18",
         "27.0",
         "45",
         "1",
         "110.0",
         "70.0",
         "1",
         "3",
         "0",
         "0",
         "1",
         "0",
         "20.82999519307803",
         "40.0"
        ],
        [
         "19",
         "28.0",
         "47",
         "1",
         "100.0",
         "70.0",
         "1",
         "1",
         "0",
         "0",
         "0",
         "0",
         "28.67262607522348",
         "30.0"
        ],
        [
         "20",
         "29.0",
         "59",
         "2",
         "120.0",
         "70.0",
         "1",
         "1",
         "1",
         "0",
         "1",
         "0",
         "21.338210638622158",
         "50.0"
        ],
        [
         "21",
         "30.0",
         "54",
         "2",
         "120.0",
         "80.0",
         "1",
         "1",
         "0",
         "0",
         "1",
         "0",
         "31.239414355075468",
         "40.0"
        ],
        [
         "22",
         "31.0",
         "58",
         "1",
         "130.0",
         "80.0",
         "1",
         "1",
         "0",
         "0",
         "1",
         "0",
         "27.993022029291247",
         "50.0"
        ],
        [
         "23",
         "32.0",
         "63",
         "1",
         "145.0",
         "85.0",
         "2",
         "2",
         "0",
         "0",
         "1",
         "1",
         "36.05191475725044",
         "60.0"
        ],
        [
         "24",
         "33.0",
         "64",
         "2",
         "110.0",
         "60.0",
         "1",
         "1",
         "0",
         "0",
         "1",
         "0",
         "18.49112426035503",
         "50.0"
        ],
        [
         "25",
         "35.0",
         "45",
         "1",
         "150.0",
         "90.0",
         "3",
         "1",
         "0",
         "0",
         "1",
         "1",
         "23.529411764705884",
         "60.0"
        ],
        [
         "26",
         "36.0",
         "39",
         "1",
         "130.0",
         "100.0",
         "2",
         "1",
         "0",
         "0",
         "1",
         "0",
         "27.76709812465291",
         "30.0"
        ],
        [
         "27",
         "37.0",
         "53",
         "1",
         "130.0",
         "90.0",
         "1",
         "1",
         "0",
         "0",
         "1",
         "0",
         "24.243918474687703",
         "40.0"
        ],
        [
         "28",
         "38.0",
         "49",
         "1",
         "120.0",
         "80.0",
         "1",
         "1",
         "0",
         "0",
         "1",
         "0",
         "30.853209920493647",
         "40.0"
        ],
        [
         "29",
         "39.0",
         "39",
         "2",
         "120.0",
         "80.0",
         "1",
         "1",
         "0",
         "0",
         "1",
         "0",
         "23.95122659311947",
         "40.0"
        ],
        [
         "30",
         "40.0",
         "57",
         "2",
         "130.0",
         "70.0",
         "1",
         "3",
         "0",
         "0",
         "0",
         "0",
         "25.909456951787405",
         "60.0"
        ],
        [
         "31",
         "42.0",
         "50",
         "1",
         "120.0",
         "80.0",
         "3",
         "1",
         "0",
         "0",
         "1",
         "1",
         "43.7044745057232",
         "40.0"
        ],
        [
         "32",
         "43.0",
         "63",
         "1",
         "140.0",
         "90.0",
         "3",
         "1",
         "0",
         "0",
         "1",
         "1",
         "24.859073561850078",
         "50.0"
        ],
        [
         "33",
         "44.0",
         "40",
         "1",
         "110.0",
         "70.0",
         "1",
         "1",
         "0",
         "0",
         "1",
         "0",
         "23.73323840037973",
         "40.0"
        ],
        [
         "34",
         "45.0",
         "56",
         "1",
         "130.0",
         "85.0",
         "1",
         "1",
         "0",
         "0",
         "0",
         "1",
         "28.515624999999993",
         "45.0"
        ],
        [
         "35",
         "46.0",
         "60",
         "2",
         "140.0",
         "90.0",
         "3",
         "1",
         "0",
         "0",
         "0",
         "1",
         "27.39817568244846",
         "50.0"
        ],
        [
         "36",
         "47.0",
         "55",
         "1",
         "120.0",
         "80.0",
         "1",
         "1",
         "0",
         "0",
         "1",
         "0",
         "20.70081674131507",
         "40.0"
        ],
        [
         "37",
         "49.0",
         "50",
         "2",
         "120.0",
         "80.0",
         "1",
         "1",
         "0",
         "0",
         "1",
         "0",
         "31.020408163265305",
         "40.0"
        ],
        [
         "38",
         "51.0",
         "49",
         "1",
         "130.0",
         "90.0",
         "1",
         "1",
         "0",
         "0",
         "1",
         "0",
         "26.026174895895306",
         "40.0"
        ],
        [
         "39",
         "52.0",
         "64",
         "2",
         "130.0",
         "80.0",
         "1",
         "1",
         "1",
         "0",
         "1",
         "1",
         "27.43484224965706",
         "50.0"
        ],
        [
         "40",
         "53.0",
         "49",
         "1",
         "140.0",
         "90.0",
         "1",
         "1",
         "0",
         "0",
         "1",
         "1",
         "25.71166207529844",
         "50.0"
        ],
        [
         "41",
         "54.0",
         "54",
         "1",
         "110.0",
         "70.0",
         "1",
         "1",
         "0",
         "0",
         "0",
         "0",
         "25.153150229218223",
         "40.0"
        ],
        [
         "42",
         "56.0",
         "50",
         "1",
         "110.0",
         "80.0",
         "1",
         "1",
         "0",
         "0",
         "1",
         "1",
         "21.461936624163616",
         "30.0"
        ],
        [
         "43",
         "57.0",
         "58",
         "2",
         "140.0",
         "90.0",
         "1",
         "1",
         "0",
         "0",
         "1",
         "1",
         "23.59700420642249",
         "50.0"
        ],
        [
         "44",
         "58.0",
         "56",
         "2",
         "120.0",
         "60.0",
         "1",
         "1",
         "0",
         "0",
         "1",
         "1",
         "24.919900320398717",
         "60.0"
        ],
        [
         "45",
         "59.0",
         "54",
         "1",
         "170.0",
         "80.0",
         "3",
         "1",
         "0",
         "0",
         "1",
         "1",
         "21.0828132906055",
         "90.0"
        ],
        [
         "46",
         "60.0",
         "47",
         "1",
         "140.0",
         "90.0",
         "1",
         "1",
         "0",
         "0",
         "1",
         "1",
         "24.38652644413961",
         "50.0"
        ],
        [
         "47",
         "61.0",
         "49",
         "1",
         "150.0",
         "90.0",
         "2",
         "1",
         "0",
         "0",
         "1",
         "1",
         "40.77122389879591",
         "60.0"
        ],
        [
         "48",
         "62.0",
         "50",
         "2",
         "120.0",
         "80.0",
         "1",
         "1",
         "0",
         "0",
         "0",
         "0",
         "24.44727891156463",
         "40.0"
        ],
        [
         "49",
         "63.0",
         "46",
         "2",
         "120.0",
         "80.0",
         "2",
         "1",
         "0",
         "0",
         "1",
         "0",
         "22.857142857142858",
         "40.0"
        ],
        [
         "50",
         "64.0",
         "43",
         "1",
         "120.0",
         "70.0",
         "1",
         "1",
         "0",
         "0",
         "1",
         "0",
         "23.87543252595156",
         "50.0"
        ]
       ],
       "shape": {
        "columns": 13,
        "rows": 70000
       }
      },
      "text/html": [
       "<div>\n",
       "<style scoped>\n",
       "    .dataframe tbody tr th:only-of-type {\n",
       "        vertical-align: middle;\n",
       "    }\n",
       "\n",
       "    .dataframe tbody tr th {\n",
       "        vertical-align: top;\n",
       "    }\n",
       "\n",
       "    .dataframe thead th {\n",
       "        text-align: right;\n",
       "    }\n",
       "</style>\n",
       "<table border=\"1\" class=\"dataframe\">\n",
       "  <thead>\n",
       "    <tr style=\"text-align: right;\">\n",
       "      <th></th>\n",
       "      <th>id</th>\n",
       "      <th>age</th>\n",
       "      <th>gender</th>\n",
       "      <th>ap_hi</th>\n",
       "      <th>ap_lo</th>\n",
       "      <th>cholesterol</th>\n",
       "      <th>gluc</th>\n",
       "      <th>smoke</th>\n",
       "      <th>alco</th>\n",
       "      <th>active</th>\n",
       "      <th>cardio</th>\n",
       "      <th>BMI</th>\n",
       "      <th>pulse_pressure</th>\n",
       "    </tr>\n",
       "  </thead>\n",
       "  <tbody>\n",
       "    <tr>\n",
       "      <th>1</th>\n",
       "      <td>0.0</td>\n",
       "      <td>50</td>\n",
       "      <td>2</td>\n",
       "      <td>110.0</td>\n",
       "      <td>80.0</td>\n",
       "      <td>1</td>\n",
       "      <td>1</td>\n",
       "      <td>0</td>\n",
       "      <td>0</td>\n",
       "      <td>1</td>\n",
       "      <td>0</td>\n",
       "      <td>21.967120</td>\n",
       "      <td>30.0</td>\n",
       "    </tr>\n",
       "    <tr>\n",
       "      <th>2</th>\n",
       "      <td>1.0</td>\n",
       "      <td>55</td>\n",
       "      <td>1</td>\n",
       "      <td>140.0</td>\n",
       "      <td>90.0</td>\n",
       "      <td>3</td>\n",
       "      <td>1</td>\n",
       "      <td>0</td>\n",
       "      <td>0</td>\n",
       "      <td>1</td>\n",
       "      <td>1</td>\n",
       "      <td>34.927679</td>\n",
       "      <td>50.0</td>\n",
       "    </tr>\n",
       "    <tr>\n",
       "      <th>3</th>\n",
       "      <td>2.0</td>\n",
       "      <td>51</td>\n",
       "      <td>1</td>\n",
       "      <td>130.0</td>\n",
       "      <td>70.0</td>\n",
       "      <td>3</td>\n",
       "      <td>1</td>\n",
       "      <td>0</td>\n",
       "      <td>0</td>\n",
       "      <td>0</td>\n",
       "      <td>1</td>\n",
       "      <td>23.507805</td>\n",
       "      <td>60.0</td>\n",
       "    </tr>\n",
       "    <tr>\n",
       "      <th>4</th>\n",
       "      <td>3.0</td>\n",
       "      <td>48</td>\n",
       "      <td>2</td>\n",
       "      <td>150.0</td>\n",
       "      <td>100.0</td>\n",
       "      <td>1</td>\n",
       "      <td>1</td>\n",
       "      <td>0</td>\n",
       "      <td>0</td>\n",
       "      <td>1</td>\n",
       "      <td>1</td>\n",
       "      <td>28.710479</td>\n",
       "      <td>50.0</td>\n",
       "    </tr>\n",
       "    <tr>\n",
       "      <th>5</th>\n",
       "      <td>4.0</td>\n",
       "      <td>47</td>\n",
       "      <td>1</td>\n",
       "      <td>100.0</td>\n",
       "      <td>60.0</td>\n",
       "      <td>1</td>\n",
       "      <td>1</td>\n",
       "      <td>0</td>\n",
       "      <td>0</td>\n",
       "      <td>0</td>\n",
       "      <td>0</td>\n",
       "      <td>23.011177</td>\n",
       "      <td>40.0</td>\n",
       "    </tr>\n",
       "    <tr>\n",
       "      <th>...</th>\n",
       "      <td>...</td>\n",
       "      <td>...</td>\n",
       "      <td>...</td>\n",
       "      <td>...</td>\n",
       "      <td>...</td>\n",
       "      <td>...</td>\n",
       "      <td>...</td>\n",
       "      <td>...</td>\n",
       "      <td>...</td>\n",
       "      <td>...</td>\n",
       "      <td>...</td>\n",
       "      <td>...</td>\n",
       "      <td>...</td>\n",
       "    </tr>\n",
       "    <tr>\n",
       "      <th>69996</th>\n",
       "      <td>99993.0</td>\n",
       "      <td>52</td>\n",
       "      <td>2</td>\n",
       "      <td>120.0</td>\n",
       "      <td>80.0</td>\n",
       "      <td>1</td>\n",
       "      <td>1</td>\n",
       "      <td>1</td>\n",
       "      <td>0</td>\n",
       "      <td>1</td>\n",
       "      <td>0</td>\n",
       "      <td>26.927438</td>\n",
       "      <td>40.0</td>\n",
       "    </tr>\n",
       "    <tr>\n",
       "      <th>69997</th>\n",
       "      <td>99995.0</td>\n",
       "      <td>61</td>\n",
       "      <td>1</td>\n",
       "      <td>140.0</td>\n",
       "      <td>90.0</td>\n",
       "      <td>2</td>\n",
       "      <td>2</td>\n",
       "      <td>0</td>\n",
       "      <td>0</td>\n",
       "      <td>1</td>\n",
       "      <td>1</td>\n",
       "      <td>50.472681</td>\n",
       "      <td>50.0</td>\n",
       "    </tr>\n",
       "    <tr>\n",
       "      <th>69998</th>\n",
       "      <td>99996.0</td>\n",
       "      <td>52</td>\n",
       "      <td>2</td>\n",
       "      <td>180.0</td>\n",
       "      <td>90.0</td>\n",
       "      <td>3</td>\n",
       "      <td>1</td>\n",
       "      <td>0</td>\n",
       "      <td>1</td>\n",
       "      <td>0</td>\n",
       "      <td>1</td>\n",
       "      <td>31.353579</td>\n",
       "      <td>90.0</td>\n",
       "    </tr>\n",
       "    <tr>\n",
       "      <th>69999</th>\n",
       "      <td>99998.0</td>\n",
       "      <td>61</td>\n",
       "      <td>1</td>\n",
       "      <td>135.0</td>\n",
       "      <td>80.0</td>\n",
       "      <td>1</td>\n",
       "      <td>2</td>\n",
       "      <td>0</td>\n",
       "      <td>0</td>\n",
       "      <td>0</td>\n",
       "      <td>1</td>\n",
       "      <td>27.099251</td>\n",
       "      <td>55.0</td>\n",
       "    </tr>\n",
       "    <tr>\n",
       "      <th>70000</th>\n",
       "      <td>99999.0</td>\n",
       "      <td>56</td>\n",
       "      <td>1</td>\n",
       "      <td>120.0</td>\n",
       "      <td>80.0</td>\n",
       "      <td>2</td>\n",
       "      <td>1</td>\n",
       "      <td>0</td>\n",
       "      <td>0</td>\n",
       "      <td>1</td>\n",
       "      <td>0</td>\n",
       "      <td>24.913495</td>\n",
       "      <td>40.0</td>\n",
       "    </tr>\n",
       "  </tbody>\n",
       "</table>\n",
       "<p>70000 rows × 13 columns</p>\n",
       "</div>"
      ],
      "text/plain": [
       "0           id  age gender  ap_hi  ap_lo cholesterol gluc smoke alco active  \\\n",
       "1          0.0   50      2  110.0   80.0           1    1     0    0      1   \n",
       "2          1.0   55      1  140.0   90.0           3    1     0    0      1   \n",
       "3          2.0   51      1  130.0   70.0           3    1     0    0      0   \n",
       "4          3.0   48      2  150.0  100.0           1    1     0    0      1   \n",
       "5          4.0   47      1  100.0   60.0           1    1     0    0      0   \n",
       "...        ...  ...    ...    ...    ...         ...  ...   ...  ...    ...   \n",
       "69996  99993.0   52      2  120.0   80.0           1    1     1    0      1   \n",
       "69997  99995.0   61      1  140.0   90.0           2    2     0    0      1   \n",
       "69998  99996.0   52      2  180.0   90.0           3    1     0    1      0   \n",
       "69999  99998.0   61      1  135.0   80.0           1    2     0    0      0   \n",
       "70000  99999.0   56      1  120.0   80.0           2    1     0    0      1   \n",
       "\n",
       "0     cardio        BMI  pulse_pressure  \n",
       "1          0  21.967120            30.0  \n",
       "2          1  34.927679            50.0  \n",
       "3          1  23.507805            60.0  \n",
       "4          1  28.710479            50.0  \n",
       "5          0  23.011177            40.0  \n",
       "...      ...        ...             ...  \n",
       "69996      0  26.927438            40.0  \n",
       "69997      1  50.472681            50.0  \n",
       "69998      1  31.353579            90.0  \n",
       "69999      1  27.099251            55.0  \n",
       "70000      0  24.913495            40.0  \n",
       "\n",
       "[70000 rows x 13 columns]"
      ]
     },
     "execution_count": 437,
     "metadata": {},
     "output_type": "execute_result"
    }
   ],
   "source": [
    "# copying the clean dataset to use for analysis\n",
    "df_clean=df_new2.drop([\"height\",\"weight\"],axis=1).copy()\n",
    "df_clean"
   ]
  },
  {
   "cell_type": "markdown",
   "id": "32be4108",
   "metadata": {},
   "source": [
    "## **Exploratory Data Analysis**"
   ]
  },
  {
   "cell_type": "markdown",
   "id": "27afbff9",
   "metadata": {},
   "source": [
    "## *Dataset's Description*"
   ]
  },
  {
   "cell_type": "code",
   "execution_count": 438,
   "id": "abd04992",
   "metadata": {},
   "outputs": [
    {
     "data": {
      "application/vnd.microsoft.datawrangler.viewer.v0+json": {
       "columns": [
        {
         "name": "index",
         "rawType": "object",
         "type": "string"
        },
        {
         "name": "id",
         "rawType": "float64",
         "type": "float"
        },
        {
         "name": "age",
         "rawType": "float64",
         "type": "float"
        },
        {
         "name": "ap_hi",
         "rawType": "float64",
         "type": "float"
        },
        {
         "name": "ap_lo",
         "rawType": "float64",
         "type": "float"
        },
        {
         "name": "BMI",
         "rawType": "float64",
         "type": "float"
        },
        {
         "name": "pulse_pressure",
         "rawType": "float64",
         "type": "float"
        }
       ],
       "ref": "8908e307-6830-41f1-9f31-169201c863f1",
       "rows": [
        [
         "count",
         "70000.0",
         "70000.0",
         "70000.0",
         "70000.0",
         "70000.0",
         "70000.0"
        ],
        [
         "mean",
         "49972.4199",
         "52.840671428571426",
         "128.8172857142857",
         "96.63041428571428",
         "27.55651255127886",
         "32.18687142857143"
        ],
        [
         "std",
         "28851.30232317303",
         "6.766773653742024",
         "154.01141945605565",
         "188.47253029643605",
         "6.091511123386126",
         "241.469638083189"
        ],
        [
         "min",
         "0.0",
         "29.0",
         "-150.0",
         "-70.0",
         "3.471783865673526",
         "-10800.0"
        ],
        [
         "25%",
         "25006.75",
         "48.0",
         "120.0",
         "80.0",
         "23.875114784205696",
         "40.0"
        ],
        [
         "50%",
         "50001.5",
         "53.0",
         "120.0",
         "80.0",
         "26.374068120774975",
         "40.0"
        ],
        [
         "75%",
         "74889.25",
         "58.0",
         "140.0",
         "90.0",
         "30.22222222222222",
         "50.0"
        ],
        [
         "max",
         "99999.0",
         "64.0",
         "16020.0",
         "11000.0",
         "298.6666666666667",
         "15940.0"
        ]
       ],
       "shape": {
        "columns": 6,
        "rows": 8
       }
      },
      "text/html": [
       "<div>\n",
       "<style scoped>\n",
       "    .dataframe tbody tr th:only-of-type {\n",
       "        vertical-align: middle;\n",
       "    }\n",
       "\n",
       "    .dataframe tbody tr th {\n",
       "        vertical-align: top;\n",
       "    }\n",
       "\n",
       "    .dataframe thead th {\n",
       "        text-align: right;\n",
       "    }\n",
       "</style>\n",
       "<table border=\"1\" class=\"dataframe\">\n",
       "  <thead>\n",
       "    <tr style=\"text-align: right;\">\n",
       "      <th></th>\n",
       "      <th>id</th>\n",
       "      <th>age</th>\n",
       "      <th>ap_hi</th>\n",
       "      <th>ap_lo</th>\n",
       "      <th>BMI</th>\n",
       "      <th>pulse_pressure</th>\n",
       "    </tr>\n",
       "  </thead>\n",
       "  <tbody>\n",
       "    <tr>\n",
       "      <th>count</th>\n",
       "      <td>70000.000000</td>\n",
       "      <td>70000.000000</td>\n",
       "      <td>70000.000000</td>\n",
       "      <td>70000.000000</td>\n",
       "      <td>70000.000000</td>\n",
       "      <td>70000.000000</td>\n",
       "    </tr>\n",
       "    <tr>\n",
       "      <th>mean</th>\n",
       "      <td>49972.419900</td>\n",
       "      <td>52.840671</td>\n",
       "      <td>128.817286</td>\n",
       "      <td>96.630414</td>\n",
       "      <td>27.556513</td>\n",
       "      <td>32.186871</td>\n",
       "    </tr>\n",
       "    <tr>\n",
       "      <th>std</th>\n",
       "      <td>28851.302323</td>\n",
       "      <td>6.766774</td>\n",
       "      <td>154.011419</td>\n",
       "      <td>188.472530</td>\n",
       "      <td>6.091511</td>\n",
       "      <td>241.469638</td>\n",
       "    </tr>\n",
       "    <tr>\n",
       "      <th>min</th>\n",
       "      <td>0.000000</td>\n",
       "      <td>29.000000</td>\n",
       "      <td>-150.000000</td>\n",
       "      <td>-70.000000</td>\n",
       "      <td>3.471784</td>\n",
       "      <td>-10800.000000</td>\n",
       "    </tr>\n",
       "    <tr>\n",
       "      <th>25%</th>\n",
       "      <td>25006.750000</td>\n",
       "      <td>48.000000</td>\n",
       "      <td>120.000000</td>\n",
       "      <td>80.000000</td>\n",
       "      <td>23.875115</td>\n",
       "      <td>40.000000</td>\n",
       "    </tr>\n",
       "    <tr>\n",
       "      <th>50%</th>\n",
       "      <td>50001.500000</td>\n",
       "      <td>53.000000</td>\n",
       "      <td>120.000000</td>\n",
       "      <td>80.000000</td>\n",
       "      <td>26.374068</td>\n",
       "      <td>40.000000</td>\n",
       "    </tr>\n",
       "    <tr>\n",
       "      <th>75%</th>\n",
       "      <td>74889.250000</td>\n",
       "      <td>58.000000</td>\n",
       "      <td>140.000000</td>\n",
       "      <td>90.000000</td>\n",
       "      <td>30.222222</td>\n",
       "      <td>50.000000</td>\n",
       "    </tr>\n",
       "    <tr>\n",
       "      <th>max</th>\n",
       "      <td>99999.000000</td>\n",
       "      <td>64.000000</td>\n",
       "      <td>16020.000000</td>\n",
       "      <td>11000.000000</td>\n",
       "      <td>298.666667</td>\n",
       "      <td>15940.000000</td>\n",
       "    </tr>\n",
       "  </tbody>\n",
       "</table>\n",
       "</div>"
      ],
      "text/plain": [
       "0                id           age         ap_hi         ap_lo           BMI  \\\n",
       "count  70000.000000  70000.000000  70000.000000  70000.000000  70000.000000   \n",
       "mean   49972.419900     52.840671    128.817286     96.630414     27.556513   \n",
       "std    28851.302323      6.766774    154.011419    188.472530      6.091511   \n",
       "min        0.000000     29.000000   -150.000000    -70.000000      3.471784   \n",
       "25%    25006.750000     48.000000    120.000000     80.000000     23.875115   \n",
       "50%    50001.500000     53.000000    120.000000     80.000000     26.374068   \n",
       "75%    74889.250000     58.000000    140.000000     90.000000     30.222222   \n",
       "max    99999.000000     64.000000  16020.000000  11000.000000    298.666667   \n",
       "\n",
       "0      pulse_pressure  \n",
       "count    70000.000000  \n",
       "mean        32.186871  \n",
       "std        241.469638  \n",
       "min     -10800.000000  \n",
       "25%         40.000000  \n",
       "50%         40.000000  \n",
       "75%         50.000000  \n",
       "max      15940.000000  "
      ]
     },
     "execution_count": 438,
     "metadata": {},
     "output_type": "execute_result"
    }
   ],
   "source": [
    "# describing the numerical columns\n",
    "df_clean.describe()"
   ]
  },
  {
   "cell_type": "markdown",
   "id": "9371159a",
   "metadata": {},
   "source": [
    "## *Distribution Plots*"
   ]
  },
  {
   "cell_type": "code",
   "execution_count": 439,
   "id": "4dd24fde",
   "metadata": {},
   "outputs": [
    {
     "name": "stderr",
     "output_type": "stream",
     "text": [
      "c:\\Users\\HomePC\\anaconda3.1\\Lib\\site-packages\\seaborn\\_oldcore.py:1119: FutureWarning: use_inf_as_na option is deprecated and will be removed in a future version. Convert inf values to NaN before operating instead.\n",
      "  with pd.option_context('mode.use_inf_as_na', True):\n"
     ]
    },
    {
     "data": {
      "image/png": "[encoded data removed]",
      "text/plain": [
       "<Figure size 1500x1000 with 1 Axes>"
      ]
     },
     "metadata": {},
     "output_type": "display_data"
    }
   ],
   "source": [
    "# Plot histogram of age in years\n",
    "plt.figure(figsize=(15,10))\n",
    "sns.histplot(x=\"age\", data=df_clean,kde=True)\n",
    "plt.xlabel(\"Age (years)\",color=\"g\")\n",
    "plt.title(\"Age Distribution\",color=\"g\")\n",
    "plt.show()"
   ]
  },
  {
   "cell_type": "markdown",
   "id": "cde8703f",
   "metadata": {},
   "source": [
    "We observe that the **age** variable is approximately **normally distributed**, with most values symmetrically centered around the **mean**. This suggests that age follows a bell-shaped distribution, which is useful for statistical modeling and inference.\n"
   ]
  },
  {
   "cell_type": "code",
   "execution_count": 440,
   "id": "f12e3279",
   "metadata": {},
   "outputs": [
    {
     "name": "stderr",
     "output_type": "stream",
     "text": [
      "c:\\Users\\HomePC\\anaconda3.1\\Lib\\site-packages\\seaborn\\_oldcore.py:1119: FutureWarning: use_inf_as_na option is deprecated and will be removed in a future version. Convert inf values to NaN before operating instead.\n",
      "  with pd.option_context('mode.use_inf_as_na', True):\n"
     ]
    },
    {
     "data": {
      "image/png": "[encoded data removed]",
      "text/plain": [
       "<Figure size 1500x1000 with 1 Axes>"
      ]
     },
     "metadata": {},
     "output_type": "display_data"
    }
   ],
   "source": [
    "\n",
    "# Plot BMI histogram\n",
    "plt.figure(figsize=(15,10))\n",
    "sns.histplot(x=\"BMI\", data=df_clean, kde=True, color='skyblue')\n",
    "\n",
    "# Add vertical lines for category thresholds\n",
    "plt.axvline(x=18.5, color='red', linestyle='--', label='Underweight threshold')\n",
    "plt.axvline(x=25, color='orange', linestyle='--', label='Overweight threshold')\n",
    "plt.axvline(x=30, color='darkred', linestyle='--', label='Obese threshold')\n",
    "\n",
    "# Customize plot\n",
    "plt.xlabel(\"Body Mass Index (BMI)\",color=\"g\")\n",
    "plt.title(\"BMI Distribution with Categories\",color=\"g\")\n",
    "plt.legend()\n",
    "plt.show()"
   ]
  },
  {
   "cell_type": "markdown",
   "id": "94b68582",
   "metadata": {},
   "source": [
    " The **BMI** variable appears to be **normally distributed**, with most values symmetrically centered around the **overweight threshold**. \n"
   ]
  },
  {
   "cell_type": "code",
   "execution_count": 441,
   "id": "e22a1cc5",
   "metadata": {},
   "outputs": [
    {
     "data": {
      "image/png": "[encoded data removed]",
      "text/plain": [
       "<Figure size 1500x1000 with 1 Axes>"
      ]
     },
     "metadata": {},
     "output_type": "display_data"
    }
   ],
   "source": [
    "# Create a bar plot of gender distribution\n",
    "gender_value_counts=df_new2[\"gender\"].value_counts()\n",
    "plt.figure(figsize=(15, 10))  \n",
    "sns.barplot(x=gender_value_counts.index, y=gender_value_counts.values)\n",
    "\n",
    "# Add labels and title\n",
    "plt.xlabel(\"Gender\",color=\"g\")\n",
    "plt.ylabel(\"Count\",color=\"g\")\n",
    "plt.title(\"Gender Distribution\",color=\"g\")\n",
    "plt.xticks([0,1],[\"female\",\"male\"])\n",
    "plt.show()\n"
   ]
  },
  {
   "cell_type": "markdown",
   "id": "b788b007",
   "metadata": {},
   "source": [
    "There are significantly more records for **females** than **males** in the dataset. This imbalance could **skew the analysis**, particularly in any comparisons or models involving gender as a factor.\n"
   ]
  },
  {
   "cell_type": "code",
   "execution_count": 442,
   "id": "ad5a3626",
   "metadata": {},
   "outputs": [
    {
     "data": {
      "image/png": "[encoded data removed]",
      "text/plain": [
       "<Figure size 640x480 with 1 Axes>"
      ]
     },
     "metadata": {},
     "output_type": "display_data"
    }
   ],
   "source": [
    "# Get value counts of the target variable\n",
    "cardio_counts = df_clean[\"cardio\"].value_counts()\n",
    "\n",
    "# Create the figure and bar plot\n",
    "plt.Figure(figsize=(10, 6))  \n",
    "sns.barplot(x=cardio_counts.index, y=cardio_counts.values, palette=\"pastel\")\n",
    "\n",
    "# Add labels and title\n",
    "plt.xlabel(\"Cardiovascular Disease (0 = No, 1 = Yes)\",color=\"g\")\n",
    "plt.ylabel(\"Count\",color=\"g\")\n",
    "plt.title(\"Distribution of Cardiovascular Disease\",color=\"g\")\n",
    "plt.xticks([0, 1], [\"No\", \"Yes\"])\n",
    "\n",
    "plt.show()\n"
   ]
  },
  {
   "cell_type": "markdown",
   "id": "2d47f5ab",
   "metadata": {},
   "source": [
    "The dataset contains an approximately **equal number of individuals with and without cardiovascular disease**, indicating that the target variable is **balanced**. This is beneficial for training machine learning models, as it reduces the risk of bias toward one class.\n"
   ]
  },
  {
   "cell_type": "code",
   "execution_count": 443,
   "id": "457a4af5",
   "metadata": {},
   "outputs": [
    {
     "data": {
      "application/vnd.microsoft.datawrangler.viewer.v0+json": {
       "columns": [
        {
         "name": "index",
         "rawType": "object",
         "type": "string"
        },
        {
         "name": "id",
         "rawType": "float64",
         "type": "float"
        },
        {
         "name": "age",
         "rawType": "float64",
         "type": "float"
        },
        {
         "name": "gender",
         "rawType": "float64",
         "type": "float"
        },
        {
         "name": "ap_hi",
         "rawType": "float64",
         "type": "float"
        },
        {
         "name": "ap_lo",
         "rawType": "float64",
         "type": "float"
        },
        {
         "name": "cholesterol",
         "rawType": "float64",
         "type": "float"
        },
        {
         "name": "gluc",
         "rawType": "float64",
         "type": "float"
        },
        {
         "name": "smoke",
         "rawType": "float64",
         "type": "float"
        },
        {
         "name": "alco",
         "rawType": "float64",
         "type": "float"
        },
        {
         "name": "active",
         "rawType": "float64",
         "type": "float"
        },
        {
         "name": "cardio",
         "rawType": "float64",
         "type": "float"
        },
        {
         "name": "BMI",
         "rawType": "float64",
         "type": "float"
        },
        {
         "name": "pulse_pressure",
         "rawType": "float64",
         "type": "float"
        }
       ],
       "ref": "0f07d934-8242-4918-89a7-134849194d56",
       "rows": [
        [
         "id",
         "1.0",
         "0.0038137691554544608",
         "0.0035021845700989574",
         "0.003355598989531834",
         "-0.0025292803231140343",
         "0.00610620024973602",
         "0.002466780494578981",
         "-0.0036991622969064",
         "0.0012099459478550287",
         "0.0037551157716102933",
         "0.003799389187199488",
         "-0.0013767267248328012",
         "0.004114390669226451"
        ],
        [
         "age",
         "0.0038137691554544608",
         "1.0",
         "-0.022913175749438002",
         "0.02085430142995852",
         "0.017619570055546974",
         "0.15401243415103374",
         "0.09838821308452403",
         "-0.04764851888112568",
         "-0.0297563299468795",
         "-0.009998445459746727",
         "0.23798455608391145",
         "0.0854041974663189",
         "-0.00045142067125132683"
        ],
        [
         "gender",
         "0.0035021845700989574",
         "-0.022913175749438002",
         "1.0",
         "0.006005308571620904",
         "0.015253971163320432",
         "-0.0358214127770641",
         "-0.02049103516648686",
         "0.33813513635809417",
         "0.17096642854779198",
         "0.005865669226986622",
         "0.008109491913122303",
         "-0.09652917572947907",
         "-0.008075832888606803"
        ],
        [
         "ap_hi",
         "0.003355598989531834",
         "0.02085430142995852",
         "0.006005308571620904",
         "1.0",
         "0.01608551340342334",
         "0.023777921557725793",
         "0.011840678012419897",
         "-0.0009220248295481186",
         "0.0014083334478667436",
         "-3.300248323400749e-05",
         "0.05447505392686579",
         "0.024852281717412786",
         "0.6252535235582418"
        ],
        [
         "ap_lo",
         "-0.0025292803231140343",
         "0.017619570055546974",
         "0.015253971163320432",
         "0.01608551340342334",
         "1.0",
         "0.024019290309646148",
         "0.010805665500819218",
         "0.005186130383569325",
         "0.010601240270464435",
         "0.004780258150921079",
         "0.06571869614919028",
         "0.03534484380396229",
         "-0.7702632058461703"
        ],
        [
         "cholesterol",
         "0.00610620024973602",
         "0.15401243415103374",
         "-0.0358214127770641",
         "0.023777921557725793",
         "0.024019290309646148",
         "1.0",
         "0.4515775236757577",
         "0.010354415140989677",
         "0.03576038557125919",
         "0.009911297489836778",
         "0.2211472739123984",
         "0.1462704645337826",
         "-0.003581837354904643"
        ],
        [
         "gluc",
         "0.002466780494578981",
         "0.09838821308452403",
         "-0.02049103516648686",
         "0.011840678012419897",
         "0.010805665500819218",
         "0.4515775236757577",
         "1.0",
         "-0.004756483147566192",
         "0.011245770627447247",
         "-0.006769518191165523",
         "0.08930688732430264",
         "0.10138997214768843",
         "-0.000881980410254008"
        ],
        [
         "smoke",
         "-0.0036991622969064",
         "-0.04764851888112568",
         "0.33813513635809417",
         "-0.0009220248295481186",
         "0.005186130383569325",
         "0.010354415140989677",
         "-0.004756483147566192",
         "1.0",
         "0.34009376786968487",
         "0.025857968781841368",
         "-0.015485935661367784",
         "-0.02721468659454858",
         "-0.0046359678073698"
        ],
        [
         "alco",
         "0.0012099459478550287",
         "-0.0297563299468795",
         "0.17096642854779198",
         "0.0014083334478667436",
         "0.010601240270464435",
         "0.03576038557125919",
         "0.011245770627447247",
         "0.34009376786968487",
         "1.0",
         "0.025475829204264746",
         "-0.007330231723202663",
         "0.014393518187003938",
         "-0.007376261292393041"
        ],
        [
         "active",
         "0.0037551157716102933",
         "-0.009998445459746727",
         "0.005865669226986622",
         "-3.300248323400749e-05",
         "0.004780258150921079",
         "0.009911297489836778",
         "-0.006769518191165523",
         "0.025857968781841368",
         "0.025475829204264746",
         "1.0",
         "-0.03565324811519037",
         "-0.014261085424626329",
         "-0.003752149196291203"
        ],
        [
         "cardio",
         "0.003799389187199488",
         "0.23798455608391145",
         "0.008109491913122303",
         "0.05447505392686579",
         "0.06571869614919028",
         "0.2211472739123984",
         "0.08930688732430264",
         "-0.015485935661367784",
         "-0.007330231723202663",
         "-0.03565324811519037",
         "1.0",
         "0.16563209273915375",
         "-0.016550273576909996"
        ],
        [
         "BMI",
         "-0.0013767267248328012",
         "0.0854041974663189",
         "-0.09652917572947907",
         "0.024852281717412786",
         "0.03534484380396229",
         "0.1462704645337826",
         "0.10138997214768843",
         "-0.02721468659454858",
         "0.014393518187003938",
         "-0.014261085424626329",
         "0.16563209273915375",
         "1.0",
         "-0.01173645259560972"
        ],
        [
         "pulse_pressure",
         "0.004114390669226451",
         "-0.00045142067125132683",
         "-0.008075832888606803",
         "0.6252535235582418",
         "-0.7702632058461703",
         "-0.003581837354904643",
         "-0.000881980410254008",
         "-0.0046359678073698",
         "-0.007376261292393041",
         "-0.003752149196291203",
         "-0.016550273576909996",
         "-0.01173645259560972",
         "1.0"
        ]
       ],
       "shape": {
        "columns": 13,
        "rows": 13
       }
      },
      "text/html": [
       "<div>\n",
       "<style scoped>\n",
       "    .dataframe tbody tr th:only-of-type {\n",
       "        vertical-align: middle;\n",
       "    }\n",
       "\n",
       "    .dataframe tbody tr th {\n",
       "        vertical-align: top;\n",
       "    }\n",
       "\n",
       "    .dataframe thead th {\n",
       "        text-align: right;\n",
       "    }\n",
       "</style>\n",
       "<table border=\"1\" class=\"dataframe\">\n",
       "  <thead>\n",
       "    <tr style=\"text-align: right;\">\n",
       "      <th></th>\n",
       "      <th>id</th>\n",
       "      <th>age</th>\n",
       "      <th>gender</th>\n",
       "      <th>ap_hi</th>\n",
       "      <th>ap_lo</th>\n",
       "      <th>cholesterol</th>\n",
       "      <th>gluc</th>\n",
       "      <th>smoke</th>\n",
       "      <th>alco</th>\n",
       "      <th>active</th>\n",
       "      <th>cardio</th>\n",
       "      <th>BMI</th>\n",
       "      <th>pulse_pressure</th>\n",
       "    </tr>\n",
       "    <tr>\n",
       "      <th>0</th>\n",
       "      <th></th>\n",
       "      <th></th>\n",
       "      <th></th>\n",
       "      <th></th>\n",
       "      <th></th>\n",
       "      <th></th>\n",
       "      <th></th>\n",
       "      <th></th>\n",
       "      <th></th>\n",
       "      <th></th>\n",
       "      <th></th>\n",
       "      <th></th>\n",
       "      <th></th>\n",
       "    </tr>\n",
       "  </thead>\n",
       "  <tbody>\n",
       "    <tr>\n",
       "      <th>id</th>\n",
       "      <td>1.000000</td>\n",
       "      <td>0.003814</td>\n",
       "      <td>0.003502</td>\n",
       "      <td>0.003356</td>\n",
       "      <td>-0.002529</td>\n",
       "      <td>0.006106</td>\n",
       "      <td>0.002467</td>\n",
       "      <td>-0.003699</td>\n",
       "      <td>0.001210</td>\n",
       "      <td>0.003755</td>\n",
       "      <td>0.003799</td>\n",
       "      <td>-0.001377</td>\n",
       "      <td>0.004114</td>\n",
       "    </tr>\n",
       "    <tr>\n",
       "      <th>age</th>\n",
       "      <td>0.003814</td>\n",
       "      <td>1.000000</td>\n",
       "      <td>-0.022913</td>\n",
       "      <td>0.020854</td>\n",
       "      <td>0.017620</td>\n",
       "      <td>0.154012</td>\n",
       "      <td>0.098388</td>\n",
       "      <td>-0.047649</td>\n",
       "      <td>-0.029756</td>\n",
       "      <td>-0.009998</td>\n",
       "      <td>0.237985</td>\n",
       "      <td>0.085404</td>\n",
       "      <td>-0.000451</td>\n",
       "    </tr>\n",
       "    <tr>\n",
       "      <th>gender</th>\n",
       "      <td>0.003502</td>\n",
       "      <td>-0.022913</td>\n",
       "      <td>1.000000</td>\n",
       "      <td>0.006005</td>\n",
       "      <td>0.015254</td>\n",
       "      <td>-0.035821</td>\n",
       "      <td>-0.020491</td>\n",
       "      <td>0.338135</td>\n",
       "      <td>0.170966</td>\n",
       "      <td>0.005866</td>\n",
       "      <td>0.008109</td>\n",
       "      <td>-0.096529</td>\n",
       "      <td>-0.008076</td>\n",
       "    </tr>\n",
       "    <tr>\n",
       "      <th>ap_hi</th>\n",
       "      <td>0.003356</td>\n",
       "      <td>0.020854</td>\n",
       "      <td>0.006005</td>\n",
       "      <td>1.000000</td>\n",
       "      <td>0.016086</td>\n",
       "      <td>0.023778</td>\n",
       "      <td>0.011841</td>\n",
       "      <td>-0.000922</td>\n",
       "      <td>0.001408</td>\n",
       "      <td>-0.000033</td>\n",
       "      <td>0.054475</td>\n",
       "      <td>0.024852</td>\n",
       "      <td>0.625254</td>\n",
       "    </tr>\n",
       "    <tr>\n",
       "      <th>ap_lo</th>\n",
       "      <td>-0.002529</td>\n",
       "      <td>0.017620</td>\n",
       "      <td>0.015254</td>\n",
       "      <td>0.016086</td>\n",
       "      <td>1.000000</td>\n",
       "      <td>0.024019</td>\n",
       "      <td>0.010806</td>\n",
       "      <td>0.005186</td>\n",
       "      <td>0.010601</td>\n",
       "      <td>0.004780</td>\n",
       "      <td>0.065719</td>\n",
       "      <td>0.035345</td>\n",
       "      <td>-0.770263</td>\n",
       "    </tr>\n",
       "    <tr>\n",
       "      <th>cholesterol</th>\n",
       "      <td>0.006106</td>\n",
       "      <td>0.154012</td>\n",
       "      <td>-0.035821</td>\n",
       "      <td>0.023778</td>\n",
       "      <td>0.024019</td>\n",
       "      <td>1.000000</td>\n",
       "      <td>0.451578</td>\n",
       "      <td>0.010354</td>\n",
       "      <td>0.035760</td>\n",
       "      <td>0.009911</td>\n",
       "      <td>0.221147</td>\n",
       "      <td>0.146270</td>\n",
       "      <td>-0.003582</td>\n",
       "    </tr>\n",
       "    <tr>\n",
       "      <th>gluc</th>\n",
       "      <td>0.002467</td>\n",
       "      <td>0.098388</td>\n",
       "      <td>-0.020491</td>\n",
       "      <td>0.011841</td>\n",
       "      <td>0.010806</td>\n",
       "      <td>0.451578</td>\n",
       "      <td>1.000000</td>\n",
       "      <td>-0.004756</td>\n",
       "      <td>0.011246</td>\n",
       "      <td>-0.006770</td>\n",
       "      <td>0.089307</td>\n",
       "      <td>0.101390</td>\n",
       "      <td>-0.000882</td>\n",
       "    </tr>\n",
       "    <tr>\n",
       "      <th>smoke</th>\n",
       "      <td>-0.003699</td>\n",
       "      <td>-0.047649</td>\n",
       "      <td>0.338135</td>\n",
       "      <td>-0.000922</td>\n",
       "      <td>0.005186</td>\n",
       "      <td>0.010354</td>\n",
       "      <td>-0.004756</td>\n",
       "      <td>1.000000</td>\n",
       "      <td>0.340094</td>\n",
       "      <td>0.025858</td>\n",
       "      <td>-0.015486</td>\n",
       "      <td>-0.027215</td>\n",
       "      <td>-0.004636</td>\n",
       "    </tr>\n",
       "    <tr>\n",
       "      <th>alco</th>\n",
       "      <td>0.001210</td>\n",
       "      <td>-0.029756</td>\n",
       "      <td>0.170966</td>\n",
       "      <td>0.001408</td>\n",
       "      <td>0.010601</td>\n",
       "      <td>0.035760</td>\n",
       "      <td>0.011246</td>\n",
       "      <td>0.340094</td>\n",
       "      <td>1.000000</td>\n",
       "      <td>0.025476</td>\n",
       "      <td>-0.007330</td>\n",
       "      <td>0.014394</td>\n",
       "      <td>-0.007376</td>\n",
       "    </tr>\n",
       "    <tr>\n",
       "      <th>active</th>\n",
       "      <td>0.003755</td>\n",
       "      <td>-0.009998</td>\n",
       "      <td>0.005866</td>\n",
       "      <td>-0.000033</td>\n",
       "      <td>0.004780</td>\n",
       "      <td>0.009911</td>\n",
       "      <td>-0.006770</td>\n",
       "      <td>0.025858</td>\n",
       "      <td>0.025476</td>\n",
       "      <td>1.000000</td>\n",
       "      <td>-0.035653</td>\n",
       "      <td>-0.014261</td>\n",
       "      <td>-0.003752</td>\n",
       "    </tr>\n",
       "    <tr>\n",
       "      <th>cardio</th>\n",
       "      <td>0.003799</td>\n",
       "      <td>0.237985</td>\n",
       "      <td>0.008109</td>\n",
       "      <td>0.054475</td>\n",
       "      <td>0.065719</td>\n",
       "      <td>0.221147</td>\n",
       "      <td>0.089307</td>\n",
       "      <td>-0.015486</td>\n",
       "      <td>-0.007330</td>\n",
       "      <td>-0.035653</td>\n",
       "      <td>1.000000</td>\n",
       "      <td>0.165632</td>\n",
       "      <td>-0.016550</td>\n",
       "    </tr>\n",
       "    <tr>\n",
       "      <th>BMI</th>\n",
       "      <td>-0.001377</td>\n",
       "      <td>0.085404</td>\n",
       "      <td>-0.096529</td>\n",
       "      <td>0.024852</td>\n",
       "      <td>0.035345</td>\n",
       "      <td>0.146270</td>\n",
       "      <td>0.101390</td>\n",
       "      <td>-0.027215</td>\n",
       "      <td>0.014394</td>\n",
       "      <td>-0.014261</td>\n",
       "      <td>0.165632</td>\n",
       "      <td>1.000000</td>\n",
       "      <td>-0.011736</td>\n",
       "    </tr>\n",
       "    <tr>\n",
       "      <th>pulse_pressure</th>\n",
       "      <td>0.004114</td>\n",
       "      <td>-0.000451</td>\n",
       "      <td>-0.008076</td>\n",
       "      <td>0.625254</td>\n",
       "      <td>-0.770263</td>\n",
       "      <td>-0.003582</td>\n",
       "      <td>-0.000882</td>\n",
       "      <td>-0.004636</td>\n",
       "      <td>-0.007376</td>\n",
       "      <td>-0.003752</td>\n",
       "      <td>-0.016550</td>\n",
       "      <td>-0.011736</td>\n",
       "      <td>1.000000</td>\n",
       "    </tr>\n",
       "  </tbody>\n",
       "</table>\n",
       "</div>"
      ],
      "text/plain": [
       "0                     id       age    gender     ap_hi     ap_lo  cholesterol  \\\n",
       "0                                                                               \n",
       "id              1.000000  0.003814  0.003502  0.003356 -0.002529     0.006106   \n",
       "age             0.003814  1.000000 -0.022913  0.020854  0.017620     0.154012   \n",
       "gender          0.003502 -0.022913  1.000000  0.006005  0.015254    -0.035821   \n",
       "ap_hi           0.003356  0.020854  0.006005  1.000000  0.016086     0.023778   \n",
       "ap_lo          -0.002529  0.017620  0.015254  0.016086  1.000000     0.024019   \n",
       "cholesterol     0.006106  0.154012 -0.035821  0.023778  0.024019     1.000000   \n",
       "gluc            0.002467  0.098388 -0.020491  0.011841  0.010806     0.451578   \n",
       "smoke          -0.003699 -0.047649  0.338135 -0.000922  0.005186     0.010354   \n",
       "alco            0.001210 -0.029756  0.170966  0.001408  0.010601     0.035760   \n",
       "active          0.003755 -0.009998  0.005866 -0.000033  0.004780     0.009911   \n",
       "cardio          0.003799  0.237985  0.008109  0.054475  0.065719     0.221147   \n",
       "BMI            -0.001377  0.085404 -0.096529  0.024852  0.035345     0.146270   \n",
       "pulse_pressure  0.004114 -0.000451 -0.008076  0.625254 -0.770263    -0.003582   \n",
       "\n",
       "0                   gluc     smoke      alco    active    cardio       BMI  \\\n",
       "0                                                                            \n",
       "id              0.002467 -0.003699  0.001210  0.003755  0.003799 -0.001377   \n",
       "age             0.098388 -0.047649 -0.029756 -0.009998  0.237985  0.085404   \n",
       "gender         -0.020491  0.338135  0.170966  0.005866  0.008109 -0.096529   \n",
       "ap_hi           0.011841 -0.000922  0.001408 -0.000033  0.054475  0.024852   \n",
       "ap_lo           0.010806  0.005186  0.010601  0.004780  0.065719  0.035345   \n",
       "cholesterol     0.451578  0.010354  0.035760  0.009911  0.221147  0.146270   \n",
       "gluc            1.000000 -0.004756  0.011246 -0.006770  0.089307  0.101390   \n",
       "smoke          -0.004756  1.000000  0.340094  0.025858 -0.015486 -0.027215   \n",
       "alco            0.011246  0.340094  1.000000  0.025476 -0.007330  0.014394   \n",
       "active         -0.006770  0.025858  0.025476  1.000000 -0.035653 -0.014261   \n",
       "cardio          0.089307 -0.015486 -0.007330 -0.035653  1.000000  0.165632   \n",
       "BMI             0.101390 -0.027215  0.014394 -0.014261  0.165632  1.000000   \n",
       "pulse_pressure -0.000882 -0.004636 -0.007376 -0.003752 -0.016550 -0.011736   \n",
       "\n",
       "0               pulse_pressure  \n",
       "0                               \n",
       "id                    0.004114  \n",
       "age                  -0.000451  \n",
       "gender               -0.008076  \n",
       "ap_hi                 0.625254  \n",
       "ap_lo                -0.770263  \n",
       "cholesterol          -0.003582  \n",
       "gluc                 -0.000882  \n",
       "smoke                -0.004636  \n",
       "alco                 -0.007376  \n",
       "active               -0.003752  \n",
       "cardio               -0.016550  \n",
       "BMI                  -0.011736  \n",
       "pulse_pressure        1.000000  "
      ]
     },
     "execution_count": 443,
     "metadata": {},
     "output_type": "execute_result"
    },
    {
     "data": {
      "image/png": "[encoded data removed]",
      "text/plain": [
       "<Figure size 1500x1000 with 2 Axes>"
      ]
     },
     "metadata": {},
     "output_type": "display_data"
    }
   ],
   "source": [
    "# plotting a correlation matrix\n",
    "correlation_matrix=df_clean.corr()\n",
    "plt.figure(figsize=(15,10))\n",
    "sns.heatmap(correlation_matrix,annot=True,cmap=\"coolwarm\",linewidths=0.5,fmt='2f')\n",
    "correlation_matrix"
   ]
  },
  {
   "cell_type": "markdown",
   "id": "35598b1d",
   "metadata": {},
   "source": [
    "## *Bar plots of each predictor variable against the target variable*"
   ]
  },
  {
   "cell_type": "markdown",
   "id": "9ed6c338",
   "metadata": {},
   "source": [
    "### *Cardio Condition By Smoking Status*"
   ]
  },
  {
   "cell_type": "code",
   "execution_count": 444,
   "id": "369114c5",
   "metadata": {},
   "outputs": [
    {
     "data": {
      "image/png": "[encoded data removed]",
      "text/plain": [
       "<Figure size 1500x700 with 1 Axes>"
      ]
     },
     "metadata": {},
     "output_type": "display_data"
    }
   ],
   "source": [
    "# plotting bar graph of smokers vs cardio\n",
    "grouped_smoker = df_clean.groupby([\"smoke\", \"cardio\"]).size().unstack()\n",
    "ax = grouped_smoker.plot(kind=\"bar\",figsize=(15,7))\n",
    "\n",
    "# Set custom x-axis labels\n",
    "ax.set_xticklabels([\"Non-smoker\", \"Smoker\"], rotation=0)\n",
    "plt.xlabel(\"Smoking Status\")\n",
    "plt.ylabel(\"Count\")\n",
    "plt.title(\"Cardio Condition by Smoking Status\")\n",
    "plt.legend(title=\"Cardio\")\n",
    "plt.tight_layout()\n",
    "plt.show()"
   ]
  },
  {
   "cell_type": "markdown",
   "id": "2419d932",
   "metadata": {},
   "source": [
    "We observe that **smokers and non-smokers exhibit a similar risk** of developing cardiovascular disease in this dataset. This suggests that, based on the available data, **smoking may not be a strong differentiating factor** for cardiovascular risk, though this could be influenced by other confounding variables.\n"
   ]
  },
  {
   "cell_type": "markdown",
   "id": "4c2c5af8",
   "metadata": {},
   "source": [
    "### *Cardio Condition By Alcohol Status*"
   ]
  },
  {
   "cell_type": "code",
   "execution_count": 445,
   "id": "33c19516",
   "metadata": {},
   "outputs": [
    {
     "data": {
      "image/png": "[encoded data removed]",
      "text/plain": [
       "<Figure size 1500x700 with 1 Axes>"
      ]
     },
     "metadata": {},
     "output_type": "display_data"
    }
   ],
   "source": [
    "# ploting bar graph of alcohol vs cardio\n",
    "grouped_alcohol = df_clean.groupby([\"alco\", \"cardio\"]).size().unstack()\n",
    "ax = grouped_alcohol.plot(kind=\"bar\",figsize=(15,7))\n",
    "\n",
    "# Set custom x-axis labels\n",
    "ax.set_xticklabels([\"Non-alcoholic\", \"alcoholic\"], rotation=0)\n",
    "plt.xlabel(\"alcohol Status\")\n",
    "plt.ylabel(\"Count\")\n",
    "plt.title(\"Cardio Condition by alcohol Status\")\n",
    "plt.legend(title=\"Cardio\")\n",
    "plt.tight_layout()\n",
    "plt.show()"
   ]
  },
  {
   "cell_type": "markdown",
   "id": "993a31e6",
   "metadata": {},
   "source": [
    "The data shows that **alcoholics and non-alcoholics have a similar risk** of developing cardiovascular disease. This suggests that **alcohol consumption may not be a distinguishing factor** for cardiovascular risk in this dataset, although other underlying variables could be at play.\n"
   ]
  },
  {
   "cell_type": "markdown",
   "id": "aff33a16",
   "metadata": {},
   "source": [
    "### *Cardio Condition By Cholesterol Level*"
   ]
  },
  {
   "cell_type": "code",
   "execution_count": 446,
   "id": "ac9cd8e8",
   "metadata": {},
   "outputs": [
    {
     "data": {
      "image/png": "[encoded data removed]",
      "text/plain": [
       "<Figure size 1500x700 with 1 Axes>"
      ]
     },
     "metadata": {},
     "output_type": "display_data"
    }
   ],
   "source": [
    "# plotting bar graph of smokers vs cardio\n",
    "grouped_chole = df_clean.groupby([\"cholesterol\", \"cardio\"]).size().unstack()\n",
    "ax = grouped_chole.plot(kind=\"bar\",figsize=(15,7))\n",
    "\n",
    "# Set custom x-axis labels\n",
    "ax.set_xticklabels([\"Normal\", \"above normal\",\"well above normal\"], rotation=0)\n",
    "plt.xlabel(\"Cholesterol Status\")\n",
    "plt.ylabel(\"Count\")\n",
    "plt.title(\"Cardio Condition by Cholesterol Status\")\n",
    "plt.legend(title=\"Cardio\")\n",
    "plt.tight_layout()\n",
    "plt.show()"
   ]
  },
  {
   "cell_type": "markdown",
   "id": "243cd36c",
   "metadata": {},
   "source": [
    "From the plot, we observe that individuals with **normal cholesterol levels** are at a **lower risk** of developing cardiovascular disease. In contrast, those with **well above normal** cholesterol levels face the **highest risk**, followed by those with **above normal** levels. This suggests a strong positive correlation between elevated cholesterol and cardiovascular risk.\n",
    "\n"
   ]
  },
  {
   "cell_type": "markdown",
   "id": "a354d8e6",
   "metadata": {},
   "source": [
    "### *Cardio Condition By Physical Activity*"
   ]
  },
  {
   "cell_type": "code",
   "execution_count": 447,
   "id": "6d9e59eb",
   "metadata": {},
   "outputs": [
    {
     "data": {
      "image/png": "[encoded data removed]",
      "text/plain": [
       "<Figure size 1500x700 with 1 Axes>"
      ]
     },
     "metadata": {},
     "output_type": "display_data"
    }
   ],
   "source": [
    "# plotting bar graph of physical activity vs cardio condition\n",
    "grouped_phyc = df_clean.groupby([\"active\", \"cardio\"]).size().unstack()\n",
    "ax = grouped_phyc.plot(kind=\"bar\",figsize=(15,7))\n",
    "\n",
    "# Set custom x-axis labels\n",
    "ax.set_xticklabels([\"Not active\", \"active\"], rotation=0)\n",
    "plt.xlabel(\"Physical Status\")\n",
    "plt.ylabel(\"Count\")\n",
    "plt.title(\"Cardio Condition by Physical Status\")\n",
    "plt.legend(title=\"Cardio\")\n",
    "plt.tight_layout()\n",
    "plt.show()"
   ]
  },
  {
   "cell_type": "markdown",
   "id": "4d07530b",
   "metadata": {},
   "source": [
    "From the plot, we observe that individuals who are **not physically active** have a **higher risk** of developing cardiovascular disease, while those who engage in **regular physical activity** show a **lower risk**. This highlights the potential protective effect of physical activity on heart health.\n"
   ]
  },
  {
   "cell_type": "markdown",
   "id": "8b0413be",
   "metadata": {},
   "source": [
    "### *Cardio Condition By Glucose Level*"
   ]
  },
  {
   "cell_type": "code",
   "execution_count": 448,
   "id": "19732f49",
   "metadata": {},
   "outputs": [
    {
     "data": {
      "image/png": "[encoded data removed]",
      "text/plain": [
       "<Figure size 1500x700 with 1 Axes>"
      ]
     },
     "metadata": {},
     "output_type": "display_data"
    }
   ],
   "source": [
    "# plotting bar graph of glucose vs cardio\n",
    "grouped_gluc = df_clean.groupby([\"gluc\", \"cardio\"]).size().unstack()\n",
    "ax = grouped_gluc.plot(kind=\"bar\",figsize=(15,7))\n",
    "\n",
    "# Set custom x-axis labels\n",
    "ax.set_xticklabels([\"Normal\", \"above normal\",\"well above normal\"], rotation=0)\n",
    "plt.xlabel(\"Glucose Status\")\n",
    "plt.ylabel(\"Count\")\n",
    "plt.title(\"Cardio Condition by Glucose Status\")\n",
    "plt.legend(title=\"Cardio\")\n",
    "plt.tight_layout()\n",
    "plt.show()"
   ]
  },
  {
   "cell_type": "markdown",
   "id": "412172a2",
   "metadata": {},
   "source": [
    "The plot indicates that individuals with **well above normal glucose levels** face the **highest risk** of developing cardiovascular disease, followed by those with **above normal** glucose levels. In contrast, those with **normal glucose levels** are at a **lower risk**, suggesting a clear association between elevated glucose levels and cardiovascular risk.\n",
    "\n"
   ]
  },
  {
   "cell_type": "markdown",
   "id": "d78c5f06",
   "metadata": {},
   "source": [
    "### *Cardio Condition By Gender*"
   ]
  },
  {
   "cell_type": "code",
   "execution_count": 449,
   "id": "99dadcf4",
   "metadata": {},
   "outputs": [
    {
     "data": {
      "image/png": "[encoded data removed]",
      "text/plain": [
       "<Figure size 1500x700 with 1 Axes>"
      ]
     },
     "metadata": {},
     "output_type": "display_data"
    }
   ],
   "source": [
    "# plotting bar graph of smokers vs cardio\n",
    "grouped_gender = df_clean.groupby([\"gender\", \"cardio\"]).size().unstack()\n",
    "ax = grouped_gender.plot(kind=\"bar\",figsize=(15,7))\n",
    "\n",
    "# Set custom x-axis labels\n",
    "ax.set_xticklabels([\"Women\", \"men\"], rotation=0)\n",
    "plt.xlabel(\"Gender\")\n",
    "plt.ylabel(\"Count\")\n",
    "plt.title(\"Cardio Condition by Gender\")\n",
    "plt.legend(title=\"Cardio\")\n",
    "plt.tight_layout()\n",
    "plt.show()"
   ]
  },
  {
   "cell_type": "markdown",
   "id": "3e13c9c3",
   "metadata": {},
   "source": [
    "The data shows that **men have a slightly higher risk** of developing cardiovascular disease compared to women. This suggests a modest gender-related difference in cardiovascular risk within the dataset.\n"
   ]
  },
  {
   "cell_type": "markdown",
   "id": "f85083c2",
   "metadata": {},
   "source": [
    "### *Cardio Condition By Age Group*"
   ]
  },
  {
   "cell_type": "code",
   "execution_count": 450,
   "id": "474cfc37",
   "metadata": {},
   "outputs": [
    {
     "name": "stderr",
     "output_type": "stream",
     "text": [
      "C:\\Users\\HomePC\\AppData\\Local\\Temp\\ipykernel_18712\\877401528.py:7: FutureWarning: The default of observed=False is deprecated and will be changed to True in a future version of pandas. Pass observed=False to retain current behavior or observed=True to adopt the future default and silence this warning.\n",
      "  grouped_age=df_clean.groupby([\"age_group\",\"cardio\"])[[\"age_group\",\"cardio\"]].size().unstack().copy()\n"
     ]
    },
    {
     "data": {
      "text/plain": [
       "Text(0.5, 1.0, 'Cardio Condition by Age Group')"
      ]
     },
     "execution_count": 450,
     "metadata": {},
     "output_type": "execute_result"
    },
    {
     "data": {
      "image/png": "[encoded data removed]",
      "text/plain": [
       "<Figure size 1500x700 with 1 Axes>"
      ]
     },
     "metadata": {},
     "output_type": "display_data"
    }
   ],
   "source": [
    "\n",
    "# Define bins and labels\n",
    "bins = [0, 29, 39, 49, 59, 69, 120]\n",
    "labels = ['<30', '30-39', '40-49', '50-59', '60-69', '70+']\n",
    "\n",
    "# Create age groups\n",
    "df_clean['age_group'] = pd.cut(df_clean['age'], bins=bins, labels=labels,right=True)\n",
    "grouped_age=df_clean.groupby([\"age_group\",\"cardio\"])[[\"age_group\",\"cardio\"]].size().unstack().copy()\n",
    "ax=grouped_age.plot(kind=\"bar\",figsize=(15,7))\n",
    "ax.set_ylabel(\"counts\")\n",
    "ax.set_xlabel(\"age_group\")\n",
    "ax.set_title(\"Cardio Condition by Age Group\")\n",
    "\n",
    "\n"
   ]
  },
  {
   "cell_type": "markdown",
   "id": "44b73b55",
   "metadata": {},
   "source": [
    "The analysis reveals that individuals **above the age of 50** have a **higher risk** of developing cardiovascular disease, with those **over 60 years old** facing the **highest risk**. Conversely, **younger individuals under 50** have a **lower risk** of developing cardiovascular disease, indicating a clear age-related increase in risk.\n"
   ]
  },
  {
   "cell_type": "code",
   "execution_count": 451,
   "id": "9d04adb9",
   "metadata": {},
   "outputs": [
    {
     "name": "stderr",
     "output_type": "stream",
     "text": [
      "C:\\Users\\HomePC\\AppData\\Local\\Temp\\ipykernel_18712\\1957930940.py:5: FutureWarning: The default of observed=False is deprecated and will be changed to True in a future version of pandas. Pass observed=False to retain current behavior or observed=True to adopt the future default and silence this warning.\n",
      "  grouped_bmi=df_clean.groupby([\"BMI_group\",\"cardio\"]).size().unstack()\n"
     ]
    },
    {
     "data": {
      "text/plain": [
       "Text(0.5, 1.0, 'Cardio Condition by BMI Group')"
      ]
     },
     "execution_count": 451,
     "metadata": {},
     "output_type": "execute_result"
    },
    {
     "data": {
      "image/png": "[encoded data removed]",
      "text/plain": [
       "<Figure size 1500x700 with 1 Axes>"
      ]
     },
     "metadata": {},
     "output_type": "display_data"
    }
   ],
   "source": [
    "# Define Bins and labels\n",
    "bins=[0,18,24.9,29.9,34.9,39.9,204]\n",
    "labels=[\"Underweight\",\"Normal\",\"overweight\",\"obess(class1)\",\"obess(class2)\",\"Extreme obess\"]\n",
    "df_clean[\"BMI_group\"]=pd.cut(df_clean[\"BMI\"],bins=bins,labels=labels,right=True)\n",
    "grouped_bmi=df_clean.groupby([\"BMI_group\",\"cardio\"]).size().unstack()\n",
    "ax=grouped_bmi.plot(kind=\"bar\",figsize=(15,7))\n",
    "ax.set_ylabel(\"counts\")\n",
    "ax.set_xlabel(\"BMI_group\")\n",
    "ax.set_title(\"Cardio Condition by BMI Group\")"
   ]
  },
  {
   "cell_type": "markdown",
   "id": "a5797602",
   "metadata": {},
   "source": [
    "We observe that individuals with **underweight** or **normal weight** classifications tend to have a **lower risk of cardiovascular disease**. In contrast, those categorized as **overweight**, **obese (Class I)**, **obese (Class II)**, and **extremely obese** show a **progressively higher risk**, with the likelihood of cardiovascular disease increasing across these categories.\n",
    "\n",
    "These observations suggest a potential link between **increased body weight** and **greater susceptibility to cardiovascular conditions**, indicating that weight management may be an important factor in reducing cardiovascular risk.\n",
    "\n",
    "\n",
    "\n",
    "\n"
   ]
  },
  {
   "cell_type": "markdown",
   "id": "9c52d1ad",
   "metadata": {},
   "source": [
    "## **Data Preprocessing**"
   ]
  },
  {
   "cell_type": "markdown",
   "id": "ee5137a4",
   "metadata": {},
   "source": [
    "## *Label Encoding the Gender Column*\n"
   ]
  },
  {
   "cell_type": "code",
   "execution_count": 452,
   "id": "2d689b0a",
   "metadata": {},
   "outputs": [
    {
     "data": {
      "application/vnd.microsoft.datawrangler.viewer.v0+json": {
       "columns": [
        {
         "name": "index",
         "rawType": "int64",
         "type": "integer"
        },
        {
         "name": "id",
         "rawType": "float64",
         "type": "float"
        },
        {
         "name": "age",
         "rawType": "int32",
         "type": "integer"
        },
        {
         "name": "gender",
         "rawType": "int64",
         "type": "integer"
        },
        {
         "name": "ap_hi",
         "rawType": "float64",
         "type": "float"
        },
        {
         "name": "ap_lo",
         "rawType": "float64",
         "type": "float"
        },
        {
         "name": "cholesterol",
         "rawType": "object",
         "type": "string"
        },
        {
         "name": "gluc",
         "rawType": "object",
         "type": "string"
        },
        {
         "name": "smoke",
         "rawType": "object",
         "type": "string"
        },
        {
         "name": "alco",
         "rawType": "object",
         "type": "string"
        },
        {
         "name": "active",
         "rawType": "object",
         "type": "string"
        },
        {
         "name": "cardio",
         "rawType": "object",
         "type": "string"
        },
        {
         "name": "BMI",
         "rawType": "float64",
         "type": "float"
        },
        {
         "name": "pulse_pressure",
         "rawType": "float64",
         "type": "float"
        },
        {
         "name": "age_group",
         "rawType": "category",
         "type": "unknown"
        },
        {
         "name": "BMI_group",
         "rawType": "category",
         "type": "unknown"
        }
       ],
       "ref": "b7c1e9ce-dbba-48a5-9cf1-7b7bde68e6f0",
       "rows": [
        [
         "15705",
         "22434.0",
         "63",
         "1",
         "14.0",
         "110.0",
         "2",
         "1",
         "0",
         "1",
         "1",
         "1",
         "31.88775510204082",
         "-96.0",
         "60-69",
         "obess(class1)"
        ],
        [
         "7629",
         "10888.0",
         "61",
         "0",
         "140.0",
         "90.0",
         "1",
         "1",
         "0",
         "0",
         "0",
         "1",
         "21.484374999999996",
         "50.0",
         "60-69",
         "Normal"
        ],
        [
         "50121",
         "71529.0",
         "59",
         "1",
         "120.0",
         "80.0",
         "1",
         "3",
         "0",
         "0",
         "1",
         "0",
         "24.725182932941294",
         "40.0",
         "50-59",
         "Normal"
        ],
        [
         "12076",
         "17247.0",
         "51",
         "0",
         "120.0",
         "70.0",
         "1",
         "1",
         "0",
         "0",
         "0",
         "0",
         "23.87543252595156",
         "50.0",
         "50-59",
         "Normal"
        ],
        [
         "245",
         "337.0",
         "47",
         "1",
         "150.0",
         "100.0",
         "3",
         "1",
         "1",
         "0",
         "0",
         "1",
         "25.14860539551897",
         "50.0",
         "40-49",
         "overweight"
        ]
       ],
       "shape": {
        "columns": 15,
        "rows": 5
       }
      },
      "text/html": [
       "<div>\n",
       "<style scoped>\n",
       "    .dataframe tbody tr th:only-of-type {\n",
       "        vertical-align: middle;\n",
       "    }\n",
       "\n",
       "    .dataframe tbody tr th {\n",
       "        vertical-align: top;\n",
       "    }\n",
       "\n",
       "    .dataframe thead th {\n",
       "        text-align: right;\n",
       "    }\n",
       "</style>\n",
       "<table border=\"1\" class=\"dataframe\">\n",
       "  <thead>\n",
       "    <tr style=\"text-align: right;\">\n",
       "      <th></th>\n",
       "      <th>id</th>\n",
       "      <th>age</th>\n",
       "      <th>gender</th>\n",
       "      <th>ap_hi</th>\n",
       "      <th>ap_lo</th>\n",
       "      <th>cholesterol</th>\n",
       "      <th>gluc</th>\n",
       "      <th>smoke</th>\n",
       "      <th>alco</th>\n",
       "      <th>active</th>\n",
       "      <th>cardio</th>\n",
       "      <th>BMI</th>\n",
       "      <th>pulse_pressure</th>\n",
       "      <th>age_group</th>\n",
       "      <th>BMI_group</th>\n",
       "    </tr>\n",
       "  </thead>\n",
       "  <tbody>\n",
       "    <tr>\n",
       "      <th>15705</th>\n",
       "      <td>22434.0</td>\n",
       "      <td>63</td>\n",
       "      <td>1</td>\n",
       "      <td>14.0</td>\n",
       "      <td>110.0</td>\n",
       "      <td>2</td>\n",
       "      <td>1</td>\n",
       "      <td>0</td>\n",
       "      <td>1</td>\n",
       "      <td>1</td>\n",
       "      <td>1</td>\n",
       "      <td>31.887755</td>\n",
       "      <td>-96.0</td>\n",
       "      <td>60-69</td>\n",
       "      <td>obess(class1)</td>\n",
       "    </tr>\n",
       "    <tr>\n",
       "      <th>7629</th>\n",
       "      <td>10888.0</td>\n",
       "      <td>61</td>\n",
       "      <td>0</td>\n",
       "      <td>140.0</td>\n",
       "      <td>90.0</td>\n",
       "      <td>1</td>\n",
       "      <td>1</td>\n",
       "      <td>0</td>\n",
       "      <td>0</td>\n",
       "      <td>0</td>\n",
       "      <td>1</td>\n",
       "      <td>21.484375</td>\n",
       "      <td>50.0</td>\n",
       "      <td>60-69</td>\n",
       "      <td>Normal</td>\n",
       "    </tr>\n",
       "    <tr>\n",
       "      <th>50121</th>\n",
       "      <td>71529.0</td>\n",
       "      <td>59</td>\n",
       "      <td>1</td>\n",
       "      <td>120.0</td>\n",
       "      <td>80.0</td>\n",
       "      <td>1</td>\n",
       "      <td>3</td>\n",
       "      <td>0</td>\n",
       "      <td>0</td>\n",
       "      <td>1</td>\n",
       "      <td>0</td>\n",
       "      <td>24.725183</td>\n",
       "      <td>40.0</td>\n",
       "      <td>50-59</td>\n",
       "      <td>Normal</td>\n",
       "    </tr>\n",
       "    <tr>\n",
       "      <th>12076</th>\n",
       "      <td>17247.0</td>\n",
       "      <td>51</td>\n",
       "      <td>0</td>\n",
       "      <td>120.0</td>\n",
       "      <td>70.0</td>\n",
       "      <td>1</td>\n",
       "      <td>1</td>\n",
       "      <td>0</td>\n",
       "      <td>0</td>\n",
       "      <td>0</td>\n",
       "      <td>0</td>\n",
       "      <td>23.875433</td>\n",
       "      <td>50.0</td>\n",
       "      <td>50-59</td>\n",
       "      <td>Normal</td>\n",
       "    </tr>\n",
       "    <tr>\n",
       "      <th>245</th>\n",
       "      <td>337.0</td>\n",
       "      <td>47</td>\n",
       "      <td>1</td>\n",
       "      <td>150.0</td>\n",
       "      <td>100.0</td>\n",
       "      <td>3</td>\n",
       "      <td>1</td>\n",
       "      <td>1</td>\n",
       "      <td>0</td>\n",
       "      <td>0</td>\n",
       "      <td>1</td>\n",
       "      <td>25.148605</td>\n",
       "      <td>50.0</td>\n",
       "      <td>40-49</td>\n",
       "      <td>overweight</td>\n",
       "    </tr>\n",
       "  </tbody>\n",
       "</table>\n",
       "</div>"
      ],
      "text/plain": [
       "0           id  age  gender  ap_hi  ap_lo cholesterol gluc smoke alco active  \\\n",
       "15705  22434.0   63       1   14.0  110.0           2    1     0    1      1   \n",
       "7629   10888.0   61       0  140.0   90.0           1    1     0    0      0   \n",
       "50121  71529.0   59       1  120.0   80.0           1    3     0    0      1   \n",
       "12076  17247.0   51       0  120.0   70.0           1    1     0    0      0   \n",
       "245      337.0   47       1  150.0  100.0           3    1     1    0      0   \n",
       "\n",
       "0     cardio        BMI  pulse_pressure age_group      BMI_group  \n",
       "15705      1  31.887755           -96.0     60-69  obess(class1)  \n",
       "7629       1  21.484375            50.0     60-69         Normal  \n",
       "50121      0  24.725183            40.0     50-59         Normal  \n",
       "12076      0  23.875433            50.0     50-59         Normal  \n",
       "245        1  25.148605            50.0     40-49     overweight  "
      ]
     },
     "execution_count": 452,
     "metadata": {},
     "output_type": "execute_result"
    }
   ],
   "source": [
    "df_preprocess=df_clean.copy()\n",
    "df_preprocess[\"gender\"].replace({\"1\":0,\"2\":1},inplace=True)\n",
    "df_preprocess.sample(5)\n"
   ]
  },
  {
   "cell_type": "markdown",
   "id": "857e6a3f",
   "metadata": {},
   "source": [
    "## *dropping unnecessary columns*\n"
   ]
  },
  {
   "cell_type": "code",
   "execution_count": 453,
   "id": "027195c8",
   "metadata": {},
   "outputs": [],
   "source": [
    "df_preprocess.drop([\"BMI_group\",\"age_group\",\"id\"],axis=1,inplace=True)"
   ]
  },
  {
   "cell_type": "markdown",
   "id": "c683e668",
   "metadata": {},
   "source": [
    "## *defining features and the target*"
   ]
  },
  {
   "cell_type": "code",
   "execution_count": 454,
   "id": "65369994",
   "metadata": {},
   "outputs": [],
   "source": [
    "# defining x and y\n",
    "X=df_preprocess.drop([\"cardio\"],axis=1)\n",
    "y=df_preprocess[\"cardio\"].astype(int)\n",
    "# defining continuous and categorical columns\n",
    "cont_columns=[\"age\",\"ap_hi\",\"ap_lo\",\"BMI\",\"pulse_pressure\"]\n",
    "X_cont=X[cont_columns]\n",
    "X_cat=X.drop(cont_columns,axis=1).astype(int)"
   ]
  },
  {
   "cell_type": "markdown",
   "id": "5cde50b4",
   "metadata": {},
   "source": [
    "## *Normalizing Columns*"
   ]
  },
  {
   "cell_type": "code",
   "execution_count": 455,
   "id": "cd7a85bc",
   "metadata": {},
   "outputs": [
    {
     "data": {
      "application/vnd.microsoft.datawrangler.viewer.v0+json": {
       "columns": [
        {
         "name": "index",
         "rawType": "int64",
         "type": "integer"
        },
        {
         "name": "age",
         "rawType": "float64",
         "type": "float"
        },
        {
         "name": "ap_hi",
         "rawType": "float64",
         "type": "float"
        },
        {
         "name": "ap_lo",
         "rawType": "float64",
         "type": "float"
        },
        {
         "name": "BMI",
         "rawType": "float64",
         "type": "float"
        },
        {
         "name": "pulse_pressure",
         "rawType": "float64",
         "type": "float"
        }
       ],
       "ref": "b639c779-6e98-4799-a1a8-a28b64cbc59f",
       "rows": [
        [
         "17279",
         "0.7142857142857142",
         "0.016697588126159554",
         "0.013550135501355014",
         "0.06625542184274813",
         "0.4053851907255049"
        ],
        [
         "60536",
         "1.0",
         "0.016697588126159554",
         "0.013550135501355014",
         "0.07126533393776024",
         "0.4053851907255049"
        ],
        [
         "26687",
         "0.6285714285714286",
         "0.016697588126159554",
         "0.013550135501355014",
         "0.06255041879919393",
         "0.4053851907255049"
        ],
        [
         "3111",
         "1.0",
         "0.01855287569573284",
         "0.014363143631436315",
         "0.06758848036699477",
         "0.406170531039641"
        ],
        [
         "58099",
         "0.8",
         "0.020408163265306124",
         "0.016260162601626015",
         "0.08280541561899316",
         "0.40650710545998503"
        ]
       ],
       "shape": {
        "columns": 5,
        "rows": 5
       }
      },
      "text/html": [
       "<div>\n",
       "<style scoped>\n",
       "    .dataframe tbody tr th:only-of-type {\n",
       "        vertical-align: middle;\n",
       "    }\n",
       "\n",
       "    .dataframe tbody tr th {\n",
       "        vertical-align: top;\n",
       "    }\n",
       "\n",
       "    .dataframe thead th {\n",
       "        text-align: right;\n",
       "    }\n",
       "</style>\n",
       "<table border=\"1\" class=\"dataframe\">\n",
       "  <thead>\n",
       "    <tr style=\"text-align: right;\">\n",
       "      <th></th>\n",
       "      <th>age</th>\n",
       "      <th>ap_hi</th>\n",
       "      <th>ap_lo</th>\n",
       "      <th>BMI</th>\n",
       "      <th>pulse_pressure</th>\n",
       "    </tr>\n",
       "  </thead>\n",
       "  <tbody>\n",
       "    <tr>\n",
       "      <th>17279</th>\n",
       "      <td>0.714286</td>\n",
       "      <td>0.016698</td>\n",
       "      <td>0.013550</td>\n",
       "      <td>0.066255</td>\n",
       "      <td>0.405385</td>\n",
       "    </tr>\n",
       "    <tr>\n",
       "      <th>60536</th>\n",
       "      <td>1.000000</td>\n",
       "      <td>0.016698</td>\n",
       "      <td>0.013550</td>\n",
       "      <td>0.071265</td>\n",
       "      <td>0.405385</td>\n",
       "    </tr>\n",
       "    <tr>\n",
       "      <th>26687</th>\n",
       "      <td>0.628571</td>\n",
       "      <td>0.016698</td>\n",
       "      <td>0.013550</td>\n",
       "      <td>0.062550</td>\n",
       "      <td>0.405385</td>\n",
       "    </tr>\n",
       "    <tr>\n",
       "      <th>3111</th>\n",
       "      <td>1.000000</td>\n",
       "      <td>0.018553</td>\n",
       "      <td>0.014363</td>\n",
       "      <td>0.067588</td>\n",
       "      <td>0.406171</td>\n",
       "    </tr>\n",
       "    <tr>\n",
       "      <th>58099</th>\n",
       "      <td>0.800000</td>\n",
       "      <td>0.020408</td>\n",
       "      <td>0.016260</td>\n",
       "      <td>0.082805</td>\n",
       "      <td>0.406507</td>\n",
       "    </tr>\n",
       "  </tbody>\n",
       "</table>\n",
       "</div>"
      ],
      "text/plain": [
       "0           age     ap_hi     ap_lo       BMI  pulse_pressure\n",
       "17279  0.714286  0.016698  0.013550  0.066255        0.405385\n",
       "60536  1.000000  0.016698  0.013550  0.071265        0.405385\n",
       "26687  0.628571  0.016698  0.013550  0.062550        0.405385\n",
       "3111   1.000000  0.018553  0.014363  0.067588        0.406171\n",
       "58099  0.800000  0.020408  0.016260  0.082805        0.406507"
      ]
     },
     "execution_count": 455,
     "metadata": {},
     "output_type": "execute_result"
    }
   ],
   "source": [
    "# instatiating the scaler\n",
    "scaler=MinMaxScaler()\n",
    "# scaling and changing the resulting array to a dataframe\n",
    "X_scaled=pd.DataFrame(scaler.fit_transform(X_cont),index=X_cont.index,columns=X_cont.columns)\n",
    "X_scaled.sample(5)\n"
   ]
  },
  {
   "cell_type": "code",
   "execution_count": 456,
   "id": "7c57f956",
   "metadata": {},
   "outputs": [
    {
     "data": {
      "application/vnd.microsoft.datawrangler.viewer.v0+json": {
       "columns": [
        {
         "name": "index",
         "rawType": "int64",
         "type": "integer"
        },
        {
         "name": "age",
         "rawType": "float64",
         "type": "float"
        },
        {
         "name": "ap_hi",
         "rawType": "float64",
         "type": "float"
        },
        {
         "name": "ap_lo",
         "rawType": "float64",
         "type": "float"
        },
        {
         "name": "BMI",
         "rawType": "float64",
         "type": "float"
        },
        {
         "name": "pulse_pressure",
         "rawType": "float64",
         "type": "float"
        },
        {
         "name": "gender",
         "rawType": "int32",
         "type": "integer"
        },
        {
         "name": "cholesterol",
         "rawType": "int32",
         "type": "integer"
        },
        {
         "name": "gluc",
         "rawType": "int32",
         "type": "integer"
        },
        {
         "name": "smoke",
         "rawType": "int32",
         "type": "integer"
        },
        {
         "name": "alco",
         "rawType": "int32",
         "type": "integer"
        },
        {
         "name": "active",
         "rawType": "int32",
         "type": "integer"
        }
       ],
       "ref": "8b74ffd1-3a64-4754-adab-56e465748d54",
       "rows": [
        [
         "52215",
         "0.6000000000000001",
         "0.016697588126159554",
         "0.013550135501355014",
         "0.07284069887032593",
         "0.4053851907255049",
         "0",
         "1",
         "1",
         "0",
         "0",
         "1"
        ],
        [
         "12644",
         "0.5428571428571429",
         "0.016697588126159554",
         "0.012646793134598013",
         "0.13022390754103955",
         "0.40575916230366493",
         "0",
         "1",
         "1",
         "0",
         "0",
         "1"
        ],
        [
         "23294",
         "0.5714285714285714",
         "0.01855287569573284",
         "0.012646793134598013",
         "0.08846364375665478",
         "0.40688107703814513",
         "1",
         "1",
         "1",
         "0",
         "0",
         "1"
        ],
        [
         "6383",
         "0.7714285714285714",
         "0.016079158936301796",
         "0.012646793134598013",
         "0.06289669878849594",
         "0.4053851907255049",
         "0",
         "1",
         "1",
         "0",
         "0",
         "1"
        ],
        [
         "69293",
         "0.9428571428571428",
         "0.017934446505875078",
         "0.014453477868112016",
         "0.09131396092128008",
         "0.40575916230366493",
         "1",
         "1",
         "1",
         "0",
         "0",
         "1"
        ]
       ],
       "shape": {
        "columns": 11,
        "rows": 5
       }
      },
      "text/html": [
       "<div>\n",
       "<style scoped>\n",
       "    .dataframe tbody tr th:only-of-type {\n",
       "        vertical-align: middle;\n",
       "    }\n",
       "\n",
       "    .dataframe tbody tr th {\n",
       "        vertical-align: top;\n",
       "    }\n",
       "\n",
       "    .dataframe thead th {\n",
       "        text-align: right;\n",
       "    }\n",
       "</style>\n",
       "<table border=\"1\" class=\"dataframe\">\n",
       "  <thead>\n",
       "    <tr style=\"text-align: right;\">\n",
       "      <th></th>\n",
       "      <th>age</th>\n",
       "      <th>ap_hi</th>\n",
       "      <th>ap_lo</th>\n",
       "      <th>BMI</th>\n",
       "      <th>pulse_pressure</th>\n",
       "      <th>gender</th>\n",
       "      <th>cholesterol</th>\n",
       "      <th>gluc</th>\n",
       "      <th>smoke</th>\n",
       "      <th>alco</th>\n",
       "      <th>active</th>\n",
       "    </tr>\n",
       "  </thead>\n",
       "  <tbody>\n",
       "    <tr>\n",
       "      <th>52215</th>\n",
       "      <td>0.600000</td>\n",
       "      <td>0.016698</td>\n",
       "      <td>0.013550</td>\n",
       "      <td>0.072841</td>\n",
       "      <td>0.405385</td>\n",
       "      <td>0</td>\n",
       "      <td>1</td>\n",
       "      <td>1</td>\n",
       "      <td>0</td>\n",
       "      <td>0</td>\n",
       "      <td>1</td>\n",
       "    </tr>\n",
       "    <tr>\n",
       "      <th>12644</th>\n",
       "      <td>0.542857</td>\n",
       "      <td>0.016698</td>\n",
       "      <td>0.012647</td>\n",
       "      <td>0.130224</td>\n",
       "      <td>0.405759</td>\n",
       "      <td>0</td>\n",
       "      <td>1</td>\n",
       "      <td>1</td>\n",
       "      <td>0</td>\n",
       "      <td>0</td>\n",
       "      <td>1</td>\n",
       "    </tr>\n",
       "    <tr>\n",
       "      <th>23294</th>\n",
       "      <td>0.571429</td>\n",
       "      <td>0.018553</td>\n",
       "      <td>0.012647</td>\n",
       "      <td>0.088464</td>\n",
       "      <td>0.406881</td>\n",
       "      <td>1</td>\n",
       "      <td>1</td>\n",
       "      <td>1</td>\n",
       "      <td>0</td>\n",
       "      <td>0</td>\n",
       "      <td>1</td>\n",
       "    </tr>\n",
       "    <tr>\n",
       "      <th>6383</th>\n",
       "      <td>0.771429</td>\n",
       "      <td>0.016079</td>\n",
       "      <td>0.012647</td>\n",
       "      <td>0.062897</td>\n",
       "      <td>0.405385</td>\n",
       "      <td>0</td>\n",
       "      <td>1</td>\n",
       "      <td>1</td>\n",
       "      <td>0</td>\n",
       "      <td>0</td>\n",
       "      <td>1</td>\n",
       "    </tr>\n",
       "    <tr>\n",
       "      <th>69293</th>\n",
       "      <td>0.942857</td>\n",
       "      <td>0.017934</td>\n",
       "      <td>0.014453</td>\n",
       "      <td>0.091314</td>\n",
       "      <td>0.405759</td>\n",
       "      <td>1</td>\n",
       "      <td>1</td>\n",
       "      <td>1</td>\n",
       "      <td>0</td>\n",
       "      <td>0</td>\n",
       "      <td>1</td>\n",
       "    </tr>\n",
       "  </tbody>\n",
       "</table>\n",
       "</div>"
      ],
      "text/plain": [
       "0           age     ap_hi     ap_lo       BMI  pulse_pressure  gender  \\\n",
       "52215  0.600000  0.016698  0.013550  0.072841        0.405385       0   \n",
       "12644  0.542857  0.016698  0.012647  0.130224        0.405759       0   \n",
       "23294  0.571429  0.018553  0.012647  0.088464        0.406881       1   \n",
       "6383   0.771429  0.016079  0.012647  0.062897        0.405385       0   \n",
       "69293  0.942857  0.017934  0.014453  0.091314        0.405759       1   \n",
       "\n",
       "0      cholesterol  gluc  smoke  alco  active  \n",
       "52215            1     1      0     0       1  \n",
       "12644            1     1      0     0       1  \n",
       "23294            1     1      0     0       1  \n",
       "6383             1     1      0     0       1  \n",
       "69293            1     1      0     0       1  "
      ]
     },
     "execution_count": 456,
     "metadata": {},
     "output_type": "execute_result"
    }
   ],
   "source": [
    "# adding normalized columns to the rest of the columns\n",
    "X=pd.concat([X_scaled,X_cat],axis=1)\n",
    "X.sample(5)\n"
   ]
  },
  {
   "cell_type": "markdown",
   "id": "37c32219",
   "metadata": {},
   "source": [
    "## **Modelling**"
   ]
  },
  {
   "cell_type": "markdown",
   "id": "ae13475c",
   "metadata": {},
   "source": [
    "## *baseline logistic regression model*"
   ]
  },
  {
   "cell_type": "markdown",
   "id": "f3a8e952",
   "metadata": {},
   "source": [
    "We use the baseline model as an inferential tool to assess the overall significance of the model, as well as the statistical significance and impact of individual features.\n",
    "\n"
   ]
  },
  {
   "cell_type": "code",
   "execution_count": 457,
   "id": "4442fdec",
   "metadata": {},
   "outputs": [
    {
     "name": "stdout",
     "output_type": "stream",
     "text": [
      "Optimization terminated successfully.\n",
      "         Current function value: 0.593036\n",
      "         Iterations 9\n"
     ]
    },
    {
     "data": {
      "text/html": [
       "<table class=\"simpletable\">\n",
       "<caption>Logit Regression Results</caption>\n",
       "<tr>\n",
       "  <th>Dep. Variable:</th>        <td>cardio</td>      <th>  No. Observations:  </th>  <td> 70000</td> \n",
       "</tr>\n",
       "<tr>\n",
       "  <th>Model:</th>                 <td>Logit</td>      <th>  Df Residuals:      </th>  <td> 69989</td> \n",
       "</tr>\n",
       "<tr>\n",
       "  <th>Method:</th>                 <td>MLE</td>       <th>  Df Model:          </th>  <td>    10</td> \n",
       "</tr>\n",
       "<tr>\n",
       "  <th>Date:</th>            <td>Sat, 24 May 2025</td> <th>  Pseudo R-squ.:     </th>  <td>0.1444</td> \n",
       "</tr>\n",
       "<tr>\n",
       "  <th>Time:</th>                <td>17:50:02</td>     <th>  Log-Likelihood:    </th> <td> -41512.</td>\n",
       "</tr>\n",
       "<tr>\n",
       "  <th>converged:</th>             <td>True</td>       <th>  LL-Null:           </th> <td> -48520.</td>\n",
       "</tr>\n",
       "<tr>\n",
       "  <th>Covariance Type:</th>     <td>nonrobust</td>    <th>  LLR p-value:       </th>  <td> 0.000</td> \n",
       "</tr>\n",
       "</table>\n",
       "<table class=\"simpletable\">\n",
       "<tr>\n",
       "         <td></td>           <th>coef</th>     <th>std err</th>      <th>z</th>      <th>P>|z|</th>  <th>[0.025</th>    <th>0.975]</th>  \n",
       "</tr>\n",
       "<tr>\n",
       "  <th>const</th>          <td> -104.6441</td> <td>      nan</td> <td>      nan</td> <td>   nan</td> <td>      nan</td> <td>      nan</td>\n",
       "</tr>\n",
       "<tr>\n",
       "  <th>age</th>            <td>    1.8758</td> <td>    0.045</td> <td>   41.564</td> <td> 0.000</td> <td>    1.787</td> <td>    1.964</td>\n",
       "</tr>\n",
       "<tr>\n",
       "  <th>ap_hi</th>          <td>  511.5108</td> <td>      nan</td> <td>      nan</td> <td>   nan</td> <td>      nan</td> <td>      nan</td>\n",
       "</tr>\n",
       "<tr>\n",
       "  <th>ap_lo</th>          <td>   97.3265</td> <td>      nan</td> <td>      nan</td> <td>   nan</td> <td>      nan</td> <td>      nan</td>\n",
       "</tr>\n",
       "<tr>\n",
       "  <th>BMI</th>            <td>    9.6818</td> <td>    0.494</td> <td>   19.604</td> <td> 0.000</td> <td>    8.714</td> <td>   10.650</td>\n",
       "</tr>\n",
       "<tr>\n",
       "  <th>pulse_pressure</th> <td>  227.0732</td> <td>      nan</td> <td>      nan</td> <td>   nan</td> <td>      nan</td> <td>      nan</td>\n",
       "</tr>\n",
       "<tr>\n",
       "  <th>gender</th>         <td>    0.0739</td> <td>    0.019</td> <td>    3.934</td> <td> 0.000</td> <td>    0.037</td> <td>    0.111</td>\n",
       "</tr>\n",
       "<tr>\n",
       "  <th>cholesterol</th>    <td>    0.5256</td> <td>    0.015</td> <td>   35.122</td> <td> 0.000</td> <td>    0.496</td> <td>    0.555</td>\n",
       "</tr>\n",
       "<tr>\n",
       "  <th>gluc</th>           <td>   -0.1134</td> <td>    0.017</td> <td>   -6.680</td> <td> 0.000</td> <td>   -0.147</td> <td>   -0.080</td>\n",
       "</tr>\n",
       "<tr>\n",
       "  <th>smoke</th>          <td>   -0.1270</td> <td>    0.033</td> <td>   -3.837</td> <td> 0.000</td> <td>   -0.192</td> <td>   -0.062</td>\n",
       "</tr>\n",
       "<tr>\n",
       "  <th>alco</th>           <td>   -0.1619</td> <td>    0.040</td> <td>   -4.035</td> <td> 0.000</td> <td>   -0.241</td> <td>   -0.083</td>\n",
       "</tr>\n",
       "<tr>\n",
       "  <th>active</th>         <td>   -0.2112</td> <td>    0.021</td> <td>  -10.049</td> <td> 0.000</td> <td>   -0.252</td> <td>   -0.170</td>\n",
       "</tr>\n",
       "</table>"
      ],
      "text/latex": [
       "\\begin{center}\n",
       "\\begin{tabular}{lclc}\n",
       "\\toprule\n",
       "\\textbf{Dep. Variable:}   &      cardio      & \\textbf{  No. Observations:  } &    70000    \\\\\n",
       "\\textbf{Model:}           &      Logit       & \\textbf{  Df Residuals:      } &    69989    \\\\\n",
       "\\textbf{Method:}          &       MLE        & \\textbf{  Df Model:          } &       10    \\\\\n",
       "\\textbf{Date:}            & Sat, 24 May 2025 & \\textbf{  Pseudo R-squ.:     } &   0.1444    \\\\\n",
       "\\textbf{Time:}            &     17:50:02     & \\textbf{  Log-Likelihood:    } &   -41512.   \\\\\n",
       "\\textbf{converged:}       &       True       & \\textbf{  LL-Null:           } &   -48520.   \\\\\n",
       "\\textbf{Covariance Type:} &    nonrobust     & \\textbf{  LLR p-value:       } &    0.000    \\\\\n",
       "\\bottomrule\n",
       "\\end{tabular}\n",
       "\\begin{tabular}{lcccccc}\n",
       "                         & \\textbf{coef} & \\textbf{std err} & \\textbf{z} & \\textbf{P$> |$z$|$} & \\textbf{[0.025} & \\textbf{0.975]}  \\\\\n",
       "\\midrule\n",
       "\\textbf{const}           &    -104.6441  &          nan     &       nan  &           nan        &          nan    &          nan     \\\\\n",
       "\\textbf{age}             &       1.8758  &        0.045     &    41.564  &         0.000        &        1.787    &        1.964     \\\\\n",
       "\\textbf{ap\\_hi}          &     511.5108  &          nan     &       nan  &           nan        &          nan    &          nan     \\\\\n",
       "\\textbf{ap\\_lo}          &      97.3265  &          nan     &       nan  &           nan        &          nan    &          nan     \\\\\n",
       "\\textbf{BMI}             &       9.6818  &        0.494     &    19.604  &         0.000        &        8.714    &       10.650     \\\\\n",
       "\\textbf{pulse\\_pressure} &     227.0732  &          nan     &       nan  &           nan        &          nan    &          nan     \\\\\n",
       "\\textbf{gender}          &       0.0739  &        0.019     &     3.934  &         0.000        &        0.037    &        0.111     \\\\\n",
       "\\textbf{cholesterol}     &       0.5256  &        0.015     &    35.122  &         0.000        &        0.496    &        0.555     \\\\\n",
       "\\textbf{gluc}            &      -0.1134  &        0.017     &    -6.680  &         0.000        &       -0.147    &       -0.080     \\\\\n",
       "\\textbf{smoke}           &      -0.1270  &        0.033     &    -3.837  &         0.000        &       -0.192    &       -0.062     \\\\\n",
       "\\textbf{alco}            &      -0.1619  &        0.040     &    -4.035  &         0.000        &       -0.241    &       -0.083     \\\\\n",
       "\\textbf{active}          &      -0.2112  &        0.021     &   -10.049  &         0.000        &       -0.252    &       -0.170     \\\\\n",
       "\\bottomrule\n",
       "\\end{tabular}\n",
       "%\\caption{Logit Regression Results}\n",
       "\\end{center}"
      ],
      "text/plain": [
       "<class 'statsmodels.iolib.summary.Summary'>\n",
       "\"\"\"\n",
       "                           Logit Regression Results                           \n",
       "==============================================================================\n",
       "Dep. Variable:                 cardio   No. Observations:                70000\n",
       "Model:                          Logit   Df Residuals:                    69989\n",
       "Method:                           MLE   Df Model:                           10\n",
       "Date:                Sat, 24 May 2025   Pseudo R-squ.:                  0.1444\n",
       "Time:                        17:50:02   Log-Likelihood:                -41512.\n",
       "converged:                       True   LL-Null:                       -48520.\n",
       "Covariance Type:            nonrobust   LLR p-value:                     0.000\n",
       "==================================================================================\n",
       "                     coef    std err          z      P>|z|      [0.025      0.975]\n",
       "----------------------------------------------------------------------------------\n",
       "const           -104.6441        nan        nan        nan         nan         nan\n",
       "age                1.8758      0.045     41.564      0.000       1.787       1.964\n",
       "ap_hi            511.5108        nan        nan        nan         nan         nan\n",
       "ap_lo             97.3265        nan        nan        nan         nan         nan\n",
       "BMI                9.6818      0.494     19.604      0.000       8.714      10.650\n",
       "pulse_pressure   227.0732        nan        nan        nan         nan         nan\n",
       "gender             0.0739      0.019      3.934      0.000       0.037       0.111\n",
       "cholesterol        0.5256      0.015     35.122      0.000       0.496       0.555\n",
       "gluc              -0.1134      0.017     -6.680      0.000      -0.147      -0.080\n",
       "smoke             -0.1270      0.033     -3.837      0.000      -0.192      -0.062\n",
       "alco              -0.1619      0.040     -4.035      0.000      -0.241      -0.083\n",
       "active            -0.2112      0.021    -10.049      0.000      -0.252      -0.170\n",
       "==================================================================================\n",
       "\"\"\""
      ]
     },
     "execution_count": 457,
     "metadata": {},
     "output_type": "execute_result"
    }
   ],
   "source": [
    "#fitting a logistic reg model\n",
    "model=sm.Logit(y,sm.add_constant(X))\n",
    "results=model.fit(maxiter=200)\n",
    "# viewing the model summary\n",
    "results.summary()"
   ]
  },
  {
   "cell_type": "markdown",
   "id": "73053392",
   "metadata": {},
   "source": [
    "Based on the presence of NaN p-values, this indicates potential multicollinearity in the model. Therefore, it is important to address and resolve multicollinearity before interpreting the results further.\n",
    "\n",
    "We will do so by dropping the `pulse_pressure` column"
   ]
  },
  {
   "cell_type": "code",
   "execution_count": 458,
   "id": "cab4e436",
   "metadata": {},
   "outputs": [],
   "source": [
    "# dropping the pulse pressure column\n",
    "X=X.drop(\"pulse_pressure\",axis=1)"
   ]
  },
  {
   "cell_type": "markdown",
   "id": "65f46a11",
   "metadata": {},
   "source": [
    "After fixing mutlticollinearity we model with the remaining column to see the perfomance of the model"
   ]
  },
  {
   "cell_type": "code",
   "execution_count": 459,
   "id": "fc6386c4",
   "metadata": {},
   "outputs": [
    {
     "name": "stdout",
     "output_type": "stream",
     "text": [
      "Optimization terminated successfully.\n",
      "         Current function value: 0.593036\n",
      "         Iterations 8\n"
     ]
    },
    {
     "data": {
      "text/html": [
       "<table class=\"simpletable\">\n",
       "<caption>Logit Regression Results</caption>\n",
       "<tr>\n",
       "  <th>Dep. Variable:</th>        <td>cardio</td>      <th>  No. Observations:  </th>  <td> 70000</td> \n",
       "</tr>\n",
       "<tr>\n",
       "  <th>Model:</th>                 <td>Logit</td>      <th>  Df Residuals:      </th>  <td> 69989</td> \n",
       "</tr>\n",
       "<tr>\n",
       "  <th>Method:</th>                 <td>MLE</td>       <th>  Df Model:          </th>  <td>    10</td> \n",
       "</tr>\n",
       "<tr>\n",
       "  <th>Date:</th>            <td>Sat, 24 May 2025</td> <th>  Pseudo R-squ.:     </th>  <td>0.1444</td> \n",
       "</tr>\n",
       "<tr>\n",
       "  <th>Time:</th>                <td>17:50:02</td>     <th>  Log-Likelihood:    </th> <td> -41512.</td>\n",
       "</tr>\n",
       "<tr>\n",
       "  <th>converged:</th>             <td>True</td>       <th>  LL-Null:           </th> <td> -48520.</td>\n",
       "</tr>\n",
       "<tr>\n",
       "  <th>Covariance Type:</th>     <td>nonrobust</td>    <th>  LLR p-value:       </th>  <td> 0.000</td> \n",
       "</tr>\n",
       "</table>\n",
       "<table class=\"simpletable\">\n",
       "<tr>\n",
       "       <td></td>          <th>coef</th>     <th>std err</th>      <th>z</th>      <th>P>|z|</th>  <th>[0.025</th>    <th>0.975]</th>  \n",
       "</tr>\n",
       "<tr>\n",
       "  <th>const</th>       <td>  -13.6110</td> <td>    0.163</td> <td>  -83.426</td> <td> 0.000</td> <td>  -13.931</td> <td>  -13.291</td>\n",
       "</tr>\n",
       "<tr>\n",
       "  <th>age</th>         <td>    1.8758</td> <td>    0.045</td> <td>   41.564</td> <td> 0.000</td> <td>    1.787</td> <td>    1.964</td>\n",
       "</tr>\n",
       "<tr>\n",
       "  <th>ap_hi</th>       <td>  648.8247</td> <td>    9.775</td> <td>   66.379</td> <td> 0.000</td> <td>  629.667</td> <td>  667.983</td>\n",
       "</tr>\n",
       "<tr>\n",
       "  <th>ap_lo</th>       <td>    3.3212</td> <td>    0.747</td> <td>    4.447</td> <td> 0.000</td> <td>    1.857</td> <td>    4.785</td>\n",
       "</tr>\n",
       "<tr>\n",
       "  <th>BMI</th>         <td>    9.6818</td> <td>    0.494</td> <td>   19.604</td> <td> 0.000</td> <td>    8.714</td> <td>   10.650</td>\n",
       "</tr>\n",
       "<tr>\n",
       "  <th>gender</th>      <td>    0.0739</td> <td>    0.019</td> <td>    3.934</td> <td> 0.000</td> <td>    0.037</td> <td>    0.111</td>\n",
       "</tr>\n",
       "<tr>\n",
       "  <th>cholesterol</th> <td>    0.5256</td> <td>    0.015</td> <td>   35.122</td> <td> 0.000</td> <td>    0.496</td> <td>    0.555</td>\n",
       "</tr>\n",
       "<tr>\n",
       "  <th>gluc</th>        <td>   -0.1134</td> <td>    0.017</td> <td>   -6.680</td> <td> 0.000</td> <td>   -0.147</td> <td>   -0.080</td>\n",
       "</tr>\n",
       "<tr>\n",
       "  <th>smoke</th>       <td>   -0.1270</td> <td>    0.033</td> <td>   -3.837</td> <td> 0.000</td> <td>   -0.192</td> <td>   -0.062</td>\n",
       "</tr>\n",
       "<tr>\n",
       "  <th>alco</th>        <td>   -0.1619</td> <td>    0.040</td> <td>   -4.035</td> <td> 0.000</td> <td>   -0.241</td> <td>   -0.083</td>\n",
       "</tr>\n",
       "<tr>\n",
       "  <th>active</th>      <td>   -0.2112</td> <td>    0.021</td> <td>  -10.049</td> <td> 0.000</td> <td>   -0.252</td> <td>   -0.170</td>\n",
       "</tr>\n",
       "</table>"
      ],
      "text/latex": [
       "\\begin{center}\n",
       "\\begin{tabular}{lclc}\n",
       "\\toprule\n",
       "\\textbf{Dep. Variable:}   &      cardio      & \\textbf{  No. Observations:  } &    70000    \\\\\n",
       "\\textbf{Model:}           &      Logit       & \\textbf{  Df Residuals:      } &    69989    \\\\\n",
       "\\textbf{Method:}          &       MLE        & \\textbf{  Df Model:          } &       10    \\\\\n",
       "\\textbf{Date:}            & Sat, 24 May 2025 & \\textbf{  Pseudo R-squ.:     } &   0.1444    \\\\\n",
       "\\textbf{Time:}            &     17:50:02     & \\textbf{  Log-Likelihood:    } &   -41512.   \\\\\n",
       "\\textbf{converged:}       &       True       & \\textbf{  LL-Null:           } &   -48520.   \\\\\n",
       "\\textbf{Covariance Type:} &    nonrobust     & \\textbf{  LLR p-value:       } &    0.000    \\\\\n",
       "\\bottomrule\n",
       "\\end{tabular}\n",
       "\\begin{tabular}{lcccccc}\n",
       "                     & \\textbf{coef} & \\textbf{std err} & \\textbf{z} & \\textbf{P$> |$z$|$} & \\textbf{[0.025} & \\textbf{0.975]}  \\\\\n",
       "\\midrule\n",
       "\\textbf{const}       &     -13.6110  &        0.163     &   -83.426  &         0.000        &      -13.931    &      -13.291     \\\\\n",
       "\\textbf{age}         &       1.8758  &        0.045     &    41.564  &         0.000        &        1.787    &        1.964     \\\\\n",
       "\\textbf{ap\\_hi}      &     648.8247  &        9.775     &    66.379  &         0.000        &      629.667    &      667.983     \\\\\n",
       "\\textbf{ap\\_lo}      &       3.3212  &        0.747     &     4.447  &         0.000        &        1.857    &        4.785     \\\\\n",
       "\\textbf{BMI}         &       9.6818  &        0.494     &    19.604  &         0.000        &        8.714    &       10.650     \\\\\n",
       "\\textbf{gender}      &       0.0739  &        0.019     &     3.934  &         0.000        &        0.037    &        0.111     \\\\\n",
       "\\textbf{cholesterol} &       0.5256  &        0.015     &    35.122  &         0.000        &        0.496    &        0.555     \\\\\n",
       "\\textbf{gluc}        &      -0.1134  &        0.017     &    -6.680  &         0.000        &       -0.147    &       -0.080     \\\\\n",
       "\\textbf{smoke}       &      -0.1270  &        0.033     &    -3.837  &         0.000        &       -0.192    &       -0.062     \\\\\n",
       "\\textbf{alco}        &      -0.1619  &        0.040     &    -4.035  &         0.000        &       -0.241    &       -0.083     \\\\\n",
       "\\textbf{active}      &      -0.2112  &        0.021     &   -10.049  &         0.000        &       -0.252    &       -0.170     \\\\\n",
       "\\bottomrule\n",
       "\\end{tabular}\n",
       "%\\caption{Logit Regression Results}\n",
       "\\end{center}"
      ],
      "text/plain": [
       "<class 'statsmodels.iolib.summary.Summary'>\n",
       "\"\"\"\n",
       "                           Logit Regression Results                           \n",
       "==============================================================================\n",
       "Dep. Variable:                 cardio   No. Observations:                70000\n",
       "Model:                          Logit   Df Residuals:                    69989\n",
       "Method:                           MLE   Df Model:                           10\n",
       "Date:                Sat, 24 May 2025   Pseudo R-squ.:                  0.1444\n",
       "Time:                        17:50:02   Log-Likelihood:                -41512.\n",
       "converged:                       True   LL-Null:                       -48520.\n",
       "Covariance Type:            nonrobust   LLR p-value:                     0.000\n",
       "===============================================================================\n",
       "                  coef    std err          z      P>|z|      [0.025      0.975]\n",
       "-------------------------------------------------------------------------------\n",
       "const         -13.6110      0.163    -83.426      0.000     -13.931     -13.291\n",
       "age             1.8758      0.045     41.564      0.000       1.787       1.964\n",
       "ap_hi         648.8247      9.775     66.379      0.000     629.667     667.983\n",
       "ap_lo           3.3212      0.747      4.447      0.000       1.857       4.785\n",
       "BMI             9.6818      0.494     19.604      0.000       8.714      10.650\n",
       "gender          0.0739      0.019      3.934      0.000       0.037       0.111\n",
       "cholesterol     0.5256      0.015     35.122      0.000       0.496       0.555\n",
       "gluc           -0.1134      0.017     -6.680      0.000      -0.147      -0.080\n",
       "smoke          -0.1270      0.033     -3.837      0.000      -0.192      -0.062\n",
       "alco           -0.1619      0.040     -4.035      0.000      -0.241      -0.083\n",
       "active         -0.2112      0.021    -10.049      0.000      -0.252      -0.170\n",
       "===============================================================================\n",
       "\"\"\""
      ]
     },
     "execution_count": 459,
     "metadata": {},
     "output_type": "execute_result"
    }
   ],
   "source": [
    "# fitting an improved logreg model\n",
    "model1=sm.Logit(y,sm.add_constant(X))\n",
    "results1=model1.fit(maxiter=1e12)\n",
    "# printing model summary\n",
    "results1.summary()"
   ]
  },
  {
   "cell_type": "markdown",
   "id": "0ca72d91",
   "metadata": {},
   "source": [
    "Based on the logistic regression results, the model is statistically significant, as indicated by the log-likelihood ratio p-value being well below the 0.05 threshold. This suggests that the model provides a better fit than a null model with no predictors.\n",
    "\n",
    "Several features show strong and statistically significant associations with cardiovascular risk (CVR). Age, systolic blood pressure (ap_hi), diastolic blood pressure (ap_lo), BMI, cholesterol, and gender all have positive coefficients, meaning that increases in these features are associated with a higher likelihood of CVR. Notably, systolic blood pressure and BMI exhibit the strongest positive effects.\n",
    "\n",
    "On the other hand, physical activity, alcohol use, smoking status, and glucose levels show negative associations with CVR. While the protective effect of physical activity aligns with expectations, the negative coefficients for glucose, smoking, and alcohol are counterintuitive. These may indicate issues such as class imbalance, multicollinearity, or data quality concerns, and should be further investigated.\n",
    "\n",
    "Overall, the model demonstrates statistical significance and highlights several meaningful predictors of CVR, though some unexpected findings warrant additional analysis."
   ]
  },
  {
   "cell_type": "markdown",
   "id": "7a6ec679",
   "metadata": {},
   "source": [
    "## *Train-test-split*"
   ]
  },
  {
   "cell_type": "markdown",
   "id": "d9caa585",
   "metadata": {},
   "source": [
    "Here, we split the data into a training set and a testing set. The training set is used to train the model, while the testing set is reserved to evaluate how well the model generalizes to unseen data.\n"
   ]
  },
  {
   "cell_type": "code",
   "execution_count": 465,
   "id": "cf498ead",
   "metadata": {},
   "outputs": [],
   "source": [
    "X_train,X_test,y_train,y_test=train_test_split(X,y,test_size=0.2,random_state=42)"
   ]
  },
  {
   "cell_type": "markdown",
   "id": "1631b4e2",
   "metadata": {},
   "source": [
    "## *Finding the best perfoming model*"
   ]
  },
  {
   "cell_type": "markdown",
   "id": "bfa8ecc8",
   "metadata": {},
   "source": [
    "Here, we use the average precision scores obtained through cross-validation to identify the best-performing model.\n"
   ]
  },
  {
   "cell_type": "code",
   "execution_count": 478,
   "id": "d2aec1a5",
   "metadata": {},
   "outputs": [
    {
     "name": "stdout",
     "output_type": "stream",
     "text": [
      "logistic regression precision 0.6526851246954819\n"
     ]
    }
   ],
   "source": [
    "ridge_logreg=LogisticRegression(penalty=\"l2\",max_iter=10000000)\n",
    "rl_cv=cross_val_score(ridge_logreg,X_train,y_train,scoring=\"precision\")\n",
    "rl_cv=rl_cv.mean()\n",
    "print(f\"logistic regression precision {rl_cv}\")\n"
   ]
  },
  {
   "cell_type": "code",
   "execution_count": 479,
   "id": "2a9baeec",
   "metadata": {},
   "outputs": [
    {
     "name": "stdout",
     "output_type": "stream",
     "text": [
      "Decision trees precision 0.6421571283764674\n"
     ]
    }
   ],
   "source": [
    "DT_model=DecisionTreeClassifier()\n",
    "cv_dt=cross_val_score(DT_model,X_train,y_train,scoring=\"precision\")\n",
    "cv_dt=cv_dt.mean()\n",
    "print(f\"Decision trees precision {cv_dt}\")"
   ]
  },
  {
   "cell_type": "code",
   "execution_count": null,
   "id": "d95c7b8a",
   "metadata": {},
   "outputs": [],
   "source": [
    "rf=RandomForestClassifier()\n",
    "rf_cv=cross_val_score(rf,X_train,y_train,scoring=\"precision\")"
   ]
  },
  {
   "cell_type": "code",
   "execution_count": 481,
   "id": "1c4087a7",
   "metadata": {},
   "outputs": [
    {
     "name": "stdout",
     "output_type": "stream",
     "text": [
      "random forest precision 0.6885191427162975\n"
     ]
    }
   ],
   "source": [
    "print(f\"random forest precision {rf_cv.mean()}\")"
   ]
  },
  {
   "cell_type": "code",
   "execution_count": 482,
   "id": "a3889e5f",
   "metadata": {},
   "outputs": [],
   "source": [
    "xb=XGBClassifier()\n",
    "cv_xb=cross_val_score(xb,X_train,y_train,scoring=\"precision\")\n"
   ]
  },
  {
   "cell_type": "code",
   "execution_count": 483,
   "id": "bbe4fc59",
   "metadata": {},
   "outputs": [
    {
     "name": "stdout",
     "output_type": "stream",
     "text": [
      "xgboost precision 0.7514186826368389\n"
     ]
    }
   ],
   "source": [
    "print(f\"xgboost precision {cv_xb.mean()}\")"
   ]
  },
  {
   "cell_type": "markdown",
   "id": "b9f01788",
   "metadata": {},
   "source": [
    "From the precision comparisons from the cross-validation scores, we see that XGBoost performs well; hence, we will go ahead and use XGBoost as our preferred model. \n",
    "\n",
    "We chose **precision** as our evaluation metric because we aim to minimize false positives — ensuring that when the model predicts a person has cardiovascular disease, it is likely to be correct.\n"
   ]
  },
  {
   "cell_type": "markdown",
   "id": "3bfa2502",
   "metadata": {},
   "source": [
    "## *Validating the best model*"
   ]
  },
  {
   "cell_type": "markdown",
   "id": "63b5de4e",
   "metadata": {},
   "source": [
    "Here, we evaluate how well the XGBoost model generalizes to unseen data, aiming to check for signs of overfitting.\n"
   ]
  },
  {
   "cell_type": "code",
   "execution_count": 477,
   "id": "d806ccda",
   "metadata": {},
   "outputs": [
    {
     "name": "stdout",
     "output_type": "stream",
     "text": [
      "              precision    recall  f1-score   support\n",
      "\n",
      "           0       0.74      0.80      0.77     28033\n",
      "           1       0.78      0.72      0.75     27967\n",
      "\n",
      "    accuracy                           0.76     56000\n",
      "   macro avg       0.76      0.76      0.76     56000\n",
      "weighted avg       0.76      0.76      0.76     56000\n",
      "\n",
      "              precision    recall  f1-score   support\n",
      "\n",
      "           0       0.72      0.78      0.75      6988\n",
      "           1       0.76      0.70      0.73      7012\n",
      "\n",
      "    accuracy                           0.74     14000\n",
      "   macro avg       0.74      0.74      0.74     14000\n",
      "weighted avg       0.74      0.74      0.74     14000\n",
      "\n"
     ]
    }
   ],
   "source": [
    "xb.fit(X_train,y_train)\n",
    "y_train_pred=xb.predict(X_train)\n",
    "print(classification_report(y_train,y_train_pred))\n",
    "y_test_pred=xb.predict(X_test)\n",
    "print(classification_report(y_test,y_test_pred))"
   ]
  },
  {
   "cell_type": "markdown",
   "id": "ce85b449",
   "metadata": {},
   "source": [
    "Based on the accuracy and precision scores obtained from both the training and test sets, we can infer that the model is not overfitting. The similarity between these scores indicates that the model generalizes well to unseen data and is not merely memorizing the training examples. If the model were overfitting, we would expect to see a significantly higher performance on the training set compared to the test set. The close alignment of these metrics demonstrates that the model maintains a good balance between bias and variance, ensuring reliable predictive performance on new data."
   ]
  }
 ],
 "metadata": {
  "kernelspec": {
   "display_name": "Python (learn-env)",
   "language": "python",
   "name": "learn-env"
  },
  "language_info": {
   "codemirror_mode": {
    "name": "ipython",
    "version": 3
   },
   "file_extension": ".py",
   "mimetype": "text/x-python",
   "name": "python",
   "nbconvert_exporter": "python",
   "pygments_lexer": "ipython3",
   "version": "3.11.7"
  }
 },
 "nbformat": 4,
 "nbformat_minor": 5
}
