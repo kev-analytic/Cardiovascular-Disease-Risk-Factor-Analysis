{
 "cells": [
  {
   "cell_type": "markdown",
   "id": "106a7321",
   "metadata": {},
   "source": [
    "# ***Cardiovascular Risk factors***"
   ]
  },
  {
   "cell_type": "markdown",
   "id": "ab2e01dd",
   "metadata": {},
   "source": [
    "## **Introduction**\n",
    "Cardiovascular diseases (CVDs) are a group of disorders that affect the heart and blood vessels, and they represent the leading cause of death worldwide. To effectively prevent and manage these conditions, it is essential to understand the risk factors that contribute to their development.\n",
    "\n",
    "Cardiovascular risk factors are traits or conditions that increase the likelihood of developing heart-related illnesses. These risk factors are typically divided into two categories: modifiable and non-modifiable.\n",
    "\n",
    "**Modifiable risk factors** are those that can be influenced through changes in behavior or lifestyle. Examples include high blood pressure, high cholesterol, diabetes, smoking, obesity, physical inactivity, poor dietary habits, and excessive alcohol consumption. Because these factors are controllable, they offer significant opportunities for prevention and intervention.\n",
    "\n",
    "On the other hand, **non-modifiable risk factors** are those that cannot be changed. These include age, gender, family history of cardiovascular disease, and ethnicity. While these factors are beyond an individual's control, they are important for identifying those who may be at greater risk and guiding screening and monitoring efforts.\n",
    "\n",
    "Analyzing cardiovascular risk factors is important for several reasons. It helps identify individuals who are at high risk and may benefit from early interventions. It also supports the development of targeted public health programs, informs clinical decision-making,\n"
   ]
  },
  {
   "cell_type": "markdown",
   "id": "7d3f4fc8",
   "metadata": {},
   "source": [
    "## *Problem Statement*\n",
    "\n",
    "Cardiovascular diseases (CVDs) remain the leading cause of death globally, making early detection and risk factor analysis a critical area of focus for both public health and clinical decision-making. Despite the availability of medical check-up data, timely diagnosis is still a challenge due to the multifactorial nature of heart disease.\n",
    "\n",
    "This project aims to leverage machine learning and data analysis techniques to identify and quantify key risk factors associated with cardiovascular disease. Using patient health metrics—such as blood pressure, cholesterol levels, BMI, and lifestyle attributes—we seek to build predictive models that can classify individuals as at risk or not at risk for cardiovascular events.\n",
    "\n",
    "The goal is to provide a data-driven tool that can assist healthcare professionals in identifying high-risk individuals early, enabling more targeted prevention strategies and better resource allocation.\n"
   ]
  },
  {
   "cell_type": "markdown",
   "id": "39c2f4b3",
   "metadata": {},
   "source": [
    "## *Objectives*\n",
    "\n",
    "The main objectives of this project are as follows:\n",
    "\n",
    "- To perform **exploratory data analysis (EDA)** on variables that are potentially associated with cardiovascular disease.\n",
    "- To develop a **baseline model** for initial performance benchmarking.\n",
    "- To build a **machine learning model** capable of predicting an individual's risk of developing cardiovascular disease.\n",
    "- To **evaluate the performance** of the model using appropriate metrics and perform **hyperparameter tuning** to optimize results, if necessary.\n"
   ]
  },
  {
   "cell_type": "markdown",
   "id": "9addd97a",
   "metadata": {},
   "source": [
    "## **Dataset**\n",
    "\n",
    "The dataset used for this analysis is sourced from Kaggle and contains health-related records for 70,000 individuals. Each record includes various features that may contribute to the risk of developing cardiovascular disease.\n",
    "\n",
    "The target variable is **cardiovascular disease**, which indicates whether an individual has been diagnosed with the condition (`1`) or not (`0`).\n",
    "\n",
    "The dataset is relatively clean, with minimal inconsistencies, making it suitable for analysis without extensive preprocessing. However, some feature engineering will be necessary to extract more meaningful insights and better align the data with our analysis objectives.\n",
    "\n",
    "Key tasks will include transforming and deriving new features from existing columns to improve model performance and enhance interpretability.\n"
   ]
  },
  {
   "cell_type": "markdown",
   "id": "a453fefa",
   "metadata": {},
   "source": [
    "## **Data Preprocessing**"
   ]
  },
  {
   "cell_type": "markdown",
   "id": "6363857a",
   "metadata": {},
   "source": [
    "## *Importing The Necessary Libraries*"
   ]
  },
  {
   "cell_type": "code",
   "execution_count": 4,
   "id": "dd8db1e5",
   "metadata": {},
   "outputs": [],
   "source": [
    "#importing the necessary libraries\n",
    "import pandas as pd \n",
    "import numpy as np \n",
    "import matplotlib.pyplot as plt \n",
    "import seaborn as sns\n",
    "import scipy.stats as stats\n",
    "import statsmodels.api as sm\n",
    "import statsmodels.formula.api as smf\n",
    "%matplotlib inline\n",
    "from sklearn.preprocessing import OneHotEncoder\n",
    "from sklearn.preprocessing import MinMaxScaler\n",
    "from sklearn.preprocessing import PolynomialFeatures\n",
    "from sklearn.linear_model import LogisticRegression\n",
    "from sklearn.model_selection import train_test_split\n",
    "from sklearn.model_selection import cross_val_score\n",
    "from sklearn.metrics import classification_report\n",
    "from sklearn.tree import DecisionTreeClassifier\n",
    "from sklearn.ensemble import RandomForestClassifier\n",
    "from xgboost import XGBClassifier\n",
    "from sklearn.metrics import roc_curve,auc\n",
    "from sklearn.metrics import confusion_matrix,ConfusionMatrixDisplay\n",
    "from statsmodels.stats.outliers_influence import variance_inflation_factor\n"
   ]
  },
  {
   "cell_type": "markdown",
   "id": "0659105a",
   "metadata": {},
   "source": [
    "## *Loading The Dataset*"
   ]
  },
  {
   "cell_type": "markdown",
   "id": "7c880416",
   "metadata": {},
   "source": [
    "We start by loading the dataset into a dataframe and assigning it a variable name."
   ]
  },
  {
   "cell_type": "code",
   "execution_count": 5,
   "id": "af99d730",
   "metadata": {},
   "outputs": [
    {
     "data": {
      "application/vnd.microsoft.datawrangler.viewer.v0+json": {
       "columns": [
        {
         "name": "index",
         "rawType": "int64",
         "type": "integer"
        },
        {
         "name": "id",
         "rawType": "int64",
         "type": "integer"
        },
        {
         "name": "age",
         "rawType": "int64",
         "type": "integer"
        },
        {
         "name": "gender",
         "rawType": "int64",
         "type": "integer"
        },
        {
         "name": "height",
         "rawType": "int64",
         "type": "integer"
        },
        {
         "name": "weight",
         "rawType": "float64",
         "type": "float"
        },
        {
         "name": "ap_hi",
         "rawType": "int64",
         "type": "integer"
        },
        {
         "name": "ap_lo",
         "rawType": "int64",
         "type": "integer"
        },
        {
         "name": "cholesterol",
         "rawType": "int64",
         "type": "integer"
        },
        {
         "name": "gluc",
         "rawType": "int64",
         "type": "integer"
        },
        {
         "name": "smoke",
         "rawType": "int64",
         "type": "integer"
        },
        {
         "name": "alco",
         "rawType": "int64",
         "type": "integer"
        },
        {
         "name": "active",
         "rawType": "int64",
         "type": "integer"
        },
        {
         "name": "cardio",
         "rawType": "int64",
         "type": "integer"
        }
       ],
       "ref": "aee89b3e-fd2b-4c5e-b144-d079eed66b7e",
       "rows": [
        [
         "0",
         "0",
         "18393",
         "2",
         "168",
         "62.0",
         "110",
         "80",
         "1",
         "1",
         "0",
         "0",
         "1",
         "0"
        ],
        [
         "1",
         "1",
         "20228",
         "1",
         "156",
         "85.0",
         "140",
         "90",
         "3",
         "1",
         "0",
         "0",
         "1",
         "1"
        ],
        [
         "2",
         "2",
         "18857",
         "1",
         "165",
         "64.0",
         "130",
         "70",
         "3",
         "1",
         "0",
         "0",
         "0",
         "1"
        ],
        [
         "3",
         "3",
         "17623",
         "2",
         "169",
         "82.0",
         "150",
         "100",
         "1",
         "1",
         "0",
         "0",
         "1",
         "1"
        ],
        [
         "4",
         "4",
         "17474",
         "1",
         "156",
         "56.0",
         "100",
         "60",
         "1",
         "1",
         "0",
         "0",
         "0",
         "0"
        ],
        [
         "5",
         "8",
         "21914",
         "1",
         "151",
         "67.0",
         "120",
         "80",
         "2",
         "2",
         "0",
         "0",
         "0",
         "0"
        ],
        [
         "6",
         "9",
         "22113",
         "1",
         "157",
         "93.0",
         "130",
         "80",
         "3",
         "1",
         "0",
         "0",
         "1",
         "0"
        ],
        [
         "7",
         "12",
         "22584",
         "2",
         "178",
         "95.0",
         "130",
         "90",
         "3",
         "3",
         "0",
         "0",
         "1",
         "1"
        ],
        [
         "8",
         "13",
         "17668",
         "1",
         "158",
         "71.0",
         "110",
         "70",
         "1",
         "1",
         "0",
         "0",
         "1",
         "0"
        ],
        [
         "9",
         "14",
         "19834",
         "1",
         "164",
         "68.0",
         "110",
         "60",
         "1",
         "1",
         "0",
         "0",
         "0",
         "0"
        ],
        [
         "10",
         "15",
         "22530",
         "1",
         "169",
         "80.0",
         "120",
         "80",
         "1",
         "1",
         "0",
         "0",
         "1",
         "0"
        ],
        [
         "11",
         "16",
         "18815",
         "2",
         "173",
         "60.0",
         "120",
         "80",
         "1",
         "1",
         "0",
         "0",
         "1",
         "0"
        ],
        [
         "12",
         "18",
         "14791",
         "2",
         "165",
         "60.0",
         "120",
         "80",
         "1",
         "1",
         "0",
         "0",
         "0",
         "0"
        ],
        [
         "13",
         "21",
         "19809",
         "1",
         "158",
         "78.0",
         "110",
         "70",
         "1",
         "1",
         "0",
         "0",
         "1",
         "0"
        ],
        [
         "14",
         "23",
         "14532",
         "2",
         "181",
         "95.0",
         "130",
         "90",
         "1",
         "1",
         "1",
         "1",
         "1",
         "0"
        ],
        [
         "15",
         "24",
         "16782",
         "2",
         "172",
         "112.0",
         "120",
         "80",
         "1",
         "1",
         "0",
         "0",
         "0",
         "1"
        ],
        [
         "16",
         "25",
         "21296",
         "1",
         "170",
         "75.0",
         "130",
         "70",
         "1",
         "1",
         "0",
         "0",
         "0",
         "0"
        ],
        [
         "17",
         "27",
         "16747",
         "1",
         "158",
         "52.0",
         "110",
         "70",
         "1",
         "3",
         "0",
         "0",
         "1",
         "0"
        ],
        [
         "18",
         "28",
         "17482",
         "1",
         "154",
         "68.0",
         "100",
         "70",
         "1",
         "1",
         "0",
         "0",
         "0",
         "0"
        ],
        [
         "19",
         "29",
         "21755",
         "2",
         "162",
         "56.0",
         "120",
         "70",
         "1",
         "1",
         "1",
         "0",
         "1",
         "0"
        ],
        [
         "20",
         "30",
         "19778",
         "2",
         "163",
         "83.0",
         "120",
         "80",
         "1",
         "1",
         "0",
         "0",
         "1",
         "0"
        ],
        [
         "21",
         "31",
         "21413",
         "1",
         "157",
         "69.0",
         "130",
         "80",
         "1",
         "1",
         "0",
         "0",
         "1",
         "0"
        ],
        [
         "22",
         "32",
         "23046",
         "1",
         "158",
         "90.0",
         "145",
         "85",
         "2",
         "2",
         "0",
         "0",
         "1",
         "1"
        ],
        [
         "23",
         "33",
         "23376",
         "2",
         "156",
         "45.0",
         "110",
         "60",
         "1",
         "1",
         "0",
         "0",
         "1",
         "0"
        ],
        [
         "24",
         "35",
         "16608",
         "1",
         "170",
         "68.0",
         "150",
         "90",
         "3",
         "1",
         "0",
         "0",
         "1",
         "1"
        ],
        [
         "25",
         "36",
         "14453",
         "1",
         "153",
         "65.0",
         "130",
         "100",
         "2",
         "1",
         "0",
         "0",
         "1",
         "0"
        ],
        [
         "26",
         "37",
         "19559",
         "1",
         "156",
         "59.0",
         "130",
         "90",
         "1",
         "1",
         "0",
         "0",
         "1",
         "0"
        ],
        [
         "27",
         "38",
         "18085",
         "1",
         "159",
         "78.0",
         "120",
         "80",
         "1",
         "1",
         "0",
         "0",
         "1",
         "0"
        ],
        [
         "28",
         "39",
         "14574",
         "2",
         "166",
         "66.0",
         "120",
         "80",
         "1",
         "1",
         "0",
         "0",
         "1",
         "0"
        ],
        [
         "29",
         "40",
         "21057",
         "2",
         "169",
         "74.0",
         "130",
         "70",
         "1",
         "3",
         "0",
         "0",
         "0",
         "0"
        ],
        [
         "30",
         "42",
         "18291",
         "1",
         "155",
         "105.0",
         "120",
         "80",
         "3",
         "1",
         "0",
         "0",
         "1",
         "1"
        ],
        [
         "31",
         "43",
         "23186",
         "1",
         "169",
         "71.0",
         "140",
         "90",
         "3",
         "1",
         "0",
         "0",
         "1",
         "1"
        ],
        [
         "32",
         "44",
         "14605",
         "1",
         "159",
         "60.0",
         "110",
         "70",
         "1",
         "1",
         "0",
         "0",
         "1",
         "0"
        ],
        [
         "33",
         "45",
         "20652",
         "1",
         "160",
         "73.0",
         "130",
         "85",
         "1",
         "1",
         "0",
         "0",
         "0",
         "1"
        ],
        [
         "34",
         "46",
         "21940",
         "2",
         "173",
         "82.0",
         "140",
         "90",
         "3",
         "1",
         "0",
         "0",
         "0",
         "1"
        ],
        [
         "35",
         "47",
         "20404",
         "1",
         "163",
         "55.0",
         "120",
         "80",
         "1",
         "1",
         "0",
         "0",
         "1",
         "0"
        ],
        [
         "36",
         "49",
         "18328",
         "2",
         "175",
         "95.0",
         "120",
         "80",
         "1",
         "1",
         "0",
         "0",
         "1",
         "0"
        ],
        [
         "37",
         "51",
         "17976",
         "1",
         "164",
         "70.0",
         "130",
         "90",
         "1",
         "1",
         "0",
         "0",
         "1",
         "0"
        ],
        [
         "38",
         "52",
         "23388",
         "2",
         "162",
         "72.0",
         "130",
         "80",
         "1",
         "1",
         "1",
         "0",
         "1",
         "1"
        ],
        [
         "39",
         "53",
         "18126",
         "1",
         "165",
         "70.0",
         "140",
         "90",
         "1",
         "1",
         "0",
         "0",
         "1",
         "1"
        ],
        [
         "40",
         "54",
         "19848",
         "1",
         "157",
         "62.0",
         "110",
         "70",
         "1",
         "1",
         "0",
         "0",
         "0",
         "0"
        ],
        [
         "41",
         "56",
         "18274",
         "1",
         "178",
         "68.0",
         "110",
         "80",
         "1",
         "1",
         "0",
         "0",
         "1",
         "1"
        ],
        [
         "42",
         "57",
         "21475",
         "2",
         "171",
         "69.0",
         "140",
         "90",
         "1",
         "1",
         "0",
         "0",
         "1",
         "1"
        ],
        [
         "43",
         "58",
         "20556",
         "2",
         "159",
         "63.0",
         "120",
         "60",
         "1",
         "1",
         "0",
         "0",
         "1",
         "1"
        ],
        [
         "44",
         "59",
         "19764",
         "1",
         "154",
         "50.0",
         "170",
         "80",
         "3",
         "1",
         "0",
         "0",
         "1",
         "1"
        ],
        [
         "45",
         "60",
         "17471",
         "1",
         "162",
         "64.0",
         "140",
         "90",
         "1",
         "1",
         "0",
         "0",
         "1",
         "1"
        ],
        [
         "46",
         "61",
         "18207",
         "1",
         "162",
         "107.0",
         "150",
         "90",
         "2",
         "1",
         "0",
         "0",
         "1",
         "1"
        ],
        [
         "47",
         "62",
         "18535",
         "2",
         "168",
         "69.0",
         "120",
         "80",
         "1",
         "1",
         "0",
         "0",
         "0",
         "0"
        ],
        [
         "48",
         "63",
         "16864",
         "2",
         "175",
         "70.0",
         "120",
         "80",
         "2",
         "1",
         "0",
         "0",
         "1",
         "0"
        ],
        [
         "49",
         "64",
         "16045",
         "1",
         "170",
         "69.0",
         "120",
         "70",
         "1",
         "1",
         "0",
         "0",
         "1",
         "0"
        ]
       ],
       "shape": {
        "columns": 13,
        "rows": 70000
       }
      },
      "text/html": [
       "<div>\n",
       "<style scoped>\n",
       "    .dataframe tbody tr th:only-of-type {\n",
       "        vertical-align: middle;\n",
       "    }\n",
       "\n",
       "    .dataframe tbody tr th {\n",
       "        vertical-align: top;\n",
       "    }\n",
       "\n",
       "    .dataframe thead th {\n",
       "        text-align: right;\n",
       "    }\n",
       "</style>\n",
       "<table border=\"1\" class=\"dataframe\">\n",
       "  <thead>\n",
       "    <tr style=\"text-align: right;\">\n",
       "      <th></th>\n",
       "      <th>id</th>\n",
       "      <th>age</th>\n",
       "      <th>gender</th>\n",
       "      <th>height</th>\n",
       "      <th>weight</th>\n",
       "      <th>ap_hi</th>\n",
       "      <th>ap_lo</th>\n",
       "      <th>cholesterol</th>\n",
       "      <th>gluc</th>\n",
       "      <th>smoke</th>\n",
       "      <th>alco</th>\n",
       "      <th>active</th>\n",
       "      <th>cardio</th>\n",
       "    </tr>\n",
       "  </thead>\n",
       "  <tbody>\n",
       "    <tr>\n",
       "      <th>0</th>\n",
       "      <td>0</td>\n",
       "      <td>18393</td>\n",
       "      <td>2</td>\n",
       "      <td>168</td>\n",
       "      <td>62.0</td>\n",
       "      <td>110</td>\n",
       "      <td>80</td>\n",
       "      <td>1</td>\n",
       "      <td>1</td>\n",
       "      <td>0</td>\n",
       "      <td>0</td>\n",
       "      <td>1</td>\n",
       "      <td>0</td>\n",
       "    </tr>\n",
       "    <tr>\n",
       "      <th>1</th>\n",
       "      <td>1</td>\n",
       "      <td>20228</td>\n",
       "      <td>1</td>\n",
       "      <td>156</td>\n",
       "      <td>85.0</td>\n",
       "      <td>140</td>\n",
       "      <td>90</td>\n",
       "      <td>3</td>\n",
       "      <td>1</td>\n",
       "      <td>0</td>\n",
       "      <td>0</td>\n",
       "      <td>1</td>\n",
       "      <td>1</td>\n",
       "    </tr>\n",
       "    <tr>\n",
       "      <th>2</th>\n",
       "      <td>2</td>\n",
       "      <td>18857</td>\n",
       "      <td>1</td>\n",
       "      <td>165</td>\n",
       "      <td>64.0</td>\n",
       "      <td>130</td>\n",
       "      <td>70</td>\n",
       "      <td>3</td>\n",
       "      <td>1</td>\n",
       "      <td>0</td>\n",
       "      <td>0</td>\n",
       "      <td>0</td>\n",
       "      <td>1</td>\n",
       "    </tr>\n",
       "    <tr>\n",
       "      <th>3</th>\n",
       "      <td>3</td>\n",
       "      <td>17623</td>\n",
       "      <td>2</td>\n",
       "      <td>169</td>\n",
       "      <td>82.0</td>\n",
       "      <td>150</td>\n",
       "      <td>100</td>\n",
       "      <td>1</td>\n",
       "      <td>1</td>\n",
       "      <td>0</td>\n",
       "      <td>0</td>\n",
       "      <td>1</td>\n",
       "      <td>1</td>\n",
       "    </tr>\n",
       "    <tr>\n",
       "      <th>4</th>\n",
       "      <td>4</td>\n",
       "      <td>17474</td>\n",
       "      <td>1</td>\n",
       "      <td>156</td>\n",
       "      <td>56.0</td>\n",
       "      <td>100</td>\n",
       "      <td>60</td>\n",
       "      <td>1</td>\n",
       "      <td>1</td>\n",
       "      <td>0</td>\n",
       "      <td>0</td>\n",
       "      <td>0</td>\n",
       "      <td>0</td>\n",
       "    </tr>\n",
       "    <tr>\n",
       "      <th>...</th>\n",
       "      <td>...</td>\n",
       "      <td>...</td>\n",
       "      <td>...</td>\n",
       "      <td>...</td>\n",
       "      <td>...</td>\n",
       "      <td>...</td>\n",
       "      <td>...</td>\n",
       "      <td>...</td>\n",
       "      <td>...</td>\n",
       "      <td>...</td>\n",
       "      <td>...</td>\n",
       "      <td>...</td>\n",
       "      <td>...</td>\n",
       "    </tr>\n",
       "    <tr>\n",
       "      <th>69995</th>\n",
       "      <td>99993</td>\n",
       "      <td>19240</td>\n",
       "      <td>2</td>\n",
       "      <td>168</td>\n",
       "      <td>76.0</td>\n",
       "      <td>120</td>\n",
       "      <td>80</td>\n",
       "      <td>1</td>\n",
       "      <td>1</td>\n",
       "      <td>1</td>\n",
       "      <td>0</td>\n",
       "      <td>1</td>\n",
       "      <td>0</td>\n",
       "    </tr>\n",
       "    <tr>\n",
       "      <th>69996</th>\n",
       "      <td>99995</td>\n",
       "      <td>22601</td>\n",
       "      <td>1</td>\n",
       "      <td>158</td>\n",
       "      <td>126.0</td>\n",
       "      <td>140</td>\n",
       "      <td>90</td>\n",
       "      <td>2</td>\n",
       "      <td>2</td>\n",
       "      <td>0</td>\n",
       "      <td>0</td>\n",
       "      <td>1</td>\n",
       "      <td>1</td>\n",
       "    </tr>\n",
       "    <tr>\n",
       "      <th>69997</th>\n",
       "      <td>99996</td>\n",
       "      <td>19066</td>\n",
       "      <td>2</td>\n",
       "      <td>183</td>\n",
       "      <td>105.0</td>\n",
       "      <td>180</td>\n",
       "      <td>90</td>\n",
       "      <td>3</td>\n",
       "      <td>1</td>\n",
       "      <td>0</td>\n",
       "      <td>1</td>\n",
       "      <td>0</td>\n",
       "      <td>1</td>\n",
       "    </tr>\n",
       "    <tr>\n",
       "      <th>69998</th>\n",
       "      <td>99998</td>\n",
       "      <td>22431</td>\n",
       "      <td>1</td>\n",
       "      <td>163</td>\n",
       "      <td>72.0</td>\n",
       "      <td>135</td>\n",
       "      <td>80</td>\n",
       "      <td>1</td>\n",
       "      <td>2</td>\n",
       "      <td>0</td>\n",
       "      <td>0</td>\n",
       "      <td>0</td>\n",
       "      <td>1</td>\n",
       "    </tr>\n",
       "    <tr>\n",
       "      <th>69999</th>\n",
       "      <td>99999</td>\n",
       "      <td>20540</td>\n",
       "      <td>1</td>\n",
       "      <td>170</td>\n",
       "      <td>72.0</td>\n",
       "      <td>120</td>\n",
       "      <td>80</td>\n",
       "      <td>2</td>\n",
       "      <td>1</td>\n",
       "      <td>0</td>\n",
       "      <td>0</td>\n",
       "      <td>1</td>\n",
       "      <td>0</td>\n",
       "    </tr>\n",
       "  </tbody>\n",
       "</table>\n",
       "<p>70000 rows × 13 columns</p>\n",
       "</div>"
      ],
      "text/plain": [
       "          id    age  gender  height  weight  ap_hi  ap_lo  cholesterol  gluc  \\\n",
       "0          0  18393       2     168    62.0    110     80            1     1   \n",
       "1          1  20228       1     156    85.0    140     90            3     1   \n",
       "2          2  18857       1     165    64.0    130     70            3     1   \n",
       "3          3  17623       2     169    82.0    150    100            1     1   \n",
       "4          4  17474       1     156    56.0    100     60            1     1   \n",
       "...      ...    ...     ...     ...     ...    ...    ...          ...   ...   \n",
       "69995  99993  19240       2     168    76.0    120     80            1     1   \n",
       "69996  99995  22601       1     158   126.0    140     90            2     2   \n",
       "69997  99996  19066       2     183   105.0    180     90            3     1   \n",
       "69998  99998  22431       1     163    72.0    135     80            1     2   \n",
       "69999  99999  20540       1     170    72.0    120     80            2     1   \n",
       "\n",
       "       smoke  alco  active  cardio  \n",
       "0          0     0       1       0  \n",
       "1          0     0       1       1  \n",
       "2          0     0       0       1  \n",
       "3          0     0       1       1  \n",
       "4          0     0       0       0  \n",
       "...      ...   ...     ...     ...  \n",
       "69995      1     0       1       0  \n",
       "69996      0     0       1       1  \n",
       "69997      0     1       0       1  \n",
       "69998      0     0       0       1  \n",
       "69999      0     0       1       0  \n",
       "\n",
       "[70000 rows x 13 columns]"
      ]
     },
     "execution_count": 5,
     "metadata": {},
     "output_type": "execute_result"
    }
   ],
   "source": [
    "# loading the dataset\n",
    "df=pd.read_csv(\"cardio_train.csv\",sep=\";\")\n",
    "df\n",
    "\n"
   ]
  },
  {
   "cell_type": "code",
   "execution_count": 6,
   "id": "0bbf1d52",
   "metadata": {},
   "outputs": [],
   "source": [
    "df_new=df.copy()"
   ]
  },
  {
   "cell_type": "markdown",
   "id": "ac65cf72",
   "metadata": {},
   "source": [
    "### Dataset Structure\n",
    "\n",
    "After resolving the formatting issue and transforming the dataset into its correct structure, we now have a clean DataFrame with meaningful columns, ready for analysis.\n",
    "\n",
    "The main columns in the dataset are as follows:\n",
    "\n",
    "- **age**: Age of the individual (in days)\n",
    "- **gender**: Gender (1 = female, 2 = male)\n",
    "- **height**: Height of the individual (in cm)\n",
    "- **weight**: Weight of the individual (in kg)\n",
    "- **ap_hi**: Systolic blood pressure\n",
    "- **ap_lo**: Diastolic blood pressure\n",
    "- **cholesterol**: Cholesterol level (1 = normal, 2 = above normal, 3 = well above normal)\n",
    "- **gluc**: Glucose level (1 = normal, 2 = above normal, 3 = well above normal)\n",
    "- **smoke**: Smoking status (1 = smoker, 0 = non-smoker)\n",
    "- **alco**: Alcohol consumption (1 = consumes alcohol, 0 = does not)\n",
    "- **active**: Physical activity (1 = active, 0 = not active)\n",
    "- **cardio**: Presence of cardiovascular disease (1 = has condition, 0 = does not)\n",
    "\n",
    "This structure allows us to perform exploratory data analysis (EDA), feature engineering, and model development effectively.\n"
   ]
  },
  {
   "cell_type": "markdown",
   "id": "0ad0f393",
   "metadata": {},
   "source": [
    "## *Summary of the dataset*"
   ]
  },
  {
   "cell_type": "markdown",
   "id": "93b2542c",
   "metadata": {},
   "source": [
    "Before diving into analysis, it's important to examine the overall structure of the dataset. This step helps us verify that the data has been loaded correctly, understand the types of each feature, and identify any potential issues such as missing values or incorrect data types.\n",
    "\n"
   ]
  },
  {
   "cell_type": "code",
   "execution_count": 7,
   "id": "24625216",
   "metadata": {},
   "outputs": [
    {
     "name": "stdout",
     "output_type": "stream",
     "text": [
      "<class 'pandas.core.frame.DataFrame'>\n",
      "RangeIndex: 70000 entries, 0 to 69999\n",
      "Data columns (total 13 columns):\n",
      " #   Column       Non-Null Count  Dtype  \n",
      "---  ------       --------------  -----  \n",
      " 0   id           70000 non-null  int64  \n",
      " 1   age          70000 non-null  int64  \n",
      " 2   gender       70000 non-null  int64  \n",
      " 3   height       70000 non-null  int64  \n",
      " 4   weight       70000 non-null  float64\n",
      " 5   ap_hi        70000 non-null  int64  \n",
      " 6   ap_lo        70000 non-null  int64  \n",
      " 7   cholesterol  70000 non-null  int64  \n",
      " 8   gluc         70000 non-null  int64  \n",
      " 9   smoke        70000 non-null  int64  \n",
      " 10  alco         70000 non-null  int64  \n",
      " 11  active       70000 non-null  int64  \n",
      " 12  cardio       70000 non-null  int64  \n",
      "dtypes: float64(1), int64(12)\n",
      "memory usage: 6.9 MB\n"
     ]
    }
   ],
   "source": [
    "# viewing summary of the dataset\n",
    "df_new.info()"
   ]
  },
  {
   "cell_type": "markdown",
   "id": "db9ffb56",
   "metadata": {},
   "source": [
    "The dataset consists of 70,000 records with 13 columns in total. An initial inspection confirms that there are no missing values, which simplifies the preprocessing steps.\n",
    "\n",
    "However, all the columns have been loaded as object types, meaning that the data is currently stored as strings. This indicates that we need to convert several columns to their correct numerical data types—such as integers or floats—before performing any meaningful analysis or modeling. Proper type casting is essential to ensure accurate computations and to apply appropriate machine learning algorithms.\n"
   ]
  },
  {
   "cell_type": "markdown",
   "id": "8d87b672",
   "metadata": {},
   "source": [
    "## *Casting Columns*\n",
    "\n",
    "In this step, we convert the columns to their appropriate data types. Properly casting the data ensures that numerical operations, statistical analyses, and machine learning algorithms can be applied correctly and efficiently.\n",
    "\n",
    "\n"
   ]
  },
  {
   "cell_type": "code",
   "execution_count": 8,
   "id": "30963d55",
   "metadata": {},
   "outputs": [],
   "source": [
    "# casting the numerical columns into integers\n",
    "df_new1=df_new.copy()\n",
    "df_new1[[\"id\",\"age\",\"height\",\"weight\",\"ap_hi\",\"ap_lo\"]]=df_new1[[\"id\",\"age\",\"height\",\"weight\",\"ap_hi\",\"ap_lo\"]].astype(float)"
   ]
  },
  {
   "cell_type": "code",
   "execution_count": 9,
   "id": "8c82680a",
   "metadata": {},
   "outputs": [
    {
     "data": {
      "application/vnd.microsoft.datawrangler.viewer.v0+json": {
       "columns": [
        {
         "name": "index",
         "rawType": "object",
         "type": "string"
        },
        {
         "name": "0",
         "rawType": "object",
         "type": "unknown"
        }
       ],
       "ref": "12cfcf04-d07b-47f5-a9ec-982e7be404d5",
       "rows": [
        [
         "id",
         "float64"
        ],
        [
         "age",
         "float64"
        ],
        [
         "gender",
         "int64"
        ],
        [
         "height",
         "float64"
        ],
        [
         "weight",
         "float64"
        ],
        [
         "ap_hi",
         "float64"
        ],
        [
         "ap_lo",
         "float64"
        ],
        [
         "cholesterol",
         "int64"
        ],
        [
         "gluc",
         "int64"
        ],
        [
         "smoke",
         "int64"
        ],
        [
         "alco",
         "int64"
        ],
        [
         "active",
         "int64"
        ],
        [
         "cardio",
         "int64"
        ]
       ],
       "shape": {
        "columns": 1,
        "rows": 13
       }
      },
      "text/plain": [
       "id             float64\n",
       "age            float64\n",
       "gender           int64\n",
       "height         float64\n",
       "weight         float64\n",
       "ap_hi          float64\n",
       "ap_lo          float64\n",
       "cholesterol      int64\n",
       "gluc             int64\n",
       "smoke            int64\n",
       "alco             int64\n",
       "active           int64\n",
       "cardio           int64\n",
       "dtype: object"
      ]
     },
     "execution_count": 9,
     "metadata": {},
     "output_type": "execute_result"
    }
   ],
   "source": [
    "# checking for the new data types\n",
    "df_new1.dtypes"
   ]
  },
  {
   "cell_type": "markdown",
   "id": "845edc6a",
   "metadata": {},
   "source": [
    "After casting the columns to their appropriate data types, we confirm that each column now reflects the correct type.\n"
   ]
  },
  {
   "cell_type": "markdown",
   "id": "b9e22b72",
   "metadata": {},
   "source": [
    "## Checking for Duplicates\n",
    "\n",
    "It is important to check for duplicate records in the dataset, as duplicates can compromise data integrity. Duplicate entries may bias the analysis, lead to overfitting in models, and give misleading insights.\n",
    "\n"
   ]
  },
  {
   "cell_type": "code",
   "execution_count": 10,
   "id": "ae770a4f",
   "metadata": {},
   "outputs": [
    {
     "data": {
      "text/plain": [
       "0"
      ]
     },
     "execution_count": 10,
     "metadata": {},
     "output_type": "execute_result"
    }
   ],
   "source": [
    "# checking for duplicates\n",
    "df_new.duplicated().sum()"
   ]
  },
  {
   "cell_type": "markdown",
   "id": "cd7c1f5a",
   "metadata": {},
   "source": [
    "We see that the dataset had no duplicates."
   ]
  },
  {
   "cell_type": "markdown",
   "id": "bea36670",
   "metadata": {},
   "source": [
    "## *Transforming the Columns*\n",
    "\n",
    "In this step, we will transform certain columns into more meaningful or preferred units. This is essential for improving the interpretability of the data, facilitating effective feature engineering, and ensuring consistency during analysis.\n",
    "\n"
   ]
  },
  {
   "cell_type": "markdown",
   "id": "0d508244",
   "metadata": {},
   "source": [
    "We will start by transforming the age column from age in days to age in years for better interpretability."
   ]
  },
  {
   "cell_type": "code",
   "execution_count": 11,
   "id": "963d5964",
   "metadata": {},
   "outputs": [],
   "source": [
    "# coverting age from days to years\n",
    "df_new2=df_new1.copy()\n",
    "df_new2[\"age\"]=df_new2[\"age\"]/365\n",
    "# casting the age column into an integer\n",
    "df_new2[\"age\"]=df_new2[\"age\"].astype(int)\n"
   ]
  },
  {
   "cell_type": "markdown",
   "id": "1b0f1f57",
   "metadata": {},
   "source": [
    "Also we will need to transform the height column from height in centimeters to height in meters to help us when engineering the BMI column."
   ]
  },
  {
   "cell_type": "code",
   "execution_count": 12,
   "id": "a7595db4",
   "metadata": {},
   "outputs": [
    {
     "data": {
      "application/vnd.microsoft.datawrangler.viewer.v0+json": {
       "columns": [
        {
         "name": "index",
         "rawType": "int64",
         "type": "integer"
        },
        {
         "name": "height",
         "rawType": "float64",
         "type": "float"
        }
       ],
       "ref": "83c52de7-6f9b-4c70-94e6-e427d31e7a03",
       "rows": [
        [
         "51249",
         "1.62"
        ],
        [
         "39016",
         "1.55"
        ],
        [
         "50811",
         "1.61"
        ],
        [
         "62185",
         "1.71"
        ],
        [
         "40438",
         "1.51"
        ]
       ],
       "shape": {
        "columns": 1,
        "rows": 5
       }
      },
      "text/plain": [
       "51249    1.62\n",
       "39016    1.55\n",
       "50811    1.61\n",
       "62185    1.71\n",
       "40438    1.51\n",
       "Name: height, dtype: float64"
      ]
     },
     "execution_count": 12,
     "metadata": {},
     "output_type": "execute_result"
    }
   ],
   "source": [
    "# changing height to be in metres\n",
    "df_new2[\"height\"]=df_new2[\"height\"]/100\n",
    "df_new2[\"height\"].sample(5)"
   ]
  },
  {
   "cell_type": "markdown",
   "id": "f186821a",
   "metadata": {},
   "source": [
    "## *Feature Engineering*"
   ]
  },
  {
   "cell_type": "markdown",
   "id": "c7f7d1c4",
   "metadata": {},
   "source": [
    "In this step, we will generate additional features derived from the existing variables in our dataset. These engineered features are intended to capture more meaningful patterns and relationships that may not be immediately apparent from the raw data.\n",
    "\n"
   ]
  },
  {
   "cell_type": "markdown",
   "id": "3cd1fd74",
   "metadata": {},
   "source": [
    "We begin the feature engineering process by creating a new column for **Body Mass Index (BMI)**, which is a widely used indicator of body fat based on a person's height and weight.\n",
    "\n",
    "The formula for calculating BMI is:\n",
    "\n",
    "$$\n",
    "\\text{BMI} = \\frac{\\text{weight (kg)}}{(\\text{height (m)})^2}\n",
    "$$\n",
    "\n",
    "The BMI column is a good representative of the `height` and `weight` columns\n"
   ]
  },
  {
   "cell_type": "code",
   "execution_count": 13,
   "id": "b5b92854",
   "metadata": {},
   "outputs": [
    {
     "data": {
      "application/vnd.microsoft.datawrangler.viewer.v0+json": {
       "columns": [
        {
         "name": "index",
         "rawType": "int64",
         "type": "integer"
        },
        {
         "name": "BMI",
         "rawType": "float64",
         "type": "float"
        }
       ],
       "ref": "beff37f2-42b3-4c59-b42e-5c61d8a07dfb",
       "rows": [
        [
         "28688",
         "36.13233467574994"
        ],
        [
         "22085",
         "23.306680053067517"
        ],
        [
         "61372",
         "44.63637683263173"
        ],
        [
         "13493",
         "26.959840341724732"
        ],
        [
         "43326",
         "41.01562499999999"
        ]
       ],
       "shape": {
        "columns": 1,
        "rows": 5
       }
      },
      "text/plain": [
       "28688    36.132335\n",
       "22085    23.306680\n",
       "61372    44.636377\n",
       "13493    26.959840\n",
       "43326    41.015625\n",
       "Name: BMI, dtype: float64"
      ]
     },
     "execution_count": 13,
     "metadata": {},
     "output_type": "execute_result"
    }
   ],
   "source": [
    "# engeneering the BMI column\n",
    "df_new2[\"BMI\"]=df_new2[\"weight\"]/(df_new2[\"height\"]**2)\n",
    "df_new2[\"BMI\"].sample(5)"
   ]
  },
  {
   "cell_type": "markdown",
   "id": "ca4d0fc8",
   "metadata": {},
   "source": [
    "## *Duplicating The Clean Df For Analysis*"
   ]
  },
  {
   "cell_type": "code",
   "execution_count": 14,
   "id": "7a734941",
   "metadata": {},
   "outputs": [
    {
     "data": {
      "application/vnd.microsoft.datawrangler.viewer.v0+json": {
       "columns": [
        {
         "name": "index",
         "rawType": "int64",
         "type": "integer"
        },
        {
         "name": "id",
         "rawType": "float64",
         "type": "float"
        },
        {
         "name": "age",
         "rawType": "int32",
         "type": "integer"
        },
        {
         "name": "gender",
         "rawType": "int64",
         "type": "integer"
        },
        {
         "name": "ap_hi",
         "rawType": "float64",
         "type": "float"
        },
        {
         "name": "ap_lo",
         "rawType": "float64",
         "type": "float"
        },
        {
         "name": "cholesterol",
         "rawType": "int64",
         "type": "integer"
        },
        {
         "name": "gluc",
         "rawType": "int64",
         "type": "integer"
        },
        {
         "name": "smoke",
         "rawType": "int64",
         "type": "integer"
        },
        {
         "name": "alco",
         "rawType": "int64",
         "type": "integer"
        },
        {
         "name": "active",
         "rawType": "int64",
         "type": "integer"
        },
        {
         "name": "cardio",
         "rawType": "int64",
         "type": "integer"
        },
        {
         "name": "BMI",
         "rawType": "float64",
         "type": "float"
        }
       ],
       "ref": "bd801cec-1963-4397-8e29-e91609edfab9",
       "rows": [
        [
         "0",
         "0.0",
         "50",
         "2",
         "110.0",
         "80.0",
         "1",
         "1",
         "0",
         "0",
         "1",
         "0",
         "21.9671201814059"
        ],
        [
         "1",
         "1.0",
         "55",
         "1",
         "140.0",
         "90.0",
         "3",
         "1",
         "0",
         "0",
         "1",
         "1",
         "34.927679158448385"
        ],
        [
         "2",
         "2.0",
         "51",
         "1",
         "130.0",
         "70.0",
         "3",
         "1",
         "0",
         "0",
         "0",
         "1",
         "23.507805325987146"
        ],
        [
         "3",
         "3.0",
         "48",
         "2",
         "150.0",
         "100.0",
         "1",
         "1",
         "0",
         "0",
         "1",
         "1",
         "28.71047932495361"
        ],
        [
         "4",
         "4.0",
         "47",
         "1",
         "100.0",
         "60.0",
         "1",
         "1",
         "0",
         "0",
         "0",
         "0",
         "23.011176857330703"
        ],
        [
         "5",
         "8.0",
         "60",
         "1",
         "120.0",
         "80.0",
         "2",
         "2",
         "0",
         "0",
         "0",
         "0",
         "29.384676110696898"
        ],
        [
         "6",
         "9.0",
         "60",
         "1",
         "130.0",
         "80.0",
         "3",
         "1",
         "0",
         "0",
         "1",
         "0",
         "37.72972534382733"
        ],
        [
         "7",
         "12.0",
         "61",
         "2",
         "130.0",
         "90.0",
         "3",
         "3",
         "0",
         "0",
         "1",
         "1",
         "29.983587930816814"
        ],
        [
         "8",
         "13.0",
         "48",
         "1",
         "110.0",
         "70.0",
         "1",
         "1",
         "0",
         "0",
         "1",
         "0",
         "28.44095497516423"
        ],
        [
         "9",
         "14.0",
         "54",
         "1",
         "110.0",
         "60.0",
         "1",
         "1",
         "0",
         "0",
         "0",
         "0",
         "25.282569898869724"
        ],
        [
         "10",
         "15.0",
         "61",
         "1",
         "120.0",
         "80.0",
         "1",
         "1",
         "0",
         "0",
         "1",
         "0",
         "28.01022373166206"
        ],
        [
         "11",
         "16.0",
         "51",
         "2",
         "120.0",
         "80.0",
         "1",
         "1",
         "0",
         "0",
         "1",
         "0",
         "20.04744562130375"
        ],
        [
         "12",
         "18.0",
         "40",
         "2",
         "120.0",
         "80.0",
         "1",
         "1",
         "0",
         "0",
         "0",
         "0",
         "22.03856749311295"
        ],
        [
         "13",
         "21.0",
         "54",
         "1",
         "110.0",
         "70.0",
         "1",
         "1",
         "0",
         "0",
         "1",
         "0",
         "31.244992789617044"
        ],
        [
         "14",
         "23.0",
         "39",
         "2",
         "130.0",
         "90.0",
         "1",
         "1",
         "1",
         "1",
         "1",
         "0",
         "28.997893837184456"
        ],
        [
         "15",
         "24.0",
         "45",
         "2",
         "120.0",
         "80.0",
         "1",
         "1",
         "0",
         "0",
         "0",
         "1",
         "37.85830178474852"
        ],
        [
         "16",
         "25.0",
         "58",
         "1",
         "130.0",
         "70.0",
         "1",
         "1",
         "0",
         "0",
         "0",
         "0",
         "25.95155709342561"
        ],
        [
         "17",
         "27.0",
         "45",
         "1",
         "110.0",
         "70.0",
         "1",
         "3",
         "0",
         "0",
         "1",
         "0",
         "20.82999519307803"
        ],
        [
         "18",
         "28.0",
         "47",
         "1",
         "100.0",
         "70.0",
         "1",
         "1",
         "0",
         "0",
         "0",
         "0",
         "28.67262607522348"
        ],
        [
         "19",
         "29.0",
         "59",
         "2",
         "120.0",
         "70.0",
         "1",
         "1",
         "1",
         "0",
         "1",
         "0",
         "21.338210638622158"
        ],
        [
         "20",
         "30.0",
         "54",
         "2",
         "120.0",
         "80.0",
         "1",
         "1",
         "0",
         "0",
         "1",
         "0",
         "31.239414355075468"
        ],
        [
         "21",
         "31.0",
         "58",
         "1",
         "130.0",
         "80.0",
         "1",
         "1",
         "0",
         "0",
         "1",
         "0",
         "27.993022029291247"
        ],
        [
         "22",
         "32.0",
         "63",
         "1",
         "145.0",
         "85.0",
         "2",
         "2",
         "0",
         "0",
         "1",
         "1",
         "36.05191475725044"
        ],
        [
         "23",
         "33.0",
         "64",
         "2",
         "110.0",
         "60.0",
         "1",
         "1",
         "0",
         "0",
         "1",
         "0",
         "18.49112426035503"
        ],
        [
         "24",
         "35.0",
         "45",
         "1",
         "150.0",
         "90.0",
         "3",
         "1",
         "0",
         "0",
         "1",
         "1",
         "23.529411764705884"
        ],
        [
         "25",
         "36.0",
         "39",
         "1",
         "130.0",
         "100.0",
         "2",
         "1",
         "0",
         "0",
         "1",
         "0",
         "27.76709812465291"
        ],
        [
         "26",
         "37.0",
         "53",
         "1",
         "130.0",
         "90.0",
         "1",
         "1",
         "0",
         "0",
         "1",
         "0",
         "24.243918474687703"
        ],
        [
         "27",
         "38.0",
         "49",
         "1",
         "120.0",
         "80.0",
         "1",
         "1",
         "0",
         "0",
         "1",
         "0",
         "30.853209920493647"
        ],
        [
         "28",
         "39.0",
         "39",
         "2",
         "120.0",
         "80.0",
         "1",
         "1",
         "0",
         "0",
         "1",
         "0",
         "23.95122659311947"
        ],
        [
         "29",
         "40.0",
         "57",
         "2",
         "130.0",
         "70.0",
         "1",
         "3",
         "0",
         "0",
         "0",
         "0",
         "25.909456951787405"
        ],
        [
         "30",
         "42.0",
         "50",
         "1",
         "120.0",
         "80.0",
         "3",
         "1",
         "0",
         "0",
         "1",
         "1",
         "43.7044745057232"
        ],
        [
         "31",
         "43.0",
         "63",
         "1",
         "140.0",
         "90.0",
         "3",
         "1",
         "0",
         "0",
         "1",
         "1",
         "24.859073561850078"
        ],
        [
         "32",
         "44.0",
         "40",
         "1",
         "110.0",
         "70.0",
         "1",
         "1",
         "0",
         "0",
         "1",
         "0",
         "23.73323840037973"
        ],
        [
         "33",
         "45.0",
         "56",
         "1",
         "130.0",
         "85.0",
         "1",
         "1",
         "0",
         "0",
         "0",
         "1",
         "28.515624999999993"
        ],
        [
         "34",
         "46.0",
         "60",
         "2",
         "140.0",
         "90.0",
         "3",
         "1",
         "0",
         "0",
         "0",
         "1",
         "27.39817568244846"
        ],
        [
         "35",
         "47.0",
         "55",
         "1",
         "120.0",
         "80.0",
         "1",
         "1",
         "0",
         "0",
         "1",
         "0",
         "20.70081674131507"
        ],
        [
         "36",
         "49.0",
         "50",
         "2",
         "120.0",
         "80.0",
         "1",
         "1",
         "0",
         "0",
         "1",
         "0",
         "31.020408163265305"
        ],
        [
         "37",
         "51.0",
         "49",
         "1",
         "130.0",
         "90.0",
         "1",
         "1",
         "0",
         "0",
         "1",
         "0",
         "26.026174895895306"
        ],
        [
         "38",
         "52.0",
         "64",
         "2",
         "130.0",
         "80.0",
         "1",
         "1",
         "1",
         "0",
         "1",
         "1",
         "27.43484224965706"
        ],
        [
         "39",
         "53.0",
         "49",
         "1",
         "140.0",
         "90.0",
         "1",
         "1",
         "0",
         "0",
         "1",
         "1",
         "25.71166207529844"
        ],
        [
         "40",
         "54.0",
         "54",
         "1",
         "110.0",
         "70.0",
         "1",
         "1",
         "0",
         "0",
         "0",
         "0",
         "25.153150229218223"
        ],
        [
         "41",
         "56.0",
         "50",
         "1",
         "110.0",
         "80.0",
         "1",
         "1",
         "0",
         "0",
         "1",
         "1",
         "21.461936624163616"
        ],
        [
         "42",
         "57.0",
         "58",
         "2",
         "140.0",
         "90.0",
         "1",
         "1",
         "0",
         "0",
         "1",
         "1",
         "23.59700420642249"
        ],
        [
         "43",
         "58.0",
         "56",
         "2",
         "120.0",
         "60.0",
         "1",
         "1",
         "0",
         "0",
         "1",
         "1",
         "24.919900320398717"
        ],
        [
         "44",
         "59.0",
         "54",
         "1",
         "170.0",
         "80.0",
         "3",
         "1",
         "0",
         "0",
         "1",
         "1",
         "21.0828132906055"
        ],
        [
         "45",
         "60.0",
         "47",
         "1",
         "140.0",
         "90.0",
         "1",
         "1",
         "0",
         "0",
         "1",
         "1",
         "24.38652644413961"
        ],
        [
         "46",
         "61.0",
         "49",
         "1",
         "150.0",
         "90.0",
         "2",
         "1",
         "0",
         "0",
         "1",
         "1",
         "40.77122389879591"
        ],
        [
         "47",
         "62.0",
         "50",
         "2",
         "120.0",
         "80.0",
         "1",
         "1",
         "0",
         "0",
         "0",
         "0",
         "24.44727891156463"
        ],
        [
         "48",
         "63.0",
         "46",
         "2",
         "120.0",
         "80.0",
         "2",
         "1",
         "0",
         "0",
         "1",
         "0",
         "22.857142857142858"
        ],
        [
         "49",
         "64.0",
         "43",
         "1",
         "120.0",
         "70.0",
         "1",
         "1",
         "0",
         "0",
         "1",
         "0",
         "23.87543252595156"
        ]
       ],
       "shape": {
        "columns": 12,
        "rows": 70000
       }
      },
      "text/html": [
       "<div>\n",
       "<style scoped>\n",
       "    .dataframe tbody tr th:only-of-type {\n",
       "        vertical-align: middle;\n",
       "    }\n",
       "\n",
       "    .dataframe tbody tr th {\n",
       "        vertical-align: top;\n",
       "    }\n",
       "\n",
       "    .dataframe thead th {\n",
       "        text-align: right;\n",
       "    }\n",
       "</style>\n",
       "<table border=\"1\" class=\"dataframe\">\n",
       "  <thead>\n",
       "    <tr style=\"text-align: right;\">\n",
       "      <th></th>\n",
       "      <th>id</th>\n",
       "      <th>age</th>\n",
       "      <th>gender</th>\n",
       "      <th>ap_hi</th>\n",
       "      <th>ap_lo</th>\n",
       "      <th>cholesterol</th>\n",
       "      <th>gluc</th>\n",
       "      <th>smoke</th>\n",
       "      <th>alco</th>\n",
       "      <th>active</th>\n",
       "      <th>cardio</th>\n",
       "      <th>BMI</th>\n",
       "    </tr>\n",
       "  </thead>\n",
       "  <tbody>\n",
       "    <tr>\n",
       "      <th>0</th>\n",
       "      <td>0.0</td>\n",
       "      <td>50</td>\n",
       "      <td>2</td>\n",
       "      <td>110.0</td>\n",
       "      <td>80.0</td>\n",
       "      <td>1</td>\n",
       "      <td>1</td>\n",
       "      <td>0</td>\n",
       "      <td>0</td>\n",
       "      <td>1</td>\n",
       "      <td>0</td>\n",
       "      <td>21.967120</td>\n",
       "    </tr>\n",
       "    <tr>\n",
       "      <th>1</th>\n",
       "      <td>1.0</td>\n",
       "      <td>55</td>\n",
       "      <td>1</td>\n",
       "      <td>140.0</td>\n",
       "      <td>90.0</td>\n",
       "      <td>3</td>\n",
       "      <td>1</td>\n",
       "      <td>0</td>\n",
       "      <td>0</td>\n",
       "      <td>1</td>\n",
       "      <td>1</td>\n",
       "      <td>34.927679</td>\n",
       "    </tr>\n",
       "    <tr>\n",
       "      <th>2</th>\n",
       "      <td>2.0</td>\n",
       "      <td>51</td>\n",
       "      <td>1</td>\n",
       "      <td>130.0</td>\n",
       "      <td>70.0</td>\n",
       "      <td>3</td>\n",
       "      <td>1</td>\n",
       "      <td>0</td>\n",
       "      <td>0</td>\n",
       "      <td>0</td>\n",
       "      <td>1</td>\n",
       "      <td>23.507805</td>\n",
       "    </tr>\n",
       "    <tr>\n",
       "      <th>3</th>\n",
       "      <td>3.0</td>\n",
       "      <td>48</td>\n",
       "      <td>2</td>\n",
       "      <td>150.0</td>\n",
       "      <td>100.0</td>\n",
       "      <td>1</td>\n",
       "      <td>1</td>\n",
       "      <td>0</td>\n",
       "      <td>0</td>\n",
       "      <td>1</td>\n",
       "      <td>1</td>\n",
       "      <td>28.710479</td>\n",
       "    </tr>\n",
       "    <tr>\n",
       "      <th>4</th>\n",
       "      <td>4.0</td>\n",
       "      <td>47</td>\n",
       "      <td>1</td>\n",
       "      <td>100.0</td>\n",
       "      <td>60.0</td>\n",
       "      <td>1</td>\n",
       "      <td>1</td>\n",
       "      <td>0</td>\n",
       "      <td>0</td>\n",
       "      <td>0</td>\n",
       "      <td>0</td>\n",
       "      <td>23.011177</td>\n",
       "    </tr>\n",
       "    <tr>\n",
       "      <th>...</th>\n",
       "      <td>...</td>\n",
       "      <td>...</td>\n",
       "      <td>...</td>\n",
       "      <td>...</td>\n",
       "      <td>...</td>\n",
       "      <td>...</td>\n",
       "      <td>...</td>\n",
       "      <td>...</td>\n",
       "      <td>...</td>\n",
       "      <td>...</td>\n",
       "      <td>...</td>\n",
       "      <td>...</td>\n",
       "    </tr>\n",
       "    <tr>\n",
       "      <th>69995</th>\n",
       "      <td>99993.0</td>\n",
       "      <td>52</td>\n",
       "      <td>2</td>\n",
       "      <td>120.0</td>\n",
       "      <td>80.0</td>\n",
       "      <td>1</td>\n",
       "      <td>1</td>\n",
       "      <td>1</td>\n",
       "      <td>0</td>\n",
       "      <td>1</td>\n",
       "      <td>0</td>\n",
       "      <td>26.927438</td>\n",
       "    </tr>\n",
       "    <tr>\n",
       "      <th>69996</th>\n",
       "      <td>99995.0</td>\n",
       "      <td>61</td>\n",
       "      <td>1</td>\n",
       "      <td>140.0</td>\n",
       "      <td>90.0</td>\n",
       "      <td>2</td>\n",
       "      <td>2</td>\n",
       "      <td>0</td>\n",
       "      <td>0</td>\n",
       "      <td>1</td>\n",
       "      <td>1</td>\n",
       "      <td>50.472681</td>\n",
       "    </tr>\n",
       "    <tr>\n",
       "      <th>69997</th>\n",
       "      <td>99996.0</td>\n",
       "      <td>52</td>\n",
       "      <td>2</td>\n",
       "      <td>180.0</td>\n",
       "      <td>90.0</td>\n",
       "      <td>3</td>\n",
       "      <td>1</td>\n",
       "      <td>0</td>\n",
       "      <td>1</td>\n",
       "      <td>0</td>\n",
       "      <td>1</td>\n",
       "      <td>31.353579</td>\n",
       "    </tr>\n",
       "    <tr>\n",
       "      <th>69998</th>\n",
       "      <td>99998.0</td>\n",
       "      <td>61</td>\n",
       "      <td>1</td>\n",
       "      <td>135.0</td>\n",
       "      <td>80.0</td>\n",
       "      <td>1</td>\n",
       "      <td>2</td>\n",
       "      <td>0</td>\n",
       "      <td>0</td>\n",
       "      <td>0</td>\n",
       "      <td>1</td>\n",
       "      <td>27.099251</td>\n",
       "    </tr>\n",
       "    <tr>\n",
       "      <th>69999</th>\n",
       "      <td>99999.0</td>\n",
       "      <td>56</td>\n",
       "      <td>1</td>\n",
       "      <td>120.0</td>\n",
       "      <td>80.0</td>\n",
       "      <td>2</td>\n",
       "      <td>1</td>\n",
       "      <td>0</td>\n",
       "      <td>0</td>\n",
       "      <td>1</td>\n",
       "      <td>0</td>\n",
       "      <td>24.913495</td>\n",
       "    </tr>\n",
       "  </tbody>\n",
       "</table>\n",
       "<p>70000 rows × 12 columns</p>\n",
       "</div>"
      ],
      "text/plain": [
       "            id  age  gender  ap_hi  ap_lo  cholesterol  gluc  smoke  alco  \\\n",
       "0          0.0   50       2  110.0   80.0            1     1      0     0   \n",
       "1          1.0   55       1  140.0   90.0            3     1      0     0   \n",
       "2          2.0   51       1  130.0   70.0            3     1      0     0   \n",
       "3          3.0   48       2  150.0  100.0            1     1      0     0   \n",
       "4          4.0   47       1  100.0   60.0            1     1      0     0   \n",
       "...        ...  ...     ...    ...    ...          ...   ...    ...   ...   \n",
       "69995  99993.0   52       2  120.0   80.0            1     1      1     0   \n",
       "69996  99995.0   61       1  140.0   90.0            2     2      0     0   \n",
       "69997  99996.0   52       2  180.0   90.0            3     1      0     1   \n",
       "69998  99998.0   61       1  135.0   80.0            1     2      0     0   \n",
       "69999  99999.0   56       1  120.0   80.0            2     1      0     0   \n",
       "\n",
       "       active  cardio        BMI  \n",
       "0           1       0  21.967120  \n",
       "1           1       1  34.927679  \n",
       "2           0       1  23.507805  \n",
       "3           1       1  28.710479  \n",
       "4           0       0  23.011177  \n",
       "...       ...     ...        ...  \n",
       "69995       1       0  26.927438  \n",
       "69996       1       1  50.472681  \n",
       "69997       0       1  31.353579  \n",
       "69998       0       1  27.099251  \n",
       "69999       1       0  24.913495  \n",
       "\n",
       "[70000 rows x 12 columns]"
      ]
     },
     "execution_count": 14,
     "metadata": {},
     "output_type": "execute_result"
    }
   ],
   "source": [
    "# copying the clean dataset to use for analysis\n",
    "df_clean=df_new2.drop([\"height\",\"weight\"],axis=1).copy()\n",
    "df_clean"
   ]
  },
  {
   "cell_type": "markdown",
   "id": "32be4108",
   "metadata": {},
   "source": [
    "## **Exploratory Data Analysis**"
   ]
  },
  {
   "cell_type": "markdown",
   "id": "27afbff9",
   "metadata": {},
   "source": [
    "## *Dataset's Description*"
   ]
  },
  {
   "cell_type": "code",
   "execution_count": 15,
   "id": "abd04992",
   "metadata": {},
   "outputs": [
    {
     "data": {
      "application/vnd.microsoft.datawrangler.viewer.v0+json": {
       "columns": [
        {
         "name": "index",
         "rawType": "object",
         "type": "string"
        },
        {
         "name": "id",
         "rawType": "float64",
         "type": "float"
        },
        {
         "name": "age",
         "rawType": "float64",
         "type": "float"
        },
        {
         "name": "gender",
         "rawType": "float64",
         "type": "float"
        },
        {
         "name": "ap_hi",
         "rawType": "float64",
         "type": "float"
        },
        {
         "name": "ap_lo",
         "rawType": "float64",
         "type": "float"
        },
        {
         "name": "cholesterol",
         "rawType": "float64",
         "type": "float"
        },
        {
         "name": "gluc",
         "rawType": "float64",
         "type": "float"
        },
        {
         "name": "smoke",
         "rawType": "float64",
         "type": "float"
        },
        {
         "name": "alco",
         "rawType": "float64",
         "type": "float"
        },
        {
         "name": "active",
         "rawType": "float64",
         "type": "float"
        },
        {
         "name": "cardio",
         "rawType": "float64",
         "type": "float"
        },
        {
         "name": "BMI",
         "rawType": "float64",
         "type": "float"
        }
       ],
       "ref": "1fa8029a-aada-49aa-b922-ecefc117fb84",
       "rows": [
        [
         "count",
         "70000.0",
         "70000.0",
         "70000.0",
         "70000.0",
         "70000.0",
         "70000.0",
         "70000.0",
         "70000.0",
         "70000.0",
         "70000.0",
         "70000.0",
         "70000.0"
        ],
        [
         "mean",
         "49972.4199",
         "52.840671428571426",
         "1.3495714285714286",
         "128.8172857142857",
         "96.63041428571428",
         "1.3668714285714285",
         "1.226457142857143",
         "0.08812857142857143",
         "0.053771428571428574",
         "0.8037285714285715",
         "0.4997",
         "27.55651255127886"
        ],
        [
         "std",
         "28851.30232317303",
         "6.766773653742024",
         "0.47683801558294814",
         "154.01141945605565",
         "188.47253029643605",
         "0.6802503486997775",
         "0.5722702766136001",
         "0.28348381677011014",
         "0.22556770360401027",
         "0.3971790635048892",
         "0.5000034814661523",
         "6.091511123386126"
        ],
        [
         "min",
         "0.0",
         "29.0",
         "1.0",
         "-150.0",
         "-70.0",
         "1.0",
         "1.0",
         "0.0",
         "0.0",
         "0.0",
         "0.0",
         "3.471783865673526"
        ],
        [
         "25%",
         "25006.75",
         "48.0",
         "1.0",
         "120.0",
         "80.0",
         "1.0",
         "1.0",
         "0.0",
         "0.0",
         "1.0",
         "0.0",
         "23.875114784205696"
        ],
        [
         "50%",
         "50001.5",
         "53.0",
         "1.0",
         "120.0",
         "80.0",
         "1.0",
         "1.0",
         "0.0",
         "0.0",
         "1.0",
         "0.0",
         "26.374068120774975"
        ],
        [
         "75%",
         "74889.25",
         "58.0",
         "2.0",
         "140.0",
         "90.0",
         "2.0",
         "1.0",
         "0.0",
         "0.0",
         "1.0",
         "1.0",
         "30.22222222222222"
        ],
        [
         "max",
         "99999.0",
         "64.0",
         "2.0",
         "16020.0",
         "11000.0",
         "3.0",
         "3.0",
         "1.0",
         "1.0",
         "1.0",
         "1.0",
         "298.6666666666667"
        ]
       ],
       "shape": {
        "columns": 12,
        "rows": 8
       }
      },
      "text/html": [
       "<div>\n",
       "<style scoped>\n",
       "    .dataframe tbody tr th:only-of-type {\n",
       "        vertical-align: middle;\n",
       "    }\n",
       "\n",
       "    .dataframe tbody tr th {\n",
       "        vertical-align: top;\n",
       "    }\n",
       "\n",
       "    .dataframe thead th {\n",
       "        text-align: right;\n",
       "    }\n",
       "</style>\n",
       "<table border=\"1\" class=\"dataframe\">\n",
       "  <thead>\n",
       "    <tr style=\"text-align: right;\">\n",
       "      <th></th>\n",
       "      <th>id</th>\n",
       "      <th>age</th>\n",
       "      <th>gender</th>\n",
       "      <th>ap_hi</th>\n",
       "      <th>ap_lo</th>\n",
       "      <th>cholesterol</th>\n",
       "      <th>gluc</th>\n",
       "      <th>smoke</th>\n",
       "      <th>alco</th>\n",
       "      <th>active</th>\n",
       "      <th>cardio</th>\n",
       "      <th>BMI</th>\n",
       "    </tr>\n",
       "  </thead>\n",
       "  <tbody>\n",
       "    <tr>\n",
       "      <th>count</th>\n",
       "      <td>70000.000000</td>\n",
       "      <td>70000.000000</td>\n",
       "      <td>70000.000000</td>\n",
       "      <td>70000.000000</td>\n",
       "      <td>70000.000000</td>\n",
       "      <td>70000.000000</td>\n",
       "      <td>70000.000000</td>\n",
       "      <td>70000.000000</td>\n",
       "      <td>70000.000000</td>\n",
       "      <td>70000.000000</td>\n",
       "      <td>70000.000000</td>\n",
       "      <td>70000.000000</td>\n",
       "    </tr>\n",
       "    <tr>\n",
       "      <th>mean</th>\n",
       "      <td>49972.419900</td>\n",
       "      <td>52.840671</td>\n",
       "      <td>1.349571</td>\n",
       "      <td>128.817286</td>\n",
       "      <td>96.630414</td>\n",
       "      <td>1.366871</td>\n",
       "      <td>1.226457</td>\n",
       "      <td>0.088129</td>\n",
       "      <td>0.053771</td>\n",
       "      <td>0.803729</td>\n",
       "      <td>0.499700</td>\n",
       "      <td>27.556513</td>\n",
       "    </tr>\n",
       "    <tr>\n",
       "      <th>std</th>\n",
       "      <td>28851.302323</td>\n",
       "      <td>6.766774</td>\n",
       "      <td>0.476838</td>\n",
       "      <td>154.011419</td>\n",
       "      <td>188.472530</td>\n",
       "      <td>0.680250</td>\n",
       "      <td>0.572270</td>\n",
       "      <td>0.283484</td>\n",
       "      <td>0.225568</td>\n",
       "      <td>0.397179</td>\n",
       "      <td>0.500003</td>\n",
       "      <td>6.091511</td>\n",
       "    </tr>\n",
       "    <tr>\n",
       "      <th>min</th>\n",
       "      <td>0.000000</td>\n",
       "      <td>29.000000</td>\n",
       "      <td>1.000000</td>\n",
       "      <td>-150.000000</td>\n",
       "      <td>-70.000000</td>\n",
       "      <td>1.000000</td>\n",
       "      <td>1.000000</td>\n",
       "      <td>0.000000</td>\n",
       "      <td>0.000000</td>\n",
       "      <td>0.000000</td>\n",
       "      <td>0.000000</td>\n",
       "      <td>3.471784</td>\n",
       "    </tr>\n",
       "    <tr>\n",
       "      <th>25%</th>\n",
       "      <td>25006.750000</td>\n",
       "      <td>48.000000</td>\n",
       "      <td>1.000000</td>\n",
       "      <td>120.000000</td>\n",
       "      <td>80.000000</td>\n",
       "      <td>1.000000</td>\n",
       "      <td>1.000000</td>\n",
       "      <td>0.000000</td>\n",
       "      <td>0.000000</td>\n",
       "      <td>1.000000</td>\n",
       "      <td>0.000000</td>\n",
       "      <td>23.875115</td>\n",
       "    </tr>\n",
       "    <tr>\n",
       "      <th>50%</th>\n",
       "      <td>50001.500000</td>\n",
       "      <td>53.000000</td>\n",
       "      <td>1.000000</td>\n",
       "      <td>120.000000</td>\n",
       "      <td>80.000000</td>\n",
       "      <td>1.000000</td>\n",
       "      <td>1.000000</td>\n",
       "      <td>0.000000</td>\n",
       "      <td>0.000000</td>\n",
       "      <td>1.000000</td>\n",
       "      <td>0.000000</td>\n",
       "      <td>26.374068</td>\n",
       "    </tr>\n",
       "    <tr>\n",
       "      <th>75%</th>\n",
       "      <td>74889.250000</td>\n",
       "      <td>58.000000</td>\n",
       "      <td>2.000000</td>\n",
       "      <td>140.000000</td>\n",
       "      <td>90.000000</td>\n",
       "      <td>2.000000</td>\n",
       "      <td>1.000000</td>\n",
       "      <td>0.000000</td>\n",
       "      <td>0.000000</td>\n",
       "      <td>1.000000</td>\n",
       "      <td>1.000000</td>\n",
       "      <td>30.222222</td>\n",
       "    </tr>\n",
       "    <tr>\n",
       "      <th>max</th>\n",
       "      <td>99999.000000</td>\n",
       "      <td>64.000000</td>\n",
       "      <td>2.000000</td>\n",
       "      <td>16020.000000</td>\n",
       "      <td>11000.000000</td>\n",
       "      <td>3.000000</td>\n",
       "      <td>3.000000</td>\n",
       "      <td>1.000000</td>\n",
       "      <td>1.000000</td>\n",
       "      <td>1.000000</td>\n",
       "      <td>1.000000</td>\n",
       "      <td>298.666667</td>\n",
       "    </tr>\n",
       "  </tbody>\n",
       "</table>\n",
       "</div>"
      ],
      "text/plain": [
       "                 id           age        gender         ap_hi         ap_lo  \\\n",
       "count  70000.000000  70000.000000  70000.000000  70000.000000  70000.000000   \n",
       "mean   49972.419900     52.840671      1.349571    128.817286     96.630414   \n",
       "std    28851.302323      6.766774      0.476838    154.011419    188.472530   \n",
       "min        0.000000     29.000000      1.000000   -150.000000    -70.000000   \n",
       "25%    25006.750000     48.000000      1.000000    120.000000     80.000000   \n",
       "50%    50001.500000     53.000000      1.000000    120.000000     80.000000   \n",
       "75%    74889.250000     58.000000      2.000000    140.000000     90.000000   \n",
       "max    99999.000000     64.000000      2.000000  16020.000000  11000.000000   \n",
       "\n",
       "        cholesterol          gluc         smoke          alco        active  \\\n",
       "count  70000.000000  70000.000000  70000.000000  70000.000000  70000.000000   \n",
       "mean       1.366871      1.226457      0.088129      0.053771      0.803729   \n",
       "std        0.680250      0.572270      0.283484      0.225568      0.397179   \n",
       "min        1.000000      1.000000      0.000000      0.000000      0.000000   \n",
       "25%        1.000000      1.000000      0.000000      0.000000      1.000000   \n",
       "50%        1.000000      1.000000      0.000000      0.000000      1.000000   \n",
       "75%        2.000000      1.000000      0.000000      0.000000      1.000000   \n",
       "max        3.000000      3.000000      1.000000      1.000000      1.000000   \n",
       "\n",
       "             cardio           BMI  \n",
       "count  70000.000000  70000.000000  \n",
       "mean       0.499700     27.556513  \n",
       "std        0.500003      6.091511  \n",
       "min        0.000000      3.471784  \n",
       "25%        0.000000     23.875115  \n",
       "50%        0.000000     26.374068  \n",
       "75%        1.000000     30.222222  \n",
       "max        1.000000    298.666667  "
      ]
     },
     "execution_count": 15,
     "metadata": {},
     "output_type": "execute_result"
    }
   ],
   "source": [
    "# describing the numerical columns\n",
    "df_clean.describe()"
   ]
  },
  {
   "cell_type": "markdown",
   "id": "9371159a",
   "metadata": {},
   "source": [
    "## *Distribution Plots*"
   ]
  },
  {
   "cell_type": "code",
   "execution_count": 16,
   "id": "4dd24fde",
   "metadata": {},
   "outputs": [
    {
     "name": "stderr",
     "output_type": "stream",
     "text": [
      "c:\\Users\\HomePC\\anaconda3.1\\Lib\\site-packages\\seaborn\\_oldcore.py:1119: FutureWarning: use_inf_as_na option is deprecated and will be removed in a future version. Convert inf values to NaN before operating instead.\n",
      "  with pd.option_context('mode.use_inf_as_na', True):\n"
     ]
    },
    {
     "data": {
      "image/png": "[encoded data removed]",
      "text/plain": [
       "<Figure size 1500x1000 with 1 Axes>"
      ]
     },
     "metadata": {},
     "output_type": "display_data"
    }
   ],
   "source": [
    "# Plot histogram of age in years\n",
    "plt.figure(figsize=(15,10))\n",
    "sns.histplot(x=\"age\", data=df_clean,kde=True)\n",
    "plt.xlabel(\"Age (years)\",color=\"g\")\n",
    "plt.title(\"Age Distribution\",color=\"g\")\n",
    "plt.show()"
   ]
  },
  {
   "cell_type": "markdown",
   "id": "cde8703f",
   "metadata": {},
   "source": [
    "We observe that the **age** variable is approximately **normally distributed**, with most values symmetrically centered around the **mean**. This suggests that age follows a bell-shaped distribution, which is useful for statistical modeling and inference.\n"
   ]
  },
  {
   "cell_type": "code",
   "execution_count": 17,
   "id": "f12e3279",
   "metadata": {},
   "outputs": [
    {
     "name": "stderr",
     "output_type": "stream",
     "text": [
      "c:\\Users\\HomePC\\anaconda3.1\\Lib\\site-packages\\seaborn\\_oldcore.py:1119: FutureWarning: use_inf_as_na option is deprecated and will be removed in a future version. Convert inf values to NaN before operating instead.\n",
      "  with pd.option_context('mode.use_inf_as_na', True):\n"
     ]
    },
    {
     "data": {
      "image/png": "[encoded data removed]",
      "text/plain": [
       "<Figure size 1500x1000 with 1 Axes>"
      ]
     },
     "metadata": {},
     "output_type": "display_data"
    }
   ],
   "source": [
    "\n",
    "# Plot BMI histogram\n",
    "plt.figure(figsize=(15,10))\n",
    "sns.histplot(x=\"BMI\", data=df_clean, kde=True, color='skyblue')\n",
    "\n",
    "# Add vertical lines for category thresholds\n",
    "plt.axvline(x=18.5, color='red', linestyle='--', label='Underweight threshold')\n",
    "plt.axvline(x=25, color='orange', linestyle='--', label='Overweight threshold')\n",
    "plt.axvline(x=30, color='darkred', linestyle='--', label='Obese threshold')\n",
    "\n",
    "# Customize plot\n",
    "plt.xlabel(\"Body Mass Index (BMI)\",color=\"g\")\n",
    "plt.title(\"BMI Distribution with Categories\",color=\"g\")\n",
    "plt.legend()\n",
    "plt.show()"
   ]
  },
  {
   "cell_type": "markdown",
   "id": "94b68582",
   "metadata": {},
   "source": [
    " The **BMI** variable appears to be **normally distributed**, with most values symmetrically centered around the **overweight threshold**. \n"
   ]
  },
  {
   "cell_type": "code",
   "execution_count": 18,
   "id": "e22a1cc5",
   "metadata": {},
   "outputs": [
    {
     "data": {
      "image/png": "[encoded data removed]",
      "text/plain": [
       "<Figure size 1500x1000 with 1 Axes>"
      ]
     },
     "metadata": {},
     "output_type": "display_data"
    }
   ],
   "source": [
    "# Create a bar plot of gender distribution\n",
    "gender_value_counts=df_new2[\"gender\"].value_counts()\n",
    "plt.figure(figsize=(15, 10))  \n",
    "sns.barplot(x=gender_value_counts.index, y=gender_value_counts.values)\n",
    "\n",
    "# Add labels and title\n",
    "plt.xlabel(\"Gender\",color=\"g\")\n",
    "plt.ylabel(\"Count\",color=\"g\")\n",
    "plt.title(\"Gender Distribution\",color=\"g\")\n",
    "plt.xticks([0,1],[\"female\",\"male\"])\n",
    "plt.show()\n"
   ]
  },
  {
   "cell_type": "markdown",
   "id": "b788b007",
   "metadata": {},
   "source": [
    "There are significantly more records for **females** than **males** in the dataset. This imbalance could **skew the analysis**, particularly in any comparisons or models involving gender as a factor.\n"
   ]
  },
  {
   "cell_type": "code",
   "execution_count": 19,
   "id": "ad5a3626",
   "metadata": {},
   "outputs": [
    {
     "data": {
      "image/png": "[encoded data removed]",
      "text/plain": [
       "<Figure size 640x480 with 1 Axes>"
      ]
     },
     "metadata": {},
     "output_type": "display_data"
    }
   ],
   "source": [
    "# Get value counts of the target variable\n",
    "cardio_counts = df_clean[\"cardio\"].value_counts()\n",
    "\n",
    "# Create the figure and bar plot\n",
    "plt.Figure(figsize=(10, 6))  \n",
    "sns.barplot(x=cardio_counts.index, y=cardio_counts.values, palette=\"pastel\")\n",
    "\n",
    "# Add labels and title\n",
    "plt.xlabel(\"Cardiovascular Disease (0 = No, 1 = Yes)\",color=\"g\")\n",
    "plt.ylabel(\"Count\",color=\"g\")\n",
    "plt.title(\"Distribution of Cardiovascular Disease\",color=\"g\")\n",
    "plt.xticks([0, 1], [\"No\", \"Yes\"])\n",
    "\n",
    "plt.show()\n"
   ]
  },
  {
   "cell_type": "markdown",
   "id": "2d47f5ab",
   "metadata": {},
   "source": [
    "The dataset contains an approximately **equal number of individuals with and without cardiovascular disease**, indicating that the target variable is **balanced**. This is beneficial for training machine learning models, as it reduces the risk of bias toward one class.\n"
   ]
  },
  {
   "cell_type": "code",
   "execution_count": 20,
   "id": "457a4af5",
   "metadata": {},
   "outputs": [
    {
     "data": {
      "application/vnd.microsoft.datawrangler.viewer.v0+json": {
       "columns": [
        {
         "name": "index",
         "rawType": "object",
         "type": "string"
        },
        {
         "name": "id",
         "rawType": "float64",
         "type": "float"
        },
        {
         "name": "age",
         "rawType": "float64",
         "type": "float"
        },
        {
         "name": "gender",
         "rawType": "float64",
         "type": "float"
        },
        {
         "name": "ap_hi",
         "rawType": "float64",
         "type": "float"
        },
        {
         "name": "ap_lo",
         "rawType": "float64",
         "type": "float"
        },
        {
         "name": "cholesterol",
         "rawType": "float64",
         "type": "float"
        },
        {
         "name": "gluc",
         "rawType": "float64",
         "type": "float"
        },
        {
         "name": "smoke",
         "rawType": "float64",
         "type": "float"
        },
        {
         "name": "alco",
         "rawType": "float64",
         "type": "float"
        },
        {
         "name": "active",
         "rawType": "float64",
         "type": "float"
        },
        {
         "name": "cardio",
         "rawType": "float64",
         "type": "float"
        },
        {
         "name": "BMI",
         "rawType": "float64",
         "type": "float"
        }
       ],
       "ref": "2fc5931d-79f5-445a-b9b5-40a605e86ad7",
       "rows": [
        [
         "id",
         "1.0",
         "0.0038137691554544608",
         "0.0035021845700989574",
         "0.003355598989531834",
         "-0.0025292803231140343",
         "0.00610620024973602",
         "0.002466780494578981",
         "-0.0036991622969064",
         "0.0012099459478550287",
         "0.0037551157716102933",
         "0.003799389187199488",
         "-0.0013767267248328012"
        ],
        [
         "age",
         "0.0038137691554544608",
         "1.0",
         "-0.022913175749438002",
         "0.02085430142995852",
         "0.017619570055546974",
         "0.15401243415103374",
         "0.09838821308452403",
         "-0.04764851888112568",
         "-0.0297563299468795",
         "-0.009998445459746727",
         "0.23798455608391145",
         "0.0854041974663189"
        ],
        [
         "gender",
         "0.0035021845700989574",
         "-0.022913175749438002",
         "1.0",
         "0.006005308571620904",
         "0.015253971163320432",
         "-0.0358214127770641",
         "-0.02049103516648686",
         "0.33813513635809417",
         "0.17096642854779198",
         "0.005865669226986622",
         "0.008109491913122303",
         "-0.09652917572947907"
        ],
        [
         "ap_hi",
         "0.003355598989531834",
         "0.02085430142995852",
         "0.006005308571620904",
         "1.0",
         "0.01608551340342334",
         "0.023777921557725793",
         "0.011840678012419897",
         "-0.0009220248295481186",
         "0.0014083334478667436",
         "-3.300248323400749e-05",
         "0.05447505392686579",
         "0.024852281717412786"
        ],
        [
         "ap_lo",
         "-0.0025292803231140343",
         "0.017619570055546974",
         "0.015253971163320432",
         "0.01608551340342334",
         "1.0",
         "0.024019290309646148",
         "0.010805665500819218",
         "0.005186130383569325",
         "0.010601240270464435",
         "0.004780258150921079",
         "0.06571869614919028",
         "0.03534484380396229"
        ],
        [
         "cholesterol",
         "0.00610620024973602",
         "0.15401243415103374",
         "-0.0358214127770641",
         "0.023777921557725793",
         "0.024019290309646148",
         "1.0",
         "0.4515775236757577",
         "0.010354415140989677",
         "0.03576038557125919",
         "0.009911297489836778",
         "0.2211472739123984",
         "0.1462704645337826"
        ],
        [
         "gluc",
         "0.002466780494578981",
         "0.09838821308452403",
         "-0.02049103516648686",
         "0.011840678012419897",
         "0.010805665500819218",
         "0.4515775236757577",
         "1.0",
         "-0.004756483147566192",
         "0.011245770627447247",
         "-0.006769518191165523",
         "0.08930688732430264",
         "0.10138997214768843"
        ],
        [
         "smoke",
         "-0.0036991622969064",
         "-0.04764851888112568",
         "0.33813513635809417",
         "-0.0009220248295481186",
         "0.005186130383569325",
         "0.010354415140989677",
         "-0.004756483147566192",
         "1.0",
         "0.34009376786968487",
         "0.025857968781841368",
         "-0.015485935661367784",
         "-0.02721468659454858"
        ],
        [
         "alco",
         "0.0012099459478550287",
         "-0.0297563299468795",
         "0.17096642854779198",
         "0.0014083334478667436",
         "0.010601240270464435",
         "0.03576038557125919",
         "0.011245770627447247",
         "0.34009376786968487",
         "1.0",
         "0.025475829204264746",
         "-0.007330231723202663",
         "0.014393518187003938"
        ],
        [
         "active",
         "0.0037551157716102933",
         "-0.009998445459746727",
         "0.005865669226986622",
         "-3.300248323400749e-05",
         "0.004780258150921079",
         "0.009911297489836778",
         "-0.006769518191165523",
         "0.025857968781841368",
         "0.025475829204264746",
         "1.0",
         "-0.03565324811519037",
         "-0.014261085424626329"
        ],
        [
         "cardio",
         "0.003799389187199488",
         "0.23798455608391145",
         "0.008109491913122303",
         "0.05447505392686579",
         "0.06571869614919028",
         "0.2211472739123984",
         "0.08930688732430264",
         "-0.015485935661367784",
         "-0.007330231723202663",
         "-0.03565324811519037",
         "1.0",
         "0.16563209273915375"
        ],
        [
         "BMI",
         "-0.0013767267248328012",
         "0.0854041974663189",
         "-0.09652917572947907",
         "0.024852281717412786",
         "0.03534484380396229",
         "0.1462704645337826",
         "0.10138997214768843",
         "-0.02721468659454858",
         "0.014393518187003938",
         "-0.014261085424626329",
         "0.16563209273915375",
         "1.0"
        ]
       ],
       "shape": {
        "columns": 12,
        "rows": 12
       }
      },
      "text/html": [
       "<div>\n",
       "<style scoped>\n",
       "    .dataframe tbody tr th:only-of-type {\n",
       "        vertical-align: middle;\n",
       "    }\n",
       "\n",
       "    .dataframe tbody tr th {\n",
       "        vertical-align: top;\n",
       "    }\n",
       "\n",
       "    .dataframe thead th {\n",
       "        text-align: right;\n",
       "    }\n",
       "</style>\n",
       "<table border=\"1\" class=\"dataframe\">\n",
       "  <thead>\n",
       "    <tr style=\"text-align: right;\">\n",
       "      <th></th>\n",
       "      <th>id</th>\n",
       "      <th>age</th>\n",
       "      <th>gender</th>\n",
       "      <th>ap_hi</th>\n",
       "      <th>ap_lo</th>\n",
       "      <th>cholesterol</th>\n",
       "      <th>gluc</th>\n",
       "      <th>smoke</th>\n",
       "      <th>alco</th>\n",
       "      <th>active</th>\n",
       "      <th>cardio</th>\n",
       "      <th>BMI</th>\n",
       "    </tr>\n",
       "  </thead>\n",
       "  <tbody>\n",
       "    <tr>\n",
       "      <th>id</th>\n",
       "      <td>1.000000</td>\n",
       "      <td>0.003814</td>\n",
       "      <td>0.003502</td>\n",
       "      <td>0.003356</td>\n",
       "      <td>-0.002529</td>\n",
       "      <td>0.006106</td>\n",
       "      <td>0.002467</td>\n",
       "      <td>-0.003699</td>\n",
       "      <td>0.001210</td>\n",
       "      <td>0.003755</td>\n",
       "      <td>0.003799</td>\n",
       "      <td>-0.001377</td>\n",
       "    </tr>\n",
       "    <tr>\n",
       "      <th>age</th>\n",
       "      <td>0.003814</td>\n",
       "      <td>1.000000</td>\n",
       "      <td>-0.022913</td>\n",
       "      <td>0.020854</td>\n",
       "      <td>0.017620</td>\n",
       "      <td>0.154012</td>\n",
       "      <td>0.098388</td>\n",
       "      <td>-0.047649</td>\n",
       "      <td>-0.029756</td>\n",
       "      <td>-0.009998</td>\n",
       "      <td>0.237985</td>\n",
       "      <td>0.085404</td>\n",
       "    </tr>\n",
       "    <tr>\n",
       "      <th>gender</th>\n",
       "      <td>0.003502</td>\n",
       "      <td>-0.022913</td>\n",
       "      <td>1.000000</td>\n",
       "      <td>0.006005</td>\n",
       "      <td>0.015254</td>\n",
       "      <td>-0.035821</td>\n",
       "      <td>-0.020491</td>\n",
       "      <td>0.338135</td>\n",
       "      <td>0.170966</td>\n",
       "      <td>0.005866</td>\n",
       "      <td>0.008109</td>\n",
       "      <td>-0.096529</td>\n",
       "    </tr>\n",
       "    <tr>\n",
       "      <th>ap_hi</th>\n",
       "      <td>0.003356</td>\n",
       "      <td>0.020854</td>\n",
       "      <td>0.006005</td>\n",
       "      <td>1.000000</td>\n",
       "      <td>0.016086</td>\n",
       "      <td>0.023778</td>\n",
       "      <td>0.011841</td>\n",
       "      <td>-0.000922</td>\n",
       "      <td>0.001408</td>\n",
       "      <td>-0.000033</td>\n",
       "      <td>0.054475</td>\n",
       "      <td>0.024852</td>\n",
       "    </tr>\n",
       "    <tr>\n",
       "      <th>ap_lo</th>\n",
       "      <td>-0.002529</td>\n",
       "      <td>0.017620</td>\n",
       "      <td>0.015254</td>\n",
       "      <td>0.016086</td>\n",
       "      <td>1.000000</td>\n",
       "      <td>0.024019</td>\n",
       "      <td>0.010806</td>\n",
       "      <td>0.005186</td>\n",
       "      <td>0.010601</td>\n",
       "      <td>0.004780</td>\n",
       "      <td>0.065719</td>\n",
       "      <td>0.035345</td>\n",
       "    </tr>\n",
       "    <tr>\n",
       "      <th>cholesterol</th>\n",
       "      <td>0.006106</td>\n",
       "      <td>0.154012</td>\n",
       "      <td>-0.035821</td>\n",
       "      <td>0.023778</td>\n",
       "      <td>0.024019</td>\n",
       "      <td>1.000000</td>\n",
       "      <td>0.451578</td>\n",
       "      <td>0.010354</td>\n",
       "      <td>0.035760</td>\n",
       "      <td>0.009911</td>\n",
       "      <td>0.221147</td>\n",
       "      <td>0.146270</td>\n",
       "    </tr>\n",
       "    <tr>\n",
       "      <th>gluc</th>\n",
       "      <td>0.002467</td>\n",
       "      <td>0.098388</td>\n",
       "      <td>-0.020491</td>\n",
       "      <td>0.011841</td>\n",
       "      <td>0.010806</td>\n",
       "      <td>0.451578</td>\n",
       "      <td>1.000000</td>\n",
       "      <td>-0.004756</td>\n",
       "      <td>0.011246</td>\n",
       "      <td>-0.006770</td>\n",
       "      <td>0.089307</td>\n",
       "      <td>0.101390</td>\n",
       "    </tr>\n",
       "    <tr>\n",
       "      <th>smoke</th>\n",
       "      <td>-0.003699</td>\n",
       "      <td>-0.047649</td>\n",
       "      <td>0.338135</td>\n",
       "      <td>-0.000922</td>\n",
       "      <td>0.005186</td>\n",
       "      <td>0.010354</td>\n",
       "      <td>-0.004756</td>\n",
       "      <td>1.000000</td>\n",
       "      <td>0.340094</td>\n",
       "      <td>0.025858</td>\n",
       "      <td>-0.015486</td>\n",
       "      <td>-0.027215</td>\n",
       "    </tr>\n",
       "    <tr>\n",
       "      <th>alco</th>\n",
       "      <td>0.001210</td>\n",
       "      <td>-0.029756</td>\n",
       "      <td>0.170966</td>\n",
       "      <td>0.001408</td>\n",
       "      <td>0.010601</td>\n",
       "      <td>0.035760</td>\n",
       "      <td>0.011246</td>\n",
       "      <td>0.340094</td>\n",
       "      <td>1.000000</td>\n",
       "      <td>0.025476</td>\n",
       "      <td>-0.007330</td>\n",
       "      <td>0.014394</td>\n",
       "    </tr>\n",
       "    <tr>\n",
       "      <th>active</th>\n",
       "      <td>0.003755</td>\n",
       "      <td>-0.009998</td>\n",
       "      <td>0.005866</td>\n",
       "      <td>-0.000033</td>\n",
       "      <td>0.004780</td>\n",
       "      <td>0.009911</td>\n",
       "      <td>-0.006770</td>\n",
       "      <td>0.025858</td>\n",
       "      <td>0.025476</td>\n",
       "      <td>1.000000</td>\n",
       "      <td>-0.035653</td>\n",
       "      <td>-0.014261</td>\n",
       "    </tr>\n",
       "    <tr>\n",
       "      <th>cardio</th>\n",
       "      <td>0.003799</td>\n",
       "      <td>0.237985</td>\n",
       "      <td>0.008109</td>\n",
       "      <td>0.054475</td>\n",
       "      <td>0.065719</td>\n",
       "      <td>0.221147</td>\n",
       "      <td>0.089307</td>\n",
       "      <td>-0.015486</td>\n",
       "      <td>-0.007330</td>\n",
       "      <td>-0.035653</td>\n",
       "      <td>1.000000</td>\n",
       "      <td>0.165632</td>\n",
       "    </tr>\n",
       "    <tr>\n",
       "      <th>BMI</th>\n",
       "      <td>-0.001377</td>\n",
       "      <td>0.085404</td>\n",
       "      <td>-0.096529</td>\n",
       "      <td>0.024852</td>\n",
       "      <td>0.035345</td>\n",
       "      <td>0.146270</td>\n",
       "      <td>0.101390</td>\n",
       "      <td>-0.027215</td>\n",
       "      <td>0.014394</td>\n",
       "      <td>-0.014261</td>\n",
       "      <td>0.165632</td>\n",
       "      <td>1.000000</td>\n",
       "    </tr>\n",
       "  </tbody>\n",
       "</table>\n",
       "</div>"
      ],
      "text/plain": [
       "                   id       age    gender     ap_hi     ap_lo  cholesterol  \\\n",
       "id           1.000000  0.003814  0.003502  0.003356 -0.002529     0.006106   \n",
       "age          0.003814  1.000000 -0.022913  0.020854  0.017620     0.154012   \n",
       "gender       0.003502 -0.022913  1.000000  0.006005  0.015254    -0.035821   \n",
       "ap_hi        0.003356  0.020854  0.006005  1.000000  0.016086     0.023778   \n",
       "ap_lo       -0.002529  0.017620  0.015254  0.016086  1.000000     0.024019   \n",
       "cholesterol  0.006106  0.154012 -0.035821  0.023778  0.024019     1.000000   \n",
       "gluc         0.002467  0.098388 -0.020491  0.011841  0.010806     0.451578   \n",
       "smoke       -0.003699 -0.047649  0.338135 -0.000922  0.005186     0.010354   \n",
       "alco         0.001210 -0.029756  0.170966  0.001408  0.010601     0.035760   \n",
       "active       0.003755 -0.009998  0.005866 -0.000033  0.004780     0.009911   \n",
       "cardio       0.003799  0.237985  0.008109  0.054475  0.065719     0.221147   \n",
       "BMI         -0.001377  0.085404 -0.096529  0.024852  0.035345     0.146270   \n",
       "\n",
       "                 gluc     smoke      alco    active    cardio       BMI  \n",
       "id           0.002467 -0.003699  0.001210  0.003755  0.003799 -0.001377  \n",
       "age          0.098388 -0.047649 -0.029756 -0.009998  0.237985  0.085404  \n",
       "gender      -0.020491  0.338135  0.170966  0.005866  0.008109 -0.096529  \n",
       "ap_hi        0.011841 -0.000922  0.001408 -0.000033  0.054475  0.024852  \n",
       "ap_lo        0.010806  0.005186  0.010601  0.004780  0.065719  0.035345  \n",
       "cholesterol  0.451578  0.010354  0.035760  0.009911  0.221147  0.146270  \n",
       "gluc         1.000000 -0.004756  0.011246 -0.006770  0.089307  0.101390  \n",
       "smoke       -0.004756  1.000000  0.340094  0.025858 -0.015486 -0.027215  \n",
       "alco         0.011246  0.340094  1.000000  0.025476 -0.007330  0.014394  \n",
       "active      -0.006770  0.025858  0.025476  1.000000 -0.035653 -0.014261  \n",
       "cardio       0.089307 -0.015486 -0.007330 -0.035653  1.000000  0.165632  \n",
       "BMI          0.101390 -0.027215  0.014394 -0.014261  0.165632  1.000000  "
      ]
     },
     "execution_count": 20,
     "metadata": {},
     "output_type": "execute_result"
    },
    {
     "data": {
      "image/png": "[encoded data removed]",
      "text/plain": [
       "<Figure size 1500x1000 with 2 Axes>"
      ]
     },
     "metadata": {},
     "output_type": "display_data"
    }
   ],
   "source": [
    "# plotting a correlation matrix\n",
    "correlation_matrix=df_clean.corr()\n",
    "plt.figure(figsize=(15,10))\n",
    "sns.heatmap(correlation_matrix,annot=True,cmap=\"coolwarm\",linewidths=0.5,fmt='2f')\n",
    "correlation_matrix"
   ]
  },
  {
   "cell_type": "markdown",
   "id": "35598b1d",
   "metadata": {},
   "source": [
    "## *Bar plots of each predictor variable against the target variable*"
   ]
  },
  {
   "cell_type": "markdown",
   "id": "9ed6c338",
   "metadata": {},
   "source": [
    "### *Cardio Condition By Smoking Status*"
   ]
  },
  {
   "cell_type": "code",
   "execution_count": 21,
   "id": "369114c5",
   "metadata": {},
   "outputs": [
    {
     "data": {
      "image/png": "[encoded data removed]",
      "text/plain": [
       "<Figure size 1500x700 with 1 Axes>"
      ]
     },
     "metadata": {},
     "output_type": "display_data"
    }
   ],
   "source": [
    "# plotting bar graph of smokers vs cardio\n",
    "grouped_smoker = df_clean.groupby([\"smoke\", \"cardio\"]).size().unstack()\n",
    "ax = grouped_smoker.plot(kind=\"bar\",figsize=(15,7))\n",
    "\n",
    "# Set custom x-axis labels\n",
    "ax.set_xticklabels([\"Non-smoker\", \"Smoker\"], rotation=0)\n",
    "plt.xlabel(\"Smoking Status\")\n",
    "plt.ylabel(\"Count\")\n",
    "plt.title(\"Cardio Condition by Smoking Status\")\n",
    "plt.legend(title=\"Cardio\")\n",
    "plt.tight_layout()\n",
    "plt.show()"
   ]
  },
  {
   "cell_type": "markdown",
   "id": "2419d932",
   "metadata": {},
   "source": [
    "We observe that **smokers and non-smokers exhibit a similar risk** of developing cardiovascular disease in this dataset. This suggests that, based on the available data, **smoking may not be a strong differentiating factor** for cardiovascular risk, though this could be influenced by other confounding variables.\n"
   ]
  },
  {
   "cell_type": "markdown",
   "id": "4c2c5af8",
   "metadata": {},
   "source": [
    "### *Cardio Condition By Alcohol Status*"
   ]
  },
  {
   "cell_type": "code",
   "execution_count": 22,
   "id": "33c19516",
   "metadata": {},
   "outputs": [
    {
     "data": {
      "image/png": "[encoded data removed]",
      "text/plain": [
       "<Figure size 1500x700 with 1 Axes>"
      ]
     },
     "metadata": {},
     "output_type": "display_data"
    }
   ],
   "source": [
    "# ploting bar graph of alcohol vs cardio\n",
    "grouped_alcohol = df_clean.groupby([\"alco\", \"cardio\"]).size().unstack()\n",
    "ax = grouped_alcohol.plot(kind=\"bar\",figsize=(15,7))\n",
    "\n",
    "# Set custom x-axis labels\n",
    "ax.set_xticklabels([\"Non-alcoholic\", \"alcoholic\"], rotation=0)\n",
    "plt.xlabel(\"alcohol Status\")\n",
    "plt.ylabel(\"Count\")\n",
    "plt.title(\"Cardio Condition by alcohol Status\")\n",
    "plt.legend(title=\"Cardio\")\n",
    "plt.tight_layout()\n",
    "plt.show()"
   ]
  },
  {
   "cell_type": "markdown",
   "id": "993a31e6",
   "metadata": {},
   "source": [
    "The data shows that **alcoholics and non-alcoholics have a similar risk** of developing cardiovascular disease. This suggests that **alcohol consumption may not be a distinguishing factor** for cardiovascular risk in this dataset, although other underlying variables could be at play.\n"
   ]
  },
  {
   "cell_type": "markdown",
   "id": "aff33a16",
   "metadata": {},
   "source": [
    "### *Cardio Condition By Cholesterol Level*"
   ]
  },
  {
   "cell_type": "code",
   "execution_count": 23,
   "id": "ac9cd8e8",
   "metadata": {},
   "outputs": [
    {
     "data": {
      "image/png": "[encoded data removed]",
      "text/plain": [
       "<Figure size 1500x700 with 1 Axes>"
      ]
     },
     "metadata": {},
     "output_type": "display_data"
    }
   ],
   "source": [
    "# plotting bar graph of smokers vs cardio\n",
    "grouped_chole = df_clean.groupby([\"cholesterol\", \"cardio\"]).size().unstack()\n",
    "ax = grouped_chole.plot(kind=\"bar\",figsize=(15,7))\n",
    "\n",
    "# Set custom x-axis labels\n",
    "ax.set_xticklabels([\"Normal\", \"above normal\",\"well above normal\"], rotation=0)\n",
    "plt.xlabel(\"Cholesterol Status\")\n",
    "plt.ylabel(\"Count\")\n",
    "plt.title(\"Cardio Condition by Cholesterol Status\")\n",
    "plt.legend(title=\"Cardio\")\n",
    "plt.tight_layout()\n",
    "plt.show()"
   ]
  },
  {
   "cell_type": "markdown",
   "id": "243cd36c",
   "metadata": {},
   "source": [
    "From the plot, we observe that individuals with **normal cholesterol levels** are at a **lower risk** of developing cardiovascular disease. In contrast, those with **well above normal** cholesterol levels face the **highest risk**, followed by those with **above normal** levels. This suggests a strong positive correlation between elevated cholesterol and cardiovascular risk.\n",
    "\n"
   ]
  },
  {
   "cell_type": "markdown",
   "id": "a354d8e6",
   "metadata": {},
   "source": [
    "### *Cardio Condition By Physical Activity*"
   ]
  },
  {
   "cell_type": "code",
   "execution_count": 24,
   "id": "6d9e59eb",
   "metadata": {},
   "outputs": [
    {
     "data": {
      "image/png": "[encoded data removed]",
      "text/plain": [
       "<Figure size 1500x700 with 1 Axes>"
      ]
     },
     "metadata": {},
     "output_type": "display_data"
    }
   ],
   "source": [
    "# plotting bar graph of physical activity vs cardio condition\n",
    "grouped_phyc = df_clean.groupby([\"active\", \"cardio\"]).size().unstack()\n",
    "ax = grouped_phyc.plot(kind=\"bar\",figsize=(15,7))\n",
    "\n",
    "# Set custom x-axis labels\n",
    "ax.set_xticklabels([\"Not active\", \"active\"], rotation=0)\n",
    "plt.xlabel(\"Physical Status\")\n",
    "plt.ylabel(\"Count\")\n",
    "plt.title(\"Cardio Condition by Physical Status\")\n",
    "plt.legend(title=\"Cardio\")\n",
    "plt.tight_layout()\n",
    "plt.show()"
   ]
  },
  {
   "cell_type": "markdown",
   "id": "4d07530b",
   "metadata": {},
   "source": [
    "From the plot, we observe that individuals who are **not physically active** have a **higher risk** of developing cardiovascular disease, while those who engage in **regular physical activity** show a **lower risk**. This highlights the potential protective effect of physical activity on heart health.\n"
   ]
  },
  {
   "cell_type": "markdown",
   "id": "8b0413be",
   "metadata": {},
   "source": [
    "### *Cardio Condition By Glucose Level*"
   ]
  },
  {
   "cell_type": "code",
   "execution_count": 25,
   "id": "19732f49",
   "metadata": {},
   "outputs": [
    {
     "data": {
      "image/png": "[encoded data removed]",
      "text/plain": [
       "<Figure size 1500x700 with 1 Axes>"
      ]
     },
     "metadata": {},
     "output_type": "display_data"
    }
   ],
   "source": [
    "# plotting bar graph of glucose vs cardio\n",
    "grouped_gluc = df_clean.groupby([\"gluc\", \"cardio\"]).size().unstack()\n",
    "ax = grouped_gluc.plot(kind=\"bar\",figsize=(15,7))\n",
    "\n",
    "# Set custom x-axis labels\n",
    "ax.set_xticklabels([\"Normal\", \"above normal\",\"well above normal\"], rotation=0)\n",
    "plt.xlabel(\"Glucose Status\")\n",
    "plt.ylabel(\"Count\")\n",
    "plt.title(\"Cardio Condition by Glucose Status\")\n",
    "plt.legend(title=\"Cardio\")\n",
    "plt.tight_layout()\n",
    "plt.show()"
   ]
  },
  {
   "cell_type": "markdown",
   "id": "412172a2",
   "metadata": {},
   "source": [
    "The plot indicates that individuals with **well above normal glucose levels** face the **highest risk** of developing cardiovascular disease, followed by those with **above normal** glucose levels. In contrast, those with **normal glucose levels** are at a **lower risk**, suggesting a clear association between elevated glucose levels and cardiovascular risk.\n",
    "\n"
   ]
  },
  {
   "cell_type": "markdown",
   "id": "d78c5f06",
   "metadata": {},
   "source": [
    "### *Cardio Condition By Gender*"
   ]
  },
  {
   "cell_type": "code",
   "execution_count": 26,
   "id": "99dadcf4",
   "metadata": {},
   "outputs": [
    {
     "data": {
      "image/png": "[encoded data removed]",
      "text/plain": [
       "<Figure size 1500x700 with 1 Axes>"
      ]
     },
     "metadata": {},
     "output_type": "display_data"
    }
   ],
   "source": [
    "# plotting bar graph of smokers vs cardio\n",
    "grouped_gender = df_clean.groupby([\"gender\", \"cardio\"]).size().unstack()\n",
    "ax = grouped_gender.plot(kind=\"bar\",figsize=(15,7))\n",
    "\n",
    "# Set custom x-axis labels\n",
    "ax.set_xticklabels([\"Women\", \"men\"], rotation=0)\n",
    "plt.xlabel(\"Gender\")\n",
    "plt.ylabel(\"Count\")\n",
    "plt.title(\"Cardio Condition by Gender\")\n",
    "plt.legend(title=\"Cardio\")\n",
    "plt.tight_layout()\n",
    "plt.show()"
   ]
  },
  {
   "cell_type": "markdown",
   "id": "3e13c9c3",
   "metadata": {},
   "source": [
    "The data shows that **men have a slightly higher risk** of developing cardiovascular disease compared to women. This suggests a modest gender-related difference in cardiovascular risk within the dataset.\n"
   ]
  },
  {
   "cell_type": "markdown",
   "id": "f85083c2",
   "metadata": {},
   "source": [
    "### *Cardio Condition By Age Group*"
   ]
  },
  {
   "cell_type": "code",
   "execution_count": 27,
   "id": "474cfc37",
   "metadata": {},
   "outputs": [
    {
     "name": "stderr",
     "output_type": "stream",
     "text": [
      "C:\\Users\\HomePC\\AppData\\Local\\Temp\\ipykernel_8792\\877401528.py:7: FutureWarning: The default of observed=False is deprecated and will be changed to True in a future version of pandas. Pass observed=False to retain current behavior or observed=True to adopt the future default and silence this warning.\n",
      "  grouped_age=df_clean.groupby([\"age_group\",\"cardio\"])[[\"age_group\",\"cardio\"]].size().unstack().copy()\n"
     ]
    },
    {
     "data": {
      "text/plain": [
       "Text(0.5, 1.0, 'Cardio Condition by Age Group')"
      ]
     },
     "execution_count": 27,
     "metadata": {},
     "output_type": "execute_result"
    },
    {
     "data": {
      "image/png": "[encoded data removed]",
      "text/plain": [
       "<Figure size 1500x700 with 1 Axes>"
      ]
     },
     "metadata": {},
     "output_type": "display_data"
    }
   ],
   "source": [
    "\n",
    "# Define bins and labels\n",
    "bins = [0, 29, 39, 49, 59, 69, 120]\n",
    "labels = ['<30', '30-39', '40-49', '50-59', '60-69', '70+']\n",
    "\n",
    "# Create age groups\n",
    "df_clean['age_group'] = pd.cut(df_clean['age'], bins=bins, labels=labels,right=True)\n",
    "grouped_age=df_clean.groupby([\"age_group\",\"cardio\"])[[\"age_group\",\"cardio\"]].size().unstack().copy()\n",
    "ax=grouped_age.plot(kind=\"bar\",figsize=(15,7))\n",
    "ax.set_ylabel(\"counts\")\n",
    "ax.set_xlabel(\"age_group\")\n",
    "ax.set_title(\"Cardio Condition by Age Group\")\n",
    "\n",
    "\n"
   ]
  },
  {
   "cell_type": "markdown",
   "id": "44b73b55",
   "metadata": {},
   "source": [
    "The analysis reveals that individuals **above the age of 50** have a **higher risk** of developing cardiovascular disease, with those **over 60 years old** facing the **highest risk**. Conversely, **younger individuals under 50** have a **lower risk** of developing cardiovascular disease, indicating a clear age-related increase in risk.\n"
   ]
  },
  {
   "cell_type": "code",
   "execution_count": 28,
   "id": "9d04adb9",
   "metadata": {},
   "outputs": [
    {
     "name": "stderr",
     "output_type": "stream",
     "text": [
      "C:\\Users\\HomePC\\AppData\\Local\\Temp\\ipykernel_8792\\1957930940.py:5: FutureWarning: The default of observed=False is deprecated and will be changed to True in a future version of pandas. Pass observed=False to retain current behavior or observed=True to adopt the future default and silence this warning.\n",
      "  grouped_bmi=df_clean.groupby([\"BMI_group\",\"cardio\"]).size().unstack()\n"
     ]
    },
    {
     "data": {
      "text/plain": [
       "Text(0.5, 1.0, 'Cardio Condition by BMI Group')"
      ]
     },
     "execution_count": 28,
     "metadata": {},
     "output_type": "execute_result"
    },
    {
     "data": {
      "image/png": "[encoded data removed]",
      "text/plain": [
       "<Figure size 1500x700 with 1 Axes>"
      ]
     },
     "metadata": {},
     "output_type": "display_data"
    }
   ],
   "source": [
    "# Define Bins and labels\n",
    "bins=[0,18,24.9,29.9,34.9,39.9,204]\n",
    "labels=[\"Underweight\",\"Normal\",\"overweight\",\"obess(class1)\",\"obess(class2)\",\"Extreme obess\"]\n",
    "df_clean[\"BMI_group\"]=pd.cut(df_clean[\"BMI\"],bins=bins,labels=labels,right=True)\n",
    "grouped_bmi=df_clean.groupby([\"BMI_group\",\"cardio\"]).size().unstack()\n",
    "ax=grouped_bmi.plot(kind=\"bar\",figsize=(15,7))\n",
    "ax.set_ylabel(\"counts\")\n",
    "ax.set_xlabel(\"BMI_group\")\n",
    "ax.set_title(\"Cardio Condition by BMI Group\")"
   ]
  },
  {
   "cell_type": "markdown",
   "id": "a5797602",
   "metadata": {},
   "source": [
    "We observe that individuals with **underweight** or **normal weight** classifications tend to have a **lower risk of cardiovascular disease**. In contrast, those categorized as **overweight**, **obese (Class I)**, **obese (Class II)**, and **extremely obese** show a **progressively higher risk**, with the likelihood of cardiovascular disease increasing across these categories.\n",
    "\n",
    "These observations suggest a potential link between **increased body weight** and **greater susceptibility to cardiovascular conditions**, indicating that weight management may be an important factor in reducing cardiovascular risk.\n",
    "\n",
    "\n",
    "\n",
    "\n"
   ]
  },
  {
   "cell_type": "markdown",
   "id": "9c52d1ad",
   "metadata": {},
   "source": [
    "## **Data Preprocessing**"
   ]
  },
  {
   "cell_type": "markdown",
   "id": "ee5137a4",
   "metadata": {},
   "source": [
    "## *Label Encoding the Gender Column*\n"
   ]
  },
  {
   "cell_type": "code",
   "execution_count": 29,
   "id": "2d689b0a",
   "metadata": {},
   "outputs": [
    {
     "data": {
      "application/vnd.microsoft.datawrangler.viewer.v0+json": {
       "columns": [
        {
         "name": "index",
         "rawType": "int64",
         "type": "integer"
        },
        {
         "name": "id",
         "rawType": "float64",
         "type": "float"
        },
        {
         "name": "age",
         "rawType": "int32",
         "type": "integer"
        },
        {
         "name": "gender",
         "rawType": "int64",
         "type": "integer"
        },
        {
         "name": "ap_hi",
         "rawType": "float64",
         "type": "float"
        },
        {
         "name": "ap_lo",
         "rawType": "float64",
         "type": "float"
        },
        {
         "name": "cholesterol",
         "rawType": "int64",
         "type": "integer"
        },
        {
         "name": "gluc",
         "rawType": "int64",
         "type": "integer"
        },
        {
         "name": "smoke",
         "rawType": "int64",
         "type": "integer"
        },
        {
         "name": "alco",
         "rawType": "int64",
         "type": "integer"
        },
        {
         "name": "active",
         "rawType": "int64",
         "type": "integer"
        },
        {
         "name": "cardio",
         "rawType": "int64",
         "type": "integer"
        },
        {
         "name": "BMI",
         "rawType": "float64",
         "type": "float"
        },
        {
         "name": "age_group",
         "rawType": "category",
         "type": "unknown"
        },
        {
         "name": "BMI_group",
         "rawType": "category",
         "type": "unknown"
        }
       ],
       "ref": "44890a73-6e58-4434-b403-04e678b8aee2",
       "rows": [
        [
         "39605",
         "56585.0",
         "54",
         "2",
         "160.0",
         "100.0",
         "3",
         "3",
         "0",
         "0",
         "1",
         "1",
         "33.057851239669425",
         "50-59",
         "obess(class1)"
        ],
        [
         "41939",
         "59903.0",
         "54",
         "2",
         "120.0",
         "80.0",
         "3",
         "3",
         "0",
         "0",
         "1",
         "0",
         "24.61810377477591",
         "50-59",
         "Normal"
        ],
        [
         "46174",
         "65954.0",
         "48",
         "2",
         "130.0",
         "80.0",
         "3",
         "1",
         "0",
         "0",
         "1",
         "1",
         "32.34681737061273",
         "40-49",
         "obess(class1)"
        ],
        [
         "59860",
         "85470.0",
         "63",
         "1",
         "130.0",
         "80.0",
         "3",
         "1",
         "0",
         "0",
         "0",
         "1",
         "24.97398543184183",
         "60-69",
         "overweight"
        ],
        [
         "4844",
         "6864.0",
         "55",
         "1",
         "130.0",
         "90.0",
         "2",
         "1",
         "0",
         "0",
         "1",
         "1",
         "32.00731595793324",
         "50-59",
         "obess(class1)"
        ]
       ],
       "shape": {
        "columns": 14,
        "rows": 5
       }
      },
      "text/html": [
       "<div>\n",
       "<style scoped>\n",
       "    .dataframe tbody tr th:only-of-type {\n",
       "        vertical-align: middle;\n",
       "    }\n",
       "\n",
       "    .dataframe tbody tr th {\n",
       "        vertical-align: top;\n",
       "    }\n",
       "\n",
       "    .dataframe thead th {\n",
       "        text-align: right;\n",
       "    }\n",
       "</style>\n",
       "<table border=\"1\" class=\"dataframe\">\n",
       "  <thead>\n",
       "    <tr style=\"text-align: right;\">\n",
       "      <th></th>\n",
       "      <th>id</th>\n",
       "      <th>age</th>\n",
       "      <th>gender</th>\n",
       "      <th>ap_hi</th>\n",
       "      <th>ap_lo</th>\n",
       "      <th>cholesterol</th>\n",
       "      <th>gluc</th>\n",
       "      <th>smoke</th>\n",
       "      <th>alco</th>\n",
       "      <th>active</th>\n",
       "      <th>cardio</th>\n",
       "      <th>BMI</th>\n",
       "      <th>age_group</th>\n",
       "      <th>BMI_group</th>\n",
       "    </tr>\n",
       "  </thead>\n",
       "  <tbody>\n",
       "    <tr>\n",
       "      <th>39605</th>\n",
       "      <td>56585.0</td>\n",
       "      <td>54</td>\n",
       "      <td>2</td>\n",
       "      <td>160.0</td>\n",
       "      <td>100.0</td>\n",
       "      <td>3</td>\n",
       "      <td>3</td>\n",
       "      <td>0</td>\n",
       "      <td>0</td>\n",
       "      <td>1</td>\n",
       "      <td>1</td>\n",
       "      <td>33.057851</td>\n",
       "      <td>50-59</td>\n",
       "      <td>obess(class1)</td>\n",
       "    </tr>\n",
       "    <tr>\n",
       "      <th>41939</th>\n",
       "      <td>59903.0</td>\n",
       "      <td>54</td>\n",
       "      <td>2</td>\n",
       "      <td>120.0</td>\n",
       "      <td>80.0</td>\n",
       "      <td>3</td>\n",
       "      <td>3</td>\n",
       "      <td>0</td>\n",
       "      <td>0</td>\n",
       "      <td>1</td>\n",
       "      <td>0</td>\n",
       "      <td>24.618104</td>\n",
       "      <td>50-59</td>\n",
       "      <td>Normal</td>\n",
       "    </tr>\n",
       "    <tr>\n",
       "      <th>46174</th>\n",
       "      <td>65954.0</td>\n",
       "      <td>48</td>\n",
       "      <td>2</td>\n",
       "      <td>130.0</td>\n",
       "      <td>80.0</td>\n",
       "      <td>3</td>\n",
       "      <td>1</td>\n",
       "      <td>0</td>\n",
       "      <td>0</td>\n",
       "      <td>1</td>\n",
       "      <td>1</td>\n",
       "      <td>32.346817</td>\n",
       "      <td>40-49</td>\n",
       "      <td>obess(class1)</td>\n",
       "    </tr>\n",
       "    <tr>\n",
       "      <th>59860</th>\n",
       "      <td>85470.0</td>\n",
       "      <td>63</td>\n",
       "      <td>1</td>\n",
       "      <td>130.0</td>\n",
       "      <td>80.0</td>\n",
       "      <td>3</td>\n",
       "      <td>1</td>\n",
       "      <td>0</td>\n",
       "      <td>0</td>\n",
       "      <td>0</td>\n",
       "      <td>1</td>\n",
       "      <td>24.973985</td>\n",
       "      <td>60-69</td>\n",
       "      <td>overweight</td>\n",
       "    </tr>\n",
       "    <tr>\n",
       "      <th>4844</th>\n",
       "      <td>6864.0</td>\n",
       "      <td>55</td>\n",
       "      <td>1</td>\n",
       "      <td>130.0</td>\n",
       "      <td>90.0</td>\n",
       "      <td>2</td>\n",
       "      <td>1</td>\n",
       "      <td>0</td>\n",
       "      <td>0</td>\n",
       "      <td>1</td>\n",
       "      <td>1</td>\n",
       "      <td>32.007316</td>\n",
       "      <td>50-59</td>\n",
       "      <td>obess(class1)</td>\n",
       "    </tr>\n",
       "  </tbody>\n",
       "</table>\n",
       "</div>"
      ],
      "text/plain": [
       "            id  age  gender  ap_hi  ap_lo  cholesterol  gluc  smoke  alco  \\\n",
       "39605  56585.0   54       2  160.0  100.0            3     3      0     0   \n",
       "41939  59903.0   54       2  120.0   80.0            3     3      0     0   \n",
       "46174  65954.0   48       2  130.0   80.0            3     1      0     0   \n",
       "59860  85470.0   63       1  130.0   80.0            3     1      0     0   \n",
       "4844    6864.0   55       1  130.0   90.0            2     1      0     0   \n",
       "\n",
       "       active  cardio        BMI age_group      BMI_group  \n",
       "39605       1       1  33.057851     50-59  obess(class1)  \n",
       "41939       1       0  24.618104     50-59         Normal  \n",
       "46174       1       1  32.346817     40-49  obess(class1)  \n",
       "59860       0       1  24.973985     60-69     overweight  \n",
       "4844        1       1  32.007316     50-59  obess(class1)  "
      ]
     },
     "execution_count": 29,
     "metadata": {},
     "output_type": "execute_result"
    }
   ],
   "source": [
    "df_preprocess=df_clean.copy()\n",
    "df_preprocess[\"gender\"].replace({\"1\":0,\"2\":1},inplace=True)\n",
    "df_preprocess.sample(5)\n"
   ]
  },
  {
   "cell_type": "markdown",
   "id": "857e6a3f",
   "metadata": {},
   "source": [
    "## *dropping unnecessary columns*\n"
   ]
  },
  {
   "cell_type": "code",
   "execution_count": 30,
   "id": "027195c8",
   "metadata": {},
   "outputs": [],
   "source": [
    "df_preprocess.drop([\"BMI_group\",\"age_group\",\"id\"],axis=1,inplace=True)"
   ]
  },
  {
   "cell_type": "code",
   "execution_count": 31,
   "id": "9c34d4da",
   "metadata": {},
   "outputs": [
    {
     "name": "stdout",
     "output_type": "stream",
     "text": [
      "Normality Check Before Scaling:\n",
      "age: Shapiro-Wilk p = 0.0000 (Not Normal)\n",
      "age: D’Agostino K^2 p = 0.0000 (Not Normal)\n",
      "--------------------------------------------------\n",
      "gender: Shapiro-Wilk p = 0.0000 (Not Normal)\n",
      "gender: D’Agostino K^2 p = 0.0000 (Not Normal)\n",
      "--------------------------------------------------\n",
      "ap_hi: Shapiro-Wilk p = 0.0000 (Not Normal)\n",
      "ap_hi: D’Agostino K^2 p = 0.0000 (Not Normal)\n",
      "--------------------------------------------------\n",
      "ap_lo: Shapiro-Wilk p = 0.0000 (Not Normal)\n",
      "ap_lo: D’Agostino K^2 p = 0.0000 (Not Normal)\n",
      "--------------------------------------------------\n",
      "cholesterol: Shapiro-Wilk p = 0.0000 (Not Normal)\n",
      "cholesterol: D’Agostino K^2 p = 0.0000 (Not Normal)\n",
      "--------------------------------------------------\n",
      "gluc: Shapiro-Wilk p = 0.0000 (Not Normal)\n",
      "gluc: D’Agostino K^2 p = 0.0000 (Not Normal)\n",
      "--------------------------------------------------\n",
      "smoke: Shapiro-Wilk p = 0.0000 (Not Normal)\n",
      "smoke: D’Agostino K^2 p = 0.0000 (Not Normal)\n",
      "--------------------------------------------------\n",
      "alco: Shapiro-Wilk p = 0.0000 (Not Normal)\n",
      "alco: D’Agostino K^2 p = 0.0000 (Not Normal)\n",
      "--------------------------------------------------\n",
      "active: Shapiro-Wilk p = 0.0000 (Not Normal)\n",
      "active: D’Agostino K^2 p = 0.0000 (Not Normal)\n",
      "--------------------------------------------------\n",
      "cardio: Shapiro-Wilk p = 0.0000 (Not Normal)\n",
      "cardio: D’Agostino K^2 p = 0.0000 (Not Normal)\n",
      "--------------------------------------------------\n",
      "BMI: Shapiro-Wilk p = 0.0000 (Not Normal)\n",
      "BMI: D’Agostino K^2 p = 0.0000 (Not Normal)\n",
      "--------------------------------------------------\n"
     ]
    },
    {
     "name": "stderr",
     "output_type": "stream",
     "text": [
      "c:\\Users\\HomePC\\anaconda3.1\\Lib\\site-packages\\scipy\\stats\\_morestats.py:1882: UserWarning: p-value may not be accurate for N > 5000.\n",
      "  warnings.warn(\"p-value may not be accurate for N > 5000.\")\n"
     ]
    }
   ],
   "source": [
    "#checking for normality before scaling\n",
    "numeric_cols = df_preprocess.select_dtypes(include=np.number).columns\n",
    "print(\"Normality Check Before Scaling:\")\n",
    "for col in numeric_cols:\n",
    "    data = df_preprocess[col].dropna()\n",
    "    stat_shapiro, p_shapiro = stats.shapiro(data)\n",
    "    stat_norm, p_norm = stats.normaltest(data)\n",
    "    print(f\"{col}: Shapiro-Wilk p = {p_shapiro:.4f} {'(Not Normal)' if p_shapiro < 0.05 else '(Normal)'}\")\n",
    "    print(f\"{col}: D’Agostino K^2 p = {p_norm:.4f} {'(Not Normal)' if p_norm < 0.05 else '(Normal)'}\")\n",
    "    print(\"-\" * 50)"
   ]
  },
  {
   "cell_type": "code",
   "execution_count": 32,
   "id": "9cb0deab",
   "metadata": {},
   "outputs": [
    {
     "name": "stdout",
     "output_type": "stream",
     "text": [
      "\n",
      "Skewness Check:\n",
      "ap_hi          85.296214\n",
      "ap_lo          32.114083\n",
      "BMI             7.728427\n",
      "alco            3.956607\n",
      "smoke           2.905867\n",
      "gluc            2.397462\n",
      "cholesterol     1.587123\n",
      "gender          0.630960\n",
      "cardio          0.001200\n",
      "age            -0.305744\n",
      "active         -1.529473\n",
      "dtype: float64\n"
     ]
    }
   ],
   "source": [
    "# Skewness check to identify candidates for log transformation\n",
    "print(\"\\nSkewness Check:\")\n",
    "skewed = df_preprocess[numeric_cols].skew().sort_values(ascending=False)\n",
    "print(skewed)"
   ]
  },
  {
   "cell_type": "code",
   "execution_count": 33,
   "id": "6e284532",
   "metadata": {},
   "outputs": [
    {
     "name": "stderr",
     "output_type": "stream",
     "text": [
      "c:\\Users\\HomePC\\anaconda3.1\\Lib\\site-packages\\pandas\\core\\arraylike.py:396: RuntimeWarning: invalid value encountered in log1p\n",
      "  result = getattr(ufunc, method)(*inputs, **kwargs)\n"
     ]
    }
   ],
   "source": [
    "# Handle only positive-skewed, positive-valued columns\n",
    "for col in [\"ap_hi\", \"ap_lo\", \"BMI\"]:\n",
    "    df_preprocess[col] = np.log1p(df_preprocess[col])\n",
    "\n"
   ]
  },
  {
   "cell_type": "code",
   "execution_count": 34,
   "id": "4e68ff30",
   "metadata": {},
   "outputs": [
    {
     "name": "stdout",
     "output_type": "stream",
     "text": [
      "age            0\n",
      "gender         0\n",
      "ap_hi          7\n",
      "ap_lo          1\n",
      "cholesterol    0\n",
      "gluc           0\n",
      "smoke          0\n",
      "alco           0\n",
      "active         0\n",
      "cardio         0\n",
      "BMI            0\n",
      "dtype: int64\n"
     ]
    }
   ],
   "source": [
    "# Check for any inf or NaN in your features\n",
    "# print(np.isinf(X).sum())     # Count of inf values per column\n",
    "print(df_preprocess.isna().sum())        # Count of NaN values per column\n"
   ]
  },
  {
   "cell_type": "code",
   "execution_count": 35,
   "id": "1e248faa",
   "metadata": {},
   "outputs": [],
   "source": [
    "df_preprocess.dropna(inplace=True)"
   ]
  },
  {
   "cell_type": "code",
   "execution_count": 36,
   "id": "8d2012df",
   "metadata": {},
   "outputs": [
    {
     "name": "stdout",
     "output_type": "stream",
     "text": [
      "\n",
      "Skewness Check:\n",
      "ap_lo          5.546703\n",
      "alco           3.956339\n",
      "smoke          2.905646\n",
      "gluc           2.397261\n",
      "cholesterol    1.587082\n",
      "BMI            0.921201\n",
      "gender         0.631039\n",
      "cardio         0.001200\n",
      "age           -0.305769\n",
      "active        -1.529522\n",
      "ap_hi         -1.861307\n",
      "dtype: float64\n"
     ]
    }
   ],
   "source": [
    "# Skewness check to identify candidates for log transformation\n",
    "print(\"\\nSkewness Check:\")\n",
    "skewed = df_preprocess[numeric_cols].skew().sort_values(ascending=False)\n",
    "print(skewed)"
   ]
  },
  {
   "cell_type": "markdown",
   "id": "3279b9f0",
   "metadata": {},
   "source": [
    "## *defining features and the target*"
   ]
  },
  {
   "cell_type": "code",
   "execution_count": 37,
   "id": "edca07b4",
   "metadata": {},
   "outputs": [],
   "source": [
    "# defining x and y\n",
    "X=df_preprocess.drop([\"cardio\"],axis=1)\n",
    "y=df_preprocess[\"cardio\"].astype(int)"
   ]
  },
  {
   "cell_type": "code",
   "execution_count": 38,
   "id": "ebf52bf3",
   "metadata": {},
   "outputs": [],
   "source": [
    "# defining continuous and categorical columns\n",
    "scale_columns=[\"age\",\"ap_hi\",\"ap_lo\",\"BMI\",\"cholesterol\",\"gluc\"]\n",
    "X_scale=X[scale_columns]\n",
    "X_cat=X.drop(scale_columns,axis=1).astype(int)"
   ]
  },
  {
   "cell_type": "markdown",
   "id": "5cde50b4",
   "metadata": {},
   "source": [
    "## *Normalizing Columns*"
   ]
  },
  {
   "cell_type": "code",
   "execution_count": 39,
   "id": "cd7a85bc",
   "metadata": {},
   "outputs": [
    {
     "data": {
      "application/vnd.microsoft.datawrangler.viewer.v0+json": {
       "columns": [
        {
         "name": "index",
         "rawType": "int64",
         "type": "integer"
        },
        {
         "name": "age",
         "rawType": "float64",
         "type": "float"
        },
        {
         "name": "ap_hi",
         "rawType": "float64",
         "type": "float"
        },
        {
         "name": "ap_lo",
         "rawType": "float64",
         "type": "float"
        },
        {
         "name": "BMI",
         "rawType": "float64",
         "type": "float"
        },
        {
         "name": "cholesterol",
         "rawType": "float64",
         "type": "float"
        },
        {
         "name": "gluc",
         "rawType": "float64",
         "type": "float"
        }
       ],
       "ref": "681e96ce-1a15-4d8c-81a1-5fe9d5af5ba7",
       "rows": [
        [
         "8254",
         "0.8857142857142857",
         "0.4652663076651135",
         "0.48473939744478717",
         "0.425675212898208",
         "0.5",
         "0.0"
        ],
        [
         "60069",
         "0.7714285714285714",
         "0.45643205246504176",
         "0.4722298781995363",
         "0.45500838246844344",
         "0.0",
         "1.0"
        ],
        [
         "27546",
         "0.3999999999999999",
         "0.4734503759678436",
         "0.48473939744478717",
         "0.47475085234954273",
         "0.0",
         "0.0"
        ],
        [
         "16766",
         "0.7142857142857142",
         "0.45643205246504176",
         "0.4722298781995363",
         "0.4450604976302637",
         "0.0",
         "0.0"
        ],
        [
         "11093",
         "0.4571428571428571",
         "0.45643205246504176",
         "0.4722298781995363",
         "0.45849403988908055",
         "0.0",
         "0.0"
        ]
       ],
       "shape": {
        "columns": 6,
        "rows": 5
       }
      },
      "text/html": [
       "<div>\n",
       "<style scoped>\n",
       "    .dataframe tbody tr th:only-of-type {\n",
       "        vertical-align: middle;\n",
       "    }\n",
       "\n",
       "    .dataframe tbody tr th {\n",
       "        vertical-align: top;\n",
       "    }\n",
       "\n",
       "    .dataframe thead th {\n",
       "        text-align: right;\n",
       "    }\n",
       "</style>\n",
       "<table border=\"1\" class=\"dataframe\">\n",
       "  <thead>\n",
       "    <tr style=\"text-align: right;\">\n",
       "      <th></th>\n",
       "      <th>age</th>\n",
       "      <th>ap_hi</th>\n",
       "      <th>ap_lo</th>\n",
       "      <th>BMI</th>\n",
       "      <th>cholesterol</th>\n",
       "      <th>gluc</th>\n",
       "    </tr>\n",
       "  </thead>\n",
       "  <tbody>\n",
       "    <tr>\n",
       "      <th>8254</th>\n",
       "      <td>0.885714</td>\n",
       "      <td>0.465266</td>\n",
       "      <td>0.484739</td>\n",
       "      <td>0.425675</td>\n",
       "      <td>0.5</td>\n",
       "      <td>0.0</td>\n",
       "    </tr>\n",
       "    <tr>\n",
       "      <th>60069</th>\n",
       "      <td>0.771429</td>\n",
       "      <td>0.456432</td>\n",
       "      <td>0.472230</td>\n",
       "      <td>0.455008</td>\n",
       "      <td>0.0</td>\n",
       "      <td>1.0</td>\n",
       "    </tr>\n",
       "    <tr>\n",
       "      <th>27546</th>\n",
       "      <td>0.400000</td>\n",
       "      <td>0.473450</td>\n",
       "      <td>0.484739</td>\n",
       "      <td>0.474751</td>\n",
       "      <td>0.0</td>\n",
       "      <td>0.0</td>\n",
       "    </tr>\n",
       "    <tr>\n",
       "      <th>16766</th>\n",
       "      <td>0.714286</td>\n",
       "      <td>0.456432</td>\n",
       "      <td>0.472230</td>\n",
       "      <td>0.445060</td>\n",
       "      <td>0.0</td>\n",
       "      <td>0.0</td>\n",
       "    </tr>\n",
       "    <tr>\n",
       "      <th>11093</th>\n",
       "      <td>0.457143</td>\n",
       "      <td>0.456432</td>\n",
       "      <td>0.472230</td>\n",
       "      <td>0.458494</td>\n",
       "      <td>0.0</td>\n",
       "      <td>0.0</td>\n",
       "    </tr>\n",
       "  </tbody>\n",
       "</table>\n",
       "</div>"
      ],
      "text/plain": [
       "            age     ap_hi     ap_lo       BMI  cholesterol  gluc\n",
       "8254   0.885714  0.465266  0.484739  0.425675          0.5   0.0\n",
       "60069  0.771429  0.456432  0.472230  0.455008          0.0   1.0\n",
       "27546  0.400000  0.473450  0.484739  0.474751          0.0   0.0\n",
       "16766  0.714286  0.456432  0.472230  0.445060          0.0   0.0\n",
       "11093  0.457143  0.456432  0.472230  0.458494          0.0   0.0"
      ]
     },
     "execution_count": 39,
     "metadata": {},
     "output_type": "execute_result"
    }
   ],
   "source": [
    "# instatiating the scaler\n",
    "scaler=MinMaxScaler()\n",
    "# scaling and changing the resulting array to a dataframe\n",
    "X_scaled=pd.DataFrame(scaler.fit_transform(X_scale),index=X_scale.index,columns=X_scale.columns)\n",
    "X_scaled.sample(5)\n"
   ]
  },
  {
   "cell_type": "code",
   "execution_count": 40,
   "id": "7c57f956",
   "metadata": {},
   "outputs": [
    {
     "data": {
      "application/vnd.microsoft.datawrangler.viewer.v0+json": {
       "columns": [
        {
         "name": "index",
         "rawType": "int64",
         "type": "integer"
        },
        {
         "name": "age",
         "rawType": "float64",
         "type": "float"
        },
        {
         "name": "ap_hi",
         "rawType": "float64",
         "type": "float"
        },
        {
         "name": "ap_lo",
         "rawType": "float64",
         "type": "float"
        },
        {
         "name": "BMI",
         "rawType": "float64",
         "type": "float"
        },
        {
         "name": "cholesterol",
         "rawType": "float64",
         "type": "float"
        },
        {
         "name": "gluc",
         "rawType": "float64",
         "type": "float"
        },
        {
         "name": "gender",
         "rawType": "int32",
         "type": "integer"
        },
        {
         "name": "smoke",
         "rawType": "int32",
         "type": "integer"
        },
        {
         "name": "alco",
         "rawType": "int32",
         "type": "integer"
        },
        {
         "name": "active",
         "rawType": "int32",
         "type": "integer"
        }
       ],
       "ref": "c7d2327a-e50f-41dd-82e5-029883f76d1f",
       "rows": [
        [
         "23485",
         "0.6571428571428573",
         "0.48820749336894503",
         "0.4722298781995363",
         "0.4200561761448559",
         "0.0",
         "0.0",
         "2",
         "1",
         "0",
         "1"
        ],
        [
         "34465",
         "0.5142857142857142",
         "0.45643205246504176",
         "0.4722298781995363",
         "0.4366121821661624",
         "0.0",
         "1.0",
         "1",
         "0",
         "0",
         "1"
        ],
        [
         "30638",
         "0.8571428571428572",
         "0.45643205246504176",
         "0.4722298781995363",
         "0.4640470902370907",
         "0.0",
         "0.0",
         "2",
         "0",
         "0",
         "1"
        ],
        [
         "50134",
         "0.9428571428571428",
         "0.45643205246504176",
         "0.4722298781995363",
         "0.4132624754039169",
         "0.0",
         "0.0",
         "2",
         "0",
         "0",
         "1"
        ],
        [
         "37136",
         "0.5428571428571429",
         "0.4652663076651135",
         "0.48473939744478717",
         "0.4902763443916478",
         "0.0",
         "0.0",
         "2",
         "0",
         "0",
         "1"
        ]
       ],
       "shape": {
        "columns": 10,
        "rows": 5
       }
      },
      "text/html": [
       "<div>\n",
       "<style scoped>\n",
       "    .dataframe tbody tr th:only-of-type {\n",
       "        vertical-align: middle;\n",
       "    }\n",
       "\n",
       "    .dataframe tbody tr th {\n",
       "        vertical-align: top;\n",
       "    }\n",
       "\n",
       "    .dataframe thead th {\n",
       "        text-align: right;\n",
       "    }\n",
       "</style>\n",
       "<table border=\"1\" class=\"dataframe\">\n",
       "  <thead>\n",
       "    <tr style=\"text-align: right;\">\n",
       "      <th></th>\n",
       "      <th>age</th>\n",
       "      <th>ap_hi</th>\n",
       "      <th>ap_lo</th>\n",
       "      <th>BMI</th>\n",
       "      <th>cholesterol</th>\n",
       "      <th>gluc</th>\n",
       "      <th>gender</th>\n",
       "      <th>smoke</th>\n",
       "      <th>alco</th>\n",
       "      <th>active</th>\n",
       "    </tr>\n",
       "  </thead>\n",
       "  <tbody>\n",
       "    <tr>\n",
       "      <th>23485</th>\n",
       "      <td>0.657143</td>\n",
       "      <td>0.488207</td>\n",
       "      <td>0.472230</td>\n",
       "      <td>0.420056</td>\n",
       "      <td>0.0</td>\n",
       "      <td>0.0</td>\n",
       "      <td>2</td>\n",
       "      <td>1</td>\n",
       "      <td>0</td>\n",
       "      <td>1</td>\n",
       "    </tr>\n",
       "    <tr>\n",
       "      <th>34465</th>\n",
       "      <td>0.514286</td>\n",
       "      <td>0.456432</td>\n",
       "      <td>0.472230</td>\n",
       "      <td>0.436612</td>\n",
       "      <td>0.0</td>\n",
       "      <td>1.0</td>\n",
       "      <td>1</td>\n",
       "      <td>0</td>\n",
       "      <td>0</td>\n",
       "      <td>1</td>\n",
       "    </tr>\n",
       "    <tr>\n",
       "      <th>30638</th>\n",
       "      <td>0.857143</td>\n",
       "      <td>0.456432</td>\n",
       "      <td>0.472230</td>\n",
       "      <td>0.464047</td>\n",
       "      <td>0.0</td>\n",
       "      <td>0.0</td>\n",
       "      <td>2</td>\n",
       "      <td>0</td>\n",
       "      <td>0</td>\n",
       "      <td>1</td>\n",
       "    </tr>\n",
       "    <tr>\n",
       "      <th>50134</th>\n",
       "      <td>0.942857</td>\n",
       "      <td>0.456432</td>\n",
       "      <td>0.472230</td>\n",
       "      <td>0.413262</td>\n",
       "      <td>0.0</td>\n",
       "      <td>0.0</td>\n",
       "      <td>2</td>\n",
       "      <td>0</td>\n",
       "      <td>0</td>\n",
       "      <td>1</td>\n",
       "    </tr>\n",
       "    <tr>\n",
       "      <th>37136</th>\n",
       "      <td>0.542857</td>\n",
       "      <td>0.465266</td>\n",
       "      <td>0.484739</td>\n",
       "      <td>0.490276</td>\n",
       "      <td>0.0</td>\n",
       "      <td>0.0</td>\n",
       "      <td>2</td>\n",
       "      <td>0</td>\n",
       "      <td>0</td>\n",
       "      <td>1</td>\n",
       "    </tr>\n",
       "  </tbody>\n",
       "</table>\n",
       "</div>"
      ],
      "text/plain": [
       "            age     ap_hi     ap_lo       BMI  cholesterol  gluc  gender  \\\n",
       "23485  0.657143  0.488207  0.472230  0.420056          0.0   0.0       2   \n",
       "34465  0.514286  0.456432  0.472230  0.436612          0.0   1.0       1   \n",
       "30638  0.857143  0.456432  0.472230  0.464047          0.0   0.0       2   \n",
       "50134  0.942857  0.456432  0.472230  0.413262          0.0   0.0       2   \n",
       "37136  0.542857  0.465266  0.484739  0.490276          0.0   0.0       2   \n",
       "\n",
       "       smoke  alco  active  \n",
       "23485      1     0       1  \n",
       "34465      0     0       1  \n",
       "30638      0     0       1  \n",
       "50134      0     0       1  \n",
       "37136      0     0       1  "
      ]
     },
     "execution_count": 40,
     "metadata": {},
     "output_type": "execute_result"
    }
   ],
   "source": [
    "# adding normalized columns to the rest of the columns\n",
    "X=pd.concat([X_scaled,X_cat],axis=1)\n",
    "X.sample(5)\n"
   ]
  },
  {
   "cell_type": "markdown",
   "id": "37c32219",
   "metadata": {},
   "source": [
    "## **Modelling**"
   ]
  },
  {
   "cell_type": "markdown",
   "id": "ae13475c",
   "metadata": {},
   "source": [
    "## *baseline logistic regression model*"
   ]
  },
  {
   "cell_type": "markdown",
   "id": "f3a8e952",
   "metadata": {},
   "source": [
    "We use the baseline model as an inferential tool to assess the overall significance of the model, as well as the statistical significance and impact of individual features.\n",
    "\n"
   ]
  },
  {
   "cell_type": "code",
   "execution_count": 41,
   "id": "4442fdec",
   "metadata": {},
   "outputs": [
    {
     "name": "stdout",
     "output_type": "stream",
     "text": [
      "Optimization terminated successfully.\n",
      "         Current function value: 0.579987\n",
      "         Iterations 6\n"
     ]
    },
    {
     "data": {
      "text/html": [
       "<table class=\"simpletable\">\n",
       "<caption>Logit Regression Results</caption>\n",
       "<tr>\n",
       "  <th>Dep. Variable:</th>        <td>cardio</td>      <th>  No. Observations:  </th>  <td> 69992</td> \n",
       "</tr>\n",
       "<tr>\n",
       "  <th>Model:</th>                 <td>Logit</td>      <th>  Df Residuals:      </th>  <td> 69981</td> \n",
       "</tr>\n",
       "<tr>\n",
       "  <th>Method:</th>                 <td>MLE</td>       <th>  Df Model:          </th>  <td>    10</td> \n",
       "</tr>\n",
       "<tr>\n",
       "  <th>Date:</th>            <td>Tue, 03 Jun 2025</td> <th>  Pseudo R-squ.:     </th>  <td>0.1633</td> \n",
       "</tr>\n",
       "<tr>\n",
       "  <th>Time:</th>                <td>19:41:33</td>     <th>  Log-Likelihood:    </th> <td> -40594.</td>\n",
       "</tr>\n",
       "<tr>\n",
       "  <th>converged:</th>             <td>True</td>       <th>  LL-Null:           </th> <td> -48515.</td>\n",
       "</tr>\n",
       "<tr>\n",
       "  <th>Covariance Type:</th>     <td>nonrobust</td>    <th>  LLR p-value:       </th>  <td> 0.000</td> \n",
       "</tr>\n",
       "</table>\n",
       "<table class=\"simpletable\">\n",
       "<tr>\n",
       "       <td></td>          <th>coef</th>     <th>std err</th>      <th>z</th>      <th>P>|z|</th>  <th>[0.025</th>    <th>0.975]</th>  \n",
       "</tr>\n",
       "<tr>\n",
       "  <th>const</th>       <td>  -28.8254</td> <td>    0.336</td> <td>  -85.818</td> <td> 0.000</td> <td>  -29.484</td> <td>  -28.167</td>\n",
       "</tr>\n",
       "<tr>\n",
       "  <th>age</th>         <td>    1.8265</td> <td>    0.046</td> <td>   39.906</td> <td> 0.000</td> <td>    1.737</td> <td>    1.916</td>\n",
       "</tr>\n",
       "<tr>\n",
       "  <th>ap_hi</th>       <td>   50.0655</td> <td>    0.792</td> <td>   63.241</td> <td> 0.000</td> <td>   48.514</td> <td>   51.617</td>\n",
       "</tr>\n",
       "<tr>\n",
       "  <th>ap_lo</th>       <td>    5.3553</td> <td>    0.415</td> <td>   12.920</td> <td> 0.000</td> <td>    4.543</td> <td>    6.168</td>\n",
       "</tr>\n",
       "<tr>\n",
       "  <th>BMI</th>         <td>    4.3530</td> <td>    0.216</td> <td>   20.158</td> <td> 0.000</td> <td>    3.930</td> <td>    4.776</td>\n",
       "</tr>\n",
       "<tr>\n",
       "  <th>cholesterol</th> <td>    1.0297</td> <td>    0.030</td> <td>   33.966</td> <td> 0.000</td> <td>    0.970</td> <td>    1.089</td>\n",
       "</tr>\n",
       "<tr>\n",
       "  <th>gluc</th>        <td>   -0.2327</td> <td>    0.034</td> <td>   -6.772</td> <td> 0.000</td> <td>   -0.300</td> <td>   -0.165</td>\n",
       "</tr>\n",
       "<tr>\n",
       "  <th>gender</th>      <td>    0.0555</td> <td>    0.019</td> <td>    2.918</td> <td> 0.004</td> <td>    0.018</td> <td>    0.093</td>\n",
       "</tr>\n",
       "<tr>\n",
       "  <th>smoke</th>       <td>   -0.1285</td> <td>    0.034</td> <td>   -3.828</td> <td> 0.000</td> <td>   -0.194</td> <td>   -0.063</td>\n",
       "</tr>\n",
       "<tr>\n",
       "  <th>alco</th>        <td>   -0.1752</td> <td>    0.041</td> <td>   -4.302</td> <td> 0.000</td> <td>   -0.255</td> <td>   -0.095</td>\n",
       "</tr>\n",
       "<tr>\n",
       "  <th>active</th>      <td>   -0.2170</td> <td>    0.021</td> <td>  -10.190</td> <td> 0.000</td> <td>   -0.259</td> <td>   -0.175</td>\n",
       "</tr>\n",
       "</table>"
      ],
      "text/latex": [
       "\\begin{center}\n",
       "\\begin{tabular}{lclc}\n",
       "\\toprule\n",
       "\\textbf{Dep. Variable:}   &      cardio      & \\textbf{  No. Observations:  } &    69992    \\\\\n",
       "\\textbf{Model:}           &      Logit       & \\textbf{  Df Residuals:      } &    69981    \\\\\n",
       "\\textbf{Method:}          &       MLE        & \\textbf{  Df Model:          } &       10    \\\\\n",
       "\\textbf{Date:}            & Tue, 03 Jun 2025 & \\textbf{  Pseudo R-squ.:     } &   0.1633    \\\\\n",
       "\\textbf{Time:}            &     19:41:33     & \\textbf{  Log-Likelihood:    } &   -40594.   \\\\\n",
       "\\textbf{converged:}       &       True       & \\textbf{  LL-Null:           } &   -48515.   \\\\\n",
       "\\textbf{Covariance Type:} &    nonrobust     & \\textbf{  LLR p-value:       } &    0.000    \\\\\n",
       "\\bottomrule\n",
       "\\end{tabular}\n",
       "\\begin{tabular}{lcccccc}\n",
       "                     & \\textbf{coef} & \\textbf{std err} & \\textbf{z} & \\textbf{P$> |$z$|$} & \\textbf{[0.025} & \\textbf{0.975]}  \\\\\n",
       "\\midrule\n",
       "\\textbf{const}       &     -28.8254  &        0.336     &   -85.818  &         0.000        &      -29.484    &      -28.167     \\\\\n",
       "\\textbf{age}         &       1.8265  &        0.046     &    39.906  &         0.000        &        1.737    &        1.916     \\\\\n",
       "\\textbf{ap\\_hi}      &      50.0655  &        0.792     &    63.241  &         0.000        &       48.514    &       51.617     \\\\\n",
       "\\textbf{ap\\_lo}      &       5.3553  &        0.415     &    12.920  &         0.000        &        4.543    &        6.168     \\\\\n",
       "\\textbf{BMI}         &       4.3530  &        0.216     &    20.158  &         0.000        &        3.930    &        4.776     \\\\\n",
       "\\textbf{cholesterol} &       1.0297  &        0.030     &    33.966  &         0.000        &        0.970    &        1.089     \\\\\n",
       "\\textbf{gluc}        &      -0.2327  &        0.034     &    -6.772  &         0.000        &       -0.300    &       -0.165     \\\\\n",
       "\\textbf{gender}      &       0.0555  &        0.019     &     2.918  &         0.004        &        0.018    &        0.093     \\\\\n",
       "\\textbf{smoke}       &      -0.1285  &        0.034     &    -3.828  &         0.000        &       -0.194    &       -0.063     \\\\\n",
       "\\textbf{alco}        &      -0.1752  &        0.041     &    -4.302  &         0.000        &       -0.255    &       -0.095     \\\\\n",
       "\\textbf{active}      &      -0.2170  &        0.021     &   -10.190  &         0.000        &       -0.259    &       -0.175     \\\\\n",
       "\\bottomrule\n",
       "\\end{tabular}\n",
       "%\\caption{Logit Regression Results}\n",
       "\\end{center}"
      ],
      "text/plain": [
       "<class 'statsmodels.iolib.summary.Summary'>\n",
       "\"\"\"\n",
       "                           Logit Regression Results                           \n",
       "==============================================================================\n",
       "Dep. Variable:                 cardio   No. Observations:                69992\n",
       "Model:                          Logit   Df Residuals:                    69981\n",
       "Method:                           MLE   Df Model:                           10\n",
       "Date:                Tue, 03 Jun 2025   Pseudo R-squ.:                  0.1633\n",
       "Time:                        19:41:33   Log-Likelihood:                -40594.\n",
       "converged:                       True   LL-Null:                       -48515.\n",
       "Covariance Type:            nonrobust   LLR p-value:                     0.000\n",
       "===============================================================================\n",
       "                  coef    std err          z      P>|z|      [0.025      0.975]\n",
       "-------------------------------------------------------------------------------\n",
       "const         -28.8254      0.336    -85.818      0.000     -29.484     -28.167\n",
       "age             1.8265      0.046     39.906      0.000       1.737       1.916\n",
       "ap_hi          50.0655      0.792     63.241      0.000      48.514      51.617\n",
       "ap_lo           5.3553      0.415     12.920      0.000       4.543       6.168\n",
       "BMI             4.3530      0.216     20.158      0.000       3.930       4.776\n",
       "cholesterol     1.0297      0.030     33.966      0.000       0.970       1.089\n",
       "gluc           -0.2327      0.034     -6.772      0.000      -0.300      -0.165\n",
       "gender          0.0555      0.019      2.918      0.004       0.018       0.093\n",
       "smoke          -0.1285      0.034     -3.828      0.000      -0.194      -0.063\n",
       "alco           -0.1752      0.041     -4.302      0.000      -0.255      -0.095\n",
       "active         -0.2170      0.021    -10.190      0.000      -0.259      -0.175\n",
       "===============================================================================\n",
       "\"\"\""
      ]
     },
     "execution_count": 41,
     "metadata": {},
     "output_type": "execute_result"
    }
   ],
   "source": [
    "#fitting a logistic reg model\n",
    "model=sm.Logit(y,sm.add_constant(X))\n",
    "results=model.fit(maxiter=200)\n",
    "# viewing the model summary\n",
    "results.summary()"
   ]
  },
  {
   "cell_type": "markdown",
   "id": "73053392",
   "metadata": {},
   "source": [
    "Based on the presence of NaN p-values, this indicates potential multicollinearity in the model. Therefore, it is important to address and resolve multicollinearity before interpreting the results further.\n",
    "\n",
    "We will do so by dropping the `pulse_pressure` column"
   ]
  },
  {
   "cell_type": "code",
   "execution_count": 42,
   "id": "a3517466",
   "metadata": {},
   "outputs": [
    {
     "data": {
      "application/vnd.microsoft.datawrangler.viewer.v0+json": {
       "columns": [
        {
         "name": "index",
         "rawType": "int64",
         "type": "integer"
        },
        {
         "name": "feature",
         "rawType": "object",
         "type": "string"
        },
        {
         "name": "VIF",
         "rawType": "float64",
         "type": "float"
        }
       ],
       "ref": "ead884ef-62a1-4a92-a602-62135f5c1aaf",
       "rows": [
        [
         "0",
         "age",
         "14.09163668804717"
        ],
        [
         "1",
         "ap_hi",
         "254.13570098118944"
        ],
        [
         "2",
         "ap_lo",
         "176.3030131039749"
        ],
        [
         "3",
         "BMI",
         "108.05013750329691"
        ],
        [
         "4",
         "cholesterol",
         "1.6607428799566135"
        ],
        [
         "5",
         "gluc",
         "1.4574707862828304"
        ],
        [
         "6",
         "gender",
         "10.283778064785546"
        ],
        [
         "7",
         "smoke",
         "1.3667854889305269"
        ],
        [
         "8",
         "alco",
         "1.2031140490871837"
        ],
        [
         "9",
         "active",
         "5.068938710343334"
        ]
       ],
       "shape": {
        "columns": 2,
        "rows": 10
       }
      },
      "text/html": [
       "<div>\n",
       "<style scoped>\n",
       "    .dataframe tbody tr th:only-of-type {\n",
       "        vertical-align: middle;\n",
       "    }\n",
       "\n",
       "    .dataframe tbody tr th {\n",
       "        vertical-align: top;\n",
       "    }\n",
       "\n",
       "    .dataframe thead th {\n",
       "        text-align: right;\n",
       "    }\n",
       "</style>\n",
       "<table border=\"1\" class=\"dataframe\">\n",
       "  <thead>\n",
       "    <tr style=\"text-align: right;\">\n",
       "      <th></th>\n",
       "      <th>feature</th>\n",
       "      <th>VIF</th>\n",
       "    </tr>\n",
       "  </thead>\n",
       "  <tbody>\n",
       "    <tr>\n",
       "      <th>0</th>\n",
       "      <td>age</td>\n",
       "      <td>14.091637</td>\n",
       "    </tr>\n",
       "    <tr>\n",
       "      <th>1</th>\n",
       "      <td>ap_hi</td>\n",
       "      <td>254.135701</td>\n",
       "    </tr>\n",
       "    <tr>\n",
       "      <th>2</th>\n",
       "      <td>ap_lo</td>\n",
       "      <td>176.303013</td>\n",
       "    </tr>\n",
       "    <tr>\n",
       "      <th>3</th>\n",
       "      <td>BMI</td>\n",
       "      <td>108.050138</td>\n",
       "    </tr>\n",
       "    <tr>\n",
       "      <th>4</th>\n",
       "      <td>cholesterol</td>\n",
       "      <td>1.660743</td>\n",
       "    </tr>\n",
       "    <tr>\n",
       "      <th>5</th>\n",
       "      <td>gluc</td>\n",
       "      <td>1.457471</td>\n",
       "    </tr>\n",
       "    <tr>\n",
       "      <th>6</th>\n",
       "      <td>gender</td>\n",
       "      <td>10.283778</td>\n",
       "    </tr>\n",
       "    <tr>\n",
       "      <th>7</th>\n",
       "      <td>smoke</td>\n",
       "      <td>1.366785</td>\n",
       "    </tr>\n",
       "    <tr>\n",
       "      <th>8</th>\n",
       "      <td>alco</td>\n",
       "      <td>1.203114</td>\n",
       "    </tr>\n",
       "    <tr>\n",
       "      <th>9</th>\n",
       "      <td>active</td>\n",
       "      <td>5.068939</td>\n",
       "    </tr>\n",
       "  </tbody>\n",
       "</table>\n",
       "</div>"
      ],
      "text/plain": [
       "       feature         VIF\n",
       "0          age   14.091637\n",
       "1        ap_hi  254.135701\n",
       "2        ap_lo  176.303013\n",
       "3          BMI  108.050138\n",
       "4  cholesterol    1.660743\n",
       "5         gluc    1.457471\n",
       "6       gender   10.283778\n",
       "7        smoke    1.366785\n",
       "8         alco    1.203114\n",
       "9       active    5.068939"
      ]
     },
     "execution_count": 42,
     "metadata": {},
     "output_type": "execute_result"
    }
   ],
   "source": [
    "# checking for multicollinearity\n",
    "from statsmodels.stats.outliers_influence import variance_inflation_factor\n",
    "\n",
    "# For a DataFrame X\n",
    "vif = pd.DataFrame()\n",
    "vif[\"feature\"] = X.columns\n",
    "vif[\"VIF\"] = [variance_inflation_factor(X.values, i) for i in range(X.shape[1])]\n",
    "vif\n",
    "\n"
   ]
  },
  {
   "cell_type": "code",
   "execution_count": 43,
   "id": "cab4e436",
   "metadata": {},
   "outputs": [],
   "source": [
    "# # dropping the pulse pressure column\n",
    "# X=X.drop(\"pulse_pressure\",axis=1)"
   ]
  },
  {
   "cell_type": "markdown",
   "id": "65f46a11",
   "metadata": {},
   "source": [
    "After fixing mutlticollinearity we model with the remaining column to see the perfomance of the model"
   ]
  },
  {
   "cell_type": "code",
   "execution_count": 44,
   "id": "fc6386c4",
   "metadata": {},
   "outputs": [
    {
     "name": "stdout",
     "output_type": "stream",
     "text": [
      "Optimization terminated successfully.\n",
      "         Current function value: 0.579987\n",
      "         Iterations 6\n"
     ]
    },
    {
     "data": {
      "text/html": [
       "<table class=\"simpletable\">\n",
       "<caption>Logit Regression Results</caption>\n",
       "<tr>\n",
       "  <th>Dep. Variable:</th>        <td>cardio</td>      <th>  No. Observations:  </th>  <td> 69992</td> \n",
       "</tr>\n",
       "<tr>\n",
       "  <th>Model:</th>                 <td>Logit</td>      <th>  Df Residuals:      </th>  <td> 69981</td> \n",
       "</tr>\n",
       "<tr>\n",
       "  <th>Method:</th>                 <td>MLE</td>       <th>  Df Model:          </th>  <td>    10</td> \n",
       "</tr>\n",
       "<tr>\n",
       "  <th>Date:</th>            <td>Tue, 03 Jun 2025</td> <th>  Pseudo R-squ.:     </th>  <td>0.1633</td> \n",
       "</tr>\n",
       "<tr>\n",
       "  <th>Time:</th>                <td>19:41:34</td>     <th>  Log-Likelihood:    </th> <td> -40594.</td>\n",
       "</tr>\n",
       "<tr>\n",
       "  <th>converged:</th>             <td>True</td>       <th>  LL-Null:           </th> <td> -48515.</td>\n",
       "</tr>\n",
       "<tr>\n",
       "  <th>Covariance Type:</th>     <td>nonrobust</td>    <th>  LLR p-value:       </th>  <td> 0.000</td> \n",
       "</tr>\n",
       "</table>\n",
       "<table class=\"simpletable\">\n",
       "<tr>\n",
       "       <td></td>          <th>coef</th>     <th>std err</th>      <th>z</th>      <th>P>|z|</th>  <th>[0.025</th>    <th>0.975]</th>  \n",
       "</tr>\n",
       "<tr>\n",
       "  <th>const</th>       <td>  -28.8254</td> <td>    0.336</td> <td>  -85.818</td> <td> 0.000</td> <td>  -29.484</td> <td>  -28.167</td>\n",
       "</tr>\n",
       "<tr>\n",
       "  <th>age</th>         <td>    1.8265</td> <td>    0.046</td> <td>   39.906</td> <td> 0.000</td> <td>    1.737</td> <td>    1.916</td>\n",
       "</tr>\n",
       "<tr>\n",
       "  <th>ap_hi</th>       <td>   50.0655</td> <td>    0.792</td> <td>   63.241</td> <td> 0.000</td> <td>   48.514</td> <td>   51.617</td>\n",
       "</tr>\n",
       "<tr>\n",
       "  <th>ap_lo</th>       <td>    5.3553</td> <td>    0.415</td> <td>   12.920</td> <td> 0.000</td> <td>    4.543</td> <td>    6.168</td>\n",
       "</tr>\n",
       "<tr>\n",
       "  <th>BMI</th>         <td>    4.3530</td> <td>    0.216</td> <td>   20.158</td> <td> 0.000</td> <td>    3.930</td> <td>    4.776</td>\n",
       "</tr>\n",
       "<tr>\n",
       "  <th>cholesterol</th> <td>    1.0297</td> <td>    0.030</td> <td>   33.966</td> <td> 0.000</td> <td>    0.970</td> <td>    1.089</td>\n",
       "</tr>\n",
       "<tr>\n",
       "  <th>gluc</th>        <td>   -0.2327</td> <td>    0.034</td> <td>   -6.772</td> <td> 0.000</td> <td>   -0.300</td> <td>   -0.165</td>\n",
       "</tr>\n",
       "<tr>\n",
       "  <th>gender</th>      <td>    0.0555</td> <td>    0.019</td> <td>    2.918</td> <td> 0.004</td> <td>    0.018</td> <td>    0.093</td>\n",
       "</tr>\n",
       "<tr>\n",
       "  <th>smoke</th>       <td>   -0.1285</td> <td>    0.034</td> <td>   -3.828</td> <td> 0.000</td> <td>   -0.194</td> <td>   -0.063</td>\n",
       "</tr>\n",
       "<tr>\n",
       "  <th>alco</th>        <td>   -0.1752</td> <td>    0.041</td> <td>   -4.302</td> <td> 0.000</td> <td>   -0.255</td> <td>   -0.095</td>\n",
       "</tr>\n",
       "<tr>\n",
       "  <th>active</th>      <td>   -0.2170</td> <td>    0.021</td> <td>  -10.190</td> <td> 0.000</td> <td>   -0.259</td> <td>   -0.175</td>\n",
       "</tr>\n",
       "</table>"
      ],
      "text/latex": [
       "\\begin{center}\n",
       "\\begin{tabular}{lclc}\n",
       "\\toprule\n",
       "\\textbf{Dep. Variable:}   &      cardio      & \\textbf{  No. Observations:  } &    69992    \\\\\n",
       "\\textbf{Model:}           &      Logit       & \\textbf{  Df Residuals:      } &    69981    \\\\\n",
       "\\textbf{Method:}          &       MLE        & \\textbf{  Df Model:          } &       10    \\\\\n",
       "\\textbf{Date:}            & Tue, 03 Jun 2025 & \\textbf{  Pseudo R-squ.:     } &   0.1633    \\\\\n",
       "\\textbf{Time:}            &     19:41:34     & \\textbf{  Log-Likelihood:    } &   -40594.   \\\\\n",
       "\\textbf{converged:}       &       True       & \\textbf{  LL-Null:           } &   -48515.   \\\\\n",
       "\\textbf{Covariance Type:} &    nonrobust     & \\textbf{  LLR p-value:       } &    0.000    \\\\\n",
       "\\bottomrule\n",
       "\\end{tabular}\n",
       "\\begin{tabular}{lcccccc}\n",
       "                     & \\textbf{coef} & \\textbf{std err} & \\textbf{z} & \\textbf{P$> |$z$|$} & \\textbf{[0.025} & \\textbf{0.975]}  \\\\\n",
       "\\midrule\n",
       "\\textbf{const}       &     -28.8254  &        0.336     &   -85.818  &         0.000        &      -29.484    &      -28.167     \\\\\n",
       "\\textbf{age}         &       1.8265  &        0.046     &    39.906  &         0.000        &        1.737    &        1.916     \\\\\n",
       "\\textbf{ap\\_hi}      &      50.0655  &        0.792     &    63.241  &         0.000        &       48.514    &       51.617     \\\\\n",
       "\\textbf{ap\\_lo}      &       5.3553  &        0.415     &    12.920  &         0.000        &        4.543    &        6.168     \\\\\n",
       "\\textbf{BMI}         &       4.3530  &        0.216     &    20.158  &         0.000        &        3.930    &        4.776     \\\\\n",
       "\\textbf{cholesterol} &       1.0297  &        0.030     &    33.966  &         0.000        &        0.970    &        1.089     \\\\\n",
       "\\textbf{gluc}        &      -0.2327  &        0.034     &    -6.772  &         0.000        &       -0.300    &       -0.165     \\\\\n",
       "\\textbf{gender}      &       0.0555  &        0.019     &     2.918  &         0.004        &        0.018    &        0.093     \\\\\n",
       "\\textbf{smoke}       &      -0.1285  &        0.034     &    -3.828  &         0.000        &       -0.194    &       -0.063     \\\\\n",
       "\\textbf{alco}        &      -0.1752  &        0.041     &    -4.302  &         0.000        &       -0.255    &       -0.095     \\\\\n",
       "\\textbf{active}      &      -0.2170  &        0.021     &   -10.190  &         0.000        &       -0.259    &       -0.175     \\\\\n",
       "\\bottomrule\n",
       "\\end{tabular}\n",
       "%\\caption{Logit Regression Results}\n",
       "\\end{center}"
      ],
      "text/plain": [
       "<class 'statsmodels.iolib.summary.Summary'>\n",
       "\"\"\"\n",
       "                           Logit Regression Results                           \n",
       "==============================================================================\n",
       "Dep. Variable:                 cardio   No. Observations:                69992\n",
       "Model:                          Logit   Df Residuals:                    69981\n",
       "Method:                           MLE   Df Model:                           10\n",
       "Date:                Tue, 03 Jun 2025   Pseudo R-squ.:                  0.1633\n",
       "Time:                        19:41:34   Log-Likelihood:                -40594.\n",
       "converged:                       True   LL-Null:                       -48515.\n",
       "Covariance Type:            nonrobust   LLR p-value:                     0.000\n",
       "===============================================================================\n",
       "                  coef    std err          z      P>|z|      [0.025      0.975]\n",
       "-------------------------------------------------------------------------------\n",
       "const         -28.8254      0.336    -85.818      0.000     -29.484     -28.167\n",
       "age             1.8265      0.046     39.906      0.000       1.737       1.916\n",
       "ap_hi          50.0655      0.792     63.241      0.000      48.514      51.617\n",
       "ap_lo           5.3553      0.415     12.920      0.000       4.543       6.168\n",
       "BMI             4.3530      0.216     20.158      0.000       3.930       4.776\n",
       "cholesterol     1.0297      0.030     33.966      0.000       0.970       1.089\n",
       "gluc           -0.2327      0.034     -6.772      0.000      -0.300      -0.165\n",
       "gender          0.0555      0.019      2.918      0.004       0.018       0.093\n",
       "smoke          -0.1285      0.034     -3.828      0.000      -0.194      -0.063\n",
       "alco           -0.1752      0.041     -4.302      0.000      -0.255      -0.095\n",
       "active         -0.2170      0.021    -10.190      0.000      -0.259      -0.175\n",
       "===============================================================================\n",
       "\"\"\""
      ]
     },
     "execution_count": 44,
     "metadata": {},
     "output_type": "execute_result"
    }
   ],
   "source": [
    "# fitting an improved logreg model\n",
    "model1=sm.Logit(y,sm.add_constant(X))\n",
    "results1=model1.fit(maxiter=1e12)\n",
    "# printing model summary\n",
    "results1.summary()"
   ]
  },
  {
   "cell_type": "markdown",
   "id": "0ca72d91",
   "metadata": {},
   "source": [
    "Based on the logistic regression results, the model is statistically significant, as indicated by the log-likelihood ratio p-value being well below the 0.05 threshold. This suggests that the model provides a better fit than a null model with no predictors.\n",
    "\n",
    "Several features show strong and statistically significant associations with cardiovascular risk (CVR). Age, systolic blood pressure (ap_hi), diastolic blood pressure (ap_lo), BMI, cholesterol, and gender all have positive coefficients, meaning that increases in these features are associated with a higher likelihood of CVR. Notably, systolic blood pressure and BMI exhibit the strongest positive effects.\n",
    "\n",
    "On the other hand, physical activity, alcohol use, smoking status, and glucose levels show negative associations with CVR. While the protective effect of physical activity aligns with expectations, the negative coefficients for glucose, smoking, and alcohol are counterintuitive. These may indicate issues such as class imbalance, multicollinearity, or data quality concerns, and should be further investigated.\n",
    "\n",
    "Overall, the model demonstrates statistical significance and highlights several meaningful predictors of CVR, though some unexpected findings warrant additional analysis."
   ]
  },
  {
   "cell_type": "code",
   "execution_count": 45,
   "id": "8bb2270c",
   "metadata": {},
   "outputs": [
    {
     "data": {
      "application/vnd.microsoft.datawrangler.viewer.v0+json": {
       "columns": [
        {
         "name": "index",
         "rawType": "int64",
         "type": "integer"
        },
        {
         "name": "feature",
         "rawType": "object",
         "type": "string"
        },
        {
         "name": "VIF",
         "rawType": "float64",
         "type": "float"
        }
       ],
       "ref": "d12a3c1d-eab4-4dac-85af-be2b9ada6ee1",
       "rows": [
        [
         "0",
         "age",
         "14.09163668804717"
        ],
        [
         "1",
         "ap_hi",
         "254.13570098118944"
        ],
        [
         "2",
         "ap_lo",
         "176.3030131039749"
        ],
        [
         "3",
         "BMI",
         "108.05013750329691"
        ],
        [
         "4",
         "cholesterol",
         "1.6607428799566135"
        ],
        [
         "5",
         "gluc",
         "1.4574707862828304"
        ],
        [
         "6",
         "gender",
         "10.283778064785546"
        ],
        [
         "7",
         "smoke",
         "1.3667854889305269"
        ],
        [
         "8",
         "alco",
         "1.2031140490871837"
        ],
        [
         "9",
         "active",
         "5.068938710343334"
        ]
       ],
       "shape": {
        "columns": 2,
        "rows": 10
       }
      },
      "text/html": [
       "<div>\n",
       "<style scoped>\n",
       "    .dataframe tbody tr th:only-of-type {\n",
       "        vertical-align: middle;\n",
       "    }\n",
       "\n",
       "    .dataframe tbody tr th {\n",
       "        vertical-align: top;\n",
       "    }\n",
       "\n",
       "    .dataframe thead th {\n",
       "        text-align: right;\n",
       "    }\n",
       "</style>\n",
       "<table border=\"1\" class=\"dataframe\">\n",
       "  <thead>\n",
       "    <tr style=\"text-align: right;\">\n",
       "      <th></th>\n",
       "      <th>feature</th>\n",
       "      <th>VIF</th>\n",
       "    </tr>\n",
       "  </thead>\n",
       "  <tbody>\n",
       "    <tr>\n",
       "      <th>0</th>\n",
       "      <td>age</td>\n",
       "      <td>14.091637</td>\n",
       "    </tr>\n",
       "    <tr>\n",
       "      <th>1</th>\n",
       "      <td>ap_hi</td>\n",
       "      <td>254.135701</td>\n",
       "    </tr>\n",
       "    <tr>\n",
       "      <th>2</th>\n",
       "      <td>ap_lo</td>\n",
       "      <td>176.303013</td>\n",
       "    </tr>\n",
       "    <tr>\n",
       "      <th>3</th>\n",
       "      <td>BMI</td>\n",
       "      <td>108.050138</td>\n",
       "    </tr>\n",
       "    <tr>\n",
       "      <th>4</th>\n",
       "      <td>cholesterol</td>\n",
       "      <td>1.660743</td>\n",
       "    </tr>\n",
       "    <tr>\n",
       "      <th>5</th>\n",
       "      <td>gluc</td>\n",
       "      <td>1.457471</td>\n",
       "    </tr>\n",
       "    <tr>\n",
       "      <th>6</th>\n",
       "      <td>gender</td>\n",
       "      <td>10.283778</td>\n",
       "    </tr>\n",
       "    <tr>\n",
       "      <th>7</th>\n",
       "      <td>smoke</td>\n",
       "      <td>1.366785</td>\n",
       "    </tr>\n",
       "    <tr>\n",
       "      <th>8</th>\n",
       "      <td>alco</td>\n",
       "      <td>1.203114</td>\n",
       "    </tr>\n",
       "    <tr>\n",
       "      <th>9</th>\n",
       "      <td>active</td>\n",
       "      <td>5.068939</td>\n",
       "    </tr>\n",
       "  </tbody>\n",
       "</table>\n",
       "</div>"
      ],
      "text/plain": [
       "       feature         VIF\n",
       "0          age   14.091637\n",
       "1        ap_hi  254.135701\n",
       "2        ap_lo  176.303013\n",
       "3          BMI  108.050138\n",
       "4  cholesterol    1.660743\n",
       "5         gluc    1.457471\n",
       "6       gender   10.283778\n",
       "7        smoke    1.366785\n",
       "8         alco    1.203114\n",
       "9       active    5.068939"
      ]
     },
     "execution_count": 45,
     "metadata": {},
     "output_type": "execute_result"
    }
   ],
   "source": [
    "# checking for multicollinearity in the reamining features\n",
    "vif = pd.DataFrame()\n",
    "vif[\"feature\"] = X.columns\n",
    "vif[\"VIF\"] = [variance_inflation_factor(X.values, i) for i in range(X.shape[1])]\n",
    "vif"
   ]
  },
  {
   "cell_type": "markdown",
   "id": "7a6ec679",
   "metadata": {},
   "source": [
    "## *Train-test-split*"
   ]
  },
  {
   "cell_type": "markdown",
   "id": "d9caa585",
   "metadata": {},
   "source": [
    "Here, we split the data into a training set and a testing set. The training set is used to train the model, while the testing set is reserved to evaluate how well the model generalizes to unseen data.\n"
   ]
  },
  {
   "cell_type": "code",
   "execution_count": 46,
   "id": "cf498ead",
   "metadata": {},
   "outputs": [],
   "source": [
    "X_train,X_test,y_train,y_test=train_test_split(X,y,test_size=0.2,random_state=42)"
   ]
  },
  {
   "cell_type": "markdown",
   "id": "1631b4e2",
   "metadata": {},
   "source": [
    "## *Finding the best perfoming model*"
   ]
  },
  {
   "cell_type": "markdown",
   "id": "5ac97ce2",
   "metadata": {},
   "source": [
    "Here, we use the average **AUC** and **accuracy** scores obtained through cross-validation to identify the best-performing models. We selected these metrics because they provide complementary insights into model performance. **Accuracy** is suitable given that our dataset is balanced, allowing us to evaluate the proportion of correctly classified instances. \n",
    "\n",
    "**AUC** (Area Under the ROC Curve), on the other hand, measures the model's ability to distinguish between classes across all classification thresholds, offering a robust evaluation of discriminatory power. Using both metrics ensures that our selected models are not only accurate but also capable of effectively differentiating between the target classes.\n"
   ]
  },
  {
   "cell_type": "code",
   "execution_count": 47,
   "id": "1ee17808",
   "metadata": {},
   "outputs": [],
   "source": [
    "def evaluate_model(model, X, y, name=\"Model\"):\n",
    "    scores = cross_val_score(model, X, y, scoring=\"accuracy\", cv=5)\n",
    "    print(f\"{name} Accuracy: {scores.mean():.4f}\")\n",
    "    return scores\n"
   ]
  },
  {
   "cell_type": "code",
   "execution_count": 48,
   "id": "47ce614c",
   "metadata": {},
   "outputs": [
    {
     "name": "stdout",
     "output_type": "stream",
     "text": [
      "Logistic Regression Accuracy: 0.7112\n",
      "Decision Tree Accuracy: 0.6408\n",
      "Random Forest Accuracy: 0.6912\n",
      "XGboost Accuracy: 0.7316\n"
     ]
    },
    {
     "data": {
      "text/plain": [
       "array([0.73354764, 0.73069024, 0.73658362, 0.73218432, 0.72512949])"
      ]
     },
     "execution_count": 48,
     "metadata": {},
     "output_type": "execute_result"
    }
   ],
   "source": [
    "evaluate_model(LogisticRegression(max_iter=10000), X_train, y_train, \"Logistic Regression\")\n",
    "evaluate_model(DecisionTreeClassifier(), X_train, y_train, \"Decision Tree\")\n",
    "evaluate_model(RandomForestClassifier(), X_train, y_train, \"Random Forest\")\n",
    "evaluate_model(XGBClassifier(), X_train, y_train, \"XGboost\")\n"
   ]
  },
  {
   "cell_type": "code",
   "execution_count": 49,
   "id": "dfbac0ce",
   "metadata": {},
   "outputs": [
    {
     "name": "stderr",
     "output_type": "stream",
     "text": [
      "c:\\Users\\HomePC\\anaconda3.1\\Lib\\site-packages\\xgboost\\training.py:183: UserWarning: [19:42:30] WARNING: C:\\actions-runner\\_work\\xgboost\\xgboost\\src\\learner.cc:738: \n",
      "Parameters: { \"use_label_encoder\" } are not used.\n",
      "\n",
      "  bst.update(dtrain, iteration=i, fobj=obj)\n"
     ]
    },
    {
     "data": {
      "image/png": "[encoded data removed]",
      "text/plain": [
       "<Figure size 800x600 with 1 Axes>"
      ]
     },
     "metadata": {},
     "output_type": "display_data"
    }
   ],
   "source": [
    "def plot_roc(model, X_test, y_test, label=\"Model\"):\n",
    "    y_probs = model.predict_proba(X_test)[:, 1]  # This must be supported\n",
    "    fpr, tpr, _ = roc_curve(y_test, y_probs)\n",
    "    roc_auc = auc(fpr, tpr)\n",
    "\n",
    "    plt.plot(fpr, tpr, label=f\"{label} (AUC = {roc_auc:.2f})\")\n",
    "\n",
    "# Prepare plot\n",
    "plt.figure(figsize=(8, 6))\n",
    "\n",
    "# Define models\n",
    "models = {\n",
    "    \"Logistic Regression\": LogisticRegression(max_iter=10000),\n",
    "    \"Decision Tree\": DecisionTreeClassifier(),\n",
    "    \"Random Forest\": RandomForestClassifier(),\n",
    "    \"XGBoost\": XGBClassifier(use_label_encoder=False, eval_metric='logloss')\n",
    "}\n",
    "\n",
    "# Train and plot\n",
    "for name, model in models.items():\n",
    "    model.fit(X_train, y_train)\n",
    "    plot_roc(model, X_test, y_test, label=name)\n",
    "\n",
    "plt.plot([0, 1], [0, 1], linestyle=\"--\", color=\"gray\")\n",
    "plt.xlabel(\"False Positive Rate\")\n",
    "plt.ylabel(\"True Positive Rate\")\n",
    "plt.title(\"ROC Curves\")\n",
    "plt.legend()\n",
    "plt.grid(True)\n",
    "plt.show()\n"
   ]
  },
  {
   "cell_type": "markdown",
   "id": "dd4ec12d",
   "metadata": {},
   "source": [
    "Based on the cross-validation results, **Logistic Regression** and **XGBoost** emerged as the top-performing models in terms of both **AUC** and **accuracy**. These metrics consistently outperformed those of other models considered during the evaluation phase. Therefore, we selected Logistic Regression and XGBoost as our preferred models for further analysis and deployment.\n",
    "\n",
    "We chose **accuracy** as one of our primary evaluation metrics because our dataset is **balanced**, meaning that the target classes are approximately equally represented. In such scenarios, accuracy provides a reliable and interpretable measure of model performance by accounting for both true positives and true negatives. Additionally, because false positives and false negatives carry similar consequences in our use case, accuracy remains a suitable metric. **AUC** further supports our model selection by quantifying the ability of each model to discriminate between the classes across different threshold settings.\n"
   ]
  },
  {
   "cell_type": "markdown",
   "id": "4124b089",
   "metadata": {},
   "source": [
    "## *Fitting a logistic regression model*"
   ]
  },
  {
   "cell_type": "code",
   "execution_count": 50,
   "id": "91ab3842",
   "metadata": {},
   "outputs": [
    {
     "name": "stdout",
     "output_type": "stream",
     "text": [
      "              precision    recall  f1-score   support\n",
      "\n",
      "           0       0.70      0.75      0.72     28118\n",
      "           1       0.73      0.68      0.70     27875\n",
      "\n",
      "    accuracy                           0.71     55993\n",
      "   macro avg       0.71      0.71      0.71     55993\n",
      "weighted avg       0.71      0.71      0.71     55993\n",
      "\n",
      "              precision    recall  f1-score   support\n",
      "\n",
      "           0       0.69      0.74      0.72      6899\n",
      "           1       0.73      0.68      0.70      7100\n",
      "\n",
      "    accuracy                           0.71     13999\n",
      "   macro avg       0.71      0.71      0.71     13999\n",
      "weighted avg       0.71      0.71      0.71     13999\n",
      "\n"
     ]
    }
   ],
   "source": [
    "logreg=LogisticRegression(max_iter=10000,solver=\"liblinear\")\n",
    "logreg.fit(X_train,y_train)\n",
    "#predicting the X_train\n",
    "log_pred_train=logreg.predict(X_train)\n",
    "print(classification_report(y_train,log_pred_train))\n",
    "#predicting the X_test\n",
    "log_pred_test=logreg.predict(X_test)\n",
    "print(classification_report(y_test,log_pred_test))\n"
   ]
  },
  {
   "cell_type": "markdown",
   "id": "dfc5570e",
   "metadata": {},
   "source": [
    "### *Fitting A logistic Regression Model With Lasso*"
   ]
  },
  {
   "cell_type": "code",
   "execution_count": 51,
   "id": "0cde35df",
   "metadata": {},
   "outputs": [
    {
     "name": "stdout",
     "output_type": "stream",
     "text": [
      "              precision    recall  f1-score   support\n",
      "\n",
      "           0       0.71      0.77      0.74     28118\n",
      "           1       0.74      0.68      0.71     27875\n",
      "\n",
      "    accuracy                           0.73     55993\n",
      "   macro avg       0.73      0.73      0.72     55993\n",
      "weighted avg       0.73      0.73      0.72     55993\n",
      "\n",
      "              precision    recall  f1-score   support\n",
      "\n",
      "           0       0.70      0.76      0.73      6899\n",
      "           1       0.75      0.69      0.72      7100\n",
      "\n",
      "    accuracy                           0.72     13999\n",
      "   macro avg       0.73      0.72      0.72     13999\n",
      "weighted avg       0.73      0.72      0.72     13999\n",
      "\n"
     ]
    },
    {
     "data": {
      "image/png": "[encoded data removed]",
      "text/plain": [
       "<Figure size 640x480 with 1 Axes>"
      ]
     },
     "metadata": {},
     "output_type": "display_data"
    }
   ],
   "source": [
    "logreg=LogisticRegression(max_iter=10000,solver=\"liblinear\",penalty=\"l1\")\n",
    "logreg.fit(X_train,y_train)\n",
    "#predicting the X_train\n",
    "log_pred_train=logreg.predict(X_train)\n",
    "print(classification_report(y_train,log_pred_train))\n",
    "#predicting the X_test\n",
    "log_pred_test=logreg.predict(X_test)\n",
    "print(classification_report(y_test,log_pred_test))\n",
    "plot_roc(logreg,X_test,y_test,\"log reg no interactions\")\n",
    "plt.plot([0, 1], [0, 1], linestyle=\"--\", color=\"gray\")\n",
    "plt.xlabel(\"False Positive Rate\")\n",
    "plt.ylabel(\"True Positive Rate\")\n",
    "plt.title(\"ROC Curves\")\n",
    "plt.legend()\n",
    "plt.grid(True)\n",
    "plt.show()"
   ]
  },
  {
   "cell_type": "markdown",
   "id": "64f1e5de",
   "metadata": {},
   "source": [
    "### *Adding Interaction Terms*"
   ]
  },
  {
   "cell_type": "code",
   "execution_count": 52,
   "id": "e11029b7",
   "metadata": {},
   "outputs": [],
   "source": [
    "interaction_generator = PolynomialFeatures(degree=2, interaction_only=True, include_bias=False)\n",
    "X_train_inter = interaction_generator.fit_transform(X_train)\n",
    "X_test_inter = interaction_generator.transform(X_test)"
   ]
  },
  {
   "cell_type": "code",
   "execution_count": 53,
   "id": "77ecb8a8",
   "metadata": {},
   "outputs": [],
   "source": [
    "input_features = X.columns\n",
    "interaction_feature_names = interaction_generator.get_feature_names_out(input_features)"
   ]
  },
  {
   "cell_type": "code",
   "execution_count": 54,
   "id": "4c55f979",
   "metadata": {},
   "outputs": [],
   "source": [
    "X_train_inter=pd.DataFrame(X_train_inter,index=X_train.index,columns=interaction_feature_names)\n",
    "X_test_inter=pd.DataFrame(X_test_inter,index=X_test.index,columns=interaction_feature_names)"
   ]
  },
  {
   "cell_type": "code",
   "execution_count": 55,
   "id": "fbb5764a",
   "metadata": {},
   "outputs": [
    {
     "name": "stdout",
     "output_type": "stream",
     "text": [
      "              precision    recall  f1-score   support\n",
      "\n",
      "           0       0.72      0.74      0.73     28118\n",
      "           1       0.73      0.71      0.72     27875\n",
      "\n",
      "    accuracy                           0.73     55993\n",
      "   macro avg       0.73      0.73      0.73     55993\n",
      "weighted avg       0.73      0.73      0.73     55993\n",
      "\n",
      "              precision    recall  f1-score   support\n",
      "\n",
      "           0       0.72      0.74      0.73      6899\n",
      "           1       0.74      0.72      0.73      7100\n",
      "\n",
      "    accuracy                           0.73     13999\n",
      "   macro avg       0.73      0.73      0.73     13999\n",
      "weighted avg       0.73      0.73      0.73     13999\n",
      "\n"
     ]
    },
    {
     "data": {
      "image/png": "[encoded data removed]",
      "text/plain": [
       "<Figure size 640x480 with 1 Axes>"
      ]
     },
     "metadata": {},
     "output_type": "display_data"
    }
   ],
   "source": [
    "logreg=LogisticRegression(max_iter=10000,solver=\"liblinear\",penalty=\"l1\")\n",
    "logreg.fit(X_train_inter,y_train)\n",
    "#predicting the X_train\n",
    "log_pred_train=logreg.predict(X_train_inter)\n",
    "print(classification_report(y_train,log_pred_train))\n",
    "#predicting the X_test\n",
    "log_pred_test=logreg.predict(X_test_inter)\n",
    "print(classification_report(y_test,log_pred_test))\n",
    "plot_roc(logreg,X_test_inter,y_test,\"log reg with interactions\")\n",
    "plt.plot([0, 1], [0, 1], linestyle=\"--\", color=\"gray\")\n",
    "plt.xlabel(\"False Positive Rate\")\n",
    "plt.ylabel(\"True Positive Rate\")\n",
    "plt.title(\"ROC Curves\")\n",
    "plt.legend()\n",
    "plt.grid(True)\n",
    "plt.show()"
   ]
  },
  {
   "cell_type": "code",
   "execution_count": null,
   "id": "7376d170",
   "metadata": {},
   "outputs": [],
   "source": []
  },
  {
   "cell_type": "markdown",
   "id": "3bfa2502",
   "metadata": {},
   "source": [
    "## *Validating the best model*"
   ]
  },
  {
   "cell_type": "markdown",
   "id": "63b5de4e",
   "metadata": {},
   "source": [
    "Here, we evaluate how well the XGBoost model generalizes to unseen data, aiming to check for signs of overfitting.\n"
   ]
  },
  {
   "cell_type": "code",
   "execution_count": 56,
   "id": "d806ccda",
   "metadata": {},
   "outputs": [
    {
     "name": "stdout",
     "output_type": "stream",
     "text": [
      "              precision    recall  f1-score   support\n",
      "\n",
      "           0       0.74      0.80      0.77     28118\n",
      "           1       0.78      0.72      0.75     27875\n",
      "\n",
      "    accuracy                           0.76     55993\n",
      "   macro avg       0.76      0.76      0.76     55993\n",
      "weighted avg       0.76      0.76      0.76     55993\n",
      "\n",
      "              precision    recall  f1-score   support\n",
      "\n",
      "           0       0.72      0.77      0.74      6899\n",
      "           1       0.76      0.70      0.73      7100\n",
      "\n",
      "    accuracy                           0.74     13999\n",
      "   macro avg       0.74      0.74      0.74     13999\n",
      "weighted avg       0.74      0.74      0.74     13999\n",
      "\n"
     ]
    }
   ],
   "source": [
    "xb=XGBClassifier()\n",
    "xb.fit(X_train,y_train)\n",
    "y_train_pred=xb.predict(X_train)\n",
    "print(classification_report(y_train,y_train_pred))\n",
    "y_test_pred=xb.predict(X_test)\n",
    "print(classification_report(y_test,y_test_pred))"
   ]
  },
  {
   "cell_type": "markdown",
   "id": "ce85b449",
   "metadata": {},
   "source": [
    "Based on the accuracy and precision scores obtained from both the training and test sets, we can infer that the model is not overfitting. The similarity between these scores indicates that the model generalizes well to unseen data and is not merely memorizing the training examples. If the model were overfitting, we would expect to see a significantly higher performance on the training set compared to the test set. The close alignment of these metrics demonstrates that the model maintains a good balance between bias and variance, ensuring reliable predictive performance on new data."
   ]
  },
  {
   "cell_type": "markdown",
   "id": "be9c3d51",
   "metadata": {},
   "source": [
    "## *Confusion Matrix*"
   ]
  },
  {
   "cell_type": "code",
   "execution_count": 57,
   "id": "c2e1a11e",
   "metadata": {},
   "outputs": [
    {
     "data": {
      "text/plain": [
       "<sklearn.metrics._plot.confusion_matrix.ConfusionMatrixDisplay at 0x1c64d7d0b90>"
      ]
     },
     "execution_count": 57,
     "metadata": {},
     "output_type": "execute_result"
    },
    {
     "data": {
      "image/png": "[encoded data removed]",
      "text/plain": [
       "<Figure size 640x480 with 2 Axes>"
      ]
     },
     "metadata": {},
     "output_type": "display_data"
    }
   ],
   "source": [
    "cfm=confusion_matrix(y_test,y_test_pred)\n",
    "disp=ConfusionMatrixDisplay(cfm,display_labels=xb.classes_)\n",
    "disp.plot()"
   ]
  },
  {
   "cell_type": "code",
   "execution_count": 58,
   "id": "0d3de42c",
   "metadata": {},
   "outputs": [
    {
     "data": {
      "image/png": "[encoded data removed]",
      "text/plain": [
       "<Figure size 640x480 with 1 Axes>"
      ]
     },
     "metadata": {},
     "output_type": "display_data"
    }
   ],
   "source": [
    "y_score=xb.predict_proba(X_test)[:,1]\n",
    "fpr,tpr,thresholds=roc_curve(y_test,y_score)\n",
    "plt.plot(fpr,tpr,color=\"g\",label=\"ROC Curve\")\n",
    "plt.plot([0,1],[0,1],color=\"navy\",linestyle=\"--\",label=\"baseline\")\n",
    "plt.title(\"fpr vs tpr curve\",fontweight=\"bold\",fontsize=25,color=\"g\")\n",
    "plt.xlabel(\"fpr\",color=\"g\",fontsize=20)\n",
    "plt.ylabel(\"tpr\",color=\"g\",fontsize=20)\n",
    "plt.legend()\n",
    "plt.show()"
   ]
  },
  {
   "cell_type": "code",
   "execution_count": null,
   "id": "197e22de",
   "metadata": {},
   "outputs": [],
   "source": []
  }
 ],
 "metadata": {
  "kernelspec": {
   "display_name": "Python (learn-env)",
   "language": "python",
   "name": "learn-env"
  },
  "language_info": {
   "codemirror_mode": {
    "name": "ipython",
    "version": 3
   },
   "file_extension": ".py",
   "mimetype": "text/x-python",
   "name": "python",
   "nbconvert_exporter": "python",
   "pygments_lexer": "ipython3",
   "version": "3.11.7"
  }
 },
 "nbformat": 4,
 "nbformat_minor": 5
}
