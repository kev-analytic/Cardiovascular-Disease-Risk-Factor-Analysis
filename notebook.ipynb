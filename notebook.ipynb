{
 "cells": [
  {
   "cell_type": "markdown",
   "id": "106a7321",
   "metadata": {},
   "source": [
    "# Cardiovascular Risk factors"
   ]
  },
  {
   "cell_type": "code",
   "execution_count": 102,
   "id": "dd8db1e5",
   "metadata": {},
   "outputs": [],
   "source": [
    "#importing the necessary libraries\n",
    "import pandas as pd \n",
    "import numpy as np \n",
    "import matplotlib.pyplot as plt \n",
    "import seaborn as sns\n",
    "import scipy.stats as stats\n",
    "import statsmodels.api as sm\n",
    "import statsmodels.formula.api as smf\n",
    "%matplotlib inline\n"
   ]
  },
  {
   "cell_type": "code",
   "execution_count": 65,
   "id": "af99d730",
   "metadata": {},
   "outputs": [
    {
     "data": {
      "application/vnd.microsoft.datawrangler.viewer.v0+json": {
       "columns": [
        {
         "name": "index",
         "rawType": "int64",
         "type": "integer"
        },
        {
         "name": "0",
         "rawType": "object",
         "type": "string"
        }
       ],
       "conversionMethod": "pd.DataFrame",
       "ref": "184fe171-533c-4ef8-9ca4-d0f287358e90",
       "rows": [
        [
         "0",
         "id;age;gender;height;weight;ap_hi;ap_lo;cholesterol;gluc;smoke;alco;active;cardio"
        ],
        [
         "1",
         "0;18393;2;168;62.0;110;80;1;1;0;0;1;0"
        ],
        [
         "2",
         "1;20228;1;156;85.0;140;90;3;1;0;0;1;1"
        ],
        [
         "3",
         "2;18857;1;165;64.0;130;70;3;1;0;0;0;1"
        ],
        [
         "4",
         "3;17623;2;169;82.0;150;100;1;1;0;0;1;1"
        ],
        [
         "5",
         "4;17474;1;156;56.0;100;60;1;1;0;0;0;0"
        ],
        [
         "6",
         "8;21914;1;151;67.0;120;80;2;2;0;0;0;0"
        ],
        [
         "7",
         "9;22113;1;157;93.0;130;80;3;1;0;0;1;0"
        ],
        [
         "8",
         "12;22584;2;178;95.0;130;90;3;3;0;0;1;1"
        ],
        [
         "9",
         "13;17668;1;158;71.0;110;70;1;1;0;0;1;0"
        ],
        [
         "10",
         "14;19834;1;164;68.0;110;60;1;1;0;0;0;0"
        ],
        [
         "11",
         "15;22530;1;169;80.0;120;80;1;1;0;0;1;0"
        ],
        [
         "12",
         "16;18815;2;173;60.0;120;80;1;1;0;0;1;0"
        ],
        [
         "13",
         "18;14791;2;165;60.0;120;80;1;1;0;0;0;0"
        ],
        [
         "14",
         "21;19809;1;158;78.0;110;70;1;1;0;0;1;0"
        ],
        [
         "15",
         "23;14532;2;181;95.0;130;90;1;1;1;1;1;0"
        ],
        [
         "16",
         "24;16782;2;172;112.0;120;80;1;1;0;0;0;1"
        ],
        [
         "17",
         "25;21296;1;170;75.0;130;70;1;1;0;0;0;0"
        ],
        [
         "18",
         "27;16747;1;158;52.0;110;70;1;3;0;0;1;0"
        ],
        [
         "19",
         "28;17482;1;154;68.0;100;70;1;1;0;0;0;0"
        ],
        [
         "20",
         "29;21755;2;162;56.0;120;70;1;1;1;0;1;0"
        ],
        [
         "21",
         "30;19778;2;163;83.0;120;80;1;1;0;0;1;0"
        ],
        [
         "22",
         "31;21413;1;157;69.0;130;80;1;1;0;0;1;0"
        ],
        [
         "23",
         "32;23046;1;158;90.0;145;85;2;2;0;0;1;1"
        ],
        [
         "24",
         "33;23376;2;156;45.0;110;60;1;1;0;0;1;0"
        ],
        [
         "25",
         "35;16608;1;170;68.0;150;90;3;1;0;0;1;1"
        ],
        [
         "26",
         "36;14453;1;153;65.0;130;100;2;1;0;0;1;0"
        ],
        [
         "27",
         "37;19559;1;156;59.0;130;90;1;1;0;0;1;0"
        ],
        [
         "28",
         "38;18085;1;159;78.0;120;80;1;1;0;0;1;0"
        ],
        [
         "29",
         "39;14574;2;166;66.0;120;80;1;1;0;0;1;0"
        ],
        [
         "30",
         "40;21057;2;169;74.0;130;70;1;3;0;0;0;0"
        ],
        [
         "31",
         "42;18291;1;155;105.0;120;80;3;1;0;0;1;1"
        ],
        [
         "32",
         "43;23186;1;169;71.0;140;90;3;1;0;0;1;1"
        ],
        [
         "33",
         "44;14605;1;159;60.0;110;70;1;1;0;0;1;0"
        ],
        [
         "34",
         "45;20652;1;160;73.0;130;85;1;1;0;0;0;1"
        ],
        [
         "35",
         "46;21940;2;173;82.0;140;90;3;1;0;0;0;1"
        ],
        [
         "36",
         "47;20404;1;163;55.0;120;80;1;1;0;0;1;0"
        ],
        [
         "37",
         "49;18328;2;175;95.0;120;80;1;1;0;0;1;0"
        ],
        [
         "38",
         "51;17976;1;164;70.0;130;90;1;1;0;0;1;0"
        ],
        [
         "39",
         "52;23388;2;162;72.0;130;80;1;1;1;0;1;1"
        ],
        [
         "40",
         "53;18126;1;165;70.0;140;90;1;1;0;0;1;1"
        ],
        [
         "41",
         "54;19848;1;157;62.0;110;70;1;1;0;0;0;0"
        ],
        [
         "42",
         "56;18274;1;178;68.0;110;80;1;1;0;0;1;1"
        ],
        [
         "43",
         "57;21475;2;171;69.0;140;90;1;1;0;0;1;1"
        ],
        [
         "44",
         "58;20556;2;159;63.0;120;60;1;1;0;0;1;1"
        ],
        [
         "45",
         "59;19764;1;154;50.0;170;80;3;1;0;0;1;1"
        ],
        [
         "46",
         "60;17471;1;162;64.0;140;90;1;1;0;0;1;1"
        ],
        [
         "47",
         "61;18207;1;162;107.0;150;90;2;1;0;0;1;1"
        ],
        [
         "48",
         "62;18535;2;168;69.0;120;80;1;1;0;0;0;0"
        ],
        [
         "49",
         "63;16864;2;175;70.0;120;80;2;1;0;0;1;0"
        ]
       ],
       "shape": {
        "columns": 1,
        "rows": 70001
       }
      },
      "text/html": [
       "<div>\n",
       "<style scoped>\n",
       "    .dataframe tbody tr th:only-of-type {\n",
       "        vertical-align: middle;\n",
       "    }\n",
       "\n",
       "    .dataframe tbody tr th {\n",
       "        vertical-align: top;\n",
       "    }\n",
       "\n",
       "    .dataframe thead th {\n",
       "        text-align: right;\n",
       "    }\n",
       "</style>\n",
       "<table border=\"1\" class=\"dataframe\">\n",
       "  <thead>\n",
       "    <tr style=\"text-align: right;\">\n",
       "      <th></th>\n",
       "      <th>0</th>\n",
       "    </tr>\n",
       "  </thead>\n",
       "  <tbody>\n",
       "    <tr>\n",
       "      <th>0</th>\n",
       "      <td>id;age;gender;height;weight;ap_hi;ap_lo;choles...</td>\n",
       "    </tr>\n",
       "    <tr>\n",
       "      <th>1</th>\n",
       "      <td>0;18393;2;168;62.0;110;80;1;1;0;0;1;0</td>\n",
       "    </tr>\n",
       "    <tr>\n",
       "      <th>2</th>\n",
       "      <td>1;20228;1;156;85.0;140;90;3;1;0;0;1;1</td>\n",
       "    </tr>\n",
       "    <tr>\n",
       "      <th>3</th>\n",
       "      <td>2;18857;1;165;64.0;130;70;3;1;0;0;0;1</td>\n",
       "    </tr>\n",
       "    <tr>\n",
       "      <th>4</th>\n",
       "      <td>3;17623;2;169;82.0;150;100;1;1;0;0;1;1</td>\n",
       "    </tr>\n",
       "    <tr>\n",
       "      <th>...</th>\n",
       "      <td>...</td>\n",
       "    </tr>\n",
       "    <tr>\n",
       "      <th>69996</th>\n",
       "      <td>99993;19240;2;168;76.0;120;80;1;1;1;0;1;0</td>\n",
       "    </tr>\n",
       "    <tr>\n",
       "      <th>69997</th>\n",
       "      <td>99995;22601;1;158;126.0;140;90;2;2;0;0;1;1</td>\n",
       "    </tr>\n",
       "    <tr>\n",
       "      <th>69998</th>\n",
       "      <td>99996;19066;2;183;105.0;180;90;3;1;0;1;0;1</td>\n",
       "    </tr>\n",
       "    <tr>\n",
       "      <th>69999</th>\n",
       "      <td>99998;22431;1;163;72.0;135;80;1;2;0;0;0;1</td>\n",
       "    </tr>\n",
       "    <tr>\n",
       "      <th>70000</th>\n",
       "      <td>99999;20540;1;170;72.0;120;80;2;1;0;0;1;0</td>\n",
       "    </tr>\n",
       "  </tbody>\n",
       "</table>\n",
       "<p>70001 rows × 1 columns</p>\n",
       "</div>"
      ],
      "text/plain": [
       "                                                       0\n",
       "0      id;age;gender;height;weight;ap_hi;ap_lo;choles...\n",
       "1                  0;18393;2;168;62.0;110;80;1;1;0;0;1;0\n",
       "2                  1;20228;1;156;85.0;140;90;3;1;0;0;1;1\n",
       "3                  2;18857;1;165;64.0;130;70;3;1;0;0;0;1\n",
       "4                 3;17623;2;169;82.0;150;100;1;1;0;0;1;1\n",
       "...                                                  ...\n",
       "69996          99993;19240;2;168;76.0;120;80;1;1;1;0;1;0\n",
       "69997         99995;22601;1;158;126.0;140;90;2;2;0;0;1;1\n",
       "69998         99996;19066;2;183;105.0;180;90;3;1;0;1;0;1\n",
       "69999          99998;22431;1;163;72.0;135;80;1;2;0;0;0;1\n",
       "70000          99999;20540;1;170;72.0;120;80;2;1;0;0;1;0\n",
       "\n",
       "[70001 rows x 1 columns]"
      ]
     },
     "execution_count": 65,
     "metadata": {},
     "output_type": "execute_result"
    }
   ],
   "source": [
    "# loading the dataset\n",
    "df=pd.read_csv(\"cardio_train.csv\",header=None)\n",
    "df\n",
    "\n"
   ]
  },
  {
   "cell_type": "code",
   "execution_count": 66,
   "id": "769fa54a",
   "metadata": {},
   "outputs": [],
   "source": [
    "#expanding the semicolon separated values into specific columns\n",
    "df_stripped=df[0].str.split(\";\",expand=True)"
   ]
  },
  {
   "cell_type": "code",
   "execution_count": 67,
   "id": "a01d0495",
   "metadata": {},
   "outputs": [],
   "source": [
    "# returning the header row\n",
    "df_stripped.columns=df_stripped.iloc[0]\n",
    "df_new=df_stripped[1:]"
   ]
  },
  {
   "cell_type": "code",
   "execution_count": 68,
   "id": "c550049b",
   "metadata": {},
   "outputs": [
    {
     "data": {
      "application/vnd.microsoft.datawrangler.viewer.v0+json": {
       "columns": [
        {
         "name": "index",
         "rawType": "int64",
         "type": "integer"
        },
        {
         "name": "id",
         "rawType": "object",
         "type": "string"
        },
        {
         "name": "age",
         "rawType": "object",
         "type": "string"
        },
        {
         "name": "gender",
         "rawType": "object",
         "type": "string"
        },
        {
         "name": "height",
         "rawType": "object",
         "type": "string"
        },
        {
         "name": "weight",
         "rawType": "object",
         "type": "string"
        },
        {
         "name": "ap_hi",
         "rawType": "object",
         "type": "string"
        },
        {
         "name": "ap_lo",
         "rawType": "object",
         "type": "string"
        },
        {
         "name": "cholesterol",
         "rawType": "object",
         "type": "string"
        },
        {
         "name": "gluc",
         "rawType": "object",
         "type": "string"
        },
        {
         "name": "smoke",
         "rawType": "object",
         "type": "string"
        },
        {
         "name": "alco",
         "rawType": "object",
         "type": "string"
        },
        {
         "name": "active",
         "rawType": "object",
         "type": "string"
        },
        {
         "name": "cardio",
         "rawType": "object",
         "type": "string"
        }
       ],
       "conversionMethod": "pd.DataFrame",
       "ref": "20b3589d-2d66-49fd-b21a-01e493cbf95b",
       "rows": [
        [
         "1",
         "0",
         "18393",
         "2",
         "168",
         "62.0",
         "110",
         "80",
         "1",
         "1",
         "0",
         "0",
         "1",
         "0"
        ],
        [
         "2",
         "1",
         "20228",
         "1",
         "156",
         "85.0",
         "140",
         "90",
         "3",
         "1",
         "0",
         "0",
         "1",
         "1"
        ],
        [
         "3",
         "2",
         "18857",
         "1",
         "165",
         "64.0",
         "130",
         "70",
         "3",
         "1",
         "0",
         "0",
         "0",
         "1"
        ],
        [
         "4",
         "3",
         "17623",
         "2",
         "169",
         "82.0",
         "150",
         "100",
         "1",
         "1",
         "0",
         "0",
         "1",
         "1"
        ],
        [
         "5",
         "4",
         "17474",
         "1",
         "156",
         "56.0",
         "100",
         "60",
         "1",
         "1",
         "0",
         "0",
         "0",
         "0"
        ],
        [
         "6",
         "8",
         "21914",
         "1",
         "151",
         "67.0",
         "120",
         "80",
         "2",
         "2",
         "0",
         "0",
         "0",
         "0"
        ],
        [
         "7",
         "9",
         "22113",
         "1",
         "157",
         "93.0",
         "130",
         "80",
         "3",
         "1",
         "0",
         "0",
         "1",
         "0"
        ],
        [
         "8",
         "12",
         "22584",
         "2",
         "178",
         "95.0",
         "130",
         "90",
         "3",
         "3",
         "0",
         "0",
         "1",
         "1"
        ],
        [
         "9",
         "13",
         "17668",
         "1",
         "158",
         "71.0",
         "110",
         "70",
         "1",
         "1",
         "0",
         "0",
         "1",
         "0"
        ],
        [
         "10",
         "14",
         "19834",
         "1",
         "164",
         "68.0",
         "110",
         "60",
         "1",
         "1",
         "0",
         "0",
         "0",
         "0"
        ],
        [
         "11",
         "15",
         "22530",
         "1",
         "169",
         "80.0",
         "120",
         "80",
         "1",
         "1",
         "0",
         "0",
         "1",
         "0"
        ],
        [
         "12",
         "16",
         "18815",
         "2",
         "173",
         "60.0",
         "120",
         "80",
         "1",
         "1",
         "0",
         "0",
         "1",
         "0"
        ],
        [
         "13",
         "18",
         "14791",
         "2",
         "165",
         "60.0",
         "120",
         "80",
         "1",
         "1",
         "0",
         "0",
         "0",
         "0"
        ],
        [
         "14",
         "21",
         "19809",
         "1",
         "158",
         "78.0",
         "110",
         "70",
         "1",
         "1",
         "0",
         "0",
         "1",
         "0"
        ],
        [
         "15",
         "23",
         "14532",
         "2",
         "181",
         "95.0",
         "130",
         "90",
         "1",
         "1",
         "1",
         "1",
         "1",
         "0"
        ],
        [
         "16",
         "24",
         "16782",
         "2",
         "172",
         "112.0",
         "120",
         "80",
         "1",
         "1",
         "0",
         "0",
         "0",
         "1"
        ],
        [
         "17",
         "25",
         "21296",
         "1",
         "170",
         "75.0",
         "130",
         "70",
         "1",
         "1",
         "0",
         "0",
         "0",
         "0"
        ],
        [
         "18",
         "27",
         "16747",
         "1",
         "158",
         "52.0",
         "110",
         "70",
         "1",
         "3",
         "0",
         "0",
         "1",
         "0"
        ],
        [
         "19",
         "28",
         "17482",
         "1",
         "154",
         "68.0",
         "100",
         "70",
         "1",
         "1",
         "0",
         "0",
         "0",
         "0"
        ],
        [
         "20",
         "29",
         "21755",
         "2",
         "162",
         "56.0",
         "120",
         "70",
         "1",
         "1",
         "1",
         "0",
         "1",
         "0"
        ],
        [
         "21",
         "30",
         "19778",
         "2",
         "163",
         "83.0",
         "120",
         "80",
         "1",
         "1",
         "0",
         "0",
         "1",
         "0"
        ],
        [
         "22",
         "31",
         "21413",
         "1",
         "157",
         "69.0",
         "130",
         "80",
         "1",
         "1",
         "0",
         "0",
         "1",
         "0"
        ],
        [
         "23",
         "32",
         "23046",
         "1",
         "158",
         "90.0",
         "145",
         "85",
         "2",
         "2",
         "0",
         "0",
         "1",
         "1"
        ],
        [
         "24",
         "33",
         "23376",
         "2",
         "156",
         "45.0",
         "110",
         "60",
         "1",
         "1",
         "0",
         "0",
         "1",
         "0"
        ],
        [
         "25",
         "35",
         "16608",
         "1",
         "170",
         "68.0",
         "150",
         "90",
         "3",
         "1",
         "0",
         "0",
         "1",
         "1"
        ],
        [
         "26",
         "36",
         "14453",
         "1",
         "153",
         "65.0",
         "130",
         "100",
         "2",
         "1",
         "0",
         "0",
         "1",
         "0"
        ],
        [
         "27",
         "37",
         "19559",
         "1",
         "156",
         "59.0",
         "130",
         "90",
         "1",
         "1",
         "0",
         "0",
         "1",
         "0"
        ],
        [
         "28",
         "38",
         "18085",
         "1",
         "159",
         "78.0",
         "120",
         "80",
         "1",
         "1",
         "0",
         "0",
         "1",
         "0"
        ],
        [
         "29",
         "39",
         "14574",
         "2",
         "166",
         "66.0",
         "120",
         "80",
         "1",
         "1",
         "0",
         "0",
         "1",
         "0"
        ],
        [
         "30",
         "40",
         "21057",
         "2",
         "169",
         "74.0",
         "130",
         "70",
         "1",
         "3",
         "0",
         "0",
         "0",
         "0"
        ],
        [
         "31",
         "42",
         "18291",
         "1",
         "155",
         "105.0",
         "120",
         "80",
         "3",
         "1",
         "0",
         "0",
         "1",
         "1"
        ],
        [
         "32",
         "43",
         "23186",
         "1",
         "169",
         "71.0",
         "140",
         "90",
         "3",
         "1",
         "0",
         "0",
         "1",
         "1"
        ],
        [
         "33",
         "44",
         "14605",
         "1",
         "159",
         "60.0",
         "110",
         "70",
         "1",
         "1",
         "0",
         "0",
         "1",
         "0"
        ],
        [
         "34",
         "45",
         "20652",
         "1",
         "160",
         "73.0",
         "130",
         "85",
         "1",
         "1",
         "0",
         "0",
         "0",
         "1"
        ],
        [
         "35",
         "46",
         "21940",
         "2",
         "173",
         "82.0",
         "140",
         "90",
         "3",
         "1",
         "0",
         "0",
         "0",
         "1"
        ],
        [
         "36",
         "47",
         "20404",
         "1",
         "163",
         "55.0",
         "120",
         "80",
         "1",
         "1",
         "0",
         "0",
         "1",
         "0"
        ],
        [
         "37",
         "49",
         "18328",
         "2",
         "175",
         "95.0",
         "120",
         "80",
         "1",
         "1",
         "0",
         "0",
         "1",
         "0"
        ],
        [
         "38",
         "51",
         "17976",
         "1",
         "164",
         "70.0",
         "130",
         "90",
         "1",
         "1",
         "0",
         "0",
         "1",
         "0"
        ],
        [
         "39",
         "52",
         "23388",
         "2",
         "162",
         "72.0",
         "130",
         "80",
         "1",
         "1",
         "1",
         "0",
         "1",
         "1"
        ],
        [
         "40",
         "53",
         "18126",
         "1",
         "165",
         "70.0",
         "140",
         "90",
         "1",
         "1",
         "0",
         "0",
         "1",
         "1"
        ],
        [
         "41",
         "54",
         "19848",
         "1",
         "157",
         "62.0",
         "110",
         "70",
         "1",
         "1",
         "0",
         "0",
         "0",
         "0"
        ],
        [
         "42",
         "56",
         "18274",
         "1",
         "178",
         "68.0",
         "110",
         "80",
         "1",
         "1",
         "0",
         "0",
         "1",
         "1"
        ],
        [
         "43",
         "57",
         "21475",
         "2",
         "171",
         "69.0",
         "140",
         "90",
         "1",
         "1",
         "0",
         "0",
         "1",
         "1"
        ],
        [
         "44",
         "58",
         "20556",
         "2",
         "159",
         "63.0",
         "120",
         "60",
         "1",
         "1",
         "0",
         "0",
         "1",
         "1"
        ],
        [
         "45",
         "59",
         "19764",
         "1",
         "154",
         "50.0",
         "170",
         "80",
         "3",
         "1",
         "0",
         "0",
         "1",
         "1"
        ],
        [
         "46",
         "60",
         "17471",
         "1",
         "162",
         "64.0",
         "140",
         "90",
         "1",
         "1",
         "0",
         "0",
         "1",
         "1"
        ],
        [
         "47",
         "61",
         "18207",
         "1",
         "162",
         "107.0",
         "150",
         "90",
         "2",
         "1",
         "0",
         "0",
         "1",
         "1"
        ],
        [
         "48",
         "62",
         "18535",
         "2",
         "168",
         "69.0",
         "120",
         "80",
         "1",
         "1",
         "0",
         "0",
         "0",
         "0"
        ],
        [
         "49",
         "63",
         "16864",
         "2",
         "175",
         "70.0",
         "120",
         "80",
         "2",
         "1",
         "0",
         "0",
         "1",
         "0"
        ],
        [
         "50",
         "64",
         "16045",
         "1",
         "170",
         "69.0",
         "120",
         "70",
         "1",
         "1",
         "0",
         "0",
         "1",
         "0"
        ]
       ],
       "shape": {
        "columns": 13,
        "rows": 70000
       }
      },
      "text/html": [
       "<div>\n",
       "<style scoped>\n",
       "    .dataframe tbody tr th:only-of-type {\n",
       "        vertical-align: middle;\n",
       "    }\n",
       "\n",
       "    .dataframe tbody tr th {\n",
       "        vertical-align: top;\n",
       "    }\n",
       "\n",
       "    .dataframe thead th {\n",
       "        text-align: right;\n",
       "    }\n",
       "</style>\n",
       "<table border=\"1\" class=\"dataframe\">\n",
       "  <thead>\n",
       "    <tr style=\"text-align: right;\">\n",
       "      <th></th>\n",
       "      <th>id</th>\n",
       "      <th>age</th>\n",
       "      <th>gender</th>\n",
       "      <th>height</th>\n",
       "      <th>weight</th>\n",
       "      <th>ap_hi</th>\n",
       "      <th>ap_lo</th>\n",
       "      <th>cholesterol</th>\n",
       "      <th>gluc</th>\n",
       "      <th>smoke</th>\n",
       "      <th>alco</th>\n",
       "      <th>active</th>\n",
       "      <th>cardio</th>\n",
       "    </tr>\n",
       "  </thead>\n",
       "  <tbody>\n",
       "    <tr>\n",
       "      <th>1</th>\n",
       "      <td>0</td>\n",
       "      <td>18393</td>\n",
       "      <td>2</td>\n",
       "      <td>168</td>\n",
       "      <td>62.0</td>\n",
       "      <td>110</td>\n",
       "      <td>80</td>\n",
       "      <td>1</td>\n",
       "      <td>1</td>\n",
       "      <td>0</td>\n",
       "      <td>0</td>\n",
       "      <td>1</td>\n",
       "      <td>0</td>\n",
       "    </tr>\n",
       "    <tr>\n",
       "      <th>2</th>\n",
       "      <td>1</td>\n",
       "      <td>20228</td>\n",
       "      <td>1</td>\n",
       "      <td>156</td>\n",
       "      <td>85.0</td>\n",
       "      <td>140</td>\n",
       "      <td>90</td>\n",
       "      <td>3</td>\n",
       "      <td>1</td>\n",
       "      <td>0</td>\n",
       "      <td>0</td>\n",
       "      <td>1</td>\n",
       "      <td>1</td>\n",
       "    </tr>\n",
       "    <tr>\n",
       "      <th>3</th>\n",
       "      <td>2</td>\n",
       "      <td>18857</td>\n",
       "      <td>1</td>\n",
       "      <td>165</td>\n",
       "      <td>64.0</td>\n",
       "      <td>130</td>\n",
       "      <td>70</td>\n",
       "      <td>3</td>\n",
       "      <td>1</td>\n",
       "      <td>0</td>\n",
       "      <td>0</td>\n",
       "      <td>0</td>\n",
       "      <td>1</td>\n",
       "    </tr>\n",
       "    <tr>\n",
       "      <th>4</th>\n",
       "      <td>3</td>\n",
       "      <td>17623</td>\n",
       "      <td>2</td>\n",
       "      <td>169</td>\n",
       "      <td>82.0</td>\n",
       "      <td>150</td>\n",
       "      <td>100</td>\n",
       "      <td>1</td>\n",
       "      <td>1</td>\n",
       "      <td>0</td>\n",
       "      <td>0</td>\n",
       "      <td>1</td>\n",
       "      <td>1</td>\n",
       "    </tr>\n",
       "    <tr>\n",
       "      <th>5</th>\n",
       "      <td>4</td>\n",
       "      <td>17474</td>\n",
       "      <td>1</td>\n",
       "      <td>156</td>\n",
       "      <td>56.0</td>\n",
       "      <td>100</td>\n",
       "      <td>60</td>\n",
       "      <td>1</td>\n",
       "      <td>1</td>\n",
       "      <td>0</td>\n",
       "      <td>0</td>\n",
       "      <td>0</td>\n",
       "      <td>0</td>\n",
       "    </tr>\n",
       "    <tr>\n",
       "      <th>...</th>\n",
       "      <td>...</td>\n",
       "      <td>...</td>\n",
       "      <td>...</td>\n",
       "      <td>...</td>\n",
       "      <td>...</td>\n",
       "      <td>...</td>\n",
       "      <td>...</td>\n",
       "      <td>...</td>\n",
       "      <td>...</td>\n",
       "      <td>...</td>\n",
       "      <td>...</td>\n",
       "      <td>...</td>\n",
       "      <td>...</td>\n",
       "    </tr>\n",
       "    <tr>\n",
       "      <th>69996</th>\n",
       "      <td>99993</td>\n",
       "      <td>19240</td>\n",
       "      <td>2</td>\n",
       "      <td>168</td>\n",
       "      <td>76.0</td>\n",
       "      <td>120</td>\n",
       "      <td>80</td>\n",
       "      <td>1</td>\n",
       "      <td>1</td>\n",
       "      <td>1</td>\n",
       "      <td>0</td>\n",
       "      <td>1</td>\n",
       "      <td>0</td>\n",
       "    </tr>\n",
       "    <tr>\n",
       "      <th>69997</th>\n",
       "      <td>99995</td>\n",
       "      <td>22601</td>\n",
       "      <td>1</td>\n",
       "      <td>158</td>\n",
       "      <td>126.0</td>\n",
       "      <td>140</td>\n",
       "      <td>90</td>\n",
       "      <td>2</td>\n",
       "      <td>2</td>\n",
       "      <td>0</td>\n",
       "      <td>0</td>\n",
       "      <td>1</td>\n",
       "      <td>1</td>\n",
       "    </tr>\n",
       "    <tr>\n",
       "      <th>69998</th>\n",
       "      <td>99996</td>\n",
       "      <td>19066</td>\n",
       "      <td>2</td>\n",
       "      <td>183</td>\n",
       "      <td>105.0</td>\n",
       "      <td>180</td>\n",
       "      <td>90</td>\n",
       "      <td>3</td>\n",
       "      <td>1</td>\n",
       "      <td>0</td>\n",
       "      <td>1</td>\n",
       "      <td>0</td>\n",
       "      <td>1</td>\n",
       "    </tr>\n",
       "    <tr>\n",
       "      <th>69999</th>\n",
       "      <td>99998</td>\n",
       "      <td>22431</td>\n",
       "      <td>1</td>\n",
       "      <td>163</td>\n",
       "      <td>72.0</td>\n",
       "      <td>135</td>\n",
       "      <td>80</td>\n",
       "      <td>1</td>\n",
       "      <td>2</td>\n",
       "      <td>0</td>\n",
       "      <td>0</td>\n",
       "      <td>0</td>\n",
       "      <td>1</td>\n",
       "    </tr>\n",
       "    <tr>\n",
       "      <th>70000</th>\n",
       "      <td>99999</td>\n",
       "      <td>20540</td>\n",
       "      <td>1</td>\n",
       "      <td>170</td>\n",
       "      <td>72.0</td>\n",
       "      <td>120</td>\n",
       "      <td>80</td>\n",
       "      <td>2</td>\n",
       "      <td>1</td>\n",
       "      <td>0</td>\n",
       "      <td>0</td>\n",
       "      <td>1</td>\n",
       "      <td>0</td>\n",
       "    </tr>\n",
       "  </tbody>\n",
       "</table>\n",
       "<p>70000 rows × 13 columns</p>\n",
       "</div>"
      ],
      "text/plain": [
       "0         id    age gender height weight ap_hi ap_lo cholesterol gluc smoke  \\\n",
       "1          0  18393      2    168   62.0   110    80           1    1     0   \n",
       "2          1  20228      1    156   85.0   140    90           3    1     0   \n",
       "3          2  18857      1    165   64.0   130    70           3    1     0   \n",
       "4          3  17623      2    169   82.0   150   100           1    1     0   \n",
       "5          4  17474      1    156   56.0   100    60           1    1     0   \n",
       "...      ...    ...    ...    ...    ...   ...   ...         ...  ...   ...   \n",
       "69996  99993  19240      2    168   76.0   120    80           1    1     1   \n",
       "69997  99995  22601      1    158  126.0   140    90           2    2     0   \n",
       "69998  99996  19066      2    183  105.0   180    90           3    1     0   \n",
       "69999  99998  22431      1    163   72.0   135    80           1    2     0   \n",
       "70000  99999  20540      1    170   72.0   120    80           2    1     0   \n",
       "\n",
       "0     alco active cardio  \n",
       "1        0      1      0  \n",
       "2        0      1      1  \n",
       "3        0      0      1  \n",
       "4        0      1      1  \n",
       "5        0      0      0  \n",
       "...    ...    ...    ...  \n",
       "69996    0      1      0  \n",
       "69997    0      1      1  \n",
       "69998    1      0      1  \n",
       "69999    0      0      1  \n",
       "70000    0      1      0  \n",
       "\n",
       "[70000 rows x 13 columns]"
      ]
     },
     "execution_count": 68,
     "metadata": {},
     "output_type": "execute_result"
    }
   ],
   "source": [
    "df_new"
   ]
  },
  {
   "cell_type": "code",
   "execution_count": 69,
   "id": "24625216",
   "metadata": {},
   "outputs": [
    {
     "name": "stdout",
     "output_type": "stream",
     "text": [
      "<class 'pandas.core.frame.DataFrame'>\n",
      "RangeIndex: 70000 entries, 1 to 70000\n",
      "Data columns (total 13 columns):\n",
      " #   Column       Non-Null Count  Dtype \n",
      "---  ------       --------------  ----- \n",
      " 0   id           70000 non-null  object\n",
      " 1   age          70000 non-null  object\n",
      " 2   gender       70000 non-null  object\n",
      " 3   height       70000 non-null  object\n",
      " 4   weight       70000 non-null  object\n",
      " 5   ap_hi        70000 non-null  object\n",
      " 6   ap_lo        70000 non-null  object\n",
      " 7   cholesterol  70000 non-null  object\n",
      " 8   gluc         70000 non-null  object\n",
      " 9   smoke        70000 non-null  object\n",
      " 10  alco         70000 non-null  object\n",
      " 11  active       70000 non-null  object\n",
      " 12  cardio       70000 non-null  object\n",
      "dtypes: object(13)\n",
      "memory usage: 6.9+ MB\n"
     ]
    }
   ],
   "source": [
    "# viewing summary of the dataset\n",
    "df_new.info()"
   ]
  },
  {
   "cell_type": "code",
   "execution_count": 70,
   "id": "7df10db1",
   "metadata": {},
   "outputs": [
    {
     "data": {
      "text/plain": [
       "0"
      ]
     },
     "execution_count": 70,
     "metadata": {},
     "output_type": "execute_result"
    }
   ],
   "source": [
    "# checking for duplicates\n",
    "df_new.duplicated().sum()"
   ]
  },
  {
   "cell_type": "code",
   "execution_count": 71,
   "id": "30963d55",
   "metadata": {},
   "outputs": [
    {
     "name": "stderr",
     "output_type": "stream",
     "text": [
      "C:\\Users\\HomePC\\AppData\\Local\\Temp\\ipykernel_6024\\3174380011.py:2: SettingWithCopyWarning: \n",
      "A value is trying to be set on a copy of a slice from a DataFrame.\n",
      "Try using .loc[row_indexer,col_indexer] = value instead\n",
      "\n",
      "See the caveats in the documentation: https://pandas.pydata.org/pandas-docs/stable/user_guide/indexing.html#returning-a-view-versus-a-copy\n",
      "  df_new[[\"id\",\"age\",\"height\",\"weight\",\"ap_hi\",\"ap_lo\"]]=df_new[[\"id\",\"age\",\"height\",\"weight\",\"ap_hi\",\"ap_lo\"]].astype(float)\n"
     ]
    }
   ],
   "source": [
    "# casting the numerical columns into integers\n",
    "df_new[[\"id\",\"age\",\"height\",\"weight\",\"ap_hi\",\"ap_lo\"]]=df_new[[\"id\",\"age\",\"height\",\"weight\",\"ap_hi\",\"ap_lo\"]].astype(float)"
   ]
  },
  {
   "cell_type": "code",
   "execution_count": 72,
   "id": "8c82680a",
   "metadata": {},
   "outputs": [
    {
     "data": {
      "text/plain": [
       "0\n",
       "id             float64\n",
       "age            float64\n",
       "gender          object\n",
       "height         float64\n",
       "weight         float64\n",
       "ap_hi          float64\n",
       "ap_lo          float64\n",
       "cholesterol     object\n",
       "gluc            object\n",
       "smoke           object\n",
       "alco            object\n",
       "active          object\n",
       "cardio          object\n",
       "dtype: object"
      ]
     },
     "execution_count": 72,
     "metadata": {},
     "output_type": "execute_result"
    }
   ],
   "source": [
    "# checking for the new data types\n",
    "df_new.dtypes"
   ]
  },
  {
   "cell_type": "code",
   "execution_count": 73,
   "id": "963d5964",
   "metadata": {},
   "outputs": [
    {
     "name": "stderr",
     "output_type": "stream",
     "text": [
      "C:\\Users\\HomePC\\AppData\\Local\\Temp\\ipykernel_6024\\2678828275.py:2: SettingWithCopyWarning: \n",
      "A value is trying to be set on a copy of a slice from a DataFrame.\n",
      "Try using .loc[row_indexer,col_indexer] = value instead\n",
      "\n",
      "See the caveats in the documentation: https://pandas.pydata.org/pandas-docs/stable/user_guide/indexing.html#returning-a-view-versus-a-copy\n",
      "  df_new[\"age\"]=df_new[\"age\"]/365\n",
      "C:\\Users\\HomePC\\AppData\\Local\\Temp\\ipykernel_6024\\2678828275.py:4: SettingWithCopyWarning: \n",
      "A value is trying to be set on a copy of a slice from a DataFrame.\n",
      "Try using .loc[row_indexer,col_indexer] = value instead\n",
      "\n",
      "See the caveats in the documentation: https://pandas.pydata.org/pandas-docs/stable/user_guide/indexing.html#returning-a-view-versus-a-copy\n",
      "  df_new[\"age\"]=df_new[\"age\"].astype(int)\n"
     ]
    }
   ],
   "source": [
    "# coverting age from days to years\n",
    "df_new[\"age\"]=df_new[\"age\"]/365\n",
    "# casting the age column into an integer\n",
    "df_new[\"age\"]=df_new[\"age\"].astype(int)\n"
   ]
  },
  {
   "cell_type": "code",
   "execution_count": 74,
   "id": "1b605a67",
   "metadata": {},
   "outputs": [
    {
     "name": "stderr",
     "output_type": "stream",
     "text": [
      "C:\\Users\\HomePC\\AppData\\Local\\Temp\\ipykernel_6024\\722832886.py:2: SettingWithCopyWarning: \n",
      "A value is trying to be set on a copy of a slice from a DataFrame.\n",
      "Try using .loc[row_indexer,col_indexer] = value instead\n",
      "\n",
      "See the caveats in the documentation: https://pandas.pydata.org/pandas-docs/stable/user_guide/indexing.html#returning-a-view-versus-a-copy\n",
      "  df_new[\"height\"]=df_new[\"height\"]/100\n"
     ]
    },
    {
     "data": {
      "text/plain": [
       "10419    1.77\n",
       "33235    1.59\n",
       "12390    1.64\n",
       "7925     1.73\n",
       "66548    1.56\n",
       "Name: height, dtype: float64"
      ]
     },
     "execution_count": 74,
     "metadata": {},
     "output_type": "execute_result"
    }
   ],
   "source": [
    "# changing height to be in metres\n",
    "df_new[\"height\"]=df_new[\"height\"]/100\n",
    "df_new[\"height\"].sample(5)"
   ]
  },
  {
   "cell_type": "code",
   "execution_count": 75,
   "id": "b5b92854",
   "metadata": {},
   "outputs": [
    {
     "name": "stderr",
     "output_type": "stream",
     "text": [
      "C:\\Users\\HomePC\\AppData\\Local\\Temp\\ipykernel_6024\\3118166254.py:2: SettingWithCopyWarning: \n",
      "A value is trying to be set on a copy of a slice from a DataFrame.\n",
      "Try using .loc[row_indexer,col_indexer] = value instead\n",
      "\n",
      "See the caveats in the documentation: https://pandas.pydata.org/pandas-docs/stable/user_guide/indexing.html#returning-a-view-versus-a-copy\n",
      "  df_new[\"BMI\"]=df_new[\"weight\"]/(df_new[\"height\"]**2)\n"
     ]
    },
    {
     "data": {
      "text/plain": [
       "28426    29.402920\n",
       "67647    26.472107\n",
       "24961    23.795360\n",
       "14591    23.795360\n",
       "45517    34.020346\n",
       "Name: BMI, dtype: float64"
      ]
     },
     "execution_count": 75,
     "metadata": {},
     "output_type": "execute_result"
    }
   ],
   "source": [
    "# engeneering the BMI column\n",
    "df_new[\"BMI\"]=df_new[\"weight\"]/(df_new[\"height\"]**2)\n",
    "df_new[\"BMI\"].sample(5)"
   ]
  },
  {
   "cell_type": "code",
   "execution_count": 76,
   "id": "7a734941",
   "metadata": {},
   "outputs": [
    {
     "data": {
      "application/vnd.microsoft.datawrangler.viewer.v0+json": {
       "columns": [
        {
         "name": "index",
         "rawType": "int64",
         "type": "integer"
        },
        {
         "name": "id",
         "rawType": "float64",
         "type": "float"
        },
        {
         "name": "age",
         "rawType": "int32",
         "type": "integer"
        },
        {
         "name": "gender",
         "rawType": "object",
         "type": "string"
        },
        {
         "name": "ap_hi",
         "rawType": "float64",
         "type": "float"
        },
        {
         "name": "ap_lo",
         "rawType": "float64",
         "type": "float"
        },
        {
         "name": "cholesterol",
         "rawType": "object",
         "type": "string"
        },
        {
         "name": "gluc",
         "rawType": "object",
         "type": "string"
        },
        {
         "name": "smoke",
         "rawType": "object",
         "type": "string"
        },
        {
         "name": "alco",
         "rawType": "object",
         "type": "string"
        },
        {
         "name": "active",
         "rawType": "object",
         "type": "string"
        },
        {
         "name": "cardio",
         "rawType": "object",
         "type": "string"
        },
        {
         "name": "BMI",
         "rawType": "float64",
         "type": "float"
        }
       ],
       "conversionMethod": "pd.DataFrame",
       "ref": "0ece7f5f-fed3-4a50-88e8-99bded47b085",
       "rows": [
        [
         "1",
         "0.0",
         "50",
         "2",
         "110.0",
         "80.0",
         "1",
         "1",
         "0",
         "0",
         "1",
         "0",
         "21.9671201814059"
        ],
        [
         "2",
         "1.0",
         "55",
         "1",
         "140.0",
         "90.0",
         "3",
         "1",
         "0",
         "0",
         "1",
         "1",
         "34.927679158448385"
        ],
        [
         "3",
         "2.0",
         "51",
         "1",
         "130.0",
         "70.0",
         "3",
         "1",
         "0",
         "0",
         "0",
         "1",
         "23.507805325987146"
        ],
        [
         "4",
         "3.0",
         "48",
         "2",
         "150.0",
         "100.0",
         "1",
         "1",
         "0",
         "0",
         "1",
         "1",
         "28.71047932495361"
        ],
        [
         "5",
         "4.0",
         "47",
         "1",
         "100.0",
         "60.0",
         "1",
         "1",
         "0",
         "0",
         "0",
         "0",
         "23.011176857330703"
        ],
        [
         "6",
         "8.0",
         "60",
         "1",
         "120.0",
         "80.0",
         "2",
         "2",
         "0",
         "0",
         "0",
         "0",
         "29.384676110696898"
        ],
        [
         "7",
         "9.0",
         "60",
         "1",
         "130.0",
         "80.0",
         "3",
         "1",
         "0",
         "0",
         "1",
         "0",
         "37.72972534382733"
        ],
        [
         "8",
         "12.0",
         "61",
         "2",
         "130.0",
         "90.0",
         "3",
         "3",
         "0",
         "0",
         "1",
         "1",
         "29.983587930816814"
        ],
        [
         "9",
         "13.0",
         "48",
         "1",
         "110.0",
         "70.0",
         "1",
         "1",
         "0",
         "0",
         "1",
         "0",
         "28.44095497516423"
        ],
        [
         "10",
         "14.0",
         "54",
         "1",
         "110.0",
         "60.0",
         "1",
         "1",
         "0",
         "0",
         "0",
         "0",
         "25.282569898869724"
        ],
        [
         "11",
         "15.0",
         "61",
         "1",
         "120.0",
         "80.0",
         "1",
         "1",
         "0",
         "0",
         "1",
         "0",
         "28.01022373166206"
        ],
        [
         "12",
         "16.0",
         "51",
         "2",
         "120.0",
         "80.0",
         "1",
         "1",
         "0",
         "0",
         "1",
         "0",
         "20.04744562130375"
        ],
        [
         "13",
         "18.0",
         "40",
         "2",
         "120.0",
         "80.0",
         "1",
         "1",
         "0",
         "0",
         "0",
         "0",
         "22.03856749311295"
        ],
        [
         "14",
         "21.0",
         "54",
         "1",
         "110.0",
         "70.0",
         "1",
         "1",
         "0",
         "0",
         "1",
         "0",
         "31.244992789617044"
        ],
        [
         "15",
         "23.0",
         "39",
         "2",
         "130.0",
         "90.0",
         "1",
         "1",
         "1",
         "1",
         "1",
         "0",
         "28.997893837184456"
        ],
        [
         "16",
         "24.0",
         "45",
         "2",
         "120.0",
         "80.0",
         "1",
         "1",
         "0",
         "0",
         "0",
         "1",
         "37.85830178474852"
        ],
        [
         "17",
         "25.0",
         "58",
         "1",
         "130.0",
         "70.0",
         "1",
         "1",
         "0",
         "0",
         "0",
         "0",
         "25.95155709342561"
        ],
        [
         "18",
         "27.0",
         "45",
         "1",
         "110.0",
         "70.0",
         "1",
         "3",
         "0",
         "0",
         "1",
         "0",
         "20.82999519307803"
        ],
        [
         "19",
         "28.0",
         "47",
         "1",
         "100.0",
         "70.0",
         "1",
         "1",
         "0",
         "0",
         "0",
         "0",
         "28.67262607522348"
        ],
        [
         "20",
         "29.0",
         "59",
         "2",
         "120.0",
         "70.0",
         "1",
         "1",
         "1",
         "0",
         "1",
         "0",
         "21.338210638622158"
        ],
        [
         "21",
         "30.0",
         "54",
         "2",
         "120.0",
         "80.0",
         "1",
         "1",
         "0",
         "0",
         "1",
         "0",
         "31.239414355075468"
        ],
        [
         "22",
         "31.0",
         "58",
         "1",
         "130.0",
         "80.0",
         "1",
         "1",
         "0",
         "0",
         "1",
         "0",
         "27.993022029291247"
        ],
        [
         "23",
         "32.0",
         "63",
         "1",
         "145.0",
         "85.0",
         "2",
         "2",
         "0",
         "0",
         "1",
         "1",
         "36.05191475725044"
        ],
        [
         "24",
         "33.0",
         "64",
         "2",
         "110.0",
         "60.0",
         "1",
         "1",
         "0",
         "0",
         "1",
         "0",
         "18.49112426035503"
        ],
        [
         "25",
         "35.0",
         "45",
         "1",
         "150.0",
         "90.0",
         "3",
         "1",
         "0",
         "0",
         "1",
         "1",
         "23.529411764705884"
        ],
        [
         "26",
         "36.0",
         "39",
         "1",
         "130.0",
         "100.0",
         "2",
         "1",
         "0",
         "0",
         "1",
         "0",
         "27.76709812465291"
        ],
        [
         "27",
         "37.0",
         "53",
         "1",
         "130.0",
         "90.0",
         "1",
         "1",
         "0",
         "0",
         "1",
         "0",
         "24.243918474687703"
        ],
        [
         "28",
         "38.0",
         "49",
         "1",
         "120.0",
         "80.0",
         "1",
         "1",
         "0",
         "0",
         "1",
         "0",
         "30.853209920493647"
        ],
        [
         "29",
         "39.0",
         "39",
         "2",
         "120.0",
         "80.0",
         "1",
         "1",
         "0",
         "0",
         "1",
         "0",
         "23.95122659311947"
        ],
        [
         "30",
         "40.0",
         "57",
         "2",
         "130.0",
         "70.0",
         "1",
         "3",
         "0",
         "0",
         "0",
         "0",
         "25.909456951787405"
        ],
        [
         "31",
         "42.0",
         "50",
         "1",
         "120.0",
         "80.0",
         "3",
         "1",
         "0",
         "0",
         "1",
         "1",
         "43.7044745057232"
        ],
        [
         "32",
         "43.0",
         "63",
         "1",
         "140.0",
         "90.0",
         "3",
         "1",
         "0",
         "0",
         "1",
         "1",
         "24.859073561850078"
        ],
        [
         "33",
         "44.0",
         "40",
         "1",
         "110.0",
         "70.0",
         "1",
         "1",
         "0",
         "0",
         "1",
         "0",
         "23.73323840037973"
        ],
        [
         "34",
         "45.0",
         "56",
         "1",
         "130.0",
         "85.0",
         "1",
         "1",
         "0",
         "0",
         "0",
         "1",
         "28.515624999999993"
        ],
        [
         "35",
         "46.0",
         "60",
         "2",
         "140.0",
         "90.0",
         "3",
         "1",
         "0",
         "0",
         "0",
         "1",
         "27.39817568244846"
        ],
        [
         "36",
         "47.0",
         "55",
         "1",
         "120.0",
         "80.0",
         "1",
         "1",
         "0",
         "0",
         "1",
         "0",
         "20.70081674131507"
        ],
        [
         "37",
         "49.0",
         "50",
         "2",
         "120.0",
         "80.0",
         "1",
         "1",
         "0",
         "0",
         "1",
         "0",
         "31.020408163265305"
        ],
        [
         "38",
         "51.0",
         "49",
         "1",
         "130.0",
         "90.0",
         "1",
         "1",
         "0",
         "0",
         "1",
         "0",
         "26.026174895895306"
        ],
        [
         "39",
         "52.0",
         "64",
         "2",
         "130.0",
         "80.0",
         "1",
         "1",
         "1",
         "0",
         "1",
         "1",
         "27.43484224965706"
        ],
        [
         "40",
         "53.0",
         "49",
         "1",
         "140.0",
         "90.0",
         "1",
         "1",
         "0",
         "0",
         "1",
         "1",
         "25.71166207529844"
        ],
        [
         "41",
         "54.0",
         "54",
         "1",
         "110.0",
         "70.0",
         "1",
         "1",
         "0",
         "0",
         "0",
         "0",
         "25.153150229218223"
        ],
        [
         "42",
         "56.0",
         "50",
         "1",
         "110.0",
         "80.0",
         "1",
         "1",
         "0",
         "0",
         "1",
         "1",
         "21.461936624163616"
        ],
        [
         "43",
         "57.0",
         "58",
         "2",
         "140.0",
         "90.0",
         "1",
         "1",
         "0",
         "0",
         "1",
         "1",
         "23.59700420642249"
        ],
        [
         "44",
         "58.0",
         "56",
         "2",
         "120.0",
         "60.0",
         "1",
         "1",
         "0",
         "0",
         "1",
         "1",
         "24.919900320398717"
        ],
        [
         "45",
         "59.0",
         "54",
         "1",
         "170.0",
         "80.0",
         "3",
         "1",
         "0",
         "0",
         "1",
         "1",
         "21.0828132906055"
        ],
        [
         "46",
         "60.0",
         "47",
         "1",
         "140.0",
         "90.0",
         "1",
         "1",
         "0",
         "0",
         "1",
         "1",
         "24.38652644413961"
        ],
        [
         "47",
         "61.0",
         "49",
         "1",
         "150.0",
         "90.0",
         "2",
         "1",
         "0",
         "0",
         "1",
         "1",
         "40.77122389879591"
        ],
        [
         "48",
         "62.0",
         "50",
         "2",
         "120.0",
         "80.0",
         "1",
         "1",
         "0",
         "0",
         "0",
         "0",
         "24.44727891156463"
        ],
        [
         "49",
         "63.0",
         "46",
         "2",
         "120.0",
         "80.0",
         "2",
         "1",
         "0",
         "0",
         "1",
         "0",
         "22.857142857142858"
        ],
        [
         "50",
         "64.0",
         "43",
         "1",
         "120.0",
         "70.0",
         "1",
         "1",
         "0",
         "0",
         "1",
         "0",
         "23.87543252595156"
        ]
       ],
       "shape": {
        "columns": 12,
        "rows": 70000
       }
      },
      "text/html": [
       "<div>\n",
       "<style scoped>\n",
       "    .dataframe tbody tr th:only-of-type {\n",
       "        vertical-align: middle;\n",
       "    }\n",
       "\n",
       "    .dataframe tbody tr th {\n",
       "        vertical-align: top;\n",
       "    }\n",
       "\n",
       "    .dataframe thead th {\n",
       "        text-align: right;\n",
       "    }\n",
       "</style>\n",
       "<table border=\"1\" class=\"dataframe\">\n",
       "  <thead>\n",
       "    <tr style=\"text-align: right;\">\n",
       "      <th></th>\n",
       "      <th>id</th>\n",
       "      <th>age</th>\n",
       "      <th>gender</th>\n",
       "      <th>ap_hi</th>\n",
       "      <th>ap_lo</th>\n",
       "      <th>cholesterol</th>\n",
       "      <th>gluc</th>\n",
       "      <th>smoke</th>\n",
       "      <th>alco</th>\n",
       "      <th>active</th>\n",
       "      <th>cardio</th>\n",
       "      <th>BMI</th>\n",
       "    </tr>\n",
       "  </thead>\n",
       "  <tbody>\n",
       "    <tr>\n",
       "      <th>1</th>\n",
       "      <td>0.0</td>\n",
       "      <td>50</td>\n",
       "      <td>2</td>\n",
       "      <td>110.0</td>\n",
       "      <td>80.0</td>\n",
       "      <td>1</td>\n",
       "      <td>1</td>\n",
       "      <td>0</td>\n",
       "      <td>0</td>\n",
       "      <td>1</td>\n",
       "      <td>0</td>\n",
       "      <td>21.967120</td>\n",
       "    </tr>\n",
       "    <tr>\n",
       "      <th>2</th>\n",
       "      <td>1.0</td>\n",
       "      <td>55</td>\n",
       "      <td>1</td>\n",
       "      <td>140.0</td>\n",
       "      <td>90.0</td>\n",
       "      <td>3</td>\n",
       "      <td>1</td>\n",
       "      <td>0</td>\n",
       "      <td>0</td>\n",
       "      <td>1</td>\n",
       "      <td>1</td>\n",
       "      <td>34.927679</td>\n",
       "    </tr>\n",
       "    <tr>\n",
       "      <th>3</th>\n",
       "      <td>2.0</td>\n",
       "      <td>51</td>\n",
       "      <td>1</td>\n",
       "      <td>130.0</td>\n",
       "      <td>70.0</td>\n",
       "      <td>3</td>\n",
       "      <td>1</td>\n",
       "      <td>0</td>\n",
       "      <td>0</td>\n",
       "      <td>0</td>\n",
       "      <td>1</td>\n",
       "      <td>23.507805</td>\n",
       "    </tr>\n",
       "    <tr>\n",
       "      <th>4</th>\n",
       "      <td>3.0</td>\n",
       "      <td>48</td>\n",
       "      <td>2</td>\n",
       "      <td>150.0</td>\n",
       "      <td>100.0</td>\n",
       "      <td>1</td>\n",
       "      <td>1</td>\n",
       "      <td>0</td>\n",
       "      <td>0</td>\n",
       "      <td>1</td>\n",
       "      <td>1</td>\n",
       "      <td>28.710479</td>\n",
       "    </tr>\n",
       "    <tr>\n",
       "      <th>5</th>\n",
       "      <td>4.0</td>\n",
       "      <td>47</td>\n",
       "      <td>1</td>\n",
       "      <td>100.0</td>\n",
       "      <td>60.0</td>\n",
       "      <td>1</td>\n",
       "      <td>1</td>\n",
       "      <td>0</td>\n",
       "      <td>0</td>\n",
       "      <td>0</td>\n",
       "      <td>0</td>\n",
       "      <td>23.011177</td>\n",
       "    </tr>\n",
       "    <tr>\n",
       "      <th>...</th>\n",
       "      <td>...</td>\n",
       "      <td>...</td>\n",
       "      <td>...</td>\n",
       "      <td>...</td>\n",
       "      <td>...</td>\n",
       "      <td>...</td>\n",
       "      <td>...</td>\n",
       "      <td>...</td>\n",
       "      <td>...</td>\n",
       "      <td>...</td>\n",
       "      <td>...</td>\n",
       "      <td>...</td>\n",
       "    </tr>\n",
       "    <tr>\n",
       "      <th>69996</th>\n",
       "      <td>99993.0</td>\n",
       "      <td>52</td>\n",
       "      <td>2</td>\n",
       "      <td>120.0</td>\n",
       "      <td>80.0</td>\n",
       "      <td>1</td>\n",
       "      <td>1</td>\n",
       "      <td>1</td>\n",
       "      <td>0</td>\n",
       "      <td>1</td>\n",
       "      <td>0</td>\n",
       "      <td>26.927438</td>\n",
       "    </tr>\n",
       "    <tr>\n",
       "      <th>69997</th>\n",
       "      <td>99995.0</td>\n",
       "      <td>61</td>\n",
       "      <td>1</td>\n",
       "      <td>140.0</td>\n",
       "      <td>90.0</td>\n",
       "      <td>2</td>\n",
       "      <td>2</td>\n",
       "      <td>0</td>\n",
       "      <td>0</td>\n",
       "      <td>1</td>\n",
       "      <td>1</td>\n",
       "      <td>50.472681</td>\n",
       "    </tr>\n",
       "    <tr>\n",
       "      <th>69998</th>\n",
       "      <td>99996.0</td>\n",
       "      <td>52</td>\n",
       "      <td>2</td>\n",
       "      <td>180.0</td>\n",
       "      <td>90.0</td>\n",
       "      <td>3</td>\n",
       "      <td>1</td>\n",
       "      <td>0</td>\n",
       "      <td>1</td>\n",
       "      <td>0</td>\n",
       "      <td>1</td>\n",
       "      <td>31.353579</td>\n",
       "    </tr>\n",
       "    <tr>\n",
       "      <th>69999</th>\n",
       "      <td>99998.0</td>\n",
       "      <td>61</td>\n",
       "      <td>1</td>\n",
       "      <td>135.0</td>\n",
       "      <td>80.0</td>\n",
       "      <td>1</td>\n",
       "      <td>2</td>\n",
       "      <td>0</td>\n",
       "      <td>0</td>\n",
       "      <td>0</td>\n",
       "      <td>1</td>\n",
       "      <td>27.099251</td>\n",
       "    </tr>\n",
       "    <tr>\n",
       "      <th>70000</th>\n",
       "      <td>99999.0</td>\n",
       "      <td>56</td>\n",
       "      <td>1</td>\n",
       "      <td>120.0</td>\n",
       "      <td>80.0</td>\n",
       "      <td>2</td>\n",
       "      <td>1</td>\n",
       "      <td>0</td>\n",
       "      <td>0</td>\n",
       "      <td>1</td>\n",
       "      <td>0</td>\n",
       "      <td>24.913495</td>\n",
       "    </tr>\n",
       "  </tbody>\n",
       "</table>\n",
       "<p>70000 rows × 12 columns</p>\n",
       "</div>"
      ],
      "text/plain": [
       "0           id  age gender  ap_hi  ap_lo cholesterol gluc smoke alco active  \\\n",
       "1          0.0   50      2  110.0   80.0           1    1     0    0      1   \n",
       "2          1.0   55      1  140.0   90.0           3    1     0    0      1   \n",
       "3          2.0   51      1  130.0   70.0           3    1     0    0      0   \n",
       "4          3.0   48      2  150.0  100.0           1    1     0    0      1   \n",
       "5          4.0   47      1  100.0   60.0           1    1     0    0      0   \n",
       "...        ...  ...    ...    ...    ...         ...  ...   ...  ...    ...   \n",
       "69996  99993.0   52      2  120.0   80.0           1    1     1    0      1   \n",
       "69997  99995.0   61      1  140.0   90.0           2    2     0    0      1   \n",
       "69998  99996.0   52      2  180.0   90.0           3    1     0    1      0   \n",
       "69999  99998.0   61      1  135.0   80.0           1    2     0    0      0   \n",
       "70000  99999.0   56      1  120.0   80.0           2    1     0    0      1   \n",
       "\n",
       "0     cardio        BMI  \n",
       "1          0  21.967120  \n",
       "2          1  34.927679  \n",
       "3          1  23.507805  \n",
       "4          1  28.710479  \n",
       "5          0  23.011177  \n",
       "...      ...        ...  \n",
       "69996      0  26.927438  \n",
       "69997      1  50.472681  \n",
       "69998      1  31.353579  \n",
       "69999      1  27.099251  \n",
       "70000      0  24.913495  \n",
       "\n",
       "[70000 rows x 12 columns]"
      ]
     },
     "execution_count": 76,
     "metadata": {},
     "output_type": "execute_result"
    }
   ],
   "source": [
    "df_clean=df_new.drop([\"height\",\"weight\"],axis=1).copy()\n",
    "df_clean"
   ]
  },
  {
   "cell_type": "markdown",
   "id": "32be4108",
   "metadata": {},
   "source": [
    "## **Exploratory Data Analysis**"
   ]
  },
  {
   "cell_type": "code",
   "execution_count": 78,
   "id": "abd04992",
   "metadata": {},
   "outputs": [
    {
     "data": {
      "application/vnd.microsoft.datawrangler.viewer.v0+json": {
       "columns": [
        {
         "name": "index",
         "rawType": "object",
         "type": "string"
        },
        {
         "name": "id",
         "rawType": "float64",
         "type": "float"
        },
        {
         "name": "age",
         "rawType": "float64",
         "type": "float"
        },
        {
         "name": "ap_hi",
         "rawType": "float64",
         "type": "float"
        },
        {
         "name": "ap_lo",
         "rawType": "float64",
         "type": "float"
        },
        {
         "name": "BMI",
         "rawType": "float64",
         "type": "float"
        }
       ],
       "conversionMethod": "pd.DataFrame",
       "ref": "45072a63-e969-4f3a-9647-78b27d9805f8",
       "rows": [
        [
         "count",
         "70000.0",
         "70000.0",
         "70000.0",
         "70000.0",
         "70000.0"
        ],
        [
         "mean",
         "49972.4199",
         "52.840671428571426",
         "128.8172857142857",
         "96.63041428571428",
         "27.55651255127886"
        ],
        [
         "std",
         "28851.30232317303",
         "6.766773653742024",
         "154.01141945605565",
         "188.47253029643605",
         "6.091511123386126"
        ],
        [
         "min",
         "0.0",
         "29.0",
         "-150.0",
         "-70.0",
         "3.471783865673526"
        ],
        [
         "25%",
         "25006.75",
         "48.0",
         "120.0",
         "80.0",
         "23.875114784205696"
        ],
        [
         "50%",
         "50001.5",
         "53.0",
         "120.0",
         "80.0",
         "26.374068120774975"
        ],
        [
         "75%",
         "74889.25",
         "58.0",
         "140.0",
         "90.0",
         "30.22222222222222"
        ],
        [
         "max",
         "99999.0",
         "64.0",
         "16020.0",
         "11000.0",
         "298.6666666666667"
        ]
       ],
       "shape": {
        "columns": 5,
        "rows": 8
       }
      },
      "text/html": [
       "<div>\n",
       "<style scoped>\n",
       "    .dataframe tbody tr th:only-of-type {\n",
       "        vertical-align: middle;\n",
       "    }\n",
       "\n",
       "    .dataframe tbody tr th {\n",
       "        vertical-align: top;\n",
       "    }\n",
       "\n",
       "    .dataframe thead th {\n",
       "        text-align: right;\n",
       "    }\n",
       "</style>\n",
       "<table border=\"1\" class=\"dataframe\">\n",
       "  <thead>\n",
       "    <tr style=\"text-align: right;\">\n",
       "      <th></th>\n",
       "      <th>id</th>\n",
       "      <th>age</th>\n",
       "      <th>ap_hi</th>\n",
       "      <th>ap_lo</th>\n",
       "      <th>BMI</th>\n",
       "    </tr>\n",
       "  </thead>\n",
       "  <tbody>\n",
       "    <tr>\n",
       "      <th>count</th>\n",
       "      <td>70000.000000</td>\n",
       "      <td>70000.000000</td>\n",
       "      <td>70000.000000</td>\n",
       "      <td>70000.000000</td>\n",
       "      <td>70000.000000</td>\n",
       "    </tr>\n",
       "    <tr>\n",
       "      <th>mean</th>\n",
       "      <td>49972.419900</td>\n",
       "      <td>52.840671</td>\n",
       "      <td>128.817286</td>\n",
       "      <td>96.630414</td>\n",
       "      <td>27.556513</td>\n",
       "    </tr>\n",
       "    <tr>\n",
       "      <th>std</th>\n",
       "      <td>28851.302323</td>\n",
       "      <td>6.766774</td>\n",
       "      <td>154.011419</td>\n",
       "      <td>188.472530</td>\n",
       "      <td>6.091511</td>\n",
       "    </tr>\n",
       "    <tr>\n",
       "      <th>min</th>\n",
       "      <td>0.000000</td>\n",
       "      <td>29.000000</td>\n",
       "      <td>-150.000000</td>\n",
       "      <td>-70.000000</td>\n",
       "      <td>3.471784</td>\n",
       "    </tr>\n",
       "    <tr>\n",
       "      <th>25%</th>\n",
       "      <td>25006.750000</td>\n",
       "      <td>48.000000</td>\n",
       "      <td>120.000000</td>\n",
       "      <td>80.000000</td>\n",
       "      <td>23.875115</td>\n",
       "    </tr>\n",
       "    <tr>\n",
       "      <th>50%</th>\n",
       "      <td>50001.500000</td>\n",
       "      <td>53.000000</td>\n",
       "      <td>120.000000</td>\n",
       "      <td>80.000000</td>\n",
       "      <td>26.374068</td>\n",
       "    </tr>\n",
       "    <tr>\n",
       "      <th>75%</th>\n",
       "      <td>74889.250000</td>\n",
       "      <td>58.000000</td>\n",
       "      <td>140.000000</td>\n",
       "      <td>90.000000</td>\n",
       "      <td>30.222222</td>\n",
       "    </tr>\n",
       "    <tr>\n",
       "      <th>max</th>\n",
       "      <td>99999.000000</td>\n",
       "      <td>64.000000</td>\n",
       "      <td>16020.000000</td>\n",
       "      <td>11000.000000</td>\n",
       "      <td>298.666667</td>\n",
       "    </tr>\n",
       "  </tbody>\n",
       "</table>\n",
       "</div>"
      ],
      "text/plain": [
       "0                id           age         ap_hi         ap_lo           BMI\n",
       "count  70000.000000  70000.000000  70000.000000  70000.000000  70000.000000\n",
       "mean   49972.419900     52.840671    128.817286     96.630414     27.556513\n",
       "std    28851.302323      6.766774    154.011419    188.472530      6.091511\n",
       "min        0.000000     29.000000   -150.000000    -70.000000      3.471784\n",
       "25%    25006.750000     48.000000    120.000000     80.000000     23.875115\n",
       "50%    50001.500000     53.000000    120.000000     80.000000     26.374068\n",
       "75%    74889.250000     58.000000    140.000000     90.000000     30.222222\n",
       "max    99999.000000     64.000000  16020.000000  11000.000000    298.666667"
      ]
     },
     "execution_count": 78,
     "metadata": {},
     "output_type": "execute_result"
    }
   ],
   "source": [
    "# describing the numerical columns\n",
    "df_clean.describe()"
   ]
  },
  {
   "cell_type": "code",
   "execution_count": 87,
   "id": "4dd24fde",
   "metadata": {},
   "outputs": [
    {
     "name": "stderr",
     "output_type": "stream",
     "text": [
      "C:\\Users\\HomePC\\anaconda3.1\\Lib\\site-packages\\seaborn\\_oldcore.py:1119: FutureWarning: use_inf_as_na option is deprecated and will be removed in a future version. Convert inf values to NaN before operating instead.\n",
      "  with pd.option_context('mode.use_inf_as_na', True):\n"
     ]
    },
    {
     "data": {
      "image/png": "[encoded data removed]",
      "text/plain": [
       "<Figure size 1500x1000 with 1 Axes>"
      ]
     },
     "metadata": {},
     "output_type": "display_data"
    }
   ],
   "source": [
    "# Plot histogram of age in years\n",
    "plt.figure(figsize=(15,10))\n",
    "sns.histplot(x=\"age\", data=df_clean,kde=True)\n",
    "plt.xlabel(\"Age (years)\",color=\"g\")\n",
    "plt.title(\"Age Distribution\",color=\"g\")\n",
    "plt.show()"
   ]
  },
  {
   "cell_type": "markdown",
   "id": "cde8703f",
   "metadata": {},
   "source": [
    "We observe that the **age** variable is approximately **normally distributed**, with most values symmetrically centered around the **mean**. This suggests that age follows a bell-shaped distribution, which is useful for statistical modeling and inference.\n"
   ]
  },
  {
   "cell_type": "code",
   "execution_count": 89,
   "id": "f12e3279",
   "metadata": {},
   "outputs": [
    {
     "name": "stderr",
     "output_type": "stream",
     "text": [
      "C:\\Users\\HomePC\\anaconda3.1\\Lib\\site-packages\\seaborn\\_oldcore.py:1119: FutureWarning: use_inf_as_na option is deprecated and will be removed in a future version. Convert inf values to NaN before operating instead.\n",
      "  with pd.option_context('mode.use_inf_as_na', True):\n"
     ]
    },
    {
     "data": {
      "image/png": "[encoded data removed]",
      "text/plain": [
       "<Figure size 1500x1000 with 1 Axes>"
      ]
     },
     "metadata": {},
     "output_type": "display_data"
    }
   ],
   "source": [
    "\n",
    "# Plot BMI histogram\n",
    "plt.figure(figsize=(15,10))\n",
    "sns.histplot(x=\"BMI\", data=df_clean, kde=True, color='skyblue')\n",
    "\n",
    "# Add vertical lines for category thresholds\n",
    "plt.axvline(x=18.5, color='red', linestyle='--', label='Underweight threshold')\n",
    "plt.axvline(x=25, color='orange', linestyle='--', label='Overweight threshold')\n",
    "plt.axvline(x=30, color='darkred', linestyle='--', label='Obese threshold')\n",
    "\n",
    "# Customize plot\n",
    "plt.xlabel(\"Body Mass Index (BMI)\",color=\"g\")\n",
    "plt.title(\"BMI Distribution with Categories\",color=\"g\")\n",
    "plt.legend()\n",
    "plt.show()"
   ]
  },
  {
   "cell_type": "markdown",
   "id": "94b68582",
   "metadata": {},
   "source": [
    " The **BMI** variable appears to be **normally distributed**, with most values symmetrically centered around the **overweight threshold**. \n"
   ]
  },
  {
   "cell_type": "code",
   "execution_count": 141,
   "id": "e22a1cc5",
   "metadata": {},
   "outputs": [
    {
     "data": {
      "image/png": "[encoded data removed]",
      "text/plain": [
       "<Figure size 1500x1000 with 1 Axes>"
      ]
     },
     "metadata": {},
     "output_type": "display_data"
    }
   ],
   "source": [
    "# Create a bar plot of gender distribution\n",
    "plt.figure(figsize=(15, 10))  \n",
    "sns.barplot(x=gender_value_counts.index, y=gender_value_counts.values)\n",
    "\n",
    "# Add labels and title\n",
    "plt.xlabel(\"Gender\",color=\"g\")\n",
    "plt.ylabel(\"Count\",color=\"g\")\n",
    "plt.title(\"Gender Distribution\",color=\"g\")\n",
    "plt.xticks([0,1],[\"female\",\"male\"])\n",
    "plt.show()\n"
   ]
  },
  {
   "cell_type": "markdown",
   "id": "b788b007",
   "metadata": {},
   "source": [
    "There are significantly more records for **females** than **males** in the dataset. This imbalance could **skew the analysis**, particularly in any comparisons or models involving gender as a factor.\n"
   ]
  },
  {
   "cell_type": "code",
   "execution_count": 100,
   "id": "ad5a3626",
   "metadata": {},
   "outputs": [
    {
     "data": {
      "image/png": "[encoded data removed]",
      "text/plain": [
       "<Figure size 640x480 with 1 Axes>"
      ]
     },
     "metadata": {},
     "output_type": "display_data"
    }
   ],
   "source": [
    "# Get value counts of the target variable\n",
    "cardio_counts = df_clean[\"cardio\"].value_counts()\n",
    "\n",
    "# Create the figure and bar plot\n",
    "plt.Figure(figsize=(10, 6))  \n",
    "sns.barplot(x=cardio_counts.index, y=cardio_counts.values, palette=\"pastel\")\n",
    "\n",
    "# Add labels and title\n",
    "plt.xlabel(\"Cardiovascular Disease (0 = No, 1 = Yes)\",color=\"g\")\n",
    "plt.ylabel(\"Count\",color=\"g\")\n",
    "plt.title(\"Distribution of Cardiovascular Disease\",color=\"g\")\n",
    "plt.xticks([0, 1], [\"No\", \"Yes\"])\n",
    "\n",
    "plt.show()\n"
   ]
  },
  {
   "cell_type": "markdown",
   "id": "2d47f5ab",
   "metadata": {},
   "source": [
    "The dataset contains an approximately **equal number of individuals with and without cardiovascular disease**, indicating that the target variable is **balanced**. This is beneficial for training machine learning models, as it reduces the risk of bias toward one class.\n"
   ]
  },
  {
   "cell_type": "code",
   "execution_count": 113,
   "id": "457a4af5",
   "metadata": {},
   "outputs": [
    {
     "data": {
      "application/vnd.microsoft.datawrangler.viewer.v0+json": {
       "columns": [
        {
         "name": "index",
         "rawType": "object",
         "type": "string"
        },
        {
         "name": "id",
         "rawType": "float64",
         "type": "float"
        },
        {
         "name": "age",
         "rawType": "float64",
         "type": "float"
        },
        {
         "name": "gender",
         "rawType": "float64",
         "type": "float"
        },
        {
         "name": "ap_hi",
         "rawType": "float64",
         "type": "float"
        },
        {
         "name": "ap_lo",
         "rawType": "float64",
         "type": "float"
        },
        {
         "name": "cholesterol",
         "rawType": "float64",
         "type": "float"
        },
        {
         "name": "gluc",
         "rawType": "float64",
         "type": "float"
        },
        {
         "name": "smoke",
         "rawType": "float64",
         "type": "float"
        },
        {
         "name": "alco",
         "rawType": "float64",
         "type": "float"
        },
        {
         "name": "active",
         "rawType": "float64",
         "type": "float"
        },
        {
         "name": "cardio",
         "rawType": "float64",
         "type": "float"
        },
        {
         "name": "BMI",
         "rawType": "float64",
         "type": "float"
        }
       ],
       "conversionMethod": "pd.DataFrame",
       "ref": "7d59dc3f-4066-4290-97a6-035dd9835d08",
       "rows": [
        [
         "id",
         "1.0",
         "0.0038137691554544608",
         "0.0035021845700989574",
         "0.003355598989531834",
         "-0.0025292803231140343",
         "0.00610620024973602",
         "0.002466780494578981",
         "-0.0036991622969064",
         "0.0012099459478550287",
         "0.0037551157716102933",
         "0.003799389187199488",
         "-0.0013767267248328012"
        ],
        [
         "age",
         "0.0038137691554544608",
         "1.0",
         "-0.022913175749438002",
         "0.02085430142995852",
         "0.017619570055546974",
         "0.15401243415103374",
         "0.09838821308452403",
         "-0.04764851888112568",
         "-0.0297563299468795",
         "-0.009998445459746727",
         "0.23798455608391145",
         "0.0854041974663189"
        ],
        [
         "gender",
         "0.0035021845700989574",
         "-0.022913175749438002",
         "1.0",
         "0.006005308571620904",
         "0.015253971163320432",
         "-0.0358214127770641",
         "-0.02049103516648686",
         "0.33813513635809417",
         "0.17096642854779198",
         "0.005865669226986622",
         "0.008109491913122303",
         "-0.09652917572947907"
        ],
        [
         "ap_hi",
         "0.003355598989531834",
         "0.02085430142995852",
         "0.006005308571620904",
         "1.0",
         "0.01608551340342334",
         "0.023777921557725793",
         "0.011840678012419897",
         "-0.0009220248295481186",
         "0.0014083334478667436",
         "-3.300248323400749e-05",
         "0.05447505392686579",
         "0.024852281717412786"
        ],
        [
         "ap_lo",
         "-0.0025292803231140343",
         "0.017619570055546974",
         "0.015253971163320432",
         "0.01608551340342334",
         "1.0",
         "0.024019290309646148",
         "0.010805665500819218",
         "0.005186130383569325",
         "0.010601240270464435",
         "0.004780258150921079",
         "0.06571869614919028",
         "0.03534484380396229"
        ],
        [
         "cholesterol",
         "0.00610620024973602",
         "0.15401243415103374",
         "-0.0358214127770641",
         "0.023777921557725793",
         "0.024019290309646148",
         "1.0",
         "0.4515775236757577",
         "0.010354415140989677",
         "0.03576038557125919",
         "0.009911297489836778",
         "0.2211472739123984",
         "0.1462704645337826"
        ],
        [
         "gluc",
         "0.002466780494578981",
         "0.09838821308452403",
         "-0.02049103516648686",
         "0.011840678012419897",
         "0.010805665500819218",
         "0.4515775236757577",
         "1.0",
         "-0.004756483147566192",
         "0.011245770627447247",
         "-0.006769518191165523",
         "0.08930688732430264",
         "0.10138997214768843"
        ],
        [
         "smoke",
         "-0.0036991622969064",
         "-0.04764851888112568",
         "0.33813513635809417",
         "-0.0009220248295481186",
         "0.005186130383569325",
         "0.010354415140989677",
         "-0.004756483147566192",
         "1.0",
         "0.34009376786968487",
         "0.025857968781841368",
         "-0.015485935661367784",
         "-0.02721468659454858"
        ],
        [
         "alco",
         "0.0012099459478550287",
         "-0.0297563299468795",
         "0.17096642854779198",
         "0.0014083334478667436",
         "0.010601240270464435",
         "0.03576038557125919",
         "0.011245770627447247",
         "0.34009376786968487",
         "1.0",
         "0.025475829204264746",
         "-0.007330231723202663",
         "0.014393518187003938"
        ],
        [
         "active",
         "0.0037551157716102933",
         "-0.009998445459746727",
         "0.005865669226986622",
         "-3.300248323400749e-05",
         "0.004780258150921079",
         "0.009911297489836778",
         "-0.006769518191165523",
         "0.025857968781841368",
         "0.025475829204264746",
         "1.0",
         "-0.03565324811519037",
         "-0.014261085424626329"
        ],
        [
         "cardio",
         "0.003799389187199488",
         "0.23798455608391145",
         "0.008109491913122303",
         "0.05447505392686579",
         "0.06571869614919028",
         "0.2211472739123984",
         "0.08930688732430264",
         "-0.015485935661367784",
         "-0.007330231723202663",
         "-0.03565324811519037",
         "1.0",
         "0.16563209273915375"
        ],
        [
         "BMI",
         "-0.0013767267248328012",
         "0.0854041974663189",
         "-0.09652917572947907",
         "0.024852281717412786",
         "0.03534484380396229",
         "0.1462704645337826",
         "0.10138997214768843",
         "-0.02721468659454858",
         "0.014393518187003938",
         "-0.014261085424626329",
         "0.16563209273915375",
         "1.0"
        ]
       ],
       "shape": {
        "columns": 12,
        "rows": 12
       }
      },
      "text/html": [
       "<div>\n",
       "<style scoped>\n",
       "    .dataframe tbody tr th:only-of-type {\n",
       "        vertical-align: middle;\n",
       "    }\n",
       "\n",
       "    .dataframe tbody tr th {\n",
       "        vertical-align: top;\n",
       "    }\n",
       "\n",
       "    .dataframe thead th {\n",
       "        text-align: right;\n",
       "    }\n",
       "</style>\n",
       "<table border=\"1\" class=\"dataframe\">\n",
       "  <thead>\n",
       "    <tr style=\"text-align: right;\">\n",
       "      <th></th>\n",
       "      <th>id</th>\n",
       "      <th>age</th>\n",
       "      <th>gender</th>\n",
       "      <th>ap_hi</th>\n",
       "      <th>ap_lo</th>\n",
       "      <th>cholesterol</th>\n",
       "      <th>gluc</th>\n",
       "      <th>smoke</th>\n",
       "      <th>alco</th>\n",
       "      <th>active</th>\n",
       "      <th>cardio</th>\n",
       "      <th>BMI</th>\n",
       "    </tr>\n",
       "    <tr>\n",
       "      <th>0</th>\n",
       "      <th></th>\n",
       "      <th></th>\n",
       "      <th></th>\n",
       "      <th></th>\n",
       "      <th></th>\n",
       "      <th></th>\n",
       "      <th></th>\n",
       "      <th></th>\n",
       "      <th></th>\n",
       "      <th></th>\n",
       "      <th></th>\n",
       "      <th></th>\n",
       "    </tr>\n",
       "  </thead>\n",
       "  <tbody>\n",
       "    <tr>\n",
       "      <th>id</th>\n",
       "      <td>1.000000</td>\n",
       "      <td>0.003814</td>\n",
       "      <td>0.003502</td>\n",
       "      <td>0.003356</td>\n",
       "      <td>-0.002529</td>\n",
       "      <td>0.006106</td>\n",
       "      <td>0.002467</td>\n",
       "      <td>-0.003699</td>\n",
       "      <td>0.001210</td>\n",
       "      <td>0.003755</td>\n",
       "      <td>0.003799</td>\n",
       "      <td>-0.001377</td>\n",
       "    </tr>\n",
       "    <tr>\n",
       "      <th>age</th>\n",
       "      <td>0.003814</td>\n",
       "      <td>1.000000</td>\n",
       "      <td>-0.022913</td>\n",
       "      <td>0.020854</td>\n",
       "      <td>0.017620</td>\n",
       "      <td>0.154012</td>\n",
       "      <td>0.098388</td>\n",
       "      <td>-0.047649</td>\n",
       "      <td>-0.029756</td>\n",
       "      <td>-0.009998</td>\n",
       "      <td>0.237985</td>\n",
       "      <td>0.085404</td>\n",
       "    </tr>\n",
       "    <tr>\n",
       "      <th>gender</th>\n",
       "      <td>0.003502</td>\n",
       "      <td>-0.022913</td>\n",
       "      <td>1.000000</td>\n",
       "      <td>0.006005</td>\n",
       "      <td>0.015254</td>\n",
       "      <td>-0.035821</td>\n",
       "      <td>-0.020491</td>\n",
       "      <td>0.338135</td>\n",
       "      <td>0.170966</td>\n",
       "      <td>0.005866</td>\n",
       "      <td>0.008109</td>\n",
       "      <td>-0.096529</td>\n",
       "    </tr>\n",
       "    <tr>\n",
       "      <th>ap_hi</th>\n",
       "      <td>0.003356</td>\n",
       "      <td>0.020854</td>\n",
       "      <td>0.006005</td>\n",
       "      <td>1.000000</td>\n",
       "      <td>0.016086</td>\n",
       "      <td>0.023778</td>\n",
       "      <td>0.011841</td>\n",
       "      <td>-0.000922</td>\n",
       "      <td>0.001408</td>\n",
       "      <td>-0.000033</td>\n",
       "      <td>0.054475</td>\n",
       "      <td>0.024852</td>\n",
       "    </tr>\n",
       "    <tr>\n",
       "      <th>ap_lo</th>\n",
       "      <td>-0.002529</td>\n",
       "      <td>0.017620</td>\n",
       "      <td>0.015254</td>\n",
       "      <td>0.016086</td>\n",
       "      <td>1.000000</td>\n",
       "      <td>0.024019</td>\n",
       "      <td>0.010806</td>\n",
       "      <td>0.005186</td>\n",
       "      <td>0.010601</td>\n",
       "      <td>0.004780</td>\n",
       "      <td>0.065719</td>\n",
       "      <td>0.035345</td>\n",
       "    </tr>\n",
       "    <tr>\n",
       "      <th>cholesterol</th>\n",
       "      <td>0.006106</td>\n",
       "      <td>0.154012</td>\n",
       "      <td>-0.035821</td>\n",
       "      <td>0.023778</td>\n",
       "      <td>0.024019</td>\n",
       "      <td>1.000000</td>\n",
       "      <td>0.451578</td>\n",
       "      <td>0.010354</td>\n",
       "      <td>0.035760</td>\n",
       "      <td>0.009911</td>\n",
       "      <td>0.221147</td>\n",
       "      <td>0.146270</td>\n",
       "    </tr>\n",
       "    <tr>\n",
       "      <th>gluc</th>\n",
       "      <td>0.002467</td>\n",
       "      <td>0.098388</td>\n",
       "      <td>-0.020491</td>\n",
       "      <td>0.011841</td>\n",
       "      <td>0.010806</td>\n",
       "      <td>0.451578</td>\n",
       "      <td>1.000000</td>\n",
       "      <td>-0.004756</td>\n",
       "      <td>0.011246</td>\n",
       "      <td>-0.006770</td>\n",
       "      <td>0.089307</td>\n",
       "      <td>0.101390</td>\n",
       "    </tr>\n",
       "    <tr>\n",
       "      <th>smoke</th>\n",
       "      <td>-0.003699</td>\n",
       "      <td>-0.047649</td>\n",
       "      <td>0.338135</td>\n",
       "      <td>-0.000922</td>\n",
       "      <td>0.005186</td>\n",
       "      <td>0.010354</td>\n",
       "      <td>-0.004756</td>\n",
       "      <td>1.000000</td>\n",
       "      <td>0.340094</td>\n",
       "      <td>0.025858</td>\n",
       "      <td>-0.015486</td>\n",
       "      <td>-0.027215</td>\n",
       "    </tr>\n",
       "    <tr>\n",
       "      <th>alco</th>\n",
       "      <td>0.001210</td>\n",
       "      <td>-0.029756</td>\n",
       "      <td>0.170966</td>\n",
       "      <td>0.001408</td>\n",
       "      <td>0.010601</td>\n",
       "      <td>0.035760</td>\n",
       "      <td>0.011246</td>\n",
       "      <td>0.340094</td>\n",
       "      <td>1.000000</td>\n",
       "      <td>0.025476</td>\n",
       "      <td>-0.007330</td>\n",
       "      <td>0.014394</td>\n",
       "    </tr>\n",
       "    <tr>\n",
       "      <th>active</th>\n",
       "      <td>0.003755</td>\n",
       "      <td>-0.009998</td>\n",
       "      <td>0.005866</td>\n",
       "      <td>-0.000033</td>\n",
       "      <td>0.004780</td>\n",
       "      <td>0.009911</td>\n",
       "      <td>-0.006770</td>\n",
       "      <td>0.025858</td>\n",
       "      <td>0.025476</td>\n",
       "      <td>1.000000</td>\n",
       "      <td>-0.035653</td>\n",
       "      <td>-0.014261</td>\n",
       "    </tr>\n",
       "    <tr>\n",
       "      <th>cardio</th>\n",
       "      <td>0.003799</td>\n",
       "      <td>0.237985</td>\n",
       "      <td>0.008109</td>\n",
       "      <td>0.054475</td>\n",
       "      <td>0.065719</td>\n",
       "      <td>0.221147</td>\n",
       "      <td>0.089307</td>\n",
       "      <td>-0.015486</td>\n",
       "      <td>-0.007330</td>\n",
       "      <td>-0.035653</td>\n",
       "      <td>1.000000</td>\n",
       "      <td>0.165632</td>\n",
       "    </tr>\n",
       "    <tr>\n",
       "      <th>BMI</th>\n",
       "      <td>-0.001377</td>\n",
       "      <td>0.085404</td>\n",
       "      <td>-0.096529</td>\n",
       "      <td>0.024852</td>\n",
       "      <td>0.035345</td>\n",
       "      <td>0.146270</td>\n",
       "      <td>0.101390</td>\n",
       "      <td>-0.027215</td>\n",
       "      <td>0.014394</td>\n",
       "      <td>-0.014261</td>\n",
       "      <td>0.165632</td>\n",
       "      <td>1.000000</td>\n",
       "    </tr>\n",
       "  </tbody>\n",
       "</table>\n",
       "</div>"
      ],
      "text/plain": [
       "0                  id       age    gender     ap_hi     ap_lo  cholesterol  \\\n",
       "0                                                                            \n",
       "id           1.000000  0.003814  0.003502  0.003356 -0.002529     0.006106   \n",
       "age          0.003814  1.000000 -0.022913  0.020854  0.017620     0.154012   \n",
       "gender       0.003502 -0.022913  1.000000  0.006005  0.015254    -0.035821   \n",
       "ap_hi        0.003356  0.020854  0.006005  1.000000  0.016086     0.023778   \n",
       "ap_lo       -0.002529  0.017620  0.015254  0.016086  1.000000     0.024019   \n",
       "cholesterol  0.006106  0.154012 -0.035821  0.023778  0.024019     1.000000   \n",
       "gluc         0.002467  0.098388 -0.020491  0.011841  0.010806     0.451578   \n",
       "smoke       -0.003699 -0.047649  0.338135 -0.000922  0.005186     0.010354   \n",
       "alco         0.001210 -0.029756  0.170966  0.001408  0.010601     0.035760   \n",
       "active       0.003755 -0.009998  0.005866 -0.000033  0.004780     0.009911   \n",
       "cardio       0.003799  0.237985  0.008109  0.054475  0.065719     0.221147   \n",
       "BMI         -0.001377  0.085404 -0.096529  0.024852  0.035345     0.146270   \n",
       "\n",
       "0                gluc     smoke      alco    active    cardio       BMI  \n",
       "0                                                                        \n",
       "id           0.002467 -0.003699  0.001210  0.003755  0.003799 -0.001377  \n",
       "age          0.098388 -0.047649 -0.029756 -0.009998  0.237985  0.085404  \n",
       "gender      -0.020491  0.338135  0.170966  0.005866  0.008109 -0.096529  \n",
       "ap_hi        0.011841 -0.000922  0.001408 -0.000033  0.054475  0.024852  \n",
       "ap_lo        0.010806  0.005186  0.010601  0.004780  0.065719  0.035345  \n",
       "cholesterol  0.451578  0.010354  0.035760  0.009911  0.221147  0.146270  \n",
       "gluc         1.000000 -0.004756  0.011246 -0.006770  0.089307  0.101390  \n",
       "smoke       -0.004756  1.000000  0.340094  0.025858 -0.015486 -0.027215  \n",
       "alco         0.011246  0.340094  1.000000  0.025476 -0.007330  0.014394  \n",
       "active      -0.006770  0.025858  0.025476  1.000000 -0.035653 -0.014261  \n",
       "cardio       0.089307 -0.015486 -0.007330 -0.035653  1.000000  0.165632  \n",
       "BMI          0.101390 -0.027215  0.014394 -0.014261  0.165632  1.000000  "
      ]
     },
     "execution_count": 113,
     "metadata": {},
     "output_type": "execute_result"
    },
    {
     "data": {
      "image/png": "[encoded data removed]",
      "text/plain": [
       "<Figure size 1500x1000 with 2 Axes>"
      ]
     },
     "metadata": {},
     "output_type": "display_data"
    }
   ],
   "source": [
    "# plotting a correlation matrix\n",
    "correlation_matrix=df_clean.corr()\n",
    "plt.figure(figsize=(15,10))\n",
    "sns.heatmap(correlation_matrix,annot=True,cmap=\"coolwarm\",linewidths=0.5,fmt='2f')\n",
    "correlation_matrix"
   ]
  },
  {
   "cell_type": "code",
   "execution_count": 142,
   "id": "369114c5",
   "metadata": {},
   "outputs": [
    {
     "data": {
      "image/png": "[encoded data removed]",
      "text/plain": [
       "<Figure size 640x480 with 1 Axes>"
      ]
     },
     "metadata": {},
     "output_type": "display_data"
    }
   ],
   "source": [
    "# plotting bar graph of smokers vs cardio\n",
    "grouped_smoker = df_clean.groupby([\"smoke\", \"cardio\"]).size().unstack()\n",
    "ax = grouped_smoker.plot(kind=\"bar\")\n",
    "\n",
    "# Set custom x-axis labels\n",
    "ax.set_xticklabels([\"Non-smoker\", \"Smoker\"], rotation=0)\n",
    "plt.xlabel(\"Smoking Status\")\n",
    "plt.ylabel(\"Count\")\n",
    "plt.title(\"Cardio Condition by Smoking Status\")\n",
    "plt.legend(title=\"Cardio\")\n",
    "plt.tight_layout()\n",
    "plt.show()"
   ]
  },
  {
   "cell_type": "markdown",
   "id": "2419d932",
   "metadata": {},
   "source": [
    "We observe that **smokers and non-smokers exhibit a similar risk** of developing cardiovascular disease in this dataset. This suggests that, based on the available data, **smoking may not be a strong differentiating factor** for cardiovascular risk, though this could be influenced by other confounding variables.\n"
   ]
  },
  {
   "cell_type": "code",
   "execution_count": 143,
   "id": "33c19516",
   "metadata": {},
   "outputs": [
    {
     "data": {
      "image/png": "[encoded data removed]",
      "text/plain": [
       "<Figure size 640x480 with 1 Axes>"
      ]
     },
     "metadata": {},
     "output_type": "display_data"
    }
   ],
   "source": [
    "# ploting bar graph of alcohol vs cardio\n",
    "grouped_alcohol = df_clean.groupby([\"alco\", \"cardio\"]).size().unstack()\n",
    "ax = grouped_alcohol.plot(kind=\"bar\")\n",
    "\n",
    "# Set custom x-axis labels\n",
    "ax.set_xticklabels([\"Non-alcoholic\", \"alcoholic\"], rotation=0)\n",
    "plt.xlabel(\"alcohol Status\")\n",
    "plt.ylabel(\"Count\")\n",
    "plt.title(\"Cardio Condition by alcohol Status\")\n",
    "plt.legend(title=\"Cardio\")\n",
    "plt.tight_layout()\n",
    "plt.show()"
   ]
  },
  {
   "cell_type": "markdown",
   "id": "993a31e6",
   "metadata": {},
   "source": [
    "The data shows that **alcoholics and non-alcoholics have a similar risk** of developing cardiovascular disease. This suggests that **alcohol consumption may not be a distinguishing factor** for cardiovascular risk in this dataset, although other underlying variables could be at play.\n"
   ]
  },
  {
   "cell_type": "code",
   "execution_count": 145,
   "id": "ac9cd8e8",
   "metadata": {},
   "outputs": [
    {
     "data": {
      "image/png": "[encoded data removed]",
      "text/plain": [
       "<Figure size 640x480 with 1 Axes>"
      ]
     },
     "metadata": {},
     "output_type": "display_data"
    }
   ],
   "source": [
    "# plotting bar graph of smokers vs cardio\n",
    "grouped_chole = df_clean.groupby([\"cholesterol\", \"cardio\"]).size().unstack()\n",
    "ax = grouped_chole.plot(kind=\"bar\")\n",
    "\n",
    "# Set custom x-axis labels\n",
    "ax.set_xticklabels([\"Normal\", \"above normal\",\"well above normal\"], rotation=0)\n",
    "plt.xlabel(\"Cholesterol Status\")\n",
    "plt.ylabel(\"Count\")\n",
    "plt.title(\"Cardio Condition by Cholesterol Status\")\n",
    "plt.legend(title=\"Cardio\")\n",
    "plt.tight_layout()\n",
    "plt.show()"
   ]
  },
  {
   "cell_type": "markdown",
   "id": "243cd36c",
   "metadata": {},
   "source": [
    "From the plot, we observe that individuals with **normal cholesterol levels** are at a **lower risk** of developing cardiovascular disease. In contrast, those with **well above normal** cholesterol levels face the **highest risk**, followed by those with **above normal** levels. This suggests a strong positive correlation between elevated cholesterol and cardiovascular risk.\n",
    "\n"
   ]
  },
  {
   "cell_type": "code",
   "execution_count": 146,
   "id": "6d9e59eb",
   "metadata": {},
   "outputs": [
    {
     "data": {
      "image/png": "[encoded data removed]",
      "text/plain": [
       "<Figure size 640x480 with 1 Axes>"
      ]
     },
     "metadata": {},
     "output_type": "display_data"
    }
   ],
   "source": [
    "# plotting bar graph of physical activity vs cardio condition\n",
    "grouped_phyc = df_clean.groupby([\"active\", \"cardio\"]).size().unstack()\n",
    "ax = grouped_phyc.plot(kind=\"bar\")\n",
    "\n",
    "# Set custom x-axis labels\n",
    "ax.set_xticklabels([\"Not active\", \"active\"], rotation=0)\n",
    "plt.xlabel(\"Physical Status\")\n",
    "plt.ylabel(\"Count\")\n",
    "plt.title(\"Cardio Condition by Physical Status\")\n",
    "plt.legend(title=\"Cardio\")\n",
    "plt.tight_layout()\n",
    "plt.show()"
   ]
  },
  {
   "cell_type": "markdown",
   "id": "4d07530b",
   "metadata": {},
   "source": [
    "From the plot, we observe that individuals who are **not physically active** have a **higher risk** of developing cardiovascular disease, while those who engage in **regular physical activity** show a **lower risk**. This highlights the potential protective effect of physical activity on heart health.\n"
   ]
  },
  {
   "cell_type": "code",
   "execution_count": 147,
   "id": "19732f49",
   "metadata": {},
   "outputs": [
    {
     "data": {
      "image/png": "[encoded data removed]",
      "text/plain": [
       "<Figure size 640x480 with 1 Axes>"
      ]
     },
     "metadata": {},
     "output_type": "display_data"
    }
   ],
   "source": [
    "# plotting bar graph of glucose vs cardio\n",
    "grouped_gluc = df_clean.groupby([\"gluc\", \"cardio\"]).size().unstack()\n",
    "ax = grouped_gluc.plot(kind=\"bar\")\n",
    "\n",
    "# Set custom x-axis labels\n",
    "ax.set_xticklabels([\"Normal\", \"above normal\",\"well above normal\"], rotation=0)\n",
    "plt.xlabel(\"Glucose Status\")\n",
    "plt.ylabel(\"Count\")\n",
    "plt.title(\"Cardio Condition by Glucose Status\")\n",
    "plt.legend(title=\"Cardio\")\n",
    "plt.tight_layout()\n",
    "plt.show()"
   ]
  },
  {
   "cell_type": "markdown",
   "id": "412172a2",
   "metadata": {},
   "source": [
    "The plot indicates that individuals with **well above normal glucose levels** face the **highest risk** of developing cardiovascular disease, followed by those with **above normal** glucose levels. In contrast, those with **normal glucose levels** are at a **lower risk**, suggesting a clear association between elevated glucose levels and cardiovascular risk.\n",
    "\n"
   ]
  },
  {
   "cell_type": "code",
   "execution_count": 148,
   "id": "99dadcf4",
   "metadata": {},
   "outputs": [
    {
     "data": {
      "image/png": "[encoded data removed]",
      "text/plain": [
       "<Figure size 640x480 with 1 Axes>"
      ]
     },
     "metadata": {},
     "output_type": "display_data"
    }
   ],
   "source": [
    "# plotting bar graph of smokers vs cardio\n",
    "grouped_gender = df_clean.groupby([\"gender\", \"cardio\"]).size().unstack()\n",
    "ax = grouped_gender.plot(kind=\"bar\")\n",
    "\n",
    "# Set custom x-axis labels\n",
    "ax.set_xticklabels([\"Women\", \"men\"], rotation=0)\n",
    "plt.xlabel(\"Gender\")\n",
    "plt.ylabel(\"Count\")\n",
    "plt.title(\"Cardio Condition by Gender\")\n",
    "plt.legend(title=\"Cardio\")\n",
    "plt.tight_layout()\n",
    "plt.show()"
   ]
  },
  {
   "cell_type": "markdown",
   "id": "3e13c9c3",
   "metadata": {},
   "source": [
    "The data shows that **men have a slightly higher risk** of developing cardiovascular disease compared to women. This suggests a modest gender-related difference in cardiovascular risk within the dataset.\n"
   ]
  },
  {
   "cell_type": "code",
   "execution_count": 140,
   "id": "474cfc37",
   "metadata": {},
   "outputs": [
    {
     "name": "stderr",
     "output_type": "stream",
     "text": [
      "C:\\Users\\HomePC\\AppData\\Local\\Temp\\ipykernel_6024\\3402646738.py:7: FutureWarning: The default of observed=False is deprecated and will be changed to True in a future version of pandas. Pass observed=False to retain current behavior or observed=True to adopt the future default and silence this warning.\n",
      "  grouped_age=df_clean.groupby([\"age_group\",\"cardio\"])[[\"age_group\",\"cardio\"]].size().unstack().copy()\n"
     ]
    },
    {
     "data": {
      "text/plain": [
       "Text(0.5, 1.0, 'Cardio Condition by Age Group')"
      ]
     },
     "execution_count": 140,
     "metadata": {},
     "output_type": "execute_result"
    },
    {
     "data": {
      "image/png": "[encoded data removed]",
      "text/plain": [
       "<Figure size 640x480 with 1 Axes>"
      ]
     },
     "metadata": {},
     "output_type": "display_data"
    }
   ],
   "source": [
    "\n",
    "# Define bins and labels\n",
    "bins = [0, 29, 39, 49, 59, 69, 120]\n",
    "labels = ['<30', '30-39', '40-49', '50-59', '60-69', '70+']\n",
    "\n",
    "# Create age groups\n",
    "df_clean['age_group'] = pd.cut(df_clean['age'], bins=bins, labels=labels,right=True)\n",
    "grouped_age=df_clean.groupby([\"age_group\",\"cardio\"])[[\"age_group\",\"cardio\"]].size().unstack().copy()\n",
    "ax=grouped_age.plot(kind=\"bar\")\n",
    "ax.set_ylabel(\"counts\")\n",
    "ax.set_xlabel(\"age_group\")\n",
    "ax.set_title(\"Cardio Condition by Age Group\")\n",
    "\n",
    "\n"
   ]
  },
  {
   "cell_type": "markdown",
   "id": "44b73b55",
   "metadata": {},
   "source": [
    "The analysis reveals that individuals **above the age of 50** have a **higher risk** of developing cardiovascular disease, with those **over 60 years old** facing the **highest risk**. Conversely, **younger individuals under 50** have a **lower risk** of developing cardiovascular disease, indicating a clear age-related increase in risk.\n"
   ]
  },
  {
   "cell_type": "code",
   "execution_count": null,
   "id": "9d04adb9",
   "metadata": {},
   "outputs": [],
   "source": []
  }
 ],
 "metadata": {
  "kernelspec": {
   "display_name": "Python (learn-env)",
   "language": "python",
   "name": "learn-env"
  },
  "language_info": {
   "codemirror_mode": {
    "name": "ipython",
    "version": 3
   },
   "file_extension": ".py",
   "mimetype": "text/x-python",
   "name": "python",
   "nbconvert_exporter": "python",
   "pygments_lexer": "ipython3",
   "version": "3.11.7"
  }
 },
 "nbformat": 4,
 "nbformat_minor": 5
}
